{
 "cells": [
  {
   "cell_type": "code",
   "execution_count": 1,
   "metadata": {},
   "outputs": [],
   "source": [
    "%load_ext autoreload\n",
    "%autoreload 2"
   ]
  },
  {
   "cell_type": "code",
   "execution_count": 2,
   "metadata": {},
   "outputs": [],
   "source": [
    "from lib import DihedralAdherence\n",
    "from lib import PDBMineQuery, MultiWindowQuery\n",
    "import os\n",
    "import numpy as np\n",
    "import pandas as pd\n",
    "import matplotlib.pyplot as plt\n",
    "import seaborn as sns\n",
    "from pathlib import Path\n",
    "from tqdm import tqdm\n",
    "from tabulate import tabulate\n",
    "from collections import defaultdict\n",
    "from dotenv import load_dotenv\n",
    "import torch\n",
    "from torch import nn\n",
    "import torch.nn.functional as F\n",
    "from scipy.stats import gaussian_kde\n",
    "from sklearn.model_selection import train_test_split\n",
    "import pickle\n",
    "from torch.utils.data import TensorDataset, DataLoader, Dataset, ConcatDataset\n",
    "from torch.utils.tensorboard import SummaryWriter\n",
    "from lib.constants import AMINO_ACID_MAP, AMINO_ACID_MAP_INV\n",
    "from lib.across_window_utils import (\n",
    "    get_phi_psi_dist_window, get_afs_window, get_xrays_window, get_cluster_medoid, find_clusters,\n",
    "    precompute_dists, filter_precomputed_dists, \n",
    ")\n",
    "from collections import defaultdict\n",
    "PDBMINE_URL = os.getenv(\"PDBMINE_URL\")\n",
    "PROJECT_DIR = 'ml_data'"
   ]
  },
  {
   "cell_type": "code",
   "execution_count": 3,
   "metadata": {},
   "outputs": [],
   "source": [
    "from matplotlib.patches import ConnectionPatch\n",
    "\n",
    "def plot(q, seq_ctxt, xrays, afs, clusters, phi_psi_dist, precomputed_dists):\n",
    "    n_cluster_plot = 10\n",
    "    n_clusters = len(np.unique(clusters))\n",
    "    xrays = xrays.reshape(2, -1)\n",
    "    afs = afs.reshape(2, -1)\n",
    "    print(pd.Series(clusters).value_counts())\n",
    "\n",
    "    cluster_points = phi_psi_dist.groupby(clusters).count().sort_values('phi_0', ascending=False).index.values\n",
    "    clusters_plot = cluster_points[:n_cluster_plot]\n",
    "    medoids = []\n",
    "    for cluster in cluster_points:\n",
    "        medoid = get_cluster_medoid(phi_psi_dist, precomputed_dists, clusters, cluster)\n",
    "        medoids.append(medoid)\n",
    "    medoids = np.array(medoids)\n",
    "\n",
    "    colors = sns.color_palette('Dark2', n_clusters)\n",
    "    fig, axes = plt.subplots(len(clusters_plot), q.winsize, figsize=(16, min(n_cluster_plot, len(clusters_plot))*4), sharey=True, sharex=True)\n",
    "    if axes.ndim == 1:\n",
    "        axes = axes.reshape(1, -1)\n",
    "    for i,axrow in enumerate(axes):\n",
    "        for j, ax in enumerate(axrow):\n",
    "            cluster_dist = phi_psi_dist[clusters == clusters_plot[i]]\n",
    "\n",
    "            sns.scatterplot(data=phi_psi_dist[clusters != clusters_plot[i]], x=f'phi_{j}', y=f'psi_{j}', ax=ax, label='Other Clusters', color='tab:blue', alpha=0.5)\n",
    "            sns.scatterplot(data=cluster_dist, x=f'phi_{j}', y=f'psi_{j}', ax=ax, label=f'Cluster {clusters_plot[i]}', color=colors[i])\n",
    "            ax.scatter(xrays[0,j], xrays[1,j], color='tab:red', marker='X', label='X-ray', zorder=1000)\n",
    "            ax.scatter(afs[0,j], afs[1,j], color='tab:orange', marker='X', label='AF', zorder=1000)\n",
    "            # ax.scatter(pred[0,j], pred[1,j], color='tab:orange', marker='X', label=pred_id, zorder=1000)\n",
    "            ax.scatter(medoids[i].reshape(2,-1)[0,j], medoids[i].reshape(2,-1)[1,j], color='black', marker='X', label='Cluster Centroid', zorder=1000)\n",
    "\n",
    "            def add_conn(xyA, xyB, color, lw, **kwargs):\n",
    "                con = ConnectionPatch(\n",
    "                    xyA=xyA, \n",
    "                    xyB=xyB, \n",
    "                    coordsA=\"data\", coordsB=\"data\", \n",
    "                    axesA=axrow[j], axesB=axrow[j+1], \n",
    "                    color=color, lw=lw, linestyle='--', alpha=0.5, **kwargs\n",
    "                )\n",
    "                fig.add_artist(con)\n",
    "            if j < q.winsize - 1:\n",
    "                # TODO draw lines for 50 points closest to centroid\n",
    "                for k, row in cluster_dist.sample(min(cluster_dist.shape[0], 50)).iterrows():\n",
    "                    add_conn((row[f'phi_{j}'], row[f'psi_{j}']), (row[f'phi_{j+1}'], row[f'psi_{j+1}']), colors[i], 1)\n",
    "                add_conn((xrays[0,j], xrays[1,j]), (xrays[0,j+1], xrays[1,j+1]), 'tab:red', 5, zorder=100)\n",
    "                add_conn((afs[0,j], afs[1,j]), (afs[0,j+1], afs[1,j+1]), 'tab:orange', 5, zorder=100)\n",
    "                # add_conn((pred[0,j], pred[1,j]), (pred[0,j+1], pred[1,j+1]), 'tab:orange', 5, zorder=100)\n",
    "                add_conn((medoids[i].reshape(2,-1)[0,j], medoids[i].reshape(2,-1)[1,j]), (medoids[i].reshape(2,-1)[0,j+1], medoids[i].reshape(2,-1)[1,j+1]), 'black', 5, zorder=100)\n",
    "\n",
    "            ax.set_xlim(-180, 180)\n",
    "            ax.set_ylim(-180, 180)\n",
    "            ax.set_xlabel('')\n",
    "            if j == q.winsize - 1:\n",
    "                ax.legend()\n",
    "            else:\n",
    "                ax.legend().remove()\n",
    "            if j == 0:\n",
    "                ax.set_ylabel(f'Cluster {clusters_plot[i]} [{cluster_dist.shape[0]}]')\n",
    "    fig.supxlabel('Phi')\n",
    "    fig.supylabel('Psi')\n",
    "    # fig.suptitle(\n",
    "    #     # f'Clustered Phi/Psi Distributions for {seq_ctxt} in protein {da.casp_protein_id}: N={n_points} Silhouette Score: {sil_score:.2f}, X-ray Score [Cluster {nearest_cluster}]: {xray_sil:.2f}, Prediction Score [Cluster {nearest_cluster_pred}]: {pred_sil:.2f}', \n",
    "    #     f'Clustered Phi/Psi Distributions for {seq_ctxt} in protein {da.casp_protein_id}: N={n_points} ({n_unassigned} unassigned) Silhouette Score: {sil_score:.2f}, X-ray Score [Cluster {nearest_cluster}]: {xray_maha:.2f}', \n",
    "    #     y=1.01\n",
    "    # )\n",
    "    plt.tight_layout()\n",
    "    plt.show()"
   ]
  },
  {
   "cell_type": "code",
   "execution_count": 9,
   "metadata": {},
   "outputs": [
    {
     "name": "stdout",
     "output_type": "stream",
     "text": [
      "5NUP\n"
     ]
    },
    {
     "data": {
      "text/plain": [
       "646"
      ]
     },
     "execution_count": 9,
     "metadata": {},
     "output_type": "execute_result"
    }
   ],
   "source": [
    "import json\n",
    "pdb_codes = json.load(open('proteins.json'))\n",
    "ml_data = [f.name.split('_')[0] for f in Path('ml_data').iterdir()]\n",
    "for pdb_code in pdb_codes[::-1]:\n",
    "    if pdb_code in ml_data:\n",
    "        print(pdb_code)\n",
    "        break\n",
    "pdb_codes.index(pdb_code)"
   ]
  },
  {
   "cell_type": "code",
   "execution_count": 16,
   "metadata": {},
   "outputs": [
    {
     "name": "stdout",
     "output_type": "stream",
     "text": [
      "6CJ0\n"
     ]
    },
    {
     "data": {
      "text/plain": [
       "918"
      ]
     },
     "execution_count": 16,
     "metadata": {},
     "output_type": "execute_result"
    }
   ],
   "source": [
    "pdb_codes = [f.name.split('_')[0] for f in Path(PROJECT_DIR).iterdir() if f.is_dir()]\n",
    "ml_samples = [f.stem for f in Path('ml_samples/medoids-v2').iterdir()]\n",
    "for pdb_code in pdb_codes[::-1]:\n",
    "    if pdb_code in ml_samples:\n",
    "        print(pdb_code)\n",
    "        break\n",
    "pdb_codes.index(pdb_code)"
   ]
  },
  {
   "cell_type": "code",
   "execution_count": 19,
   "metadata": {},
   "outputs": [
    {
     "data": {
      "text/plain": [
       "310"
      ]
     },
     "execution_count": 19,
     "metadata": {},
     "output_type": "execute_result"
    }
   ],
   "source": [
    "len(set(pdb_codes) - set(ml_samples))"
   ]
  },
  {
   "cell_type": "code",
   "execution_count": 5,
   "metadata": {},
   "outputs": [
    {
     "name": "stdout",
     "output_type": "stream",
     "text": [
      "Results already exist\n",
      "Structure exists: 'pdb/pdb3wnm.ent' \n",
      "UniProt ID: P94286\n",
      "3WNM\n",
      "(678, 2) 678\n"
     ]
    },
    {
     "name": "stderr",
     "output_type": "stream",
     "text": [
      "678it [00:37, 17.99it/s]"
     ]
    },
    {
     "name": "stdout",
     "output_type": "stream",
     "text": [
      "Skipping 6CJ0\n"
     ]
    },
    {
     "name": "stderr",
     "output_type": "stream",
     "text": [
      "\n"
     ]
    }
   ],
   "source": [
    "pdb_codes = [f.name.split('_')[0] for f in Path(PROJECT_DIR).iterdir() if f.is_dir()]\n",
    "winsizes = [4,5,6,7]\n",
    "outdir = Path(f'ml_samples/medoids-v2')\n",
    "outdir.mkdir(exist_ok=True, parents=True)\n",
    "X_lens = [5, 3, 2] #[15, 5, 3, 2]\n",
    "\n",
    "for id in pdb_codes:\n",
    "    if (outdir / f'{id}.pt').exists():\n",
    "        print('Skipping', id)\n",
    "        continue\n",
    "    try:\n",
    "        da = MultiWindowQuery(id, winsizes, PDBMINE_URL, PROJECT_DIR)\n",
    "        da.load_results()\n",
    "    except FileNotFoundError as e:\n",
    "        print(e)\n",
    "        continue\n",
    "    if da.af_phi_psi is None:\n",
    "        continue\n",
    "    print(id)\n",
    "\n",
    "    # SKIP FIRST WINDOW SIZE\n",
    "    da.winsizes = da.winsizes[1:]\n",
    "    da.queries = da.queries[1:]\n",
    "\n",
    "    center_idx_ctxt = da.queries[-1].get_center_idx_pos()\n",
    "    winsize_ctxt = da.queries[-1].winsize\n",
    "    # seqs_for_window = da.seqs[center_idx_ctxt:-(winsize_ctxt - center_idx_ctxt - 1)]\n",
    "    # seqs_for_window = pd.DataFrame({'seq_ctxt': seqs_for_window})\n",
    "    seqs = da.xray_phi_psi[['seq_ctxt', 'pos']]\n",
    "    seqs = seqs[~seqs.seq_ctxt.str.contains('X')]\n",
    "    seqs = seqs.drop_duplicates('seq_ctxt')\n",
    "    seqs = seqs[seqs.seq_ctxt.isin(da.af_phi_psi.seq_ctxt)]\n",
    "    seqs = seqs.rename(columns={'seq_ctxt': 'seq'})\n",
    "\n",
    "    if seqs.shape[0] == 0:\n",
    "        print('No sequences for', id)\n",
    "        continue\n",
    "    print(seqs.shape, seqs.seq.nunique())\n",
    "\n",
    "    x_medoids = defaultdict(list)\n",
    "    x_af = defaultdict(list)\n",
    "    x_res = []\n",
    "    y = []\n",
    "    pos = []\n",
    "    seqs_ = []\n",
    "\n",
    "    for i,row in tqdm(seqs.iterrows()):\n",
    "        # Check if alphafold data is complete for largest window size\n",
    "        afs = get_afs_window(da, da.queries[-1], row.seq)\n",
    "        if (afs is None) or (afs.shape[0] != da.queries[-1].winsize*2) or (np.isnan(afs).any()):\n",
    "            # print(f\"AF data for {row.seq} is incomplete\")\n",
    "            continue\n",
    "        # Check if xrays are complete for largest window size\n",
    "        xrays = get_xrays_window(da, da.queries[-1], row.seq)\n",
    "        if xrays.shape[0] != da.queries[-1].winsize*2 or np.isnan(xrays).any():\n",
    "            # print(f\"Xray data for {row.seq} is incomplete\")\n",
    "            continue\n",
    "        for j,q in enumerate(da.queries):\n",
    "            xrays = get_xrays_window(da, q, row.seq)\n",
    "            afs = get_afs_window(da, q, row.seq)\n",
    "            phi_psi_dist = get_phi_psi_dist_window(q, row.seq)\n",
    "            skip = False\n",
    "\n",
    "            phi_psi_dist = phi_psi_dist.dropna()\n",
    "            phi_psi_dist = phi_psi_dist[(phi_psi_dist <= 180).all(axis=1)]\n",
    "            \n",
    "            if phi_psi_dist.shape[0] == 0:\n",
    "                # print(f\"No pdbmine data for {row.seq}\")\n",
    "                skip = True\n",
    "            if phi_psi_dist.shape[1] != q.winsize*2:\n",
    "                # print(f\"Phi/Psi data for {row.seq} is incomplete\")\n",
    "                skip = True\n",
    "            if phi_psi_dist.shape[0] > 10000:\n",
    "                phi_psi_dist = phi_psi_dist.sample(10000)\n",
    "            \n",
    "            medoids = np.zeros([X_lens[j], q.winsize*2])\n",
    "\n",
    "            if not skip and phi_psi_dist.shape[0] == 1:\n",
    "                medoids[0] = phi_psi_dist.iloc[0].values\n",
    "            elif not skip and phi_psi_dist.shape[0] > 1:\n",
    "                # Cluster\n",
    "                dists = precompute_dists(phi_psi_dist)\n",
    "                n_clusters, clusters = find_clusters(dists, min_cluster_size=np.min([phi_psi_dist.shape[0], 20]), cluster_selection_epsilon=30)\n",
    "\n",
    "                if n_clusters == 0:\n",
    "                    n_clusters, clusters = find_clusters(dists, min_cluster_size=2, cluster_selection_epsilon=60)\n",
    "                \n",
    "                if n_clusters == 0:\n",
    "                    n_clusters, clusters = find_clusters(dists, min_cluster_size=2, cluster_selection_epsilon=120)\n",
    "                \n",
    "                if n_clusters > 0:\n",
    "                    dists, phi_psi_dist, clusters = filter_precomputed_dists(dists, phi_psi_dist, clusters)\n",
    "                    cluster_counts = pd.Series(clusters).value_counts().sort_values(ascending=False)\n",
    "                    for k,cluster in zip(range(X_lens[j]), cluster_counts.index):\n",
    "                        medoid = get_cluster_medoid(phi_psi_dist, dists, clusters, cluster)\n",
    "                        medoids[k] = medoid\n",
    "\n",
    "            x_medoids[j].append(torch.tensor(medoids, dtype=torch.float32))\n",
    "            x_af[j].append(torch.tensor(afs, dtype=torch.float32))\n",
    "        pos.append(row.pos)\n",
    "        seqs_.append(row.seq)\n",
    "        x_res.append(AMINO_ACID_MAP[row.seq[center_idx_ctxt]])\n",
    "        # y.append(torch.tensor(xrays.reshape(2, -1)[:, center_idx_ctxt], dtype=torch.float32))\n",
    "        y.append(torch.tensor(xrays, dtype=torch.float32))\n",
    "        if torch.isnan(y[-1]).any():\n",
    "            print('Xray data is nan for', row.seq)\n",
    "\n",
    "    if len(y) == 0:\n",
    "        print('No data for', id)\n",
    "        continue\n",
    "    for i in range(len(da.queries)):\n",
    "        x_medoids[i] = torch.stack(x_medoids[i])\n",
    "        x_af[i] = torch.stack(x_af[i])\n",
    "\n",
    "    x_res = F.one_hot(torch.tensor(x_res).to(torch.int64), num_classes=20).float()\n",
    "    y = torch.stack(y)\n",
    "    pos = torch.tensor(pos)\n",
    "    torch.save({\n",
    "        'x_medoids': list(x_medoids.values()),\n",
    "        'x_af': list(x_af.values()),\n",
    "        'x_res': x_res,\n",
    "        'pos': pos,\n",
    "        'y': y,\n",
    "        'seq': seqs_\n",
    "    }, outdir / f'{id}.pt')"
   ]
  },
  {
   "cell_type": "code",
   "execution_count": 28,
   "metadata": {},
   "outputs": [
    {
     "data": {
      "text/plain": [
       "PosixPath('ml_samples/medoids-v2/1EBA.pt')"
      ]
     },
     "execution_count": 28,
     "metadata": {},
     "output_type": "execute_result"
    }
   ],
   "source": [
    "next(iter(Path('ml_samples/medoids-v2').iterdir()))"
   ]
  },
  {
   "cell_type": "code",
   "execution_count": 33,
   "metadata": {},
   "outputs": [
    {
     "data": {
      "text/plain": [
       "dict_keys(['x_medoids', 'x_af', 'x_res', 'pos', 'y', 'seq'])"
      ]
     },
     "execution_count": 33,
     "metadata": {},
     "output_type": "execute_result"
    }
   ],
   "source": [
    "torch.load('ml_samples/medoids-v2/1EBA.pt').keys()"
   ]
  },
  {
   "cell_type": "code",
   "execution_count": 34,
   "metadata": {},
   "outputs": [],
   "source": [
    "x_medoids, x_af, x_res, pos, y, seq = torch.load('ml_samples/medoids-v2/1EBA.pt').values()"
   ]
  },
  {
   "cell_type": "code",
   "execution_count": 48,
   "metadata": {},
   "outputs": [
    {
     "data": {
      "text/plain": [
       "torch.Size([192, 2, 14])"
      ]
     },
     "execution_count": 48,
     "metadata": {},
     "output_type": "execute_result"
    }
   ],
   "source": [
    "x_medoids[2].shape"
   ]
  },
  {
   "cell_type": "code",
   "execution_count": 20,
   "metadata": {},
   "outputs": [],
   "source": [
    "# np.array(n_clusters_all[4]).mean(), np.array(n_clusters_all[4]).std()\n",
    "# # np.array(n_clusters_all[7]).mean(), np.array(n_clusters_all[7]).std()\n",
    "# average_clusters = {k: np.array(v).mean() for k,v in n_clusters_all.items()}\n",
    "# std_clusters = {k: np.array(v).std() for k,v in n_clusters_all.items()}\n",
    "\n",
    "# avg:\n",
    "# 4: 12.675570539419088\n",
    "# 5: 2.2909803921568628\n",
    "# 6: 1.2014057853473912\n",
    "# 7: 1.0849134377576257\n",
    "\n",
    "# std:\n",
    "# 4: 7.717139186664446\n",
    "# 5: 1.4648062017775114\n",
    "# 6: 0.5645546946235267\n",
    "# 7: 0.3251658412701237"
   ]
  },
  {
   "cell_type": "code",
   "execution_count": 50,
   "metadata": {},
   "outputs": [],
   "source": [
    "# chop: 7->1, 6->1, 5->2"
   ]
  },
  {
   "cell_type": "markdown",
   "metadata": {},
   "source": [
    "# ML"
   ]
  },
  {
   "cell_type": "code",
   "execution_count": 3,
   "metadata": {},
   "outputs": [],
   "source": [
    "def plot_ml(i, x_medoids, x_af, y, pred=None, winsizes=[5,6,7], X_lens=[5,3,2], print_windows=[0,1,2]):\n",
    "    # offsets = [2, 1, 1, 0]\n",
    "    offsets = [1, 1, 0]\n",
    "    fig, ax = plt.subplots(1, 1, figsize=(20,5))\n",
    "    xs = []\n",
    "    ys = []\n",
    "    for k in range(winsizes[-1]):\n",
    "        xs.append(x_af[-1][i, k]+360*k)\n",
    "        ys.append(x_af[-1][i, winsizes[-1]+k])\n",
    "        ax.scatter(xs[-1], ys[-1], color='tab:blue', s=10)\n",
    "    ax.plot(xs, ys, color='tab:blue', label='AF', alpha=0.75)\n",
    "    xs = []\n",
    "    ys = []\n",
    "    for k in range(winsizes[-1]):\n",
    "        xs.append(y[i, k]+360*k)\n",
    "        ys.append(y[i, winsizes[-1]+k])\n",
    "        ax.scatter(xs[-1], ys[-1], color='tab:red', s=100, marker='X')\n",
    "    ax.plot(xs, ys, color='tab:red', label='X-ray', alpha=0.75)\n",
    "    colors = sns.color_palette('Dark2', sum(X_lens))\n",
    "    for j in range(len(winsizes)):\n",
    "        if j not in print_windows:\n",
    "            continue\n",
    "        for li in range(X_lens[j]):\n",
    "            xs = []\n",
    "            ys = []\n",
    "            if torch.any(x_medoids[j][i, li] != 0.):\n",
    "                for k in range(winsizes[j]):\n",
    "                    xs.append(x_medoids[j][i, li, k]+360*(k+offsets[j]))\n",
    "                    ys.append(x_medoids[j][i, li, winsizes[j]+k])\n",
    "                    ax.scatter(xs[-1], ys[-1], color=colors[j], s=10)\n",
    "                ax.plot(xs, ys, color=colors[j], label=f'Medoid {j+winsizes[0]} {li}', alpha=0.75, linestyle='--')\n",
    "    for j in range(winsizes[-1]):\n",
    "        ax.vlines(j*360-180, -180, 180, color='black', alpha=0.5, linestyles='--')\n",
    "    # ax.scatter(y[i,0]+360*(winsizes[-1] // 2), y[i,1], color='tab:red', marker='X', label='X-ray', s=100)\n",
    "    if pred is not None:\n",
    "        ax.scatter(pred[i,0]+360*(winsizes[-1] // 2), pred[i,1], color='tab:orange', marker='X', label='Prediction', s=100)\n",
    "    ax.set_xlim(-180, 360*winsizes[-1] - 180)\n",
    "    ax.set_xticks(np.arange(-180, 360*winsizes[-1], 180))\n",
    "    # ax.set_xticklabels(np.mod(np.arange(-180, 360*winsizes[0], 180), 360))\n",
    "    ax.set_xticklabels(np.mod(np.arange(-180, 360*winsizes[-1], 180), 360))\n",
    "    ax.set_ylim(-180, 180)\n",
    "    ax.legend()\n",
    "    fig.show()\n",
    "\n",
    "def plot_ml_single(i, x_medoids, x_af, y, pred=None, winsizes=[5,6,7], X_lens=[5,3,2]):\n",
    "    # offsets = [2, 1, 1, 0]\n",
    "    index = x_medoids.shape[-1] // 2 - winsizes[0]\n",
    "    offsets = [1, 1, 0]\n",
    "    fig, ax = plt.subplots(1, 1, figsize=(20,5))\n",
    "    xs = []\n",
    "    ys = []\n",
    "    for k in range(winsizes[-1]):\n",
    "        xs.append(x_af[i, k]+360*k)\n",
    "        ys.append(x_af[i, winsizes[-1]+k])\n",
    "        ax.scatter(xs[-1], ys[-1], color='tab:blue', s=10)\n",
    "    ax.plot(xs, ys, color='tab:blue', label='AF', alpha=0.75)\n",
    "    xs = []\n",
    "    ys = []\n",
    "    for k in range(winsizes[-1]):\n",
    "        xs.append(y[i, k]+360*k)\n",
    "        ys.append(y[i, winsizes[-1]+k])\n",
    "        ax.scatter(xs[-1], ys[-1], color='tab:red', s=100, marker='X')\n",
    "    ax.plot(xs, ys, color='tab:red', label='X-ray', alpha=0.75)\n",
    "    colors = sns.color_palette('Dark2', sum(X_lens))\n",
    "    for li in range(X_lens[index]):\n",
    "        xs = []\n",
    "        ys = []\n",
    "        if torch.any(x_medoids[i, li] != 0.):\n",
    "            for k in range(winsizes[index]):\n",
    "                xs.append(x_medoids[i, li, k]+360*(k+offsets[index]))\n",
    "                ys.append(x_medoids[i, li, winsizes[index]+k])\n",
    "                ax.scatter(xs[-1], ys[-1], color=colors[0], s=10)\n",
    "            ax.plot(xs, ys, color=colors[0], label=f'Medoid {index+winsizes[0]} {li}', alpha=0.75, linestyle='--')\n",
    "    for j in range(winsizes[-1]):\n",
    "        ax.vlines(j*360-180, -180, 180, color='black', alpha=0.5, linestyles='--')\n",
    "    # ax.scatter(y[i,0]+360*(winsizes[-1] // 2), y[i,1], color='tab:red', marker='X', label='X-ray', s=100)\n",
    "    if pred is not None:\n",
    "        ax.scatter(pred[i,0]+360*(winsizes[-1] // 2), pred[i,1], color='tab:orange', marker='X', label='Prediction', s=100)\n",
    "    ax.set_xlim(-180, 360*winsizes[-1] - 180)\n",
    "    ax.set_xticks(np.arange(-180, 360*winsizes[-1], 180))\n",
    "    # ax.set_xticklabels(np.mod(np.arange(-180, 360*winsizes[0], 180), 360))\n",
    "    ax.set_xticklabels(np.mod(np.arange(-180, 360*winsizes[-1], 180), 360))\n",
    "    ax.set_ylim(-180, 180)\n",
    "    ax.legend()\n",
    "    fig.show()\n",
    "\n",
    "def save_model(model, path):\n",
    "    if type(model) == nn.DataParallel:\n",
    "        model = model.module\n",
    "    torch.save(model.state_dict(), path)\n",
    "def load_model(model, path):\n",
    "    if type(model) == nn.DataParallel:\n",
    "        model = model.module\n",
    "    model.load_state_dict(torch.load(path))\n",
    "    return model"
   ]
  },
  {
   "cell_type": "code",
   "execution_count": 4,
   "metadata": {},
   "outputs": [],
   "source": [
    "class ProteinDatasetMedoid(Dataset):\n",
    "    def __init__(self, id, path):\n",
    "        self.id = id\n",
    "        self.path = path\n",
    "\n",
    "        self.x_medoids, self.x_af, self.x_res, self.pos, self.y, self.seq = torch.load(self.path / f'{id}.pt').values()\n",
    "        self.n_windows = len(self.x_medoids)\n",
    "    def __len__(self):\n",
    "        return self.y.shape[0]\n",
    "\n",
    "    def __getitem__(self, i):\n",
    "        # For now, just get winsize 7 - in future, randomly select from windowsize 5,6,7\n",
    "        return (\n",
    "            # [self.x_medoids[j][i] for j in range(self.n_windows)],\n",
    "            # [self.x_af[j][i] for j in range(self.n_windows)],\n",
    "            self.x_medoids[-1][i],\n",
    "            self.x_af[-1][i],\n",
    "            torch.tensor([AMINO_ACID_MAP[r] for r in self.seq[i]]),\n",
    "            self.y[i]\n",
    "        )"
   ]
  },
  {
   "cell_type": "code",
   "execution_count": 5,
   "metadata": {},
   "outputs": [],
   "source": [
    "X_lens = [5, 3, 2]\n",
    "winsizes = [5,6,7]\n",
    "device = torch.device('cuda' if torch.cuda.is_available() else 'cpu')"
   ]
  },
  {
   "cell_type": "code",
   "execution_count": 6,
   "metadata": {},
   "outputs": [],
   "source": [
    "ids = [f.stem for f in Path('ml_samples/medoids-v2').iterdir()]\n",
    "for id in ids:\n",
    "    sample = torch.load(f'ml_samples/medoids-v2/{id}.pt')\n",
    "    x_medoids = sample['x_medoids']\n",
    "    x_af = sample['x_af']\n",
    "    x_res = sample['x_res']\n",
    "    y = sample['y']\n",
    "    for m in x_medoids:\n",
    "        if torch.isnan(m).any():\n",
    "            print(id, 'has NaNs m')\n",
    "    for af in x_af:\n",
    "        if torch.isnan(af).any():\n",
    "            print(id, 'has NaNs af')\n",
    "    if torch.isnan(x_res).any():\n",
    "        print(id, 'has NaNs res')\n",
    "    if torch.isnan(y).any():\n",
    "        print(id, 'has NaNs y')"
   ]
  },
  {
   "cell_type": "code",
   "execution_count": 9,
   "metadata": {},
   "outputs": [
    {
     "data": {
      "text/plain": [
       "(125100, 31275)"
      ]
     },
     "execution_count": 9,
     "metadata": {},
     "output_type": "execute_result"
    }
   ],
   "source": [
    "ids = [f.stem for f in Path('ml_samples/medoids-v2').iterdir()]#[:350]\n",
    "dataset = ConcatDataset([ProteinDatasetMedoid(pdb_id, Path('ml_samples/medoids-v2')) for pdb_id in ids])\n",
    "train, test = train_test_split(list(range(len(dataset))), test_size=0.2)\n",
    "train_dataset = torch.utils.data.Subset(dataset, train)\n",
    "test_dataset = torch.utils.data.Subset(dataset, test)\n",
    "train_dataloader = DataLoader(train_dataset, batch_size=512, shuffle=True)\n",
    "test_dataloader = DataLoader(test_dataset, batch_size=512, shuffle=False)\n",
    "len(train_dataset), len(test_dataset)"
   ]
  },
  {
   "cell_type": "code",
   "execution_count": 10,
   "metadata": {},
   "outputs": [
    {
     "data": {
      "image/png": "[encoded data removed]",
      "text/plain": [
       "<Figure size 2000x500 with 1 Axes>"
      ]
     },
     "metadata": {},
     "output_type": "display_data"
    }
   ],
   "source": [
    "x_medoids, x_af, x_res, y = next(iter(train_dataloader))\n",
    "# plot_ml(8, x_medoids, x_af, y, None, print_windows=[0,1,2])\n",
    "plot_ml_single(8, x_medoids, x_af, y, None)"
   ]
  },
  {
   "cell_type": "code",
   "execution_count": 26,
   "metadata": {},
   "outputs": [
    {
     "data": {
      "text/plain": [
       "7618"
      ]
     },
     "execution_count": 26,
     "metadata": {},
     "output_type": "execute_result"
    }
   ],
   "source": [
    "def get_offset(L):\n",
    "    if L % 2 == 0:\n",
    "        return L // 2 - 1\n",
    "    return L - L // 2 - 1\n",
    "    \n",
    "class SelfAttention(nn.Module):\n",
    "    def __init__(self, d, nhead):\n",
    "        super().__init__()\n",
    "        self.mha = nn.MultiheadAttention(d, nhead, batch_first=True)\n",
    "    def forward(self, x):\n",
    "        return self.mha(x, x, x)[0]\n",
    "\n",
    "class Block(nn.Module):\n",
    "    def __init__(self, d, nhead, n=None, dropout=0.0):\n",
    "        super().__init__()\n",
    "        n = n or d*2\n",
    "        self.mha = SelfAttention(d, nhead)\n",
    "        self.ln1 = nn.LayerNorm(d)\n",
    "        self.ln2 = nn.LayerNorm(d)\n",
    "        self.ffwd = nn.Sequential(\n",
    "            nn.Linear(d, n),\n",
    "            nn.GELU(),\n",
    "            nn.Linear(n, d),\n",
    "            nn.Dropout(dropout)\n",
    "        )\n",
    "    def forward(self, x):\n",
    "        x = x + self.mha(self.ln1(x))\n",
    "        x = x + self.ffwd(self.ln2(x))\n",
    "        return x\n",
    "\n",
    "class Net(nn.Module):\n",
    "    def __init__(self, x_lens, winsizes, device, n_classes=20):\n",
    "        super().__init__()\n",
    "        self.x_lens = x_lens\n",
    "        self.winsizes = winsizes\n",
    "        self.n_medoids = sum(x_lens[1:])\n",
    "        self.af_input_size = sum([w*2 for w in winsizes])\n",
    "        self.input_size = sum([l*w*2 for l,w in zip(x_lens, winsizes)])\n",
    "        self.device = device\n",
    "\n",
    "        self.d = 32\n",
    "        nheads = 4\n",
    "\n",
    "        # self.embs = nn.ModuleList([nn.Linear(w*2, self.d, bias=False) for w in winsizes[1:]])\n",
    "        n_clusters = 2 # FOR WIN 7 ONLY\n",
    "        self.pos_emb = nn.Embedding(winsizes[-1], self.d) # positional embedding for 7 (biggest window size) positions\n",
    "        self.emb = nn.Linear(n_classes + 2*n_clusters, self.d)\n",
    "        \n",
    "        dropout = 0.125\n",
    "        nlinear = self.d\n",
    "        self.blocks = nn.Sequential(\n",
    "            Block(self.d, nheads, nlinear, dropout),\n",
    "            # Block(self.d, nheads, nlinear, dropout),\n",
    "            # Block(self.d, nheads, nlinear, dropout),\n",
    "            # Block(self.d, nheads, nlinear, dropout)\n",
    "        )\n",
    "\n",
    "        self.ln_f = nn.LayerNorm(self.d)\n",
    "        self.out = nn.Linear(self.d, 2)\n",
    "\n",
    "    def emb_mask(self, x_medoids):\n",
    "        xs = [[] for _ in range(x_medoids[0].shape[0])] # batch size\n",
    "        for i,x in enumerate(x_medoids[1:]):\n",
    "            mask = torch.any(x, dim=2)\n",
    "            for j,xi in enumerate(x):\n",
    "                xs[j].append(self.embs[i](xi[mask[j]]))\n",
    "        return torch.nested.nested_tensor([torch.cat(xi, dim=0) for xi in xs])\n",
    "\n",
    "    def forward(self, x_medoids, x_res):\n",
    "        # x = torch.cat([self.embs[i](x[:,:1]) for i,x in enumerate(x_medoids[1:])], dim=1) # one cluster for each window\n",
    "        # x = torch.cat([self.embs[i](x) for i,x in enumerate(x_medoids[1:])], dim=1)\n",
    "        # TODO remove examples in batch with all zeros in x_medoids (no clusters)\n",
    "        N, C, L = x_medoids.shape\n",
    "        L = L // 2\n",
    "        x_res = nn.functional.one_hot(x_res, num_classes=20)\n",
    "        x_medoids = x_medoids.transpose(-2,-1).view(N, 2, L, C).transpose(-3,-2).flatten(-2,-1)\n",
    "        x = torch.cat([x_res, x_medoids], dim=-1)\n",
    "\n",
    "        pos = (torch.arange(L) + get_offset(self.winsizes[-1]) - get_offset(L)).to(self.device)\n",
    "        pos = self.pos_emb(pos)\n",
    "        \n",
    "        x = self.emb(x) + pos\n",
    "        \n",
    "        x = self.blocks(x)\n",
    "        x = self.out(x)\n",
    "        return x\n",
    "    \n",
    "    def get_optimizer(model):\n",
    "        decay_params = [p for n,p in model.named_parameters() if p.dim() >= 2] # linear and attention layers\n",
    "        no_decay_params = [p for n,p in model.named_parameters() if p.dim() < 2] # layernorm and bias layers\n",
    "        optimizer = torch.optim.AdamW([\n",
    "            {'params': decay_params, 'weight_decay': 1e-5},\n",
    "            {'params': no_decay_params, 'weight_decay': 0.0}\n",
    "        ], betas=(0.9, 0.999), lr=1e-4)\n",
    "        return optimizer\n",
    "    \n",
    "class AngleMSELoss(nn.Module):\n",
    "    def __init__(self):\n",
    "        super().__init__()\n",
    "    def forward(self, x, y, reduce='mean'):\n",
    "        def diff(x1, x2):\n",
    "            d = torch.abs(x1 - x2)\n",
    "            d = torch.minimum(d, 360-d)\n",
    "            return d\n",
    "        if reduce=='sum':\n",
    "            return torch.sum(diff(x, y)**2)\n",
    "        return torch.mean(diff(x, y)**2)\n",
    "\n",
    "model = nn.DataParallel(Net(X_lens, winsizes, device)).to(device)\n",
    "# model = Net(X_lens, winsizes, device).to(device)\n",
    "criterion = AngleMSELoss().to(device)\n",
    "optimizer = Net.get_optimizer(model)\n",
    "# torch.compile(model)\n",
    "sum(p.numel() for p in model.parameters())"
   ]
  },
  {
   "cell_type": "code",
   "execution_count": 24,
   "metadata": {},
   "outputs": [
    {
     "name": "stdout",
     "output_type": "stream",
     "text": [
      "torch.Size([512, 7, 2])\n"
     ]
    },
    {
     "data": {
      "text/plain": [
       "tensor(8702.1270, device='cuda:0', grad_fn=<MeanBackward0>)"
      ]
     },
     "execution_count": 24,
     "metadata": {},
     "output_type": "execute_result"
    }
   ],
   "source": [
    "x_medoids, x_af, x_res, y = next(iter(train_dataloader))\n",
    "# x_medoids = [m.to(device) for m in x_medoids]\n",
    "# x_af = [af.to(device) for af in x_af]\n",
    "pred = model(x_medoids.to(device), x_res.to(device))\n",
    "print(pred.shape)\n",
    "N = y.shape[0]\n",
    "L = y.shape[-1] // 2\n",
    "c_idx = get_offset(L)\n",
    "y = y.view(N, 2, L).transpose(-2,-1)\n",
    "criterion(pred[:,c_idx], y.to(device)[:,c_idx])"
   ]
  },
  {
   "cell_type": "code",
   "execution_count": 17,
   "metadata": {},
   "outputs": [],
   "source": [
    "# loss = 0\n",
    "# for x_medoids, x_af, x_res, y in train_dataloader:\n",
    "#     # print(x_medoids[:,0,[3,10]])\n",
    "#     # print(y[:,[3,10]])\n",
    "#     pred = model(x_medoids.to(device), x_res.to(device))[:,:,[0,2]]\n",
    "#     N = y.shape[0]\n",
    "#     L = y.shape[-1] // 2\n",
    "#     c_idx = get_offset(L)\n",
    "#     y = y.view(N, 2, L).transpose(-2,-1)\n",
    "#     loss += criterion(pred[:,c_idx], y.to(device)[:,c_idx]).item()\n",
    "# print(loss / len(train_dataloader))"
   ]
  },
  {
   "cell_type": "code",
   "execution_count": 27,
   "metadata": {},
   "outputs": [
    {
     "name": "stdout",
     "output_type": "stream",
     "text": [
      "Epoch 0 | Train = 6983.99  | Test = 5859.40\n",
      "Epoch 1 | Train = 4416.61\n",
      "Epoch 2 | Train = 2128.56\n",
      "Epoch 3 | Train = 1179.88\n",
      "Epoch 4 | Train = 929.19\n",
      "Epoch 5 | Train = 878.88  | Test = 888.77\n",
      "Epoch 6 | Train = 859.44\n",
      "Epoch 7 | Train = 845.06\n",
      "Epoch 8 | Train = 834.39\n",
      "Epoch 9 | Train = 825.66\n",
      "Epoch 10 | Train = 820.03  | Test = 839.81\n",
      "Epoch 11 | Train = 813.98\n",
      "Epoch 12 | Train = 809.36\n",
      "Epoch 13 | Train = 804.33\n",
      "Epoch 14 | Train = 800.25\n",
      "Epoch 15 | Train = 796.16  | Test = 819.26\n",
      "Epoch 16 | Train = 792.52\n",
      "Epoch 17 | Train = 790.13\n",
      "Epoch 18 | Train = 785.34\n",
      "Epoch 19 | Train = 782.73\n",
      "Epoch 20 | Train = 780.10  | Test = 801.79\n",
      "Epoch 21 | Train = 776.83\n",
      "Epoch 22 | Train = 775.03\n",
      "Epoch 23 | Train = 772.65\n",
      "Epoch 24 | Train = 771.76\n",
      "Epoch 25 | Train = 769.32  | Test = 791.08\n",
      "Epoch 26 | Train = 765.28\n",
      "Epoch 27 | Train = 764.55\n",
      "Epoch 28 | Train = 762.53\n",
      "Epoch 29 | Train = 760.75\n",
      "Epoch 30 | Train = 759.13  | Test = 781.71\n",
      "Epoch 31 | Train = 757.71\n",
      "Epoch 32 | Train = 756.46\n",
      "Epoch 33 | Train = 755.51\n",
      "Epoch 34 | Train = 754.54\n",
      "Epoch 35 | Train = 752.50  | Test = 775.13\n",
      "Epoch 36 | Train = 751.33\n",
      "Epoch 37 | Train = 751.00\n",
      "Epoch 38 | Train = 749.15\n",
      "Epoch 39 | Train = 749.34\n",
      "Epoch 40 | Train = 748.04  | Test = 770.87\n",
      "Epoch 41 | Train = 746.51\n",
      "Epoch 42 | Train = 745.63\n",
      "Epoch 43 | Train = 745.60\n",
      "Epoch 44 | Train = 745.68\n",
      "Epoch 45 | Train = 744.24  | Test = 766.95\n",
      "Epoch 46 | Train = 744.08\n",
      "Epoch 47 | Train = 741.89\n",
      "Epoch 48 | Train = 741.42\n",
      "Epoch 49 | Train = 740.85\n",
      "Epoch 50 | Train = 740.46  | Test = 767.20\n",
      "Epoch 51 | Train = 740.14\n",
      "Epoch 52 | Train = 739.14\n",
      "Epoch 53 | Train = 737.16\n",
      "Epoch 54 | Train = 737.38\n",
      "Epoch 55 | Train = 735.46  | Test = 760.84\n",
      "Epoch 56 | Train = 735.07\n",
      "Epoch 57 | Train = 734.05\n",
      "Epoch 58 | Train = 733.30\n",
      "Epoch 59 | Train = 732.20\n",
      "Epoch 60 | Train = 730.66  | Test = 756.95\n",
      "Epoch 61 | Train = 729.75\n",
      "Epoch 62 | Train = 728.77\n",
      "Epoch 63 | Train = 727.82\n",
      "Epoch 64 | Train = 727.14\n",
      "Epoch 65 | Train = 725.69  | Test = 750.95\n",
      "Epoch 66 | Train = 726.03\n",
      "Epoch 67 | Train = 723.88\n",
      "Epoch 68 | Train = 722.86\n",
      "Epoch 69 | Train = 721.44\n",
      "Epoch 70 | Train = 721.47  | Test = 746.20\n",
      "Epoch 71 | Train = 719.66\n",
      "Epoch 72 | Train = 718.21\n",
      "Epoch 73 | Train = 717.80\n",
      "Epoch 74 | Train = 716.97\n",
      "Epoch 75 | Train = 716.49  | Test = 741.60\n",
      "Epoch 76 | Train = 715.41\n",
      "Epoch 77 | Train = 715.17\n",
      "Epoch 78 | Train = 715.13\n",
      "Epoch 79 | Train = 714.42\n",
      "Epoch 80 | Train = 713.35  | Test = 740.16\n",
      "Epoch 81 | Train = 712.42\n",
      "Epoch 82 | Train = 711.44\n",
      "Epoch 83 | Train = 711.83\n",
      "Epoch 84 | Train = 711.02\n",
      "Epoch 85 | Train = 711.63  | Test = 736.83\n",
      "Epoch 86 | Train = 710.92\n",
      "Epoch 87 | Train = 710.50\n",
      "Epoch 88 | Train = 709.81\n",
      "Epoch 89 | Train = 710.19\n",
      "Epoch 90 | Train = 708.17  | Test = 737.41\n",
      "Epoch 91 | Train = 709.65\n",
      "Epoch 92 | Train = 709.11\n",
      "Epoch 93 | Train = 709.57\n",
      "Epoch 94 | Train = 708.82\n",
      "Epoch 95 | Train = 707.43  | Test = 737.42\n",
      "Epoch 96 | Train = 706.67\n",
      "Epoch 97 | Train = 707.55\n",
      "Epoch 98 | Train = 708.31\n",
      "Epoch 99 | Train = 706.89\n",
      "Epoch 100 | Train = 707.74  | Test = 734.98\n",
      "Epoch 101 | Train = 706.47\n",
      "Epoch 102 | Train = 707.00\n",
      "Epoch 103 | Train = 707.19\n",
      "Epoch 104 | Train = 706.62\n",
      "Epoch 105 | Train = 706.36  | Test = 733.25\n",
      "Epoch 106 | Train = 705.42\n",
      "Epoch 107 | Train = 705.37\n",
      "Epoch 108 | Train = 705.28\n",
      "Epoch 109 | Train = 705.44\n",
      "Epoch 110 | Train = 705.92  | Test = 732.39\n",
      "Epoch 111 | Train = 705.10\n",
      "Epoch 112 | Train = 705.09\n",
      "Epoch 113 | Train = 704.27\n",
      "Epoch 114 | Train = 705.02\n",
      "Epoch 115 | Train = 704.35  | Test = 734.12\n",
      "Epoch 116 | Train = 703.94\n",
      "Epoch 117 | Train = 703.57\n",
      "Epoch 118 | Train = 703.67\n",
      "Epoch 119 | Train = 703.27\n",
      "Epoch 120 | Train = 703.84  | Test = 731.98\n",
      "Epoch 121 | Train = 704.47\n",
      "Epoch 122 | Train = 703.13\n",
      "Epoch 123 | Train = 702.17\n",
      "Epoch 124 | Train = 702.49\n",
      "Epoch 125 | Train = 703.69  | Test = 730.44\n",
      "Epoch 126 | Train = 702.74\n",
      "Epoch 127 | Train = 702.51\n",
      "Epoch 128 | Train = 701.88\n",
      "Epoch 129 | Train = 702.51\n",
      "Epoch 130 | Train = 702.22  | Test = 729.73\n",
      "Epoch 131 | Train = 700.95\n",
      "Epoch 132 | Train = 702.33\n",
      "Epoch 133 | Train = 700.73\n",
      "Epoch 134 | Train = 701.09\n",
      "Epoch 135 | Train = 701.42  | Test = 729.60\n",
      "Epoch 136 | Train = 701.02\n",
      "Epoch 137 | Train = 700.37\n",
      "Epoch 138 | Train = 701.20\n",
      "Epoch 139 | Train = 699.54\n",
      "Epoch 140 | Train = 700.70  | Test = 729.29\n",
      "Epoch 141 | Train = 700.31\n",
      "Epoch 142 | Train = 699.24\n",
      "Epoch 143 | Train = 699.64\n",
      "Epoch 144 | Train = 699.34\n",
      "Epoch 145 | Train = 698.78  | Test = 728.30\n",
      "Epoch 146 | Train = 698.16\n",
      "Epoch 147 | Train = 699.25\n",
      "Epoch 148 | Train = 699.35\n",
      "Epoch 149 | Train = 698.54\n",
      "Epoch 150 | Train = 697.95  | Test = 732.16\n",
      "Epoch 151 | Train = 698.36\n",
      "Epoch 152 | Train = 700.13\n",
      "Epoch 153 | Train = 699.08\n",
      "Epoch 154 | Train = 698.61\n",
      "Epoch 155 | Train = 697.87  | Test = 729.05\n",
      "Epoch 156 | Train = 696.62\n",
      "Epoch 157 | Train = 697.47\n",
      "Epoch 158 | Train = 698.02\n",
      "Epoch 159 | Train = 697.21\n",
      "Epoch 160 | Train = 696.39  | Test = 728.15\n",
      "Epoch 161 | Train = 697.22\n",
      "Epoch 162 | Train = 697.48\n",
      "Epoch 163 | Train = 697.41\n",
      "Epoch 164 | Train = 696.07\n",
      "Epoch 165 | Train = 696.26  | Test = 728.55\n",
      "Epoch 166 | Train = 695.87\n",
      "Epoch 167 | Train = 695.74\n",
      "Epoch 168 | Train = 696.78\n",
      "Epoch 169 | Train = 695.30\n",
      "Epoch 170 | Train = 695.09  | Test = 727.74\n",
      "Epoch 171 | Train = 695.58\n",
      "Epoch 172 | Train = 695.12\n",
      "Epoch 173 | Train = 695.64\n",
      "Epoch 174 | Train = 694.77\n",
      "Epoch 175 | Train = 694.00  | Test = 730.09\n",
      "Epoch 176 | Train = 694.43\n",
      "Epoch 177 | Train = 693.87\n",
      "Epoch 178 | Train = 694.41\n",
      "Epoch 179 | Train = 693.49\n",
      "Epoch 180 | Train = 693.50  | Test = 727.57\n",
      "Epoch 181 | Train = 693.93\n",
      "Epoch 182 | Train = 693.46\n",
      "Epoch 183 | Train = 693.60\n",
      "Epoch 184 | Train = 692.84\n",
      "Epoch 185 | Train = 693.02  | Test = 728.90\n",
      "Epoch 186 | Train = 694.55\n",
      "Epoch 187 | Train = 692.86\n",
      "Epoch 188 | Train = 693.83\n",
      "Epoch 189 | Train = 693.05\n",
      "Epoch 190 | Train = 692.95  | Test = 727.35\n",
      "Epoch 191 | Train = 692.90\n",
      "Epoch 192 | Train = 692.45\n",
      "Epoch 193 | Train = 692.30\n",
      "Epoch 194 | Train = 691.88\n",
      "Epoch 195 | Train = 692.37  | Test = 727.12\n",
      "Epoch 196 | Train = 692.24\n",
      "Epoch 197 | Train = 691.76\n",
      "Epoch 198 | Train = 691.77\n",
      "Epoch 199 | Train = 691.19\n",
      "Epoch 200 | Train = 690.63  | Test = 727.92\n",
      "Epoch 201 | Train = 690.91\n",
      "Epoch 202 | Train = 691.82\n",
      "Epoch 203 | Train = 690.99\n",
      "Epoch 204 | Train = 691.93\n",
      "Epoch 205 | Train = 690.67  | Test = 727.72\n",
      "Epoch 206 | Train = 690.72\n",
      "Epoch 207 | Train = 690.43\n",
      "Epoch 208 | Train = 692.19\n",
      "Epoch 209 | Train = 690.93\n",
      "Epoch 210 | Train = 691.73  | Test = 727.60\n",
      "Epoch 211 | Train = 690.39\n",
      "Epoch 212 | Train = 690.45\n",
      "Epoch 213 | Train = 690.66\n",
      "Epoch 214 | Train = 689.97\n",
      "Epoch 215 | Train = 690.03  | Test = 727.42\n",
      "Epoch 216 | Train = 690.56\n",
      "Epoch 217 | Train = 690.17\n",
      "Epoch 218 | Train = 688.97\n",
      "Epoch 219 | Train = 690.67\n",
      "Epoch 220 | Train = 689.07  | Test = 726.91\n",
      "Epoch 221 | Train = 690.22\n",
      "Epoch 222 | Train = 690.64\n",
      "Epoch 223 | Train = 689.44\n",
      "Epoch 224 | Train = 690.25\n",
      "Epoch 225 | Train = 689.42  | Test = 728.39\n",
      "Epoch 226 | Train = 689.34\n",
      "Epoch 227 | Train = 690.79\n",
      "Epoch 228 | Train = 689.51\n",
      "Epoch 229 | Train = 689.50\n",
      "Epoch 230 | Train = 690.17  | Test = 728.79\n",
      "Epoch 231 | Train = 688.56\n",
      "Epoch 232 | Train = 689.48\n",
      "Epoch 233 | Train = 687.65\n",
      "Epoch 234 | Train = 689.17\n",
      "Epoch 235 | Train = 689.11  | Test = 729.64\n",
      "Epoch 236 | Train = 688.11\n",
      "Epoch 237 | Train = 689.25\n",
      "Epoch 238 | Train = 688.92\n",
      "Epoch 239 | Train = 688.03\n",
      "Epoch 240 | Train = 688.47  | Test = 727.67\n",
      "Epoch 241 | Train = 688.13\n",
      "Epoch 242 | Train = 688.70\n",
      "Epoch 243 | Train = 687.63\n",
      "Epoch 244 | Train = 688.85\n",
      "Epoch 245 | Train = 688.88  | Test = 729.50\n",
      "Epoch 246 | Train = 688.35\n",
      "Epoch 247 | Train = 686.79\n",
      "Epoch 248 | Train = 687.73\n",
      "Epoch 249 | Train = 687.47\n",
      "Epoch 250 | Train = 689.23  | Test = 726.91\n",
      "Epoch 251 | Train = 687.60\n",
      "Epoch 252 | Train = 687.93\n",
      "Epoch 253 | Train = 687.28\n",
      "Epoch 254 | Train = 687.62\n",
      "Epoch 255 | Train = 687.52  | Test = 727.57\n",
      "Epoch 256 | Train = 687.02\n",
      "Epoch 257 | Train = 686.98\n",
      "Epoch 258 | Train = 688.39\n",
      "Epoch 259 | Train = 687.06\n",
      "Epoch 260 | Train = 686.78  | Test = 727.38\n",
      "Epoch 261 | Train = 687.03\n",
      "Epoch 262 | Train = 686.95\n",
      "Epoch 263 | Train = 688.23\n",
      "Epoch 264 | Train = 685.94\n",
      "Epoch 265 | Train = 686.03  | Test = 727.30\n",
      "Epoch 266 | Train = 685.64\n",
      "Epoch 267 | Train = 686.48\n",
      "Epoch 268 | Train = 687.30\n",
      "Epoch 269 | Train = 686.58\n",
      "Epoch 270 | Train = 685.52  | Test = 726.87\n",
      "Epoch 271 | Train = 685.74\n",
      "Epoch 272 | Train = 686.16\n",
      "Epoch 273 | Train = 685.90\n",
      "Epoch 274 | Train = 686.02\n",
      "Epoch 275 | Train = 686.45  | Test = 726.53\n",
      "Epoch 276 | Train = 685.84\n",
      "Epoch 277 | Train = 685.14\n",
      "Epoch 278 | Train = 686.23\n",
      "Epoch 279 | Train = 685.08\n",
      "Epoch 280 | Train = 685.55  | Test = 729.47\n",
      "Epoch 281 | Train = 685.18\n",
      "Epoch 282 | Train = 685.39\n",
      "Epoch 283 | Train = 685.84\n",
      "Epoch 284 | Train = 685.28\n",
      "Epoch 285 | Train = 685.16  | Test = 729.11\n",
      "Epoch 286 | Train = 685.02\n",
      "Epoch 287 | Train = 684.62\n",
      "Epoch 288 | Train = 685.03\n",
      "Epoch 289 | Train = 684.90\n",
      "Epoch 290 | Train = 684.17  | Test = 727.06\n",
      "Epoch 291 | Train = 683.98\n",
      "Epoch 292 | Train = 684.05\n",
      "Epoch 293 | Train = 684.61\n",
      "Epoch 294 | Train = 683.79\n",
      "Epoch 295 | Train = 684.34  | Test = 727.65\n",
      "Epoch 296 | Train = 684.29\n",
      "Epoch 297 | Train = 684.23\n",
      "Epoch 298 | Train = 684.51\n",
      "Epoch 299 | Train = 684.42\n",
      "Epoch 300 | Train = 683.58  | Test = 726.38\n",
      "Epoch 301 | Train = 683.83\n",
      "Epoch 302 | Train = 683.35\n",
      "Epoch 303 | Train = 683.92\n",
      "Epoch 304 | Train = 684.71\n"
     ]
    },
    {
     "data": {
      "text/plain": [
       "(0.0, 2000.0)"
      ]
     },
     "execution_count": 27,
     "metadata": {},
     "output_type": "execute_result"
    },
    {
     "data": {
      "image/png": "[encoded data removed]",
      "text/plain": [
       "<Figure size 640x480 with 1 Axes>"
      ]
     },
     "metadata": {},
     "output_type": "display_data"
    }
   ],
   "source": [
    "losses = [[],[]]\n",
    "for epoch in range(305):\n",
    "    train_losses = []\n",
    "    model.train()\n",
    "    for x_medoids, x_af, x_res, y in train_dataloader:\n",
    "        x_medoids = x_medoids.to(device)\n",
    "        x_res = x_res.to(device)\n",
    "        y = y.to(device)\n",
    "        N, L = y.shape\n",
    "        L = L // 2\n",
    "        y = y.view(N, 2, L).transpose(-2,-1)\n",
    "        c_idx = get_offset(L)\n",
    "\n",
    "        optimizer.zero_grad()\n",
    "        y_pred = model(x_medoids, x_res)\n",
    "        loss = criterion(y_pred[:,c_idx], y[:,c_idx])\n",
    "        loss.backward()\n",
    "        optimizer.step()\n",
    "\n",
    "        train_losses.append(loss.item())\n",
    "    train_loss = sum(train_losses) / len(train_dataloader)\n",
    "\n",
    "    if epoch % 5 == 0:\n",
    "        losses[0].append(train_loss)\n",
    "        test_losses = []\n",
    "        model.eval()\n",
    "        for x_medoids, x_af, x_res, y in test_dataloader:\n",
    "            x_medoids = x_medoids.to(device)\n",
    "            x_res = x_res.to(device)\n",
    "            y = y.to(device)\n",
    "            N, L = y.shape\n",
    "            L = L // 2\n",
    "            y = y.view(N, 2, L).transpose(-2,-1)\n",
    "            c_idx = get_offset(L)\n",
    "            y_pred = model(x_medoids, x_res)\n",
    "            loss = criterion(y_pred[:,c_idx], y[:,c_idx])\n",
    "            test_losses.append(loss.item())\n",
    "        test_loss = sum(test_losses) / len(test_dataloader)\n",
    "        losses[1].append(test_loss)\n",
    "\n",
    "        print(f'Epoch {epoch} | Train = {train_loss:6.2f}  | Test = {test_loss:4.2f}')\n",
    "    else:\n",
    "        print(f'Epoch {epoch} | Train = {train_loss:6.2f}')\n",
    "\n",
    "plt.plot(losses[0], label='Train')\n",
    "plt.plot(losses[1], label='Test')\n",
    "plt.legend()\n",
    "plt.ylim(0, 2000)"
   ]
  },
  {
   "cell_type": "code",
   "execution_count": 21,
   "metadata": {},
   "outputs": [
    {
     "data": {
      "text/plain": [
       "array([355, 305])"
      ]
     },
     "execution_count": 21,
     "metadata": {},
     "output_type": "execute_result"
    }
   ],
   "source": [
    "np.array(losses).argmin(axis=1)*5"
   ]
  },
  {
   "cell_type": "code",
   "execution_count": 18,
   "metadata": {},
   "outputs": [
    {
     "data": {
      "text/plain": [
       "(700.0, 750.0)"
      ]
     },
     "execution_count": 18,
     "metadata": {},
     "output_type": "execute_result"
    },
    {
     "data": {
      "image/png": "[encoded data removed]",
      "text/plain": [
       "<Figure size 640x480 with 1 Axes>"
      ]
     },
     "metadata": {},
     "output_type": "display_data"
    }
   ],
   "source": [
    "plt.plot(losses[0], label='Train')\n",
    "plt.plot(losses[1], label='Test')\n",
    "plt.legend()\n",
    "plt.ylim(700, 750)"
   ]
  },
  {
   "cell_type": "code",
   "execution_count": null,
   "metadata": {},
   "outputs": [],
   "source": [
    "plt.plot(losses[0], label='Train')\n",
    "plt.plot(losses[1], label='Test')\n",
    "plt.legend()\n",
    "plt.ylim(0, 2000)"
   ]
  },
  {
   "cell_type": "code",
   "execution_count": null,
   "metadata": {},
   "outputs": [],
   "source": [
    "test_losses = []\n",
    "for x_medoids, x_af, x_res, y in test_dataloader:\n",
    "    y = y.to(device)\n",
    "    if torch.isnan(y).any():\n",
    "        continue\n",
    "    y_pred = model(x_medoids, x_af)\n",
    "    loss = criterion(y_pred, y)\n",
    "    test_losses.append(loss.item())\n",
    "print('Test:', sum(test_losses) / len(test_dataloader))"
   ]
  },
  {
   "cell_type": "code",
   "execution_count": null,
   "metadata": {},
   "outputs": [],
   "source": [
    "x_medoids, x_af, x_res, y = next(iter(dataloader))\n",
    "pred = model(x_af).detach()\n",
    "plot_ml(0, x_medoids, x_af, y, pred)"
   ]
  },
  {
   "cell_type": "code",
   "execution_count": 12,
   "metadata": {},
   "outputs": [
    {
     "name": "stdout",
     "output_type": "stream",
     "text": [
      "406.4327583157286\n",
      "1140.702432936065\n",
      "405.61898163826237\n",
      "1197.094499157321\n"
     ]
    }
   ],
   "source": [
    "pdbmine_loss = 0\n",
    "af_loss = 0\n",
    "for x_medoids, x_af, x_res, y in train_dataloader:\n",
    "    af_loss += criterion(x_af[:,[3,10]], y[:,[3,10]], False).item()\n",
    "    pdbmine_loss += criterion(x_medoids[:,0,[3,10]], y[:,[3,10]], False).item()\n",
    "    # af_loss += criterion(x_af[-1][:,[3,10]], y, False).item()\n",
    "    # pdbmine_loss += criterion(x_medoids[-1][:,0,[3,10]], y, False).item()\n",
    "print(af_loss / len(train_dataloader))\n",
    "print(pdbmine_loss / len(train_dataloader))\n",
    "\n",
    "pdbmine_loss = 0\n",
    "af_loss = 0\n",
    "for x_medoids, x_af, x_res, y in test_dataloader:\n",
    "    af_loss += criterion(x_af[:,[3,10]], y[:,[3,10]], False).item()\n",
    "    pdbmine_loss += criterion(x_medoids[:,0,[3,10]], y[:,[3,10]], False).item()\n",
    "    # af_loss += criterion(x_af[-1][:,[3,10]], y, False).item()\n",
    "    # pdbmine_loss += criterion(x_medoids[-1][:,0,[3,10]], y, False).item()\n",
    "print(af_loss / len(test_dataloader))\n",
    "print(pdbmine_loss / len(test_dataloader))"
   ]
  },
  {
   "cell_type": "code",
   "execution_count": null,
   "metadata": {},
   "outputs": [],
   "source": [
    "embs = nn.ModuleList([nn.Linear(w*2, 128) for w in winsizes[1:]])\n",
    "# x = torch.cat([embs[i](x) for i,x in enumerate(x_medoids[1:])], dim=1)\n",
    "xs = [[] for _ in range(512)]\n",
    "for i,x in enumerate(x_medoids[1:]):\n",
    "    mask = torch.any(x, dim=2)\n",
    "    for j,xi in enumerate(x):\n",
    "        xs[j].append(embs[i](xi[mask[j]]))\n",
    "x = torch.nested.nested_tensor([torch.cat(xi, dim=0) for xi in xs])"
   ]
  }
 ],
 "metadata": {
  "kernelspec": {
   "display_name": ".venv",
   "language": "python",
   "name": "python3"
  },
  "language_info": {
   "codemirror_mode": {
    "name": "ipython",
    "version": 3
   },
   "file_extension": ".py",
   "mimetype": "text/x-python",
   "name": "python",
   "nbconvert_exporter": "python",
   "pygments_lexer": "ipython3",
   "version": "3.11.10"
  }
 },
 "nbformat": 4,
 "nbformat_minor": 2
}
