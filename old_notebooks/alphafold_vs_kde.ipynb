{
 "cells": [
  {
   "cell_type": "code",
   "execution_count": 1,
   "metadata": {},
   "outputs": [],
   "source": [
    "%load_ext autoreload\n",
    "%autoreload 2"
   ]
  },
  {
   "cell_type": "code",
   "execution_count": 2,
   "metadata": {},
   "outputs": [],
   "source": [
    "from lib import DihedralAdherence\n",
    "from lib import PDBMineQuery, MultiWindowQuery\n",
    "import os\n",
    "import numpy as np\n",
    "import pandas as pd\n",
    "import matplotlib.pyplot as plt\n",
    "import seaborn as sns\n",
    "from pathlib import Path\n",
    "from tqdm import tqdm\n",
    "from tabulate import tabulate\n",
    "from collections import defaultdict\n",
    "from dotenv import load_dotenv\n",
    "import torch\n",
    "from torch import nn\n",
    "import torch.nn.functional as F\n",
    "from scipy.stats import gaussian_kde\n",
    "from sklearn.model_selection import train_test_split\n",
    "import pickle\n",
    "from torch.utils.data import TensorDataset, DataLoader, Dataset, ConcatDataset\n",
    "from torch.utils.tensorboard import SummaryWriter\n",
    "from lib.constants import AMINO_ACID_MAP, AMINO_ACID_MAP_INV\n",
    "PDBMINE_URL = os.getenv(\"PDBMINE_URL\")\n",
    "PROJECT_DIR = 'ml_data'"
   ]
  },
  {
   "cell_type": "code",
   "execution_count": 102,
   "metadata": {},
   "outputs": [],
   "source": [
    "# trained_on = torch.load('ml_runs/split_kde_old.pt')[0]\n",
    "# samples = [s for s in Path('ml_samples/kde_v2').iterdir() if s.stem not in trained_on]"
   ]
  },
  {
   "cell_type": "code",
   "execution_count": 3,
   "metadata": {},
   "outputs": [],
   "source": [
    "def da(target, preds):\n",
    "    def diff(x1, x2):\n",
    "        d = np.abs(x1 - x2)\n",
    "        return np.minimum(d, 360-d)\n",
    "    return np.sqrt(diff(preds[:,0], target[0])**2 + diff(preds[:,1], target[1])**2)"
   ]
  },
  {
   "cell_type": "code",
   "execution_count": 105,
   "metadata": {},
   "outputs": [],
   "source": [
    "results = []\n",
    "\n",
    "for sample in samples:\n",
    "    X, x_res, af, conf, y = torch.load(sample)\n",
    "    for i in range(X.shape[0]):\n",
    "        dists = da(y[i], torch.concat([X[i], af[i].unsqueeze(0)]))\n",
    "        better = dists[:4] < dists[4]\n",
    "        # not better if w7 is missing\n",
    "        if (X[i,3] == torch.zeros_like(X[i,3])).all():\n",
    "            better[3] = False\n",
    "        results.append((sample.stem, i, better.any().item(), conf[i].item(), *better.tolist()))\n",
    "results = pd.DataFrame(results, columns=['sample', 'idx', 'kde_better', 'conf', 'w4', 'w5', 'w6', 'w7'])"
   ]
  },
  {
   "cell_type": "code",
   "execution_count": 106,
   "metadata": {},
   "outputs": [
    {
     "data": {
      "text/html": [
       "<div>\n",
       "<style scoped>\n",
       "    .dataframe tbody tr th:only-of-type {\n",
       "        vertical-align: middle;\n",
       "    }\n",
       "\n",
       "    .dataframe tbody tr th {\n",
       "        vertical-align: top;\n",
       "    }\n",
       "\n",
       "    .dataframe thead th {\n",
       "        text-align: right;\n",
       "    }\n",
       "</style>\n",
       "<table border=\"1\" class=\"dataframe\">\n",
       "  <thead>\n",
       "    <tr style=\"text-align: right;\">\n",
       "      <th></th>\n",
       "      <th>count</th>\n",
       "      <th>mean</th>\n",
       "      <th>std</th>\n",
       "      <th>min</th>\n",
       "      <th>25%</th>\n",
       "      <th>50%</th>\n",
       "      <th>75%</th>\n",
       "      <th>max</th>\n",
       "    </tr>\n",
       "    <tr>\n",
       "      <th>w7</th>\n",
       "      <th></th>\n",
       "      <th></th>\n",
       "      <th></th>\n",
       "      <th></th>\n",
       "      <th></th>\n",
       "      <th></th>\n",
       "      <th></th>\n",
       "      <th></th>\n",
       "    </tr>\n",
       "  </thead>\n",
       "  <tbody>\n",
       "    <tr>\n",
       "      <th>False</th>\n",
       "      <td>26198.0</td>\n",
       "      <td>94.694171</td>\n",
       "      <td>6.451876</td>\n",
       "      <td>30.69</td>\n",
       "      <td>93.38</td>\n",
       "      <td>97.16</td>\n",
       "      <td>98.50</td>\n",
       "      <td>99.0</td>\n",
       "    </tr>\n",
       "    <tr>\n",
       "      <th>True</th>\n",
       "      <td>32917.0</td>\n",
       "      <td>95.008012</td>\n",
       "      <td>6.149143</td>\n",
       "      <td>32.09</td>\n",
       "      <td>93.88</td>\n",
       "      <td>97.31</td>\n",
       "      <td>98.56</td>\n",
       "      <td>99.0</td>\n",
       "    </tr>\n",
       "  </tbody>\n",
       "</table>\n",
       "</div>"
      ],
      "text/plain": [
       "         count       mean       std    min    25%    50%    75%   max\n",
       "w7                                                                   \n",
       "False  26198.0  94.694171  6.451876  30.69  93.38  97.16  98.50  99.0\n",
       "True   32917.0  95.008012  6.149143  32.09  93.88  97.31  98.56  99.0"
      ]
     },
     "execution_count": 106,
     "metadata": {},
     "output_type": "execute_result"
    }
   ],
   "source": [
    "results.groupby('w7').conf.describe()"
   ]
  },
  {
   "cell_type": "code",
   "execution_count": 107,
   "metadata": {},
   "outputs": [
    {
     "data": {
      "text/plain": [
       "<Axes: >"
      ]
     },
     "execution_count": 107,
     "metadata": {},
     "output_type": "execute_result"
    },
    {
     "data": {
      "image/png": "[encoded data removed]",
      "text/plain": [
       "<Figure size 640x480 with 1 Axes>"
      ]
     },
     "metadata": {},
     "output_type": "display_data"
    }
   ],
   "source": [
    "results.loc[results.w7, 'conf'].hist()\n",
    "results.loc[~results.w7, 'conf'].hist()"
   ]
  },
  {
   "cell_type": "markdown",
   "metadata": {},
   "source": [
    "# test model on these"
   ]
  },
  {
   "cell_type": "code",
   "execution_count": 108,
   "metadata": {},
   "outputs": [],
   "source": [
    "from lib.ml.models import MLPredictor\n",
    "\n",
    "model = MLPredictor([], 'cuda:0', 'ml_runs/best_model-kde_16-32_383.pt')\n",
    "model.load_weights()"
   ]
  },
  {
   "cell_type": "code",
   "execution_count": 109,
   "metadata": {},
   "outputs": [],
   "source": [
    "class ProteinDatasetKDE(Dataset):\n",
    "    def __init__(self, X, xres, af, conf, y):\n",
    "        self.X, self.xres, self.af, self.conf, self.y = X.float(), xres.float(), af.float(), conf.float(), y.float()\n",
    "    def __len__(self):\n",
    "        return self.X.shape[0]\n",
    "\n",
    "    def __getitem__(self, i):\n",
    "        return self.X[i], self.xres[i], self.af[i], self.conf[i], self.y[i]"
   ]
  },
  {
   "cell_type": "code",
   "execution_count": 132,
   "metadata": {},
   "outputs": [],
   "source": [
    "results = results.sort_values(['sample', 'idx'])"
   ]
  },
  {
   "cell_type": "code",
   "execution_count": 134,
   "metadata": {},
   "outputs": [],
   "source": [
    "data = []\n",
    "results = results.sort_values('sample')\n",
    "for sample in np.sort(results['sample'].unique()):\n",
    "    # df = results.loc[(results.w7) & (results['sample'] == sample)]\n",
    "    df = results.loc[results['sample'] == sample]\n",
    "    Xi, x_resi, afi, confi, yi = torch.load(f'ml_samples/kde_v2/{sample}.pt')\n",
    "    idxs = df['idx'].values\n",
    "    dataset = ProteinDatasetKDE(Xi[idxs], x_resi[idxs], afi[idxs], confi[idxs], yi[idxs])\n",
    "    data.append(dataset)\n",
    "dataset = ConcatDataset(data)"
   ]
  },
  {
   "cell_type": "code",
   "execution_count": 135,
   "metadata": {},
   "outputs": [],
   "source": [
    "data_loader = DataLoader(dataset, batch_size=512, shuffle=False)\n",
    "preds = []\n",
    "true = []\n",
    "afs = []\n",
    "w7 = []\n",
    "for X, x_res, af, conf, y in data_loader:\n",
    "    preds.append(model(X, x_res, af).detach().cpu())\n",
    "    true.append(y)\n",
    "    afs.append(af)\n",
    "    w7.append(X[:,3])\n",
    "preds = torch.concat(preds)\n",
    "true = torch.concat(true)\n",
    "afs = torch.concat(afs)\n",
    "w7 = torch.concat(w7)"
   ]
  },
  {
   "cell_type": "code",
   "execution_count": 137,
   "metadata": {},
   "outputs": [],
   "source": [
    "pred_dists = []\n",
    "af_dists = []\n",
    "w7_dists = []\n",
    "for i in range(len(true)):\n",
    "    pred_dist = da(true[i], preds[i:i+1])\n",
    "    af_dist = da(true[i], afs[i:i+1])\n",
    "    w7_dist = da(true[i], w7[i:i+1])\n",
    "    pred_dists.append(pred_dist)\n",
    "    af_dists.append(af_dist)\n",
    "    w7_dists.append(w7_dist)\n",
    "pred_dists = torch.concat(pred_dists).numpy()\n",
    "af_dists = torch.concat(af_dists).numpy()\n",
    "w7_dists = torch.concat(w7_dists).numpy()"
   ]
  },
  {
   "cell_type": "code",
   "execution_count": 141,
   "metadata": {},
   "outputs": [],
   "source": [
    "results['preds_dist'] = pred_dists\n",
    "results['af_dist'] = af_dists\n",
    "results['w7_dist'] = w7_dists"
   ]
  },
  {
   "cell_type": "code",
   "execution_count": 147,
   "metadata": {},
   "outputs": [
    {
     "data": {
      "text/html": [
       "<div>\n",
       "<style scoped>\n",
       "    .dataframe tbody tr th:only-of-type {\n",
       "        vertical-align: middle;\n",
       "    }\n",
       "\n",
       "    .dataframe tbody tr th {\n",
       "        vertical-align: top;\n",
       "    }\n",
       "\n",
       "    .dataframe thead th {\n",
       "        text-align: right;\n",
       "    }\n",
       "</style>\n",
       "<table border=\"1\" class=\"dataframe\">\n",
       "  <thead>\n",
       "    <tr style=\"text-align: right;\">\n",
       "      <th></th>\n",
       "      <th>preds_dist</th>\n",
       "      <th>af_dist</th>\n",
       "      <th>w7_dist</th>\n",
       "    </tr>\n",
       "  </thead>\n",
       "  <tbody>\n",
       "    <tr>\n",
       "      <th>count</th>\n",
       "      <td>59115.000000</td>\n",
       "      <td>59115.000000</td>\n",
       "      <td>59115.000000</td>\n",
       "    </tr>\n",
       "    <tr>\n",
       "      <th>mean</th>\n",
       "      <td>13.618291</td>\n",
       "      <td>15.676891</td>\n",
       "      <td>29.562582</td>\n",
       "    </tr>\n",
       "    <tr>\n",
       "      <th>std</th>\n",
       "      <td>22.911182</td>\n",
       "      <td>24.835760</td>\n",
       "      <td>49.380047</td>\n",
       "    </tr>\n",
       "    <tr>\n",
       "      <th>min</th>\n",
       "      <td>0.016877</td>\n",
       "      <td>0.037106</td>\n",
       "      <td>0.011790</td>\n",
       "    </tr>\n",
       "    <tr>\n",
       "      <th>25%</th>\n",
       "      <td>4.084681</td>\n",
       "      <td>5.382975</td>\n",
       "      <td>3.893985</td>\n",
       "    </tr>\n",
       "    <tr>\n",
       "      <th>50%</th>\n",
       "      <td>7.380098</td>\n",
       "      <td>9.301353</td>\n",
       "      <td>7.948206</td>\n",
       "    </tr>\n",
       "    <tr>\n",
       "      <th>75%</th>\n",
       "      <td>13.449920</td>\n",
       "      <td>15.878744</td>\n",
       "      <td>21.705034</td>\n",
       "    </tr>\n",
       "    <tr>\n",
       "      <th>max</th>\n",
       "      <td>251.881989</td>\n",
       "      <td>250.691498</td>\n",
       "      <td>251.956406</td>\n",
       "    </tr>\n",
       "  </tbody>\n",
       "</table>\n",
       "</div>"
      ],
      "text/plain": [
       "         preds_dist       af_dist       w7_dist\n",
       "count  59115.000000  59115.000000  59115.000000\n",
       "mean      13.618291     15.676891     29.562582\n",
       "std       22.911182     24.835760     49.380047\n",
       "min        0.016877      0.037106      0.011790\n",
       "25%        4.084681      5.382975      3.893985\n",
       "50%        7.380098      9.301353      7.948206\n",
       "75%       13.449920     15.878744     21.705034\n",
       "max      251.881989    250.691498    251.956406"
      ]
     },
     "execution_count": 147,
     "metadata": {},
     "output_type": "execute_result"
    }
   ],
   "source": [
    "results.iloc[:,-3:].describe()"
   ]
  },
  {
   "cell_type": "code",
   "execution_count": 149,
   "metadata": {},
   "outputs": [
    {
     "data": {
      "text/plain": [
       "<matplotlib.legend.Legend at 0x7487c92ab860>"
      ]
     },
     "execution_count": 149,
     "metadata": {},
     "output_type": "execute_result"
    },
    {
     "data": {
      "image/png": "[encoded data removed]",
      "text/plain": [
       "<Figure size 640x480 with 1 Axes>"
      ]
     },
     "metadata": {},
     "output_type": "display_data"
    }
   ],
   "source": [
    "sns.kdeplot(pred_dists, label='preds')\n",
    "sns.kdeplot(af_dists, label='af')\n",
    "sns.kdeplot(w7_dists, label='w7')\n",
    "plt.legend()"
   ]
  },
  {
   "cell_type": "code",
   "execution_count": null,
   "metadata": {},
   "outputs": [],
   "source": [
    "results.to_csv('results_afvskde.csv', index=False)"
   ]
  },
  {
   "cell_type": "markdown",
   "metadata": {},
   "source": [
    "# Find:\n",
    "- percent of time model is better than AF\n",
    "- percent of time w7 is better than AF\n",
    "- percent of time model is better than w7\n",
    "- *when w7 is better than af, percent of time model is better than af*\n",
    "- af conf when af is better vs when w7 or model is better"
   ]
  },
  {
   "cell_type": "code",
   "execution_count": 5,
   "metadata": {},
   "outputs": [],
   "source": [
    "results = pd.read_csv('results_afvskde.csv')"
   ]
  },
  {
   "cell_type": "code",
   "execution_count": 6,
   "metadata": {},
   "outputs": [
    {
     "data": {
      "text/html": [
       "<div>\n",
       "<style scoped>\n",
       "    .dataframe tbody tr th:only-of-type {\n",
       "        vertical-align: middle;\n",
       "    }\n",
       "\n",
       "    .dataframe tbody tr th {\n",
       "        vertical-align: top;\n",
       "    }\n",
       "\n",
       "    .dataframe thead th {\n",
       "        text-align: right;\n",
       "    }\n",
       "</style>\n",
       "<table border=\"1\" class=\"dataframe\">\n",
       "  <thead>\n",
       "    <tr style=\"text-align: right;\">\n",
       "      <th></th>\n",
       "      <th>sample</th>\n",
       "      <th>idx</th>\n",
       "      <th>kde_better</th>\n",
       "      <th>conf</th>\n",
       "      <th>w4</th>\n",
       "      <th>w5</th>\n",
       "      <th>w6</th>\n",
       "      <th>w7</th>\n",
       "      <th>preds_dist</th>\n",
       "      <th>af_dist</th>\n",
       "      <th>w7_dist</th>\n",
       "    </tr>\n",
       "  </thead>\n",
       "  <tbody>\n",
       "    <tr>\n",
       "      <th>0</th>\n",
       "      <td>1B8D</td>\n",
       "      <td>0</td>\n",
       "      <td>True</td>\n",
       "      <td>96.94</td>\n",
       "      <td>False</td>\n",
       "      <td>True</td>\n",
       "      <td>True</td>\n",
       "      <td>True</td>\n",
       "      <td>1.943338</td>\n",
       "      <td>9.151943</td>\n",
       "      <td>4.816625</td>\n",
       "    </tr>\n",
       "    <tr>\n",
       "      <th>1</th>\n",
       "      <td>1B8D</td>\n",
       "      <td>101</td>\n",
       "      <td>True</td>\n",
       "      <td>98.19</td>\n",
       "      <td>True</td>\n",
       "      <td>False</td>\n",
       "      <td>False</td>\n",
       "      <td>False</td>\n",
       "      <td>10.470612</td>\n",
       "      <td>10.989541</td>\n",
       "      <td>77.040070</td>\n",
       "    </tr>\n",
       "    <tr>\n",
       "      <th>2</th>\n",
       "      <td>1B8D</td>\n",
       "      <td>102</td>\n",
       "      <td>False</td>\n",
       "      <td>98.32</td>\n",
       "      <td>False</td>\n",
       "      <td>False</td>\n",
       "      <td>False</td>\n",
       "      <td>False</td>\n",
       "      <td>9.372042</td>\n",
       "      <td>7.777303</td>\n",
       "      <td>82.229810</td>\n",
       "    </tr>\n",
       "    <tr>\n",
       "      <th>3</th>\n",
       "      <td>1B8D</td>\n",
       "      <td>103</td>\n",
       "      <td>False</td>\n",
       "      <td>98.22</td>\n",
       "      <td>False</td>\n",
       "      <td>False</td>\n",
       "      <td>False</td>\n",
       "      <td>False</td>\n",
       "      <td>5.758302</td>\n",
       "      <td>3.945034</td>\n",
       "      <td>88.753990</td>\n",
       "    </tr>\n",
       "    <tr>\n",
       "      <th>4</th>\n",
       "      <td>1B8D</td>\n",
       "      <td>104</td>\n",
       "      <td>True</td>\n",
       "      <td>98.24</td>\n",
       "      <td>True</td>\n",
       "      <td>True</td>\n",
       "      <td>True</td>\n",
       "      <td>False</td>\n",
       "      <td>16.886827</td>\n",
       "      <td>15.410114</td>\n",
       "      <td>102.242485</td>\n",
       "    </tr>\n",
       "    <tr>\n",
       "      <th>...</th>\n",
       "      <td>...</td>\n",
       "      <td>...</td>\n",
       "      <td>...</td>\n",
       "      <td>...</td>\n",
       "      <td>...</td>\n",
       "      <td>...</td>\n",
       "      <td>...</td>\n",
       "      <td>...</td>\n",
       "      <td>...</td>\n",
       "      <td>...</td>\n",
       "      <td>...</td>\n",
       "    </tr>\n",
       "    <tr>\n",
       "      <th>59110</th>\n",
       "      <td>8VY8</td>\n",
       "      <td>25</td>\n",
       "      <td>False</td>\n",
       "      <td>96.16</td>\n",
       "      <td>False</td>\n",
       "      <td>False</td>\n",
       "      <td>False</td>\n",
       "      <td>False</td>\n",
       "      <td>27.743536</td>\n",
       "      <td>1.803237</td>\n",
       "      <td>35.065330</td>\n",
       "    </tr>\n",
       "    <tr>\n",
       "      <th>59111</th>\n",
       "      <td>8VY8</td>\n",
       "      <td>26</td>\n",
       "      <td>False</td>\n",
       "      <td>95.73</td>\n",
       "      <td>False</td>\n",
       "      <td>False</td>\n",
       "      <td>False</td>\n",
       "      <td>False</td>\n",
       "      <td>15.646973</td>\n",
       "      <td>8.145999</td>\n",
       "      <td>25.950000</td>\n",
       "    </tr>\n",
       "    <tr>\n",
       "      <th>59112</th>\n",
       "      <td>8VY8</td>\n",
       "      <td>27</td>\n",
       "      <td>False</td>\n",
       "      <td>97.45</td>\n",
       "      <td>False</td>\n",
       "      <td>False</td>\n",
       "      <td>False</td>\n",
       "      <td>False</td>\n",
       "      <td>8.995977</td>\n",
       "      <td>8.488922</td>\n",
       "      <td>13.918155</td>\n",
       "    </tr>\n",
       "    <tr>\n",
       "      <th>59113</th>\n",
       "      <td>8VY8</td>\n",
       "      <td>14</td>\n",
       "      <td>True</td>\n",
       "      <td>91.42</td>\n",
       "      <td>True</td>\n",
       "      <td>False</td>\n",
       "      <td>False</td>\n",
       "      <td>False</td>\n",
       "      <td>17.029383</td>\n",
       "      <td>10.401259</td>\n",
       "      <td>23.929888</td>\n",
       "    </tr>\n",
       "    <tr>\n",
       "      <th>59114</th>\n",
       "      <td>8VY8</td>\n",
       "      <td>60</td>\n",
       "      <td>False</td>\n",
       "      <td>85.86</td>\n",
       "      <td>False</td>\n",
       "      <td>False</td>\n",
       "      <td>False</td>\n",
       "      <td>False</td>\n",
       "      <td>79.159584</td>\n",
       "      <td>47.739407</td>\n",
       "      <td>106.528244</td>\n",
       "    </tr>\n",
       "  </tbody>\n",
       "</table>\n",
       "<p>59115 rows × 11 columns</p>\n",
       "</div>"
      ],
      "text/plain": [
       "      sample  idx  kde_better   conf     w4     w5     w6     w7  preds_dist  \\\n",
       "0       1B8D    0        True  96.94  False   True   True   True    1.943338   \n",
       "1       1B8D  101        True  98.19   True  False  False  False   10.470612   \n",
       "2       1B8D  102       False  98.32  False  False  False  False    9.372042   \n",
       "3       1B8D  103       False  98.22  False  False  False  False    5.758302   \n",
       "4       1B8D  104        True  98.24   True   True   True  False   16.886827   \n",
       "...      ...  ...         ...    ...    ...    ...    ...    ...         ...   \n",
       "59110   8VY8   25       False  96.16  False  False  False  False   27.743536   \n",
       "59111   8VY8   26       False  95.73  False  False  False  False   15.646973   \n",
       "59112   8VY8   27       False  97.45  False  False  False  False    8.995977   \n",
       "59113   8VY8   14        True  91.42   True  False  False  False   17.029383   \n",
       "59114   8VY8   60       False  85.86  False  False  False  False   79.159584   \n",
       "\n",
       "         af_dist     w7_dist  \n",
       "0       9.151943    4.816625  \n",
       "1      10.989541   77.040070  \n",
       "2       7.777303   82.229810  \n",
       "3       3.945034   88.753990  \n",
       "4      15.410114  102.242485  \n",
       "...          ...         ...  \n",
       "59110   1.803237   35.065330  \n",
       "59111   8.145999   25.950000  \n",
       "59112   8.488922   13.918155  \n",
       "59113  10.401259   23.929888  \n",
       "59114  47.739407  106.528244  \n",
       "\n",
       "[59115 rows x 11 columns]"
      ]
     },
     "execution_count": 6,
     "metadata": {},
     "output_type": "execute_result"
    }
   ],
   "source": [
    "results"
   ]
  },
  {
   "cell_type": "code",
   "execution_count": 157,
   "metadata": {},
   "outputs": [
    {
     "data": {
      "text/plain": [
       "0.6312949336039922"
      ]
     },
     "execution_count": 157,
     "metadata": {},
     "output_type": "execute_result"
    }
   ],
   "source": [
    "# percent of time model is better than AF\n",
    "results[results.preds_dist < results.af_dist].shape[0] / results.shape[0]\n",
    "# 63.1%"
   ]
  },
  {
   "cell_type": "code",
   "execution_count": 159,
   "metadata": {},
   "outputs": [
    {
     "data": {
      "text/plain": [
       "0.5594688319377484"
      ]
     },
     "execution_count": 159,
     "metadata": {},
     "output_type": "execute_result"
    }
   ],
   "source": [
    "# percent of times w7 is better than AF\n",
    "results[results.w7_dist < results.af_dist].shape[0] / results.shape[0]\n",
    "# 55.9%"
   ]
  },
  {
   "cell_type": "code",
   "execution_count": 161,
   "metadata": {},
   "outputs": [
    {
     "data": {
      "text/plain": [
       "0.5561532605937579"
      ]
     },
     "execution_count": 161,
     "metadata": {},
     "output_type": "execute_result"
    }
   ],
   "source": [
    "# percent of times model is better than w7\n",
    "results[results.preds_dist < results.w7_dist].shape[0] / results.shape[0]\n",
    "# 55.6%"
   ]
  },
  {
   "cell_type": "code",
   "execution_count": 164,
   "metadata": {},
   "outputs": [
    {
     "data": {
      "text/plain": [
       "0.9216818057538658"
      ]
     },
     "execution_count": 164,
     "metadata": {},
     "output_type": "execute_result"
    }
   ],
   "source": [
    "# when w7 better than af, percent of times model is better than af\n",
    "results[(results.w7) & (results.preds_dist < results.af_dist)].shape[0] / results[results.w7].shape[0]\n",
    "# 92.2%"
   ]
  },
  {
   "cell_type": "code",
   "execution_count": 170,
   "metadata": {},
   "outputs": [
    {
     "data": {
      "text/plain": [
       "count    26198.000000\n",
       "mean        94.694171\n",
       "std          6.451876\n",
       "min         30.690000\n",
       "25%         93.380000\n",
       "50%         97.160000\n",
       "75%         98.500000\n",
       "max         99.000000\n",
       "Name: conf, dtype: float64"
      ]
     },
     "execution_count": 170,
     "metadata": {},
     "output_type": "execute_result"
    }
   ],
   "source": [
    "# conf when af is better\n",
    "results[~results.w7].conf.describe()\n",
    "# average 94.7%"
   ]
  },
  {
   "cell_type": "code",
   "execution_count": 169,
   "metadata": {},
   "outputs": [
    {
     "data": {
      "text/plain": [
       "count    32917.000000\n",
       "mean        95.008012\n",
       "std          6.149143\n",
       "min         32.090000\n",
       "25%         93.880000\n",
       "50%         97.310000\n",
       "75%         98.560000\n",
       "max         99.000000\n",
       "Name: conf, dtype: float64"
      ]
     },
     "execution_count": 169,
     "metadata": {},
     "output_type": "execute_result"
    }
   ],
   "source": [
    "# Conf of af when w7 is better\n",
    "results[results.w7].conf.describe()\n",
    "# average 95.0"
   ]
  },
  {
   "cell_type": "code",
   "execution_count": 171,
   "metadata": {},
   "outputs": [
    {
     "data": {
      "text/plain": [
       "count    37319.000000\n",
       "mean        94.890586\n",
       "std          6.297795\n",
       "min         32.090000\n",
       "25%         93.730000\n",
       "50%         97.250000\n",
       "75%         98.550000\n",
       "max         99.000000\n",
       "Name: conf, dtype: float64"
      ]
     },
     "execution_count": 171,
     "metadata": {},
     "output_type": "execute_result"
    }
   ],
   "source": [
    "# conf when model is better\n",
    "results[results.preds_dist < results.af_dist].conf.describe()\n",
    "# average 94.89%"
   ]
  }
 ],
 "metadata": {
  "kernelspec": {
   "display_name": "env",
   "language": "python",
   "name": "python3"
  },
  "language_info": {
   "codemirror_mode": {
    "name": "ipython",
    "version": 3
   },
   "file_extension": ".py",
   "mimetype": "text/x-python",
   "name": "python",
   "nbconvert_exporter": "python",
   "pygments_lexer": "ipython3",
   "version": "3.12.3"
  }
 },
 "nbformat": 4,
 "nbformat_minor": 2
}
