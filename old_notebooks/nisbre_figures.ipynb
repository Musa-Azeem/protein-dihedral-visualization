{
 "cells": [
  {
   "cell_type": "code",
   "execution_count": null,
   "metadata": {},
   "outputs": [],
   "source": [
    "%load_ext autoreload\n",
    "%autoreload 2"
   ]
  },
  {
   "cell_type": "code",
   "execution_count": null,
   "metadata": {},
   "outputs": [],
   "source": [
    "from lib import DihedralAdherence\n",
    "from lib import PDBMineQuery\n",
    "import os\n",
    "import numpy as np\n",
    "import pandas as pd\n",
    "import matplotlib.pyplot as plt\n",
    "import seaborn as sns\n",
    "import scipy.stats as stats\n",
    "from pathlib import Path\n",
    "PDBMINE_URL = os.getenv(\"PDBMINE_URL\")\n",
    "PROJECT_DIR = 'tests'"
   ]
  },
  {
   "cell_type": "code",
   "execution_count": null,
   "metadata": {},
   "outputs": [],
   "source": [
    "PDBMINE_URL = os.getenv(\"PDBMINE_URL\")\n",
    "PROJECT_DIR = 'tests'\n",
    "proteins = ['T1024', 'T1096', 'T1027', 'T1082', 'T1091', 'T1058', 'T1049', 'T1030', 'T1056', 'T1038', 'T1025', 'T1028']\n",
    "\n",
    "# da = DihedralAdherence(proteins[0], [4,5,6,7], PDBMINE_URL, PROJECT_DIR, kdews=[1,32,64,128])\n",
    "# rmsds, n, rmsd_inner = da.split_and_compute_rmsd(pred_id=da.get_id('337_5'), split=[(298, 311), (327,340)])\n",
    "# da.load_results_da()\n",
    "# both = da.plot_res_vs_da_1plot(\n",
    "#     pred_id=da.get_id('337_5'), legend_loc='upper right', text_loc='right', \n",
    "#     highlight_res=[(307,313),(337,347)], fn='res_vs_da.pdf',\n",
    "#     rmsds=[(0.25, 0.15, rmsds[0]), (0.58, 0.15, rmsds[1]), (0.85, 0.15, rmsds[2])]\n",
    "# )\n",
    "# ax.set_xlim(202, 390)\n",
    "# ax.set_ylim(-60, 150)\n",
    "\n",
    "# da = DihedralAdherence(proteins[3], [4,5,6,7], PDBMINE_URL, PROJECT_DIR, kdews=[1,32,64,128])\n",
    "# da.load_results_da()\n",
    "# da.plot_da_vs_rmsd_simple(fn='da_vs_rmsd_single.pdf')\n",
    "\n",
    "# da = DihedralAdherence(proteins[5], [4,5,6,7], PDBMINE_URL, PROJECT_DIR, kdews=[1,32,64,128])\n",
    "# da.load_results_da()\n",
    "# da.plot_heatmap(fillna=True, fn='heatmap.pdf')\n",
    "# print(da.grouped_preds.sort_values('RMS_CA').tail(10))\n",
    "\n",
    "# da = DihedralAdherence('T1030', [4,5,6,7], PDBMINE_URL, PROJECT_DIR, kdews=[1,32,64,128])\n",
    "# da.load_results_da()\n",
    "# from lib.utils import get_phi_psi_dist\n",
    "# from scipy.stats import gaussian_kde\n",
    "# from matplotlib.ticker import FuncFormatter\n",
    "# def plot_one_dist_3d(ins, seq, fn):\n",
    "#     bw_method = None\n",
    "#     phi_psi_dist,_ = get_phi_psi_dist(ins.queries, seq)\n",
    "\n",
    "#     x = phi_psi_dist[['phi','psi']].values.T\n",
    "#     weights = phi_psi_dist['weight'].values\n",
    "#     kde = gaussian_kde(x, weights=weights, bw_method=bw_method)\n",
    "\n",
    "#     x_grid, y_grid = np.meshgrid(np.linspace(-180, 180, 360), np.linspace(-180, 180, 360))\n",
    "#     grid = np.vstack([x_grid.ravel(), y_grid.ravel()])\n",
    "#     z = kde(grid).reshape(x_grid.shape)\n",
    "#     print(f'Max: P({grid[0,z.argmax()]:02f}, {grid[1,z.argmax()]:02f})={z.max():02f}')\n",
    "\n",
    "#     cm = plt.get_cmap('turbo')\n",
    "#     fig = plt.figure(figsize=(10,5))\n",
    "#     ax = fig.add_subplot(111, projection='3d')\n",
    "#     surf = ax.plot_surface(x_grid, y_grid, z, cmap=cm)\n",
    "#     ax.zaxis.set_major_formatter(FuncFormatter(lambda x,pos:f'{x * 1e4:.1f}'))\n",
    "#     ax.set_xticklabels([])\n",
    "#     ax.set_yticklabels([])\n",
    "#     ax.set_zticks(np.linspace(0, z.max(), 5))\n",
    "#     # ax.set_box_aspect(aspect=None, zoom=0.9)\n",
    "#     ax.zaxis.set_tick_params(labelsize=7)\n",
    "#     # ax.dist = 5\n",
    "#     # ax.view_init(elev=30, azim=-100)\n",
    "#     # plt.subplots_adjust(left=0, right=1, top=1, bottom=0)\n",
    "#     # plt.tight_layout()\n",
    "\n",
    "#     if fn:\n",
    "#         plt.savefig(fn, bbox_inches='tight', dpi=300)\n",
    "#     plt.show()\n",
    "# plot_one_dist_3d(da, 'VNQANGK', fn='3d_dist1.pdf')\n",
    "# plot_one_dist_3d(da, 'YNTAIDN', fn='3d_dist2.pdf')\n",
    "\n",
    "# da = DihedralAdherence('T1030', [4,5,6,7], PDBMINE_URL, PROJECT_DIR, kdews=[1,32,64,128])\n",
    "# da.load_results_da()\n",
    "# da.plot_da_for_seq('VKSISSS', pred_id='T1030TS476_2', axlims=((-170,-25),(-100,190)), fn='da_for_seq.pdf')"
   ]
  },
  {
   "cell_type": "code",
   "execution_count": null,
   "metadata": {},
   "outputs": [],
   "source": []
  }
 ],
 "metadata": {
  "kernelspec": {
   "display_name": "env",
   "language": "python",
   "name": "python3"
  },
  "language_info": {
   "codemirror_mode": {
    "name": "ipython",
    "version": 3
   },
   "file_extension": ".py",
   "mimetype": "text/x-python",
   "name": "python",
   "nbconvert_exporter": "python",
   "pygments_lexer": "ipython3",
   "version": "3.12.3"
  }
 },
 "nbformat": 4,
 "nbformat_minor": 2
}
