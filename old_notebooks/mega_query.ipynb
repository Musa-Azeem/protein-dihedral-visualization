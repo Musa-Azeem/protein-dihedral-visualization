{
 "cells": [
  {
   "cell_type": "code",
   "execution_count": null,
   "metadata": {},
   "outputs": [],
   "source": [
    "import pandas as pd\n",
    "import seaborn as sns\n",
    "from lib.constants import AMINO_ACID_CODE_NAMES, AMINO_ACID_CODES\n",
    "import matplotlib.pyplot as plt\n",
    "import numpy as np\n",
    "from scipy.stats import gaussian_kde"
   ]
  },
  {
   "cell_type": "code",
   "execution_count": null,
   "metadata": {},
   "outputs": [],
   "source": [
    "pd.options.display.float_format = '{:.2f}'.format"
   ]
  },
  {
   "cell_type": "code",
   "execution_count": null,
   "metadata": {},
   "outputs": [],
   "source": [
    "k=4\n",
    "df = pd.read_csv(f'search/win{k}.csv', keep_default_na=False)\n",
    "df = df.sort_values('n_matches', ascending=False)\n",
    "df['prob'] = df['n_matches'] / sum(df['n_matches'])\n",
    "df.to_csv(f'search/win{k}_sorted.csv', index=False)"
   ]
  },
  {
   "cell_type": "code",
   "execution_count": null,
   "metadata": {},
   "outputs": [],
   "source": [
    "print(df.sort_values('n_matches', ascending=False).head(6))\n",
    "print(df.sort_values('n_matches', ascending=False).tail(6))\n",
    "print(df[df.n_matches == 5])"
   ]
  },
  {
   "cell_type": "code",
   "execution_count": null,
   "metadata": {},
   "outputs": [],
   "source": [
    "fig, ax = plt.subplots()\n",
    "sns.barplot(data=df, x='seq', y='n_matches', ax=ax)\n",
    "ax.set_ylabel('Number of matches')\n",
    "ax.set_xlabel('Amino Acid')\n",
    "ax.set_title(f'Number of matches for each amino acid in PDB')\n",
    "ax2 = ax.twinx()\n",
    "sns.lineplot(data=df, x='seq', y='prob', ax=ax2, color='r')\n",
    "ax2.set_ylabel('Probability', color='r')\n",
    "ax2.tick_params(axis='y', labelcolor='r')"
   ]
  },
  {
   "cell_type": "code",
   "execution_count": null,
   "metadata": {},
   "outputs": [],
   "source": [
    "fig, ax = plt.subplots()\n",
    "sns.lineplot(data=df, x=range(len(df)), y='n_matches', ax=ax)\n",
    "ax.set_xlabel('Dimers')\n",
    "ax.set_xticks([])\n",
    "ax.set_xticklabels([])\n",
    "ax.set_title(f'Number of matches for each dimer in PDB')\n",
    "ax2 = ax.twinx()\n",
    "sns.lineplot(data=df, x=range(len(df)), y='prob', ax=ax2)\n",
    "ax2.set_ylabel('Probability')\n",
    "ax2.tick_params(axis='y')"
   ]
  },
  {
   "cell_type": "code",
   "execution_count": null,
   "metadata": {},
   "outputs": [],
   "source": [
    "tmp = df[df.n_matches < df.n_matches.quantile(0.99)]\n",
    "fig, ax = plt.subplots()\n",
    "sns.lineplot(data=tmp, x=range(len(tmp)), y='n_matches', ax=ax)\n",
    "ax.set_xlabel('Dimers')\n",
    "ax.set_xticks([])\n",
    "ax.set_xticklabels([])\n",
    "ax.set_title(f'Number of matches for each dimer in PDB')\n",
    "ax2 = ax.twinx()\n",
    "sns.lineplot(data=tmp, x=range(len(tmp)), y='prob', ax=ax2)\n",
    "ax2.set_ylabel('Probability')\n",
    "ax2.tick_params(axis='y')"
   ]
  },
  {
   "cell_type": "code",
   "execution_count": null,
   "metadata": {},
   "outputs": [],
   "source": [
    "kde = gaussian_kde(df.n_matches.values)\n",
    "x = np.linspace(0, df.n_matches.max(), 10000)\n",
    "p = kde(x)\n",
    "c = np.cumsum(p) / np.sum(p)\n",
    "peak = x[np.argmax(p)]\n",
    "\n",
    "fig, axes = plt.subplots(2, sharex=True, figsize=(10, 5))\n",
    "# sns.kdeplot(data=df, x='n_matches', fill=True, ax=axes[0])\n",
    "axes[0].plot(x, p, label='Density')\n",
    "axes[0].fill_between(x, 0, p, alpha=0.2)\n",
    "axes[0].vlines(peak, 0, p.max(), color='red', label=f'Peak at {peak:.2E}')\n",
    "axes[0].set_ylabel('Density')\n",
    "axes[0].legend()\n",
    "axes[1].plot(x, c, label='Cumulative Density')\n",
    "perc = x[np.argmax(c > 0.5)]\n",
    "axes[1].vlines(perc, 0, 1, color='green', label=f'50th percentile at {perc:.2E}')\n",
    "perc = x[np.argmax(c > 0.9)]\n",
    "axes[1].vlines(perc, 0, 1, color='purple', label=f'90th percentile at {perc:.2E}')\n",
    "perc = x[np.argmax(c > 0.95)]\n",
    "axes[1].vlines(perc, 0, 1, color='black', label=f'95th percentile at {perc:.2E}')\n",
    "axes[1].fill_between(x, 0, c, alpha=0.2)\n",
    "axes[1].legend()\n",
    "axes[1].set_xlabel('Number of matches')\n",
    "axes[1].set_ylabel('Cumulative density')\n",
    "axes[0].set_xlim(0, 5000)\n",
    "axes[1].set_xlim(0, 5000)\n",
    "fig.suptitle('KDE: Number of matches for 160000 Tetramers')"
   ]
  },
  {
   "cell_type": "code",
   "execution_count": null,
   "metadata": {},
   "outputs": [],
   "source": [
    "df"
   ]
  },
  {
   "cell_type": "code",
   "execution_count": null,
   "metadata": {},
   "outputs": [],
   "source": [
    "df['log_prob'] = np.log10(df['prob'])\n",
    "df.loc[df.log_prob == -np.inf, 'log_prob'] = df[df.log_prob != -np.inf].log_prob.min()\n",
    "df['bin'] = pd.cut(df.log_prob, bins=80)\n",
    "df_chars = df.seq.apply(list).explode().reset_index()\n",
    "df_chars.columns = ['og_index', 'aa']\n",
    "merged = df_chars.merge(df, left_on='og_index', right_index=True)\n",
    "char_counts = merged.groupby(['bin', 'aa'], observed=False).size().unstack(fill_value=0)\n",
    "\n",
    "pm =  r'$\\pm$' + f'{char_counts.index[0].length/2:.2f}'\n",
    "idxs = []\n",
    "for idx in char_counts.index:\n",
    "    idxs.append(f'{idx.mid:.2f}')\n",
    "char_counts.index = idxs\n",
    "char_counts = char_counts.iloc[::-1]\n",
    "fig, ax = plt.subplots(figsize=(7,5))\n",
    "sns.heatmap(char_counts, cbar_kws={'label': 'Occurences of Amino Acid in Bin'})\n",
    "ax.set_ylabel(f'Log Probability Bin ({pm})')\n",
    "ax.set_xlabel('Amino Acid')"
   ]
  },
  {
   "cell_type": "markdown",
   "metadata": {},
   "source": [
    "## Joint Prob - Dimer"
   ]
  },
  {
   "cell_type": "code",
   "execution_count": null,
   "metadata": {},
   "outputs": [],
   "source": [
    "df1 = pd.read_csv('search/win1_sorted.csv', keep_default_na=False)\n",
    "df2 = pd.read_csv('search/win2_sorted.csv' , keep_default_na=False)\n",
    "# show joint probability of amino acids vs probability of dimers\n",
    "# also find probability of dimer given the joint probability of amino acids\n",
    "\n",
    "probs = df1.set_index('seq').prob\n",
    "df2['joint_prob'] = df2.seq.apply(lambda x: probs[x[0]] * probs[x[1]])"
   ]
  },
  {
   "cell_type": "code",
   "execution_count": null,
   "metadata": {},
   "outputs": [],
   "source": [
    "fig, ax = plt.subplots()\n",
    "joint_probs = np.outer(df1.prob, df1.prob)\n",
    "sns.heatmap(joint_probs, ax=ax, vmin=0, vmax=0.01)\n",
    "ax.set_title('Joint probability of amino acids')\n",
    "ax.set_xticklabels(df1.seq)\n",
    "ax.set_yticklabels(df1.seq);"
   ]
  },
  {
   "cell_type": "code",
   "execution_count": null,
   "metadata": {},
   "outputs": [],
   "source": [
    "probs = []\n",
    "matches = []\n",
    "seqs = df1.seq\n",
    "for aa1 in seqs:\n",
    "    p = []\n",
    "    m = []\n",
    "    for aa2 in seqs:\n",
    "        p.append(df2.loc[df2.seq == aa1+aa2].prob.values[0])\n",
    "        m.append(df2.loc[df2.seq == aa1+aa2].n_matches.values[0])\n",
    "    probs.append(p)\n",
    "    matches.append(m)\n",
    "probs = np.array(probs)\n",
    "matches = np.array(matches)\n",
    "fig, ax = plt.subplots()\n",
    "sns.heatmap(probs, ax=ax, vmin=0, vmax=0.01)\n",
    "ax.set_title('Observed probability of Dimers')\n",
    "ax.set_xticklabels(seqs)\n",
    "ax.set_yticklabels(seqs);"
   ]
  },
  {
   "cell_type": "code",
   "execution_count": null,
   "metadata": {},
   "outputs": [],
   "source": [
    "seq = 'HH'\n",
    "print(\n",
    "    df1[df1.seq==seq[0]].prob.values[0], \n",
    "    df1[df1.seq==seq[1]].prob.values[0],\n",
    ")\n",
    "j = df1[df1.seq==seq[0]].prob.values[0]*df1[df1.seq==seq[1]].prob.values[0]\n",
    "p = df2[df2.seq==seq].prob.values[0]\n",
    "print(j)\n",
    "print(p)\n",
    "print(j/p)"
   ]
  },
  {
   "cell_type": "code",
   "execution_count": null,
   "metadata": {},
   "outputs": [],
   "source": [
    "probs_ratio = joint_probs / probs\n",
    "fig, ax = plt.subplots()\n",
    "sns.heatmap(probs_ratio, ax=ax)\n",
    "ax.set_title('Ratio of Joint Probability to Probability of Dimers')\n",
    "ax.set_xticklabels(seqs)\n",
    "ax.set_yticklabels(seqs);"
   ]
  },
  {
   "cell_type": "code",
   "execution_count": null,
   "metadata": {},
   "outputs": [],
   "source": [
    "fig, ax = plt.subplots()\n",
    "sns.heatmap(np.outer(df1.prob, df1.prob), ax=ax)\n",
    "ax.set_title('Joint probability of amino acids')\n",
    "ax.set_xticklabels(df1.seq)\n",
    "ax.set_yticklabels(df1.seq);"
   ]
  },
  {
   "cell_type": "code",
   "execution_count": null,
   "metadata": {},
   "outputs": [],
   "source": [
    "df2 = df2.sort_values('joint_prob', ascending=False).reset_index(drop=True)\n",
    "heatmap = df2[['seq','prob', 'joint_prob']].set_index('seq').T\n",
    "fig, axes = plt.subplots(8, figsize=(7, 5))\n",
    "# sns.lineplot(data=df2, x=df2.index, y='joint_prob', ax=ax)\n",
    "# sns.barplot(data=df2.iloc[:100], x=df2.index[:100], y='prob', ax=ax)\n",
    "\n",
    "m = max(df2.joint_prob.max(), df2.prob.max())\n",
    "for i in range(8):\n",
    "    sns.heatmap(heatmap.iloc[:,i*50:(i+1)*50], ax=axes[i], cbar=False, vmin=0, vmax=0.01)\n",
    "    axes[i].xaxis.set_ticks_position('top')\n",
    "    axes[i].set_xlabel('')\n",
    "    axes[i].tick_params(axis='x', which='major', labelsize=5, length=0, rotation=0)\n",
    "    axes[i].set_yticks([])\n",
    "    axes[i].set_yticklabels([])\n",
    "axes[-1].set_xlabel('Dimers')\n",
    "plt.tight_layout()"
   ]
  },
  {
   "cell_type": "markdown",
   "metadata": {},
   "source": [
    "## Joint Prob - Trimer"
   ]
  },
  {
   "cell_type": "code",
   "execution_count": null,
   "metadata": {},
   "outputs": [],
   "source": [
    "df1 = pd.read_csv('search/win1_sorted.csv', keep_default_na=False)\n",
    "df3 = pd.read_csv('search/win3_sorted.csv' , keep_default_na=False)\n",
    "log_probs = np.log10(df1.set_index('seq').prob)\n",
    "df3['log_prob'] = np.log10(df3.prob)\n",
    "df3['log_joint_prob'] = df3.seq.apply(lambda x: np.sum([log_probs[aa] for aa in x]))\n",
    "df3['log_probs_ratio'] = df3.log_joint_prob - df3.log_prob\n",
    "df3['probs_ratio'] = 10**df3.log_probs_ratio\n",
    "df3['joint_prob'] = 10**df3.log_joint_prob"
   ]
  },
  {
   "cell_type": "code",
   "execution_count": null,
   "metadata": {},
   "outputs": [],
   "source": [
    "df3.sort_values('prob', ascending=False).head(5)"
   ]
  },
  {
   "cell_type": "code",
   "execution_count": null,
   "metadata": {},
   "outputs": [],
   "source": [
    "fig, ax = plt.subplots()\n",
    "sns.scatterplot(data=df3, x='joint_prob', y='prob', marker='.', ax=ax, edgecolor=None, label='Trimers')\n",
    "sns.scatterplot(data=df3[df3.seq=='HHH'], x='joint_prob', y='prob', marker='X', ax=ax, edgecolor=None, label='HHH')\n",
    "sns.scatterplot(data=df3[df3.seq=='SSG'], x='joint_prob', y='prob', marker='X', ax=ax, edgecolor=None, label='SSG')\n",
    "ax.legend()\n",
    "ax.set_xlabel('Joint Probability')\n",
    "ax.set_ylabel('Observed Probability')"
   ]
  },
  {
   "cell_type": "code",
   "execution_count": null,
   "metadata": {},
   "outputs": [],
   "source": [
    "df3.sort_values('probs_ratio', ascending=False).head(5)"
   ]
  },
  {
   "cell_type": "markdown",
   "metadata": {},
   "source": [
    "# Joint Prob. Tetramer"
   ]
  },
  {
   "cell_type": "code",
   "execution_count": null,
   "metadata": {},
   "outputs": [],
   "source": [
    "df1 = pd.read_csv('search/win1_sorted.csv', keep_default_na=False)\n",
    "df4 = pd.read_csv('search/win4_sorted.csv' , keep_default_na=False)\n",
    "log_probs = np.log10(df1.set_index('seq').prob)\n",
    "df4['log_joint_prob'] = df4.seq.apply(lambda x: np.sum([log_probs[aa] for aa in x]))\n",
    "df4['log_prob'] = np.log10(df4.prob)\n",
    "df4['log_probs_ratio'] = df4.log_joint_prob - df4.log_prob\n",
    "df4['probs_ratio'] = 10**df4.log_probs_ratio\n",
    "df4['joint_prob'] = 10**df4.log_joint_prob\n",
    "# df4['joint_prob'] = df4.seq.apply(lambda x: np.prod([df1.loc[df1.seq==aa].prob.values[0] for aa in x]))\n",
    "# df4['probs_ratio'] = df4.joint_prob / df4.prob"
   ]
  },
  {
   "cell_type": "code",
   "execution_count": null,
   "metadata": {},
   "outputs": [],
   "source": [
    "df4.sort_values('prob', ascending=False).head(5)"
   ]
  },
  {
   "cell_type": "code",
   "execution_count": null,
   "metadata": {},
   "outputs": [],
   "source": [
    "fig, ax = plt.subplots()\n",
    "sns.scatterplot(data=df4, x='joint_prob', y='prob', marker='.', ax=ax, edgecolor=None, label='Tetramers')\n",
    "sns.scatterplot(data=df4[df4.seq=='GSSG'], x='joint_prob', y='prob', marker='X', ax=ax, edgecolor=None, label='GSSG')\n",
    "sns.scatterplot(data=df4[df4.seq=='HHHH'], x='joint_prob', y='prob', marker='X', ax=ax, edgecolor=None, label='HHHH')\n",
    "sns.scatterplot(data=df4[df4.seq=='LLLL'], x='joint_prob', y='prob', marker='X', ax=ax, edgecolor=None, label='LLLL')\n",
    "sns.scatterplot(data=df4[df4.seq=='SSGS'], x='joint_prob', y='prob', marker='X', ax=ax, edgecolor=None, label='SSGS')\n",
    "sns.scatterplot(data=df4[df4.seq=='SGSS'], x='joint_prob', y='prob', marker='X', ax=ax, edgecolor=None, label='SGSS')\n",
    "ax.legend()\n",
    "ax.set_xlabel('Joint Probability')\n",
    "ax.set_ylabel('Observed Probability')"
   ]
  },
  {
   "cell_type": "code",
   "execution_count": null,
   "metadata": {},
   "outputs": [],
   "source": [
    "fig, ax = plt.subplots()\n",
    "data = df4.groupby('seq_key').mean(numeric_only=True)\n",
    "sns.scatterplot(data=data, x='joint_prob', y='prob', marker='.', ax=ax, edgecolor=None, label='Tetramers')\n",
    "# sns.scatterplot(data=data.loc[['HHHH']], x='joint_prob', y='prob', marker='X', ax=ax, edgecolor=None, label='HHHH')\n",
    "# sns.scatterplot(data=data.loc[['AAAA']], x='joint_prob', y='prob', marker='X', ax=ax, edgecolor=None, label='AAAA')\n",
    "# for aa in df1.seq:\n",
    "    # sns.scatterplot(data=data.loc[[''.join([aa]*4)]], x='joint_prob', y='prob', marker='X', ax=ax, edgecolor=None, label=aa)\n",
    "sns.scatterplot(data=data.loc[['HHHH']], x='joint_prob', y='prob', marker='X', ax=ax, edgecolor=None, label='HHHH')\n",
    "sns.scatterplot(data=data.loc[['LLLL']], x='joint_prob', y='prob', marker='X', ax=ax, edgecolor=None, label='LLLL')\n",
    "sns.scatterplot(data=data.loc[['AAAA']], x='joint_prob', y='prob', marker='X', ax=ax, edgecolor=None, label='AAAA')\n",
    "sns.scatterplot(data=data.loc[['GSSS']], x='joint_prob', y='prob', marker='X', ax=ax, edgecolor=None, label='SGSS')\n",
    "sns.scatterplot(data=data.loc[['GGSS']], x='joint_prob', y='prob', marker='X', ax=ax, edgecolor=None, label='GGSS')\n",
    "\n",
    "ax.legend()\n",
    "ax.set_xlabel('Joint Probability')\n",
    "ax.set_ylabel('Observed Probability')"
   ]
  },
  {
   "cell_type": "markdown",
   "metadata": {},
   "source": [
    "# Hydrophobic Index"
   ]
  },
  {
   "cell_type": "code",
   "execution_count": null,
   "metadata": {},
   "outputs": [],
   "source": [
    "# https://www.sigmaaldrich.com/US/en/technical-documents/technical-article/protein-biology/protein-structural-analysis/amino-acid-reference-chart\n",
    "hydrophobic_s = \"\"\"\\\n",
    "Leu 100 Phe 100\n",
    "Ile 100 Ile 99\n",
    "Phe 92 Trp 97\n",
    "Trp 84 Leu 97\n",
    "Val 79 Val 76\n",
    "Met 74 Met 74\n",
    "Cys 52 Tyr 63\n",
    "Tyr 49 Cys 49\n",
    "Ala 47 Ala 41\n",
    "Thr 13 Thr 13\n",
    "Glu 8 His 8\n",
    "Gly 0 Gly 0\n",
    "Ser -7  Ser -5\n",
    "Gln -18 Gln -10\n",
    "Asp -18 Asp -55\n",
    "Arg -26 Arg -14\n",
    "Lys -37 Lys -23\n",
    "Asn -41 Asn -28\n",
    "His -42 Glu -31\n",
    "Pro -46 Pro -46\\\n",
    "\"\"\"\n",
    "hydrophobic_index_ph2 = {AMINO_ACID_CODES[l.split()[0].upper()]:l.split()[1] for l in hydrophobic_s.split('\\n')}\n",
    "hydrophobic_index_ph7 = {AMINO_ACID_CODES[l.split()[2].upper()]:l.split()[3] for l in hydrophobic_s.split('\\n')}"
   ]
  },
  {
   "cell_type": "code",
   "execution_count": null,
   "metadata": {},
   "outputs": [],
   "source": [
    "df = pd.read_csv('search/win3_sorted.csv', keep_default_na=False)\n",
    "df['h_2'] = df.seq.apply(lambda x: np.sum([int(hydrophobic_index_ph2[aa]) for aa in x]))\n",
    "df['h_7'] = df.seq.apply(lambda x: np.sum([int(hydrophobic_index_ph7[aa]) for aa in x]))"
   ]
  },
  {
   "cell_type": "code",
   "execution_count": null,
   "metadata": {},
   "outputs": [],
   "source": [
    "fig, ax = plt.subplots()\n",
    "# sns.barplot(data=df, x='h_7', y='n_matches', ax=ax)\n",
    "# sns.scatterplot(data=df, x='h_7', y='n_matches', ax=ax, marker='.')\n",
    "sns.kdeplot(data=df, x='h_7', y='n_matches', ax=ax, fill=True, bw_method=0.2)\n",
    "ax.set_title('Hydrophobicity index at pH 7.0 vs number of matches for Trimers')\n",
    "ax.set_xlabel('Summed Hydrophobicity index at pH 7.0 for amino acids in kmer')\n",
    "ax.set_ylabel('Number of matches')\n",
    "# sns.scatterplot(data=df, x='h_7b', y='n_matches')"
   ]
  }
 ],
 "metadata": {
  "kernelspec": {
   "display_name": "Python 3 (ipykernel)",
   "language": "python",
   "name": "python3"
  },
  "language_info": {
   "codemirror_mode": {
    "name": "ipython",
    "version": 3
   },
   "file_extension": ".py",
   "mimetype": "text/x-python",
   "name": "python",
   "nbconvert_exporter": "python",
   "pygments_lexer": "ipython3",
   "version": "3.10.12"
  }
 },
 "nbformat": 4,
 "nbformat_minor": 2
}
