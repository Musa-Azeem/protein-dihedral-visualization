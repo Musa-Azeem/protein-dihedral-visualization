{
 "cells": [
  {
   "cell_type": "code",
   "execution_count": null,
   "metadata": {},
   "outputs": [],
   "source": [
    "%load_ext autoreload\n",
    "%autoreload 2"
   ]
  },
  {
   "cell_type": "code",
   "execution_count": null,
   "metadata": {},
   "outputs": [],
   "source": [
    "from lib import DihedralAdherence\n",
    "from lib import PDBMineQuery\n",
    "import os\n",
    "import numpy as np\n",
    "import pandas as pd\n",
    "import matplotlib.pyplot as plt\n",
    "import seaborn as sns\n",
    "import scipy.stats as stats\n",
    "from scipy.stats import gaussian_kde\n",
    "from pathlib import Path\n",
    "from lib.utils import get_phi_psi_dist, find_kdepeak, find_kdepeak_af, calc_da\n",
    "PDBMINE_URL = os.getenv(\"PDBMINE_URL\")\n",
    "PROJECT_DIR = 'tests'"
   ]
  },
  {
   "cell_type": "markdown",
   "metadata": {},
   "source": [
    "# When computing da, which cluster is chosen based on:\n",
    "a. Most Likely\n",
    "b. X-Ray\n",
    "c. AlphaFold\n",
    "\n",
    "- If not most likely, is it usually second most likely?"
   ]
  },
  {
   "cell_type": "code",
   "execution_count": null,
   "metadata": {},
   "outputs": [],
   "source": [
    "proteins = ['T1024', 'T1096', 'T1027', 'T1082', 'T1091', 'T1058', 'T1049', 'T1030', 'T1056', 'T1038', 'T1025', 'T1028']\n",
    "from sklearn.cluster import KMeans, MeanShift, estimate_bandwidth\n",
    "from collections import defaultdict\n",
    "bw_method = None\n",
    "chosen_cluster = []\n",
    "winsizes = [4, 5, 6, 7]\n",
    "for protein in tqdm(proteins):\n",
    "    da = DihedralAdherence(protein, winsizes, PDBMINE_URL, PROJECT_DIR, kdews=[1,32,64,128], \n",
    "                           mode='kde_af')\n",
    "    da.load_results()\n",
    "    chosen_clusteri = defaultdict(list)\n",
    "    print(len(da.xray_phi_psi))\n",
    "\n",
    "    for seq in da.seqs:\n",
    "        print(protein, seq)\n",
    "        phi_psi_dist,info = get_phi_psi_dist(da.queries, seq)\n",
    "        af = da.phi_psi_predictions[(da.phi_psi_predictions.protein_id == da.alphafold_id) & (da.phi_psi_predictions.seq_ctxt == seq)]\n",
    "        xray = da.xray_phi_psi[da.xray_phi_psi.seq_ctxt == seq]\n",
    "        if af.shape[0] == 0 or xray.shape[0] == 0:    \n",
    "            print(f'Skipping {seq}')\n",
    "            continue\n",
    "        xray = xray[['phi', 'psi']].values[0]\n",
    "        af = af[['phi', 'psi']].values[0]\n",
    "        print(phi_psi_dist.shape)\n",
    "        \n",
    "        phi_psi_dist = phi_psi_dist.loc[~phi_psi_dist[['phi', 'psi']].isna().any(axis=1)]\n",
    "        if phi_psi_dist.shape[0] < 4:\n",
    "            print(f'Skipping {seq}')\n",
    "            continue\n",
    "        try:\n",
    "\n",
    "            # kde for entire dist:\n",
    "            entire_kde = gaussian_kde(\n",
    "                phi_psi_dist[['phi','psi']].T, \n",
    "                weights=phi_psi_dist['weight'], \n",
    "                bw_method=bw_method\n",
    "            )\n",
    "            # phi_grid, psi_grid = np.meshgrid(np.linspace(-180, 180, 360), np.linspace(-180, 180, 360))\n",
    "            # grid = np.vstack([phi_grid.ravel(), psi_grid.ravel()])\n",
    "            # probs = entire_kde(grid).reshape(phi_grid.shape)\n",
    "            # kdepeak = grid[:,probs.argmax()]\n",
    "            # print('ENTIRE', kdepeak, probs.max())\n",
    "\n",
    "            bandwidth = 100\n",
    "            ms = MeanShift(bandwidth=bandwidth, bin_seeding=True)\n",
    "            ms.fit(phi_psi_dist[['phi','psi']])\n",
    "            phi_psi_dist['cluster'] = ms.labels_\n",
    "\n",
    "            cluster_counts = phi_psi_dist.groupby('cluster').size()\n",
    "            phi_psi_dist['cluster'] = phi_psi_dist['cluster'].apply(lambda x: x if cluster_counts[x] > 4 else -1)\n",
    "\n",
    "\n",
    "            cluster_peaks = []\n",
    "            probs = []\n",
    "            for i in phi_psi_dist.cluster.unique():\n",
    "                if i == -1:\n",
    "                    continue\n",
    "                kdepeak_c,prob = find_kdepeak(phi_psi_dist[phi_psi_dist.cluster == i], bw_method, return_prob=True)\n",
    "                # print(f'CLUSTER LOCAL {i}', kdepeak_c.values, prob)\n",
    "                probs.append(prob)\n",
    "                cluster_peaks.append(kdepeak_c.values)\n",
    "\n",
    "                peak_prob = entire_kde(kdepeak_c.values)\n",
    "                # print(f'CLUSTER {i}:', kdepeak_c.values, peak_prob)\n",
    "            cluster_peaks = np.array(cluster_peaks)[np.argsort(probs)][::-1]\n",
    "            probs = np.sort(probs)[::-1]\n",
    "            # print(probs)\n",
    "            # print(cluster_peaks)\n",
    "\n",
    "            print(f'\\tFound {len(cluster_peaks)} Clusters')\n",
    "\n",
    "            # Choose peak that is closest to AlphaFold prediction\n",
    "            dists = calc_da(af, cluster_peaks)\n",
    "            argmin = dists.argmin()\n",
    "            # print(argmin, cluster_peaks[argmin])\n",
    "            chosen_clusteri['af'].append(argmin)\n",
    "            chosen_clusteri['af_prob'].append(probs[argmin])\n",
    "            chosen_clusteri['af_prob_ratio'].append(probs[argmin]/probs[0])\n",
    "\n",
    "            # Choose peak that is closest toX-ray prediction\n",
    "            dists = calc_da(xray, cluster_peaks)\n",
    "            argmin = dists.argmin()\n",
    "            chosen_clusteri['xray'].append(argmin)\n",
    "            chosen_clusteri['xray_prob'].append(probs[argmin])\n",
    "            chosen_clusteri['xray_prob_ratio'].append(probs[argmin]/probs[0])\n",
    "\n",
    "            # Choose peak that would be PDBMine prediction - highest prob\n",
    "            chosen_clusteri['pdbmine'].append(0)\n",
    "            chosen_clusteri['pdbmine_prob'].append(probs[0])\n",
    "            chosen_clusteri['pdbmine_prob_ratio'].append(1)\n",
    "        except Exception as e:\n",
    "            print(e)\n",
    "        chosen_clusteri['seq'].append(seq)\n",
    "        n_samples = phi_psi_dist.groupby('winsize').size().to_dict()\n",
    "        for w in winsizes:\n",
    "            if not w in n_samples:\n",
    "                n_samples[w] = 0\n",
    "        chosen_clusteri['n_samples_w'].append(n_samples)\n",
    "        chosen_clusteri['n_samples'].append(sum(list(n_samples.values())))\n",
    "    chosen_cluster.append(pd.DataFrame(chosen_clusteri).assign(protein=protein))\n",
    "    break\n",
    "chosen_cluster = pd.concat(chosen_cluster)\n",
    "chosen_cluster.to_csv('cluster_choice.csv', index=False)"
   ]
  },
  {
   "cell_type": "code",
   "execution_count": null,
   "metadata": {},
   "outputs": [],
   "source": [
    "chosen_cluster = pd.read_csv('cluster_choice.csv')"
   ]
  },
  {
   "cell_type": "code",
   "execution_count": null,
   "metadata": {},
   "outputs": [],
   "source": [
    "chosen_cluster['af'] = chosen_cluster.af.astype(int)\n",
    "chosen_cluster['xray'] = chosen_cluster.xray.astype(int)\n",
    "chosen_cluster['pdbmine'] = chosen_cluster.pdbmine.astype(int)\n",
    "sns.histplot(data=chosen_cluster, x='af', discrete=True, hue='protein', multiple='stack')\n",
    "plt.show()\n",
    "sns.histplot(data=chosen_cluster, x='xray', discrete=True, hue='protein', multiple='stack')\n",
    "plt.show()\n",
    "sns.histplot(data=chosen_cluster, x='pdbmine', discrete=True, hue='protein', multiple='stack')\n",
    "plt.show()"
   ]
  },
  {
   "cell_type": "code",
   "execution_count": null,
   "metadata": {},
   "outputs": [],
   "source": [
    "chosen_cluster"
   ]
  },
  {
   "cell_type": "code",
   "execution_count": null,
   "metadata": {},
   "outputs": [],
   "source": [
    "sns.scatterplot(data=chosen_cluster.groupby('xray').size().reset_index(), x='xray', y=0,label='xray')\n",
    "sns.scatterplot(data=chosen_cluster.groupby('af').size().reset_index(), x='af', y=0, alpha=0.8,label='af')\n",
    "plt.legend()\n",
    "plt.xlabel('Cluster')\n",
    "plt.ylabel('Count')\n",
    "plt.title('Which Cluster is Chosen')\n",
    "# df = pd.concat([chosen_cluster.groupby('xray').size().reset_index().rename(columns={0:'count', 'xray':'cluster'}), chosen_cluster.groupby('af').size().reset_index().rename(columns={0:'count', 'af':'cluster'})])\n",
    "# sns.regplot(data=df, x='cluster', y='count', scatter=False)"
   ]
  },
  {
   "cell_type": "code",
   "execution_count": null,
   "metadata": {},
   "outputs": [],
   "source": [
    "# grouped = chosen_cluster.groupby('xray').agg(xray_prob=('xray_prob', lambda x: -np.sum(np.log(x))))\n",
    "fig, ax = plt.subplots()\n",
    "grouped = chosen_cluster.groupby('xray').mean(numeric_only=True)\n",
    "sns.barplot(grouped, x='xray', y='xray_prob', ax=ax, label='Xray')\n",
    "\n",
    "# grouped = chosen_cluster.groupby('xray').agg(xray_prob=('xray_prob', lambda x: -np.sum(np.log(x))))\n",
    "grouped = chosen_cluster.groupby('af').mean(numeric_only=True)\n",
    "sns.barplot(grouped, x='af', y='af_prob', ax=ax, alpha=0.5, label='AlphaFold')\n",
    "ax.set_title('Average Probability of Chosen Cluster')\n",
    "ax.set_xlabel('Cluster')\n",
    "ax.set_ylabel('Average Probability')"
   ]
  },
  {
   "cell_type": "code",
   "execution_count": null,
   "metadata": {},
   "outputs": [],
   "source": [
    "chosen_cluster['af'] = chosen_cluster.af.astype(int)\n",
    "chosen_cluster['xray'] = chosen_cluster.xray.astype(int)\n",
    "chosen_cluster['pdbmine'] = chosen_cluster.pdbmine.astype(int)\n",
    "sns.histplot(data=chosen_cluster, x='af', discrete=True, hue='protein', multiple='stack')\n",
    "plt.show()\n",
    "sns.histplot(data=chosen_cluster, x='xray', discrete=True, hue='protein', multiple='stack')\n",
    "plt.show()\n",
    "sns.histplot(data=chosen_cluster, x='pdbmine', discrete=True, hue='protein', multiple='stack')\n",
    "plt.show()"
   ]
  },
  {
   "cell_type": "code",
   "execution_count": null,
   "metadata": {},
   "outputs": [],
   "source": [
    "sns.scatterplot(data=chosen_cluster.groupby('xray').sum(numeric_only=True)[['xray_prob']].reset_index(), x='xray', y='xray_prob',label='xray')\n",
    "sns.scatterplot(data=chosen_cluster.groupby('af').sum(numeric_only=True)[['af_prob']].reset_index(), x='af', y='af_prob', alpha=0.8,label='af')\n",
    "plt.legend()\n",
    "plt.xlabel('Cluster')\n",
    "plt.ylabel('Total likelihood')\n",
    "plt.title('Which Cluster is Chosen')\n",
    "# df = pd.concat([chosen_cluster.groupby('xray').size().reset_index().rename(columns={0:'count', 'xray':'cluster'}), chosen_cluster.groupby('af').size().reset_index().rename(columns={0:'count', 'af':'cluster'})])\n",
    "# sns.regplot(data=df, x='cluster', y='count', scatter=False)"
   ]
  }
 ],
 "metadata": {
  "kernelspec": {
   "display_name": "env",
   "language": "python",
   "name": "python3"
  },
  "language_info": {
   "codemirror_mode": {
    "name": "ipython",
    "version": 3
   },
   "file_extension": ".py",
   "mimetype": "text/x-python",
   "name": "python",
   "nbconvert_exporter": "python",
   "pygments_lexer": "ipython3",
   "version": "3.12.3"
  }
 },
 "nbformat": 4,
 "nbformat_minor": 2
}
