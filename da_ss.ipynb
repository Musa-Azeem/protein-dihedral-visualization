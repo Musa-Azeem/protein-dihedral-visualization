{
 "cells": [
  {
   "cell_type": "code",
   "execution_count": null,
   "metadata": {},
   "outputs": [],
   "source": [
    "%load_ext autoreload\n",
    "%autoreload 2"
   ]
  },
  {
   "cell_type": "code",
   "execution_count": 1,
   "metadata": {},
   "outputs": [],
   "source": [
    "from lib import DihedralAdherence\n",
    "from lib import PDBMineQuery\n",
    "import os\n",
    "import numpy as np\n",
    "import pandas as pd\n",
    "import matplotlib.pyplot as plt\n",
    "import seaborn as sns\n",
    "import scipy.stats as stats\n",
    "from pathlib import Path\n",
    "import json\n",
    "from matplotlib.patches import ConnectionPatch\n",
    "from sklearn.cluster import KMeans, DBSCAN, MeanShift, HDBSCAN\n",
    "from sklearn.metrics import silhouette_score, silhouette_samples\n",
    "from collections import defaultdict\n",
    "from tqdm import tqdm\n",
    "from scipy.linalg import inv\n",
    "\n",
    "PDBMINE_URL = os.getenv(\"PDBMINE_URL\")\n",
    "PROJECT_DIR = 'casp_da'"
   ]
  },
  {
   "cell_type": "code",
   "execution_count": 4,
   "metadata": {},
   "outputs": [
    {
     "name": "stdout",
     "output_type": "stream",
     "text": [
      "Initializing T1024 ...\n",
      "casp_da/T1024_win4-5-6-7\n",
      "Results already exist\n",
      "Casp ID: T1024 \tPDB: 6t1z\n",
      "Structure exists: 'pdb/pdb6t1z.ent' \n",
      "UniProt ID: Q48658\n"
     ]
    }
   ],
   "source": [
    "proteins = [\n",
    "  'T1024', 'T1030', 'T1030-D2', 'T1024-D1', 'T1032-D1', 'T1053-D1', 'T1027-D1', 'T1029-D1',\n",
    "  'T1025-D1', 'T1028-D1', 'T1030-D1', 'T1053-D2', 'T1057-D1','T1058-D1', 'T1058-D2'\n",
    "]\n",
    "da = DihedralAdherence(proteins[0], [4,5,6,7], PDBMINE_URL, PROJECT_DIR, kdews=[1,1,1,1], \n",
    "                      mode='full_window', weights_file='ml_runs/best_model-kde_16-32_383.pt', device='cpu')\n",
    "                    #   mode='ml', weights_file='ml_runs/best_model-kde_16-32_383.pt', device='cpu')\n",
    "da.load_results()"
   ]
  },
  {
   "cell_type": "code",
   "execution_count": null,
   "metadata": {},
   "outputs": [],
   "source": [
    "#T1024: --------HHHHHHHHHHHHHHHHHHHHHHHHHHHHH----HHHHHHHHHHHHHHHHHHHHHHHHHHH----HHHHHHHHHHHHHHHHHHHHHHHHHHHHHHHHHHHHHHHHHHHHHHHHHHHHHHEE-----HHHHHHHHHHHHHHHHHHHHHHHHHHHHHH--HHHHHHHHHHHHHHHHHHHHH-----------------HHHHHHHHHHHHHHHHHHHHHHHHHHHHHHHHHHHHH-------EEEE--HHHHHHHHHHHHHHHHHHHHHHHHHHH----HHHHHHHHHHHHHHHHHHHHHHHHHHHHHHHHHHHHHHHHHHHHHHHHHHH-------HHHHHHHHHHHHHHHHHHHHHHHHHHHHHHHHHHHHHHHHHHHHHHHHHHHHHHHHHHHHHHHHHHH--\n",
    "#T1030: -HHHHHHHHHHHHHHH-------HHHHHHHHHHH----HHHHHHHHHHHHHHHHHHHHHHHHHHHHHHHHH----HHHHHHHHHHHH----HHHHHHHHHHHHHHHHHHHHHHHHHHHHHHHHHHHH----HHHHHHHHHHH----------EEHHHHHHHHHHHHHHHHHHHHHHHHHHHHHHH------HHHHHHHHHHHHHHHHHHH---------HHHHHHHHH-----------EE----HHHHHHHHHHHHHHHHHHHHHH------"
   ]
  },
  {
   "cell_type": "code",
   "execution_count": 3,
   "metadata": {},
   "outputs": [],
   "source": [
    "from lib.across_window_utils import *\n",
    "from lib.utils import get_phi_psi_dist"
   ]
  },
  {
   "cell_type": "code",
   "execution_count": 6,
   "metadata": {},
   "outputs": [],
   "source": [
    "ins = da\n",
    "center_idx_ctxt = ins.queries[-1].get_center_idx_pos()\n",
    "winsize_ctxt = ins.queries[-1].winsize\n",
    "seqs_for_window = ins.seqs[center_idx_ctxt:-(winsize_ctxt - center_idx_ctxt - 1)]\n",
    "\n",
    "for i,seq_ctxt in enumerate(seqs_for_window):\n",
    "    print(f'{i}/{len(ins.xray_phi_psi.seq_ctxt.unique())-1}: {seq_ctxt}')\n",
    "    if 'X' in seq_ctxt:\n",
    "        print(f'\\tSkipping {seq_ctxt} - X in sequence')\n",
    "        continue\n",
    "    _, info = get_phi_psi_dist(ins.queries, seq_ctxt)\n",
    "    for i in info:\n",
    "        print(f'\\tWin {i[0]}: {i[1]} - {i[2]} samples')\n",
    "\n",
    "    \n"
   ]
  }
 ],
 "metadata": {
  "kernelspec": {
   "display_name": "env",
   "language": "python",
   "name": "python3"
  },
  "language_info": {
   "codemirror_mode": {
    "name": "ipython",
    "version": 3
   },
   "file_extension": ".py",
   "mimetype": "text/x-python",
   "name": "python",
   "nbconvert_exporter": "python",
   "pygments_lexer": "ipython3",
   "version": "3.12.3"
  }
 },
 "nbformat": 4,
 "nbformat_minor": 2
}
