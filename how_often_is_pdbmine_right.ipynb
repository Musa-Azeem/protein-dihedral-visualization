{
 "cells": [
  {
   "cell_type": "code",
   "execution_count": 1,
   "metadata": {},
   "outputs": [],
   "source": [
    "%load_ext autoreload\n",
    "%autoreload 2"
   ]
  },
  {
   "cell_type": "code",
   "execution_count": 2,
   "metadata": {},
   "outputs": [],
   "source": [
    "from lib import DihedralAdherence\n",
    "import os\n",
    "import numpy as np\n",
    "import pandas as pd\n",
    "import matplotlib.pyplot as plt\n",
    "import seaborn as sns\n",
    "from sklearn.model_selection import train_test_split\n",
    "from sklearn.ensemble import RandomForestRegressor\n",
    "from lib.fit_model_on_multiple import fit_lr, predict_lr, fit_rf, plot_md_vs_rmsd, predict_rf\n",
    "from pathlib import Path\n",
    "from lib import DihedralAdherence\n",
    "from lib import PDBMineQuery\n",
    "import os\n",
    "import numpy as np\n",
    "import pandas as pd\n",
    "import matplotlib.pyplot as plt\n",
    "import seaborn as sns\n",
    "import statsmodels.api as sm\n",
    "from pathlib import Path\n",
    "from scipy.stats import linregress, pearsonr\n",
    "PDBMINE_URL = os.getenv(\"GREEN_PDBMINE_URL\")\n",
    "PROJECT_DIR = 'casp_da'"
   ]
  },
  {
   "cell_type": "code",
   "execution_count": 88,
   "metadata": {},
   "outputs": [
    {
     "name": "stdout",
     "output_type": "stream",
     "text": [
      "Initializing T1024 ...\n",
      "Results already exist\n",
      "Casp ID: T1024 \tPDB: 6t1z\n",
      "Structure exists: 'pdb/pdb6t1z.ent' \n",
      "UniProt ID: Q48658\n"
     ]
    },
    {
     "name": "stderr",
     "output_type": "stream",
     "text": [
      "  1%|▏         | 5/373 [00:09<11:41,  1.91s/it]\n"
     ]
    },
    {
     "ename": "KeyboardInterrupt",
     "evalue": "",
     "output_type": "error",
     "traceback": [
      "\u001b[0;31m---------------------------------------------------------------------------\u001b[0m",
      "\u001b[0;31mKeyboardInterrupt\u001b[0m                         Traceback (most recent call last)",
      "Cell \u001b[0;32mIn[88], line 52\u001b[0m\n\u001b[1;32m     50\u001b[0m cs \u001b[38;5;241m=\u001b[39m phi_psi_dist\u001b[38;5;241m.\u001b[39mcluster\u001b[38;5;241m.\u001b[39munique()\n\u001b[1;32m     51\u001b[0m \u001b[38;5;28;01mfor\u001b[39;00m c \u001b[38;5;129;01min\u001b[39;00m cs:\n\u001b[0;32m---> 52\u001b[0m     kdepeak \u001b[38;5;241m=\u001b[39m \u001b[43mfind_kdepeak\u001b[49m\u001b[43m(\u001b[49m\u001b[43mphi_psi_dist\u001b[49m\u001b[38;5;241;43m.\u001b[39;49m\u001b[43mloc\u001b[49m\u001b[43m[\u001b[49m\u001b[43mphi_psi_dist\u001b[49m\u001b[38;5;241;43m.\u001b[39;49m\u001b[43mcluster\u001b[49m\u001b[43m \u001b[49m\u001b[38;5;241;43m==\u001b[39;49m\u001b[43m \u001b[49m\u001b[43mc\u001b[49m\u001b[43m]\u001b[49m\u001b[43m,\u001b[49m\u001b[43m \u001b[49m\u001b[38;5;241;43m0.5\u001b[39;49m\u001b[43m)\u001b[49m\n\u001b[1;32m     53\u001b[0m     peaks\u001b[38;5;241m.\u001b[39mappend(kdepeak)\n\u001b[1;32m     54\u001b[0m peaks \u001b[38;5;241m=\u001b[39m np\u001b[38;5;241m.\u001b[39marray(peaks)\n",
      "File \u001b[0;32m~/protein-dihedral-visualization/lib/utils.py:90\u001b[0m, in \u001b[0;36mfind_kdepeak\u001b[0;34m(phi_psi_dist, bw_method, return_prob)\u001b[0m\n\u001b[1;32m     88\u001b[0m phi_grid, psi_grid \u001b[38;5;241m=\u001b[39m np\u001b[38;5;241m.\u001b[39mmeshgrid(np\u001b[38;5;241m.\u001b[39mlinspace(\u001b[38;5;241m-\u001b[39m\u001b[38;5;241m180\u001b[39m, \u001b[38;5;241m180\u001b[39m, \u001b[38;5;241m360\u001b[39m), np\u001b[38;5;241m.\u001b[39mlinspace(\u001b[38;5;241m-\u001b[39m\u001b[38;5;241m180\u001b[39m, \u001b[38;5;241m180\u001b[39m, \u001b[38;5;241m360\u001b[39m))\n\u001b[1;32m     89\u001b[0m grid \u001b[38;5;241m=\u001b[39m np\u001b[38;5;241m.\u001b[39mvstack([phi_grid\u001b[38;5;241m.\u001b[39mravel(), psi_grid\u001b[38;5;241m.\u001b[39mravel()])\n\u001b[0;32m---> 90\u001b[0m kde \u001b[38;5;241m=\u001b[39m \u001b[43mkernel\u001b[49m\u001b[43m(\u001b[49m\u001b[43mgrid\u001b[49m\u001b[43m)\u001b[49m\u001b[38;5;241m.\u001b[39mreshape(phi_grid\u001b[38;5;241m.\u001b[39mshape)\n\u001b[1;32m     91\u001b[0m kdepeak \u001b[38;5;241m=\u001b[39m grid[:,kde\u001b[38;5;241m.\u001b[39margmax()]\n\u001b[1;32m     92\u001b[0m kdepeak \u001b[38;5;241m=\u001b[39m pd\u001b[38;5;241m.\u001b[39mSeries({\u001b[38;5;124m'\u001b[39m\u001b[38;5;124mphi\u001b[39m\u001b[38;5;124m'\u001b[39m: kdepeak[\u001b[38;5;241m0\u001b[39m], \u001b[38;5;124m'\u001b[39m\u001b[38;5;124mpsi\u001b[39m\u001b[38;5;124m'\u001b[39m: kdepeak[\u001b[38;5;241m1\u001b[39m]})\n",
      "File \u001b[0;32m~/protein-dihedral-visualization/env/lib/python3.12/site-packages/scipy/stats/_kde.py:271\u001b[0m, in \u001b[0;36mgaussian_kde.evaluate\u001b[0;34m(self, points)\u001b[0m\n\u001b[1;32m    268\u001b[0m         \u001b[38;5;28;01mraise\u001b[39;00m \u001b[38;5;167;01mValueError\u001b[39;00m(msg)\n\u001b[1;32m    270\u001b[0m output_dtype, spec \u001b[38;5;241m=\u001b[39m _get_output_dtype(\u001b[38;5;28mself\u001b[39m\u001b[38;5;241m.\u001b[39mcovariance, points)\n\u001b[0;32m--> 271\u001b[0m result \u001b[38;5;241m=\u001b[39m \u001b[43mgaussian_kernel_estimate\u001b[49m\u001b[43m[\u001b[49m\u001b[43mspec\u001b[49m\u001b[43m]\u001b[49m\u001b[43m(\u001b[49m\n\u001b[1;32m    272\u001b[0m \u001b[43m    \u001b[49m\u001b[38;5;28;43mself\u001b[39;49m\u001b[38;5;241;43m.\u001b[39;49m\u001b[43mdataset\u001b[49m\u001b[38;5;241;43m.\u001b[39;49m\u001b[43mT\u001b[49m\u001b[43m,\u001b[49m\u001b[43m \u001b[49m\u001b[38;5;28;43mself\u001b[39;49m\u001b[38;5;241;43m.\u001b[39;49m\u001b[43mweights\u001b[49m\u001b[43m[\u001b[49m\u001b[43m:\u001b[49m\u001b[43m,\u001b[49m\u001b[43m \u001b[49m\u001b[38;5;28;43;01mNone\u001b[39;49;00m\u001b[43m]\u001b[49m\u001b[43m,\u001b[49m\n\u001b[1;32m    273\u001b[0m \u001b[43m    \u001b[49m\u001b[43mpoints\u001b[49m\u001b[38;5;241;43m.\u001b[39;49m\u001b[43mT\u001b[49m\u001b[43m,\u001b[49m\u001b[43m \u001b[49m\u001b[38;5;28;43mself\u001b[39;49m\u001b[38;5;241;43m.\u001b[39;49m\u001b[43mcho_cov\u001b[49m\u001b[43m,\u001b[49m\u001b[43m \u001b[49m\u001b[43moutput_dtype\u001b[49m\u001b[43m)\u001b[49m\n\u001b[1;32m    275\u001b[0m \u001b[38;5;28;01mreturn\u001b[39;00m result[:, \u001b[38;5;241m0\u001b[39m]\n",
      "\u001b[0;31mKeyboardInterrupt\u001b[0m: "
     ]
    }
   ],
   "source": [
    "from lib.utils import get_phi_psi_dist, find_kdepeak, calc_da\n",
    "from sklearn.cluster import KMeans\n",
    "from sklearn.metrics import silhouette_score\n",
    "from tqdm import tqdm\n",
    "\n",
    "max_clusters = 7\n",
    "\n",
    "proteins = [\n",
    "\t'T1024', 'T1030', 'T1030-D2', 'T1024-D1', 'T1032-D1', 'T1053-D1', 'T1027-D1', 'T1029-D1',\n",
    "\t'T1025-D1', 'T1028-D1', 'T1030-D1', 'T1053-D2', 'T1057-D1','T1058-D1', 'T1058-D2'\n",
    "]\n",
    "\n",
    "for protein in proteins:\n",
    "    da = DihedralAdherence(protein, [4,5,6,7], PDBMINE_URL, PROJECT_DIR, kdews=[1,32,64,128], \n",
    "                           mode='ml', weights_file='ml_runs/best_model-kde_16-32_383.pt', device='cpu')\n",
    "    da.load_results()\n",
    "    rows = []\n",
    "    for seq in tqdm(da.xray_phi_psi.seq_ctxt.unique()):\n",
    "        if 'X' in seq:\n",
    "            print('Skipping', protein, seq, '\\t[Contains X]')\n",
    "            continue\n",
    "        phi_psi_dist, info = get_phi_psi_dist(da.queries, seq)\n",
    "        xray = da.xray_phi_psi.loc[da.xray_phi_psi.seq_ctxt == seq][['phi','psi']]\n",
    "        if xray.shape[0] == 0:\n",
    "            print('Skipping', protein, seq, '\\t[No Xray]')\n",
    "            continue\n",
    "        xray = xray.iloc[0].values\n",
    "\n",
    "        max_sil_avg = -1\n",
    "        one_cluster_wss = -1\n",
    "        for k in range(1, min(phi_psi_dist.shape[0], max_clusters)):\n",
    "            kmeans = KMeans(n_clusters=k, n_init=10)\n",
    "            labels = kmeans.fit_predict(phi_psi_dist[['phi', 'psi']])\n",
    "            wss = kmeans.inertia_\n",
    "            if k == 1:\n",
    "                one_cluster_wss = wss\n",
    "                phi_psi_dist['cluster'] = labels\n",
    "                continue\n",
    "\n",
    "            elif k == 2:\n",
    "                if wss >= one_cluster_wss:\n",
    "                    break\n",
    "\n",
    "            sil_avg = silhouette_score(phi_psi_dist[['phi', 'psi']], labels)\n",
    "            if sil_avg > max_sil_avg:\n",
    "                max_sil_avg = sil_avg\n",
    "                phi_psi_dist['cluster'] = labels\n",
    "        \n",
    "        peaks = []\n",
    "        cs = phi_psi_dist.cluster.unique()\n",
    "        for c in cs:\n",
    "            kdepeak = find_kdepeak(phi_psi_dist.loc[phi_psi_dist.cluster == c], 0.5)\n",
    "            peaks.append(kdepeak)\n",
    "        peaks = np.array(peaks)\n",
    "\n",
    "        dists = calc_da(xray, peaks)\n",
    "        min_dist = np.min(dists)\n",
    "        chosen_peak = peaks[np.argmin(dists)]\n",
    "        chosen_c = cs[np.argmin(dists)]\n",
    "        cluster = phi_psi_dist.loc[phi_psi_dist.cluster == chosen_c, ['phi', 'psi']].values\n",
    "        cluster_std = np.std(cluster, axis=0)\n",
    "\n",
    "        n_samples = [infoi[2] for infoi in info]\n",
    "        dists = list(np.pad(dists, (0, max_clusters - len(dists)), 'constant', constant_values=-1).round(3))\n",
    "        rows.append([\n",
    "            protein, seq, min_dist.round(3), \n",
    "            xray[0].round(3), xray[1].round(3), \n",
    "            chosen_peak[0].round(3), chosen_peak[1].round(3),\n",
    "            max_sil_avg,\n",
    "            *cluster_std, *n_samples, *dists\n",
    "        ])\n",
    "\n",
    "        # sns.scatterplot(x='phi', y='psi', hue='cluster', data=phi_psi_dist)\n",
    "        # plt.scatter([p[0] for p in peaks], [p[1] for p in peaks], marker='x')\n",
    "        # plt.scatter(xray[0], xray[1], marker='x')\n",
    "        # plt.show()\n",
    "\n",
    "    df = pd.DataFrame(rows, columns=[\n",
    "        'protein', 'seq', 'min_dist', 'xray_phi', 'xray_psi', \n",
    "        'chosen_peak_phi', 'chosen_peak_psi', \n",
    "        'cluster_std_phi', 'cluster_std_psi',\n",
    "        'kmeans_silhouette',\n",
    "        'win4', 'win5', 'win6', 'win7', \n",
    "        'dist_1', 'dist_2', 'dist_3', 'dist_4', 'dist_5', 'dist_6', 'dist_7'\n",
    "    ])\n",
    "    df.to_csv(f'quantative_analysis.csv', index=False)"
   ]
  }
 ],
 "metadata": {
  "kernelspec": {
   "display_name": "env",
   "language": "python",
   "name": "python3"
  },
  "language_info": {
   "codemirror_mode": {
    "name": "ipython",
    "version": 3
   },
   "file_extension": ".py",
   "mimetype": "text/x-python",
   "name": "python",
   "nbconvert_exporter": "python",
   "pygments_lexer": "ipython3",
   "version": "3.12.3"
  }
 },
 "nbformat": 4,
 "nbformat_minor": 2
}
