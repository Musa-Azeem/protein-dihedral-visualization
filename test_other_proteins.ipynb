{
 "cells": [
  {
   "cell_type": "code",
   "execution_count": 2,
   "metadata": {},
   "outputs": [],
   "source": [
    "%load_ext autoreload\n",
    "%autoreload 2"
   ]
  },
  {
   "cell_type": "code",
   "execution_count": 3,
   "metadata": {},
   "outputs": [],
   "source": [
    "from lib import DihedralAdherencePDB\n",
    "import os\n",
    "from pathlib import Path\n",
    "import pandas as pd\n",
    "import numpy as np\n",
    "import seaborn as sns\n",
    "\n",
    "PDBMINE_URL = os.getenv(\"GREEN_PDBMINE_URL\")\n",
    "PROJECT_DIR = 'ml_data'\n",
    "\n",
    "pdb_codes = [f.name.split('_')[0] for f in Path(PROJECT_DIR).iterdir() if f.is_dir()]"
   ]
  },
  {
   "cell_type": "code",
   "execution_count": 3,
   "metadata": {},
   "outputs": [
    {
     "name": "stdout",
     "output_type": "stream",
     "text": [
      "Results already exist\n",
      "Structure exists: 'pdb/pdb3kff.ent' \n",
      "UniProt ID: P11590\n"
     ]
    }
   ],
   "source": [
    "da = DihedralAdherencePDB(\n",
    "    pdb_codes[40], [4,5,6,7], PDBMINE_URL, PROJECT_DIR, mode='kde',\n",
    "    kdews=[0, 0, 0, 1]\n",
    ")"
   ]
  },
  {
   "cell_type": "code",
   "execution_count": 5,
   "metadata": {},
   "outputs": [],
   "source": [
    "da.load_results()"
   ]
  },
  {
   "cell_type": "code",
   "execution_count": 8,
   "metadata": {},
   "outputs": [],
   "source": [
    "da.xray_phi_psi.to_csv(da.outdir / 'test.csv')"
   ]
  },
  {
   "cell_type": "code",
   "execution_count": null,
   "metadata": {},
   "outputs": [],
   "source": []
  },
  {
   "cell_type": "code",
   "execution_count": null,
   "metadata": {},
   "outputs": [],
   "source": [
    "# da = DihedralAdherencePDB(\n",
    "#     pdb_codes[0], [4,5,6,7], PDBMINE_URL, PROJECT_DIR, mode='ml',\n",
    "#     weights_file='ml_runs/best_model-kde_16-32_383.pt', device='cuda'\n",
    "# )\n",
    "for pdb_code in pdb_codes[50:150]:\n",
    "    da = DihedralAdherencePDB(\n",
    "        pdb_code, [4,5,6,7], PDBMINE_URL, PROJECT_DIR, mode='kde',\n",
    "        kdews=[0, 0, 0, 1]\n",
    "    )\n",
    "    da.load_results()\n",
    "    da.compute_das()"
   ]
  },
  {
   "cell_type": "code",
   "execution_count": 17,
   "metadata": {},
   "outputs": [
    {
     "data": {
      "text/plain": [
       "[  Model  GDT_TS     RMS_CA  DA\n",
       " 0  7LUL     0.0  49.216044 NaN,\n",
       "   Model    GDT_TS    RMS_CA  DA\n",
       " 0  3R7U  0.844858  1.704878 NaN,\n",
       "   Model    GDT_TS    RMS_CA  DA\n",
       " 0  5TPI  0.710976  4.947146 NaN,\n",
       "   Model    GDT_TS    RMS_CA  DA\n",
       " 0  6A0J  0.998864  0.194671 NaN]"
      ]
     },
     "execution_count": 17,
     "metadata": {},
     "output_type": "execute_result"
    }
   ],
   "source": [
    "results"
   ]
  },
  {
   "cell_type": "code",
   "execution_count": 38,
   "metadata": {},
   "outputs": [
    {
     "name": "stdout",
     "output_type": "stream",
     "text": [
      "Results already exist\n",
      "Structure exists: 'pdb/pdb2rj7.ent' \n",
      "UniProt ID: P16442\n",
      "WARNING: Weights used to calculate DA are different\n",
      "WARNING: Weights used to calculate DA are different\n",
      "WARNING: Weights used to calculate DA are different\n",
      "Results already exist\n",
      "Structure exists: 'pdb/pdb1f81.ent' \n",
      "UniProt ID: P45481\n",
      "WARNING: Weights used to calculate DA are different\n",
      "WARNING: Weights used to calculate DA are different\n",
      "WARNING: Weights used to calculate DA are different\n",
      "Results already exist\n",
      "Structure exists: 'pdb/pdb1ey7.ent' \n",
      "UniProt ID: P00644\n",
      "WARNING: Weights used to calculate DA are different\n",
      "WARNING: Weights used to calculate DA are different\n",
      "WARNING: Weights used to calculate DA are different\n",
      "Results already exist\n",
      "Structure exists: 'pdb/pdb4aqi.ent' \n",
      "UniProt ID: Q86SG5\n",
      "WARNING: Weights used to calculate DA are different\n",
      "WARNING: Weights used to calculate DA are different\n",
      "WARNING: Weights used to calculate DA are different\n",
      "Results already exist\n",
      "Structure exists: 'pdb/pdb4mkh.ent' \n",
      "UniProt ID: P16304\n",
      "WARNING: Weights used to calculate DA are different\n",
      "WARNING: Weights used to calculate DA are different\n",
      "WARNING: Weights used to calculate DA are different\n",
      "Results already exist\n",
      "Structure exists: 'pdb/pdb7eik.ent' \n",
      "UniProt ID: O60885\n",
      "WARNING: Weights used to calculate DA are different\n",
      "WARNING: Weights used to calculate DA are different\n",
      "WARNING: Weights used to calculate DA are different\n",
      "Results already exist\n",
      "Structure exists: 'pdb/pdb5nq8.ent' \n",
      "UniProt ID: Q96TR6\n",
      "WARNING: Weights used to calculate DA are different\n",
      "WARNING: Weights used to calculate DA are different\n",
      "WARNING: Weights used to calculate DA are different\n",
      "Results already exist\n",
      "Structure exists: 'pdb/pdb4nv6.ent' \n",
      "UniProt ID: Q2JJF6\n",
      "WARNING: Weights used to calculate DA are different\n",
      "WARNING: Weights used to calculate DA are different\n",
      "WARNING: Weights used to calculate DA are different\n",
      "Results already exist\n",
      "Structure exists: 'pdb/pdb2nu6.ent' \n",
      "UniProt ID: P0AGE9\n",
      "WARNING: Weights used to calculate DA are different\n",
      "WARNING: Weights used to calculate DA are different\n",
      "WARNING: Weights used to calculate DA are different\n",
      "Results already exist\n",
      "Structure exists: 'pdb/pdb2xne.ent' \n",
      "UniProt ID: O14965\n",
      "WARNING: Weights used to calculate DA are different\n",
      "WARNING: Weights used to calculate DA are different\n",
      "WARNING: Weights used to calculate DA are different\n",
      "Results already exist\n",
      "Structure exists: 'pdb/pdb6lvq.ent' \n",
      "UniProt ID: Q9NRW4\n",
      "WARNING: Weights used to calculate DA are different\n",
      "WARNING: Weights used to calculate DA are different\n",
      "WARNING: Weights used to calculate DA are different\n",
      "Results already exist\n",
      "Structure exists: 'pdb/pdb5p6t.ent' \n",
      "UniProt ID: P11838\n",
      "WARNING: Weights used to calculate DA are different\n",
      "WARNING: Weights used to calculate DA are different\n",
      "WARNING: Weights used to calculate DA are different\n",
      "Results already exist\n",
      "Structure exists: 'pdb/pdb5auu.ent' \n",
      "UniProt ID: P53355\n",
      "WARNING: Weights used to calculate DA are different\n",
      "WARNING: Weights used to calculate DA are different\n",
      "WARNING: Weights used to calculate DA are different\n",
      "Results already exist\n",
      "Structure exists: 'pdb/pdb4pnn.ent' \n",
      "UniProt ID: Q9H2K2\n",
      "WARNING: Weights used to calculate DA are different\n",
      "WARNING: Weights used to calculate DA are different\n",
      "WARNING: Weights used to calculate DA are different\n",
      "Results already exist\n",
      "Structure exists: 'pdb/pdb2bw5.ent' \n",
      "UniProt ID: P25006\n",
      "WARNING: Weights used to calculate DA are different\n",
      "WARNING: Weights used to calculate DA are different\n",
      "WARNING: Weights used to calculate DA are different\n",
      "Results already exist\n",
      "Structure exists: 'pdb/pdb2eqm.ent' \n",
      "UniProt ID: A8MW92\n",
      "WARNING: Weights used to calculate DA are different\n",
      "WARNING: Weights used to calculate DA are different\n",
      "WARNING: Weights used to calculate DA are different\n",
      "Results already exist\n",
      "Structure exists: 'pdb/pdb2ggb.ent' \n",
      "UniProt ID: P0AE18\n",
      "WARNING: Weights used to calculate DA are different\n",
      "WARNING: Weights used to calculate DA are different\n",
      "WARNING: Weights used to calculate DA are different\n",
      "Results already exist\n",
      "Structure exists: 'pdb/pdb3de6.ent' \n",
      "UniProt ID: P06873\n",
      "WARNING: Weights used to calculate DA are different\n",
      "WARNING: Weights used to calculate DA are different\n",
      "WARNING: Weights used to calculate DA are different\n",
      "Results already exist\n",
      "Structure exists: 'pdb/pdb1nih.ent' \n",
      "UniProt ID: P69905\n",
      "WARNING: Weights used to calculate DA are different\n",
      "WARNING: Weights used to calculate DA are different\n",
      "WARNING: Weights used to calculate DA are different\n",
      "Results already exist\n",
      "Structure exists: 'pdb/pdb3udm.ent' \n",
      "UniProt ID: P56817\n",
      "WARNING: Weights used to calculate DA are different\n",
      "WARNING: Weights used to calculate DA are different\n",
      "WARNING: Weights used to calculate DA are different\n",
      "Results already exist\n",
      "Structure exists: 'pdb/pdb6f9v.ent' \n",
      "UniProt ID: P12821\n",
      "WARNING: Weights used to calculate DA are different\n",
      "WARNING: Weights used to calculate DA are different\n",
      "WARNING: Weights used to calculate DA are different\n",
      "Results already exist\n",
      "Structure exists: 'pdb/pdb6dex.ent' \n",
      "UniProt ID: Q75DL0\n",
      "WARNING: Weights used to calculate DA are different\n",
      "WARNING: Weights used to calculate DA are different\n",
      "WARNING: Weights used to calculate DA are different\n",
      "Results already exist\n",
      "Structure exists: 'pdb/pdb3muc.ent' \n",
      "UniProt ID: P08310\n",
      "WARNING: Weights used to calculate DA are different\n",
      "WARNING: Weights used to calculate DA are different\n",
      "WARNING: Weights used to calculate DA are different\n",
      "Results already exist\n",
      "Structure exists: 'pdb/pdb7ufq.ent' \n",
      "UniProt ID: Q7K740\n",
      "WARNING: Weights used to calculate DA are different\n",
      "WARNING: Weights used to calculate DA are different\n",
      "WARNING: Weights used to calculate DA are different\n",
      "Results already exist\n",
      "Structure exists: 'pdb/pdb7kvk.ent' \n",
      "UniProt ID: P08684\n",
      "WARNING: Weights used to calculate DA are different\n",
      "WARNING: Weights used to calculate DA are different\n",
      "WARNING: Weights used to calculate DA are different\n",
      "Results already exist\n",
      "Structure exists: 'pdb/pdb2acw.ent' \n",
      "UniProt ID: Q5IFH7\n",
      "WARNING: Weights used to calculate DA are different\n",
      "WARNING: Weights used to calculate DA are different\n",
      "WARNING: Weights used to calculate DA are different\n",
      "Results already exist\n",
      "Structure exists: 'pdb/pdb2aqk.ent' \n",
      "UniProt ID: P9WGR1\n",
      "WARNING: Weights used to calculate DA are different\n",
      "WARNING: Weights used to calculate DA are different\n",
      "WARNING: Weights used to calculate DA are different\n",
      "Results already exist\n",
      "Structure exists: 'pdb/pdb2r9u.ent' \n",
      "UniProt ID: Q6E4B4\n",
      "WARNING: Weights used to calculate DA are different\n",
      "WARNING: Weights used to calculate DA are different\n",
      "WARNING: Weights used to calculate DA are different\n",
      "Results already exist\n",
      "Structure exists: 'pdb/pdb1sqf.ent' \n",
      "UniProt ID: P36929\n",
      "WARNING: Weights used to calculate DA are different\n",
      "WARNING: Weights used to calculate DA are different\n",
      "WARNING: Weights used to calculate DA are different\n",
      "Results already exist\n",
      "Structure exists: 'pdb/pdb6jz5.ent' \n",
      "UniProt ID: Q6W7J7\n",
      "WARNING: Weights used to calculate DA are different\n",
      "WARNING: Weights used to calculate DA are different\n",
      "WARNING: Weights used to calculate DA are different\n",
      "Results already exist\n",
      "Structure exists: 'pdb/pdb5vw8.ent' \n",
      "UniProt ID: B4G043\n",
      "WARNING: Weights used to calculate DA are different\n",
      "WARNING: Weights used to calculate DA are different\n",
      "WARNING: Weights used to calculate DA are different\n",
      "Results already exist\n",
      "Structure exists: 'pdb/pdb1ooq.ent' \n",
      "UniProt ID: P38489\n",
      "WARNING: Weights used to calculate DA are different\n",
      "WARNING: Weights used to calculate DA are different\n",
      "WARNING: Weights used to calculate DA are different\n",
      "Results already exist\n",
      "Structure exists: 'pdb/pdb8as4.ent' \n",
      "UniProt ID: P49407\n",
      "WARNING: Weights used to calculate DA are different\n",
      "WARNING: Weights used to calculate DA are different\n",
      "WARNING: Weights used to calculate DA are different\n",
      "Results already exist\n",
      "Structure exists: 'pdb/pdb2zja.ent' \n",
      "UniProt ID: O73946\n",
      "WARNING: Weights used to calculate DA are different\n",
      "WARNING: Weights used to calculate DA are different\n",
      "WARNING: Weights used to calculate DA are different\n",
      "Results already exist\n",
      "Structure exists: 'pdb/pdb6alv.ent' \n",
      "UniProt ID: P14925\n",
      "WARNING: Weights used to calculate DA are different\n",
      "WARNING: Weights used to calculate DA are different\n",
      "WARNING: Weights used to calculate DA are different\n"
     ]
    }
   ],
   "source": [
    "results = []\n",
    "for pdb_code in pdb_codes[:150]:\n",
    "    if not Path(f'{PROJECT_DIR}/{pdb_code}_win4-5-6-7/xray_phi_psi_da.csv').exists():\n",
    "        continue\n",
    "    da = DihedralAdherencePDB(\n",
    "        pdb_code, [4,5,6,7], PDBMINE_URL, PROJECT_DIR, mode='kde',\n",
    "        kdews=[0, 0, 0, 1]\n",
    "    )\n",
    "    da.load_results_da()\n",
    "    results.append(da.results)\n",
    "results = pd.concat(results, axis=0).reset_index(drop=True)"
   ]
  },
  {
   "cell_type": "code",
   "execution_count": 45,
   "metadata": {},
   "outputs": [
    {
     "data": {
      "text/plain": [
       "47"
      ]
     },
     "execution_count": 45,
     "metadata": {},
     "output_type": "execute_result"
    }
   ],
   "source": [
    "total = 0\n",
    "for pdb_code in pdb_codes:\n",
    "    fn = f'{PROJECT_DIR}/{pdb_code}_win4-5-6-7/xray_phi_psi_da.csv'\n",
    "    if Path(fn).exists():\n",
    "        total += 1\n",
    "total"
   ]
  },
  {
   "cell_type": "code",
   "execution_count": 53,
   "metadata": {},
   "outputs": [
    {
     "data": {
      "text/plain": [
       "3"
      ]
     },
     "execution_count": 53,
     "metadata": {},
     "output_type": "execute_result"
    }
   ],
   "source": [
    "da.queries[3].get_center_idx_pos()"
   ]
  },
  {
   "cell_type": "code",
   "execution_count": 43,
   "metadata": {},
   "outputs": [
    {
     "data": {
      "text/plain": [
       "0.03741358017777405"
      ]
     },
     "execution_count": 43,
     "metadata": {},
     "output_type": "execute_result"
    },
    {
     "data": {
      "image/png": "[encoded data removed]",
      "text/plain": [
       "<Figure size 640x480 with 1 Axes>"
      ]
     },
     "metadata": {},
     "output_type": "display_data"
    }
   ],
   "source": [
    "import matplotlib.pyplot as plt\n",
    "from scipy.stats import linregress\n",
    "reg = linregress(results.dropna()['DA'], results.dropna()['GDT_TS'])\n",
    "sns.regplot(x='DA', y='GDT_TS', data=results.reset_index(drop=True))\n",
    "reg.rvalue**2"
   ]
  },
  {
   "cell_type": "code",
   "execution_count": 4,
   "metadata": {},
   "outputs": [
    {
     "name": "stdout",
     "output_type": "stream",
     "text": [
      "Results already exist\n",
      "Structure exists: 'pdb/pdb2rj7.ent' \n",
      "UniProt ID: P16442\n",
      "WARNING: Weights used to calculate DA are different\n",
      "WARNING: Weights used to calculate DA are different\n",
      "WARNING: Weights used to calculate DA are different\n"
     ]
    }
   ],
   "source": [
    "da = DihedralAdherencePDB(\n",
    "    pdb_codes[0], [4,5,6,7], PDBMINE_URL, PROJECT_DIR, mode='kde',\n",
    "    kdews=[0, 0, 0, 1]\n",
    ")\n",
    "da.load_results_da()"
   ]
  },
  {
   "cell_type": "code",
   "execution_count": 146,
   "metadata": {},
   "outputs": [
    {
     "name": "stdout",
     "output_type": "stream",
     "text": [
      "Initializing T1024 ...\n",
      "casp_da/T1024_win4-5-6-7\n",
      "Results already exist\n",
      "Casp ID: T1024 \tPDB: 6t1z\n",
      "Structure exists: 'pdb/pdb6t1z.ent' \n",
      "UniProt ID: Q48658\n"
     ]
    }
   ],
   "source": [
    "from lib import DihedralAdherence\n",
    "da = DihedralAdherence(\n",
    "    'T1024', [4,5,6,7], PDBMINE_URL, 'casp_da', mode='kde',\n",
    "    kdews=[0, 0, 0, 1]\n",
    ")"
   ]
  },
  {
   "cell_type": "code",
   "execution_count": 147,
   "metadata": {},
   "outputs": [
    {
     "ename": "FileNotFoundError",
     "evalue": "[Errno 2] No such file or directory: 'casp-predictions/T1024/T1030TS427_4'",
     "output_type": "error",
     "traceback": [
      "\u001b[0;31m---------------------------------------------------------------------------\u001b[0m",
      "\u001b[0;31mFileNotFoundError\u001b[0m                         Traceback (most recent call last)",
      "Cell \u001b[0;32mIn[147], line 82\u001b[0m\n\u001b[1;32m     79\u001b[0m     \u001b[38;5;28;01mreturn\u001b[39;00m np\u001b[38;5;241m.\u001b[39mmean(gdt)\n\u001b[1;32m     81\u001b[0m af_fn \u001b[38;5;241m=\u001b[39m da\u001b[38;5;241m.\u001b[39mpredictions_dir \u001b[38;5;241m/\u001b[39m \u001b[38;5;124m'\u001b[39m\u001b[38;5;124mT1030TS427_4\u001b[39m\u001b[38;5;124m'\u001b[39m\n\u001b[0;32m---> 82\u001b[0m \u001b[38;5;28mprint\u001b[39m(\u001b[43mcompute_rmsd\u001b[49m\u001b[43m(\u001b[49m\u001b[43mda\u001b[49m\u001b[38;5;241;43m.\u001b[39;49m\u001b[43mxray_fn\u001b[49m\u001b[43m,\u001b[49m\u001b[43m \u001b[49m\u001b[43maf_fn\u001b[49m\u001b[43m,\u001b[49m\u001b[43m \u001b[49m\u001b[43mprint_alignment\u001b[49m\u001b[38;5;241;43m=\u001b[39;49m\u001b[38;5;28;43;01mFalse\u001b[39;49;00m\u001b[43m)\u001b[49m)\n\u001b[1;32m     83\u001b[0m compute_gdt(da\u001b[38;5;241m.\u001b[39mxray_fn, af_fn, print_alignment\u001b[38;5;241m=\u001b[39m\u001b[38;5;28;01mFalse\u001b[39;00m)\n",
      "Cell \u001b[0;32mIn[147], line 53\u001b[0m, in \u001b[0;36mcompute_rmsd\u001b[0;34m(fnA, fnB, startA, endA, startB, endB, print_alignment, return_n)\u001b[0m\n\u001b[1;32m     52\u001b[0m \u001b[38;5;28;01mdef\u001b[39;00m \u001b[38;5;21mcompute_rmsd\u001b[39m(fnA, fnB, startA\u001b[38;5;241m=\u001b[39m\u001b[38;5;28;01mNone\u001b[39;00m, endA\u001b[38;5;241m=\u001b[39m\u001b[38;5;28;01mNone\u001b[39;00m, startB\u001b[38;5;241m=\u001b[39m\u001b[38;5;28;01mNone\u001b[39;00m, endB\u001b[38;5;241m=\u001b[39m\u001b[38;5;28;01mNone\u001b[39;00m, print_alignment\u001b[38;5;241m=\u001b[39m\u001b[38;5;28;01mTrue\u001b[39;00m, return_n\u001b[38;5;241m=\u001b[39m\u001b[38;5;28;01mFalse\u001b[39;00m):\n\u001b[0;32m---> 53\u001b[0m     atomsA, atomsB \u001b[38;5;241m=\u001b[39m \u001b[43mget_aligned_atoms\u001b[49m\u001b[43m(\u001b[49m\u001b[43mfnA\u001b[49m\u001b[43m,\u001b[49m\u001b[43m \u001b[49m\u001b[43mfnB\u001b[49m\u001b[43m,\u001b[49m\u001b[43m \u001b[49m\u001b[43mstartA\u001b[49m\u001b[43m,\u001b[49m\u001b[43m \u001b[49m\u001b[43mendA\u001b[49m\u001b[43m,\u001b[49m\u001b[43m \u001b[49m\u001b[43mstartB\u001b[49m\u001b[43m,\u001b[49m\u001b[43m \u001b[49m\u001b[43mendB\u001b[49m\u001b[43m,\u001b[49m\u001b[43m \u001b[49m\u001b[43mprint_alignment\u001b[49m\u001b[43m)\u001b[49m\n\u001b[1;32m     55\u001b[0m     sup \u001b[38;5;241m=\u001b[39m Superimposer()\n\u001b[1;32m     56\u001b[0m     sup\u001b[38;5;241m.\u001b[39mset_atoms(atomsA, atomsB)\n",
      "Cell \u001b[0;32mIn[147], line 13\u001b[0m, in \u001b[0;36mget_aligned_atoms\u001b[0;34m(fnA, fnB, startA, endA, startB, endB, print_alignment)\u001b[0m\n\u001b[1;32m     11\u001b[0m     warnings\u001b[38;5;241m.\u001b[39msimplefilter(\u001b[38;5;124m\"\u001b[39m\u001b[38;5;124mignore\u001b[39m\u001b[38;5;124m\"\u001b[39m)\n\u001b[1;32m     12\u001b[0m     structureA \u001b[38;5;241m=\u001b[39m pdb_parser\u001b[38;5;241m.\u001b[39mget_structure(\u001b[38;5;124m'\u001b[39m\u001b[38;5;124m'\u001b[39m, fnA)\n\u001b[0;32m---> 13\u001b[0m     structureB \u001b[38;5;241m=\u001b[39m \u001b[43mpdb_parser\u001b[49m\u001b[38;5;241;43m.\u001b[39;49m\u001b[43mget_structure\u001b[49m\u001b[43m(\u001b[49m\u001b[38;5;124;43m'\u001b[39;49m\u001b[38;5;124;43m'\u001b[39;49m\u001b[43m,\u001b[49m\u001b[43m \u001b[49m\u001b[43mfnB\u001b[49m\u001b[43m)\u001b[49m\n\u001b[1;32m     15\u001b[0m chainA \u001b[38;5;241m=\u001b[39m \u001b[38;5;28mnext\u001b[39m(\u001b[38;5;28miter\u001b[39m(structureA[\u001b[38;5;241m0\u001b[39m]\u001b[38;5;241m.\u001b[39mget_chains()))\n\u001b[1;32m     16\u001b[0m chainB \u001b[38;5;241m=\u001b[39m \u001b[38;5;28mnext\u001b[39m(\u001b[38;5;28miter\u001b[39m(structureB[\u001b[38;5;241m0\u001b[39m]\u001b[38;5;241m.\u001b[39mget_chains()))\n",
      "File \u001b[0;32m~/protein-dihedral-visualization/.venv/lib/python3.11/site-packages/Bio/PDB/PDBParser.py:89\u001b[0m, in \u001b[0;36mPDBParser.get_structure\u001b[0;34m(self, id, file)\u001b[0m\n\u001b[1;32m     86\u001b[0m \u001b[38;5;66;03m# Make a StructureBuilder instance (pass id of structure as parameter)\u001b[39;00m\n\u001b[1;32m     87\u001b[0m \u001b[38;5;28mself\u001b[39m\u001b[38;5;241m.\u001b[39mstructure_builder\u001b[38;5;241m.\u001b[39minit_structure(\u001b[38;5;28mid\u001b[39m)\n\u001b[0;32m---> 89\u001b[0m \u001b[43m\u001b[49m\u001b[38;5;28;43;01mwith\u001b[39;49;00m\u001b[43m \u001b[49m\u001b[43mas_handle\u001b[49m\u001b[43m(\u001b[49m\u001b[43mfile\u001b[49m\u001b[43m)\u001b[49m\u001b[43m \u001b[49m\u001b[38;5;28;43;01mas\u001b[39;49;00m\u001b[43m \u001b[49m\u001b[43mhandle\u001b[49m\u001b[43m:\u001b[49m\n\u001b[1;32m     90\u001b[0m \u001b[43m    \u001b[49m\u001b[43mlines\u001b[49m\u001b[43m \u001b[49m\u001b[38;5;241;43m=\u001b[39;49m\u001b[43m \u001b[49m\u001b[43mhandle\u001b[49m\u001b[38;5;241;43m.\u001b[39;49m\u001b[43mreadlines\u001b[49m\u001b[43m(\u001b[49m\u001b[43m)\u001b[49m\n\u001b[1;32m     91\u001b[0m \u001b[43m    \u001b[49m\u001b[38;5;28;43;01mif\u001b[39;49;00m\u001b[43m \u001b[49m\u001b[38;5;129;43;01mnot\u001b[39;49;00m\u001b[43m \u001b[49m\u001b[43mlines\u001b[49m\u001b[43m:\u001b[49m\n",
      "File \u001b[0;32m/usr/lib/python3.11/contextlib.py:137\u001b[0m, in \u001b[0;36m_GeneratorContextManager.__enter__\u001b[0;34m(self)\u001b[0m\n\u001b[1;32m    135\u001b[0m \u001b[38;5;28;01mdel\u001b[39;00m \u001b[38;5;28mself\u001b[39m\u001b[38;5;241m.\u001b[39margs, \u001b[38;5;28mself\u001b[39m\u001b[38;5;241m.\u001b[39mkwds, \u001b[38;5;28mself\u001b[39m\u001b[38;5;241m.\u001b[39mfunc\n\u001b[1;32m    136\u001b[0m \u001b[38;5;28;01mtry\u001b[39;00m:\n\u001b[0;32m--> 137\u001b[0m     \u001b[38;5;28;01mreturn\u001b[39;00m \u001b[38;5;28mnext\u001b[39m(\u001b[38;5;28mself\u001b[39m\u001b[38;5;241m.\u001b[39mgen)\n\u001b[1;32m    138\u001b[0m \u001b[38;5;28;01mexcept\u001b[39;00m \u001b[38;5;167;01mStopIteration\u001b[39;00m:\n\u001b[1;32m    139\u001b[0m     \u001b[38;5;28;01mraise\u001b[39;00m \u001b[38;5;167;01mRuntimeError\u001b[39;00m(\u001b[38;5;124m\"\u001b[39m\u001b[38;5;124mgenerator didn\u001b[39m\u001b[38;5;124m'\u001b[39m\u001b[38;5;124mt yield\u001b[39m\u001b[38;5;124m\"\u001b[39m) \u001b[38;5;28;01mfrom\u001b[39;00m \u001b[38;5;28;01mNone\u001b[39;00m\n",
      "File \u001b[0;32m~/protein-dihedral-visualization/.venv/lib/python3.11/site-packages/Bio/File.py:72\u001b[0m, in \u001b[0;36mas_handle\u001b[0;34m(handleish, mode, **kwargs)\u001b[0m\n\u001b[1;32m     30\u001b[0m \u001b[38;5;250m\u001b[39m\u001b[38;5;124mr\u001b[39m\u001b[38;5;124;03m\"\"\"Context manager to ensure we are using a handle.\u001b[39;00m\n\u001b[1;32m     31\u001b[0m \n\u001b[1;32m     32\u001b[0m \u001b[38;5;124;03mContext manager for arguments that can be passed to SeqIO and AlignIO read, write,\u001b[39;00m\n\u001b[0;32m   (...)\u001b[0m\n\u001b[1;32m     69\u001b[0m \n\u001b[1;32m     70\u001b[0m \u001b[38;5;124;03m\"\"\"\u001b[39;00m\n\u001b[1;32m     71\u001b[0m \u001b[38;5;28;01mtry\u001b[39;00m:\n\u001b[0;32m---> 72\u001b[0m     \u001b[38;5;28;01mwith\u001b[39;00m \u001b[38;5;28;43mopen\u001b[39;49m\u001b[43m(\u001b[49m\u001b[43mhandleish\u001b[49m\u001b[43m,\u001b[49m\u001b[43m \u001b[49m\u001b[43mmode\u001b[49m\u001b[43m,\u001b[49m\u001b[43m \u001b[49m\u001b[38;5;241;43m*\u001b[39;49m\u001b[38;5;241;43m*\u001b[39;49m\u001b[43mkwargs\u001b[49m\u001b[43m)\u001b[49m \u001b[38;5;28;01mas\u001b[39;00m fp:\n\u001b[1;32m     73\u001b[0m         \u001b[38;5;28;01myield\u001b[39;00m fp\n\u001b[1;32m     74\u001b[0m \u001b[38;5;28;01mexcept\u001b[39;00m \u001b[38;5;167;01mTypeError\u001b[39;00m:\n",
      "\u001b[0;31mFileNotFoundError\u001b[0m: [Errno 2] No such file or directory: 'casp-predictions/T1024/T1030TS427_4'"
     ]
    }
   ],
   "source": [
    "from Bio.PDB import Superimposer, PDBParser\n",
    "import warnings\n",
    "from Bio.Align import PairwiseAligner\n",
    "from lib.constants import AMINO_ACID_CODES\n",
    "import numpy as np\n",
    "\n",
    "def get_aligned_atoms(fnA, fnB, startA=None, endA=None, startB=None, endB=None, print_alignment=True):\n",
    "    # Compute RMSD between two structures\n",
    "    pdb_parser = PDBParser()\n",
    "    with warnings.catch_warnings():\n",
    "        warnings.simplefilter(\"ignore\")\n",
    "        structureA = pdb_parser.get_structure('', fnA)\n",
    "        structureB = pdb_parser.get_structure('', fnB)\n",
    "    \n",
    "    chainA = next(iter(structureA[0].get_chains()))\n",
    "    chainB = next(iter(structureB[0].get_chains()))\n",
    "\n",
    "    startA = startA or 0\n",
    "    endA = endA or len(chainA)\n",
    "    startB = startB or 0\n",
    "    endB = endB or len(chainB)\n",
    "\n",
    "    residuesA = ''.join([AMINO_ACID_CODES.get(r.resname, 'X') for r in chainA.get_residues()])[startA:endA]\n",
    "    residuesB = ''.join([AMINO_ACID_CODES.get(r.resname, 'X') for r in chainB.get_residues()])[startB:endB]\n",
    "    aligner = PairwiseAligner()\n",
    "    aligner.mode = 'global'\n",
    "    alignments =  aligner.align(residuesA, residuesB)\n",
    "    if print_alignment:\n",
    "        print(alignments[0])\n",
    "\n",
    "    atomsA = []\n",
    "    atomsB = []\n",
    "    residuesA = list(chainA.get_residues())[startA:endA]\n",
    "    residuesB = list(chainB.get_residues())[startB:endB]\n",
    "    for i,((t1,t2),(q1,q2)) in enumerate(zip(*alignments[0].aligned)):\n",
    "        for j, (residueA, residueB) in enumerate(zip(residuesA[t1:t2], residuesB[q1:q2])):\n",
    "            if residueA.resname != residueB.resname:\n",
    "                print(f'WARNING: Residues {residueA.resname} and {residueB.resname} don\\'t match at position: {j}')\n",
    "            try:\n",
    "                atomA = residueA['CA']\n",
    "                atomB = residueB['CA']\n",
    "            except KeyError:\n",
    "                print(f'WARNING: Atom \"CA\" missing at position: {i}')\n",
    "                continue\n",
    "            if atomB is None or atomA is None:\n",
    "                print(f'WARNING: Atom \"CA\" missing at position: {i}')\n",
    "                continue\n",
    "            atomsA.append(atomA)\n",
    "            atomsB.append(atomB)\n",
    "    return atomsA, atomsB\n",
    "\n",
    "def compute_rmsd(fnA, fnB, startA=None, endA=None, startB=None, endB=None, print_alignment=True, return_n=False):\n",
    "    atomsA, atomsB = get_aligned_atoms(fnA, fnB, startA, endA, startB, endB, print_alignment)\n",
    "\n",
    "    sup = Superimposer()\n",
    "    sup.set_atoms(atomsA, atomsB)\n",
    "    sup.apply(atomsB)\n",
    "    if return_n:\n",
    "        atomsA = np.array([a.coord for a in atomsA])\n",
    "        atomsB = np.array([a.coord for a in atomsB])\n",
    "        dist = np.sum((atomsA - atomsB)**2)\n",
    "        return sup.rms, len(atomsA), dist\n",
    "    return sup.rms\n",
    "\n",
    "def compute_gdt(fnA, fnB, startA=None, endA=None, startB=None, endB=None, print_alignment=True, return_n=False, thresholds=[1,2,4,8]):\n",
    "    atomsA, atomsB = get_aligned_atoms(fnA, fnB, startA, endA, startB, endB, print_alignment)\n",
    "\n",
    "    sup = Superimposer()\n",
    "    sup.set_atoms(atomsA, atomsB)\n",
    "    sup.apply(atomsB)\n",
    "    atomsA = np.array([a.coord for a in atomsA])\n",
    "    atomsB = np.array([a.coord for a in atomsB])\n",
    "    n = atomsA.shape[0]\n",
    "\n",
    "    dist = np.linalg.norm(atomsA - atomsB, axis=1)\n",
    "    gdt = []\n",
    "    for t in thresholds:\n",
    "        gdt.append((dist <= t).sum() / n)\n",
    "    return np.mean(gdt)\n",
    "\n",
    "af_fn = da.predictions_dir / 'T1030TS427_4'\n",
    "print(compute_rmsd(da.xray_fn, af_fn, print_alignment=False))\n",
    "compute_gdt(da.xray_fn, af_fn, print_alignment=False)"
   ]
  },
  {
   "cell_type": "code",
   "execution_count": 156,
   "metadata": {},
   "outputs": [],
   "source": [
    "gdts = []\n",
    "rmsds = []\n",
    "for i,row in da.results.iterrows():\n",
    "    fn = row['Model']\n",
    "    gdt = compute_gdt(da.xray_fn, da.predictions_dir / fn, print_alignment=False)\n",
    "    rmsd = compute_rmsd(da.xray_fn, da.predictions_dir / fn, print_alignment=False)\n",
    "    gdts.append(gdt)\n",
    "    rmsds.append(rmsd)\n",
    "da.results['GDT2'] = gdts\n",
    "da.results['RMSD2'] = rmsds\n",
    "da.results['GDT2'] = da.results['GDT2'] * 100"
   ]
  },
  {
   "cell_type": "code",
   "execution_count": 158,
   "metadata": {},
   "outputs": [
    {
     "data": {
      "text/plain": [
       "<Axes: >"
      ]
     },
     "execution_count": 158,
     "metadata": {},
     "output_type": "execute_result"
    },
    {
     "data": {
      "image/png": "[encoded data removed]",
      "text/plain": [
       "<Figure size 640x480 with 1 Axes>"
      ]
     },
     "metadata": {},
     "output_type": "display_data"
    }
   ],
   "source": [
    "# da.results[['GDT_TS', 'GDT2']].plot()\n",
    "da.results[['RMS_CA', 'RMSD2']].sort_values('RMS_CA', ascending=False).reset_index(drop=True).plot()"
   ]
  },
  {
   "cell_type": "code",
   "execution_count": 154,
   "metadata": {},
   "outputs": [
    {
     "data": {
      "text/plain": [
       "<Axes: >"
      ]
     },
     "execution_count": 154,
     "metadata": {},
     "output_type": "execute_result"
    },
    {
     "data": {
      "image/png": "[encoded data removed]",
      "text/plain": [
       "<Figure size 640x480 with 1 Axes>"
      ]
     },
     "metadata": {},
     "output_type": "display_data"
    }
   ],
   "source": [
    "da.results[['GDT_TS', 'GDT2']].sort_values('GDT2', ascending=False).reset_index(drop=True).plot()"
   ]
  }
 ],
 "metadata": {
  "kernelspec": {
   "display_name": ".venv",
   "language": "python",
   "name": "python3"
  },
  "language_info": {
   "codemirror_mode": {
    "name": "ipython",
    "version": 3
   },
   "file_extension": ".py",
   "mimetype": "text/x-python",
   "name": "python",
   "nbconvert_exporter": "python",
   "pygments_lexer": "ipython3",
   "version": "3.11.10"
  }
 },
 "nbformat": 4,
 "nbformat_minor": 2
}
