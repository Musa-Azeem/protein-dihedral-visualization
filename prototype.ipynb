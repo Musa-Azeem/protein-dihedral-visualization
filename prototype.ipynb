{
 "cells": [
  {
   "cell_type": "code",
   "execution_count": null,
   "metadata": {},
   "outputs": [],
   "source": [
    "from Bio import SeqIO\n",
    "for record in SeqIO.parse(\"pdb/6dwb.pdb\", \"pdb-seqres\"):\n",
    "    print(\"Record id %s, chain %s\" % (record.id, record.annotations[\"chain\"]))\n",
    "    print(record.dbxrefs)\n",
    "len(record.seq)"
   ]
  },
  {
   "cell_type": "code",
   "execution_count": null,
   "metadata": {},
   "outputs": [],
   "source": [
    "from Bio.PDB.PDBParser import PDBParser\n",
    "from Bio.PDB.Chain import Chain\n",
    "from Bio.PDB.internal_coords import *\n",
    "from Bio.PDB.PICIO import write_PIC, read_PIC, read_PIC_seq\n",
    "from Bio.PDB.ic_rebuild import write_PDB, IC_duplicate, structure_rebuild_test\n",
    "from Bio.PDB.SCADIO import write_SCAD\n",
    "from Bio.Seq import Seq\n",
    "from Bio.SeqRecord import SeqRecord\n",
    "from Bio.PDB.PDBIO import PDBIO\n",
    "import matplotlib.pyplot as plt\n",
    "import numpy as np\n",
    "import pandas as pd\n",
    "from pathlib import Path\n",
    "from Bio.PDB import PDBList\n",
    "\n",
    "protein_ids = ['7B3Y', '8C9N', '7LYJ', '6YUN', '7QCT', '6XRZ', '8UYS', '8FU7']\n",
    "\n",
    "phi_psi = pd.DataFrame(columns=['seq','phi', 'psi', 'chain', 'pos_in_chain', 'protein_id'])\n",
    "\n",
    "for protein_id in protein_ids:\n",
    "    parser = PDBParser()\n",
    "\n",
    "    filename = f\"pdb/{protein_id}.pdb\"\n",
    "    filename_ent = f\"pdb/pdb{str(protein_id).lower()}.ent\"\n",
    "    if Path(filename).is_file():\n",
    "        protein = parser.get_structure(protein_id, filename)\n",
    "    elif Path(filename_ent).is_file():\n",
    "        protein = parser.get_structure(protein_id, filename_ent)\n",
    "    else:\n",
    "        print(f\"Downloading {protein_id}\")\n",
    "        pdbl = PDBList()\n",
    "        filename = pdbl.retrieve_pdb_file(protein_id, pdir='pdb', file_format='pdb', obsolete=False)\n",
    "        if Path(filename).is_file():\n",
    "            protein = parser.get_structure(protein_id, filename)\n",
    "\n",
    "    for chain in list(protein.get_chains()):\n",
    "        chain = protein[0][chain.id]\n",
    "\n",
    "        chain.atom_to_internal_coordinates(verbose=True)\n",
    "        resultDict = structure_rebuild_test(chain)\n",
    "        if not resultDict['pass']:\n",
    "            print(f\"Failed {protein_id} {chain.id}\")\n",
    "            continue\n",
    "\n",
    "        residues = list(chain.get_residues())\n",
    "        for i in range(1,len(residues)-1):\n",
    "            key = f'{residues[i-1].resname}, {residues[i].resname}, {residues[i+1].resname}'\n",
    "            if not residues[i].internal_coord:\n",
    "                psi,phi = np.nan, np.nan\n",
    "            else:\n",
    "                psi = residues[i].internal_coord.get_angle(\"psi\")\n",
    "                phi = residues[i].internal_coord.get_angle(\"phi\")\n",
    "            phi_psi.loc[len(phi_psi)] = [key, phi, psi, chain.id, residues[i].get_full_id()[3][1], protein.id]"
   ]
  },
  {
   "cell_type": "code",
   "execution_count": null,
   "metadata": {},
   "outputs": [],
   "source": [
    "phi_psi[~phi_psi.isna().any(axis=1)]\n",
    "# phi_psi.protein_id.unique()"
   ]
  },
  {
   "cell_type": "code",
   "execution_count": null,
   "metadata": {},
   "outputs": [],
   "source": [
    "phi_psi.groupby('seq').count().sort_values('phi', ascending=False)"
   ]
  },
  {
   "cell_type": "code",
   "execution_count": null,
   "metadata": {},
   "outputs": [],
   "source": [
    "import seaborn as sns\n",
    "\n",
    "key = 'SER, ALA, LEU'\n",
    "x = phi_psi[phi_psi.seq == key].phi\n",
    "y = phi_psi[phi_psi.seq == key].psi\n",
    "df = phi_psi.loc[phi_psi.seq==key,['phi','psi']]\n",
    "\n",
    "# plt.scatter(x, y, marker='.')\n",
    "fig, axes = plt.subplots(2,1, sharex=True)\n",
    "sns.kdeplot(\n",
    "    data=df, \n",
    "    x='phi', \n",
    "    y='psi', \n",
    "    # cmap=\"Blues\", \n",
    "    # fill=True, \n",
    "    # thresh=0.05,\n",
    "    ax=axes[0]\n",
    ")\n",
    "axes[0].set_ylabel('psi')\n",
    "\n",
    "axes[1].scatter(x, y, marker='.')\n",
    "axes[1].set_xlabel('phi')\n",
    "axes[1].set_ylabel('psi')\n",
    "\n",
    "plt.show()"
   ]
  },
  {
   "cell_type": "markdown",
   "metadata": {},
   "source": [
    "# PDB Mine API"
   ]
  },
  {
   "cell_type": "code",
   "execution_count": null,
   "metadata": {},
   "outputs": [],
   "source": [
    "# Read dotenv\n",
    "from dotenv import load_dotenv\n",
    "import os\n",
    "import requests\n",
    "import time\n",
    "load_dotenv()\n",
    "PDBMINE_URL = os.getenv(\"PDBMINE_URL\")\n",
    "\n",
    "# response = requests.get(PDBMINE_URL + f'/v1/api/protein/7B3Y', verify=False)\n",
    "# assert(response.ok)\n",
    "# protein_data = response.json()\n",
    "\n",
    "# - residue_chain is some string of amino acids - any length\n",
    "# - window_size is length sliding window that will create windows of amino\n",
    "#   acids to search for. Eg. AKYVCKICGYIYDEDAGDPDNGVSPG with window size 7 \n",
    "#   will create and search for the following windows:\n",
    "#    - AKYVCKI, KYVCKIC, YVCKICG, VCKICGY, ...\n",
    "# - code_length is the length of the amino acid codes used in the residue_chain (1 or 3)\n",
    "residue_chain = \"AKYVCKICGYIYDEDAGDPDNGVSPG\"\n",
    "window_size = 7\n",
    "code_length = 1\n",
    "response = requests.post(\n",
    "    PDBMINE_URL + '/v1/api/query',\n",
    "    json={\n",
    "        \"residueChain\": residue_chain,\n",
    "        \"codeLength\": code_length,\n",
    "        \"windowSize\": window_size\n",
    "    }\n",
    ")\n",
    "assert(response.ok)\n",
    "query_id = response.json().get('queryID')\n",
    "assert(query_id)"
   ]
  },
  {
   "cell_type": "code",
   "execution_count": null,
   "metadata": {},
   "outputs": [],
   "source": [
    "# wait for the query to finish\n",
    "while True:\n",
    "    response = requests.get(PDBMINE_URL + f'/v1/api/query/{query_id}')\n",
    "    if response.ok:\n",
    "        break\n",
    "    time.sleep(1)\n",
    "\n",
    "matches = response.json()['frames']"
   ]
  }
 ],
 "metadata": {
  "kernelspec": {
   "display_name": "Python 3",
   "language": "python",
   "name": "python3"
  },
  "language_info": {
   "codemirror_mode": {
    "name": "ipython",
    "version": 3
   },
   "file_extension": ".py",
   "mimetype": "text/x-python",
   "name": "python",
   "nbconvert_exporter": "python",
   "pygments_lexer": "ipython3",
   "version": "3.10.12"
  }
 },
 "nbformat": 4,
 "nbformat_minor": 2
}
