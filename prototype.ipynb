{
 "cells": [
  {
   "cell_type": "code",
   "execution_count": 56,
   "metadata": {},
   "outputs": [
    {
     "name": "stdout",
     "output_type": "stream",
     "text": [
      "Record id 2M7D:A, chain A\n",
      "ID: 2M7D:A\n",
      "Name: 2M7D:A\n",
      "Description: PDB:2M7D 2M7D\n",
      "Database cross-references: PDB:2M7D, PDB:2M7D\n",
      "Number of features: 0\n",
      "/chain=A\n",
      "/molecule_type=protein\n",
      "Seq('DAYAQWLADXGWASXRPPPS')\n"
     ]
    },
    {
     "data": {
      "text/plain": [
       "20"
      ]
     },
     "execution_count": 56,
     "metadata": {},
     "output_type": "execute_result"
    }
   ],
   "source": [
    "from Bio import SeqIO\n",
    "for record in SeqIO.parse(\"pdb/2m7d.pdb\", \"pdb-seqres\"):\n",
    "    print(\"Record id %s, chain %s\" % (record.id, record.annotations[\"chain\"]))\n",
    "    print(record)\n",
    "len(record.seq)"
   ]
  },
  {
   "cell_type": "code",
   "execution_count": 46,
   "metadata": {},
   "outputs": [],
   "source": [
    "amino_acid_codes = {\n",
    "    \"ALA\": \"A\",\n",
    "    \"ARG\": \"R\",\n",
    "    \"ASN\": \"N\",\n",
    "    \"ASP\": \"D\",\n",
    "    \"CYS\": \"C\",\n",
    "    \"GLN\": \"Q\",\n",
    "    \"GLU\": \"E\",\n",
    "    \"GLY\": \"G\",\n",
    "    \"HIS\": \"H\",\n",
    "    \"ILE\": \"I\",\n",
    "    \"LEU\": \"L\",\n",
    "    \"LYS\": \"K\",\n",
    "    \"MET\": \"M\",\n",
    "    \"PHE\": \"F\",\n",
    "    \"PRO\": \"P\",\n",
    "    \"SER\": \"S\",\n",
    "    \"THR\": \"T\",\n",
    "    \"TRP\": \"W\",\n",
    "    \"TYR\": \"Y\",\n",
    "    \"VAL\": \"V\"\n",
    "}"
   ]
  },
  {
   "cell_type": "code",
   "execution_count": 65,
   "metadata": {},
   "outputs": [
    {
     "name": "stdout",
     "output_type": "stream",
     "text": [
      "DAYAQWL\n",
      "AYAQWLA\n",
      "YAQWLAD\n",
      "AQWLADX\n",
      "QWLADXG\n",
      "WLADXGW\n",
      "LADXGWA\n",
      "ADXGWAS\n",
      "DXGWASX\n",
      "XGWASXR\n",
      "GWASXRP\n",
      "WASXRPP\n",
      "ASXRPPP\n"
     ]
    },
    {
     "data": {
      "text/plain": [
       "dict_keys(['000_DAYAQWL', '001_AYAQWLA', '002_YAQWLAD', '003_AQWLADX', '004_QWLADXG', '005_WLADXGW', '006_LADXGWA', '007_ADXGWAS', '008_DXGWASX', '009_XGWASXR', '010_GWASXRP', '011_WASXRPP', '012_ASXRPPP', '013_SXRPPPS'])"
      ]
     },
     "execution_count": 65,
     "metadata": {},
     "output_type": "execute_result"
    }
   ],
   "source": [
    "window_size = 7\n",
    "residues = list(chain.get_residues())\n",
    "for i in range(len(residues) - window_size):\n",
    "    print(''.join([amino_acid_codes.get(r.resname, 'X') for r in residues[i:i+window_size]]))\n",
    "matches.keys()"
   ]
  },
  {
   "cell_type": "code",
   "execution_count": 75,
   "metadata": {},
   "outputs": [
    {
     "name": "stdout",
     "output_type": "stream",
     "text": [
      "chain break at GLY  11  due to MaxPeptideBond (1.4 angstroms) exceeded\n",
      "chain break at ARG  16  due to MaxPeptideBond (1.4 angstroms) exceeded\n",
      "Duplicate chain found 2m7d A\n",
      "Duplicate chain found 2m7d A\n",
      "Duplicate chain found 2m7d A\n",
      "Duplicate chain found 2m7d A\n",
      "Duplicate chain found 2m7d A\n",
      "Duplicate chain found 2m7d A\n",
      "Duplicate chain found 2m7d A\n",
      "Duplicate chain found 2m7d A\n",
      "Duplicate chain found 2m7d A\n",
      "Duplicate chain found 2m7d A\n",
      "Duplicate chain found 2m7d A\n",
      "Duplicate chain found 2m7d A\n",
      "Duplicate chain found 2m7d A\n",
      "Duplicate chain found 2m7d A\n",
      "Duplicate chain found 2m7d A\n",
      "Duplicate chain found 2m7d A\n",
      "Duplicate chain found 2m7d A\n",
      "Duplicate chain found 2m7d A\n",
      "Duplicate chain found 2m7d A\n",
      "Duplicate chain found 2m7d A\n",
      "Duplicate chain found 2m7d A\n",
      "Duplicate chain found 2m7d A\n",
      "Duplicate chain found 2m7d A\n",
      "Duplicate chain found 2m7d A\n",
      "Duplicate chain found 2m7d A\n",
      "Duplicate chain found 2m7d A\n",
      "Duplicate chain found 2m7d A\n",
      "Duplicate chain found 2m7d A\n",
      "Duplicate chain found 2m7d A\n"
     ]
    },
    {
     "name": "stderr",
     "output_type": "stream",
     "text": [
      "/tmp/ipykernel_29158/3448685127.py:69: FutureWarning: The behavior of DataFrame concatenation with empty or all-NA entries is deprecated. In a future version, this will no longer exclude empty or all-NA columns when determining the result dtypes. To retain the old behavior, exclude the relevant entries before the concat operation.\n",
      "  phi_psi.loc[len(phi_psi)] = [key, phi, psi, chain.id, residues[i].get_full_id()[3][1], protein.id]\n",
      "/tmp/ipykernel_29158/3448685127.py:69: FutureWarning: The behavior of DataFrame concatenation with empty or all-NA entries is deprecated. In a future version, this will no longer exclude empty or all-NA columns when determining the result dtypes. To retain the old behavior, exclude the relevant entries before the concat operation.\n",
      "  phi_psi.loc[len(phi_psi)] = [key, phi, psi, chain.id, residues[i].get_full_id()[3][1], protein.id]\n",
      "/tmp/ipykernel_29158/3448685127.py:69: FutureWarning: The behavior of DataFrame concatenation with empty or all-NA entries is deprecated. In a future version, this will no longer exclude empty or all-NA columns when determining the result dtypes. To retain the old behavior, exclude the relevant entries before the concat operation.\n",
      "  phi_psi.loc[len(phi_psi)] = [key, phi, psi, chain.id, residues[i].get_full_id()[3][1], protein.id]\n"
     ]
    }
   ],
   "source": [
    "from Bio.PDB.PDBParser import PDBParser\n",
    "from Bio.PDB.Chain import Chain\n",
    "from Bio.PDB.internal_coords import *\n",
    "from Bio.PDB.PICIO import write_PIC, read_PIC, read_PIC_seq\n",
    "from Bio.PDB.ic_rebuild import write_PDB, IC_duplicate, structure_rebuild_test\n",
    "from Bio.PDB.SCADIO import write_SCAD\n",
    "from Bio.Seq import Seq\n",
    "from Bio.SeqRecord import SeqRecord\n",
    "from Bio.PDB.PDBIO import PDBIO\n",
    "import matplotlib.pyplot as plt\n",
    "import numpy as np\n",
    "import pandas as pd\n",
    "from pathlib import Path\n",
    "from Bio.PDB import PDBList\n",
    "\n",
    "window_size = 7\n",
    "\n",
    "protein_ids = ['2m7d']#['7B3Y', '8C9N', '7LYJ', '6YUN', '7QCT', '6XRZ', '8UYS', '8FU7']\n",
    "proteins = []\n",
    "\n",
    "phi_psi = pd.DataFrame(columns=['seq','phi', 'psi', 'chain', 'pos_in_chain', 'protein_id'])\n",
    "\n",
    "for protein_id in protein_ids:\n",
    "    parser = PDBParser()\n",
    "\n",
    "    filename = f\"pdb/{protein_id}.pdb\"\n",
    "    filename_ent = f\"pdb/pdb{str(protein_id).lower()}.ent\"\n",
    "    if Path(filename).is_file():\n",
    "        protein = parser.get_structure(protein_id, filename)\n",
    "    elif Path(filename_ent).is_file():\n",
    "        protein = parser.get_structure(protein_id, filename_ent)\n",
    "    else:\n",
    "        print(f\"Downloading {protein_id}\")\n",
    "        pdbl = PDBList()\n",
    "        filename = pdbl.retrieve_pdb_file(protein_id, pdir='pdb', file_format='pdb', obsolete=False)\n",
    "        if Path(filename).is_file():\n",
    "            protein = parser.get_structure(protein_id, filename)\n",
    "\n",
    "    proteins.append(protein)\n",
    "    for chain in list(protein.get_chains()):\n",
    "        chain = protein[0][chain.id]\n",
    "        if chain.id in phi_psi.chain.unique():\n",
    "            print(f'Duplicate chain found {protein_id} {chain.id}')\n",
    "            continue\n",
    "\n",
    "        chain.atom_to_internal_coordinates(verbose=True)\n",
    "        resultDict = structure_rebuild_test(chain)\n",
    "        if not resultDict['pass']:\n",
    "            print(f\"Failed {protein_id} {chain.id}\")\n",
    "            continue\n",
    "\n",
    "        residues = list(chain.get_residues())\n",
    "        # for i in range(1,len(residues)-1):\n",
    "        #     key = f'{residues[i-1].resname}, {residues[i].resname}, {residues[i+1].resname}'\n",
    "        #     if not residues[i].internal_coord:\n",
    "        #         psi,phi = np.nan, np.nan\n",
    "        #     else:\n",
    "        #         psi = residues[i].internal_coord.get_angle(\"psi\")\n",
    "        #         phi = residues[i].internal_coord.get_angle(\"phi\")\n",
    "        #     phi_psi.loc[len(phi_psi)] = [key, phi, psi, chain.id, residues[i].get_full_id()[3][1], protein.id]\n",
    "        for i in range(len(residues) - window_size):\n",
    "            # Convert 3 char codes to 1 char codes\n",
    "            key = ''.join([amino_acid_codes.get(r.resname, 'X') for r in residues[i:i+window_size]])\n",
    "            if not residues[i].internal_coord:\n",
    "                psi,phi = np.nan, np.nan\n",
    "            else:\n",
    "                psi = residues[i].internal_coord.get_angle(\"psi\")\n",
    "                phi = residues[i].internal_coord.get_angle(\"phi\")\n",
    "            phi_psi.loc[len(phi_psi)] = [key, phi, psi, chain.id, residues[i].get_full_id()[3][1], protein.id]\n"
   ]
  },
  {
   "cell_type": "code",
   "execution_count": 76,
   "metadata": {},
   "outputs": [
    {
     "data": {
      "text/html": [
       "<div>\n",
       "<style scoped>\n",
       "    .dataframe tbody tr th:only-of-type {\n",
       "        vertical-align: middle;\n",
       "    }\n",
       "\n",
       "    .dataframe tbody tr th {\n",
       "        vertical-align: top;\n",
       "    }\n",
       "\n",
       "    .dataframe thead th {\n",
       "        text-align: right;\n",
       "    }\n",
       "</style>\n",
       "<table border=\"1\" class=\"dataframe\">\n",
       "  <thead>\n",
       "    <tr style=\"text-align: right;\">\n",
       "      <th></th>\n",
       "      <th>seq</th>\n",
       "      <th>phi</th>\n",
       "      <th>psi</th>\n",
       "      <th>chain</th>\n",
       "      <th>pos_in_chain</th>\n",
       "      <th>protein_id</th>\n",
       "    </tr>\n",
       "  </thead>\n",
       "  <tbody>\n",
       "    <tr>\n",
       "      <th>1</th>\n",
       "      <td>AYAQWLA</td>\n",
       "      <td>-137.806708</td>\n",
       "      <td>-69.423580</td>\n",
       "      <td>A</td>\n",
       "      <td>2</td>\n",
       "      <td>2m7d</td>\n",
       "    </tr>\n",
       "    <tr>\n",
       "      <th>2</th>\n",
       "      <td>YAQWLAD</td>\n",
       "      <td>-69.287174</td>\n",
       "      <td>-51.337086</td>\n",
       "      <td>A</td>\n",
       "      <td>3</td>\n",
       "      <td>2m7d</td>\n",
       "    </tr>\n",
       "    <tr>\n",
       "      <th>3</th>\n",
       "      <td>AQWLADX</td>\n",
       "      <td>-65.008796</td>\n",
       "      <td>-33.934058</td>\n",
       "      <td>A</td>\n",
       "      <td>4</td>\n",
       "      <td>2m7d</td>\n",
       "    </tr>\n",
       "    <tr>\n",
       "      <th>4</th>\n",
       "      <td>QWLADXG</td>\n",
       "      <td>-68.267007</td>\n",
       "      <td>-39.232216</td>\n",
       "      <td>A</td>\n",
       "      <td>5</td>\n",
       "      <td>2m7d</td>\n",
       "    </tr>\n",
       "    <tr>\n",
       "      <th>5</th>\n",
       "      <td>WLADXGW</td>\n",
       "      <td>-60.739226</td>\n",
       "      <td>-49.195573</td>\n",
       "      <td>A</td>\n",
       "      <td>6</td>\n",
       "      <td>2m7d</td>\n",
       "    </tr>\n",
       "    <tr>\n",
       "      <th>6</th>\n",
       "      <td>LADXGWA</td>\n",
       "      <td>-64.188400</td>\n",
       "      <td>-36.421660</td>\n",
       "      <td>A</td>\n",
       "      <td>7</td>\n",
       "      <td>2m7d</td>\n",
       "    </tr>\n",
       "    <tr>\n",
       "      <th>7</th>\n",
       "      <td>ADXGWAS</td>\n",
       "      <td>-75.684824</td>\n",
       "      <td>-18.546919</td>\n",
       "      <td>A</td>\n",
       "      <td>8</td>\n",
       "      <td>2m7d</td>\n",
       "    </tr>\n",
       "    <tr>\n",
       "      <th>11</th>\n",
       "      <td>WASXRPP</td>\n",
       "      <td>-97.857850</td>\n",
       "      <td>13.048636</td>\n",
       "      <td>A</td>\n",
       "      <td>12</td>\n",
       "      <td>2m7d</td>\n",
       "    </tr>\n",
       "    <tr>\n",
       "      <th>12</th>\n",
       "      <td>ASXRPPP</td>\n",
       "      <td>-87.806253</td>\n",
       "      <td>-31.987400</td>\n",
       "      <td>A</td>\n",
       "      <td>13</td>\n",
       "      <td>2m7d</td>\n",
       "    </tr>\n",
       "  </tbody>\n",
       "</table>\n",
       "</div>"
      ],
      "text/plain": [
       "        seq         phi        psi chain  pos_in_chain protein_id\n",
       "1   AYAQWLA -137.806708 -69.423580     A             2       2m7d\n",
       "2   YAQWLAD  -69.287174 -51.337086     A             3       2m7d\n",
       "3   AQWLADX  -65.008796 -33.934058     A             4       2m7d\n",
       "4   QWLADXG  -68.267007 -39.232216     A             5       2m7d\n",
       "5   WLADXGW  -60.739226 -49.195573     A             6       2m7d\n",
       "6   LADXGWA  -64.188400 -36.421660     A             7       2m7d\n",
       "7   ADXGWAS  -75.684824 -18.546919     A             8       2m7d\n",
       "11  WASXRPP  -97.857850  13.048636     A            12       2m7d\n",
       "12  ASXRPPP  -87.806253 -31.987400     A            13       2m7d"
      ]
     },
     "execution_count": 76,
     "metadata": {},
     "output_type": "execute_result"
    }
   ],
   "source": [
    "phi_psi = phi_psi[~phi_psi.isna().any(axis=1)]\n",
    "phi_psi"
   ]
  },
  {
   "cell_type": "code",
   "execution_count": 61,
   "metadata": {},
   "outputs": [
    {
     "data": {
      "text/html": [
       "<div>\n",
       "<style scoped>\n",
       "    .dataframe tbody tr th:only-of-type {\n",
       "        vertical-align: middle;\n",
       "    }\n",
       "\n",
       "    .dataframe tbody tr th {\n",
       "        vertical-align: top;\n",
       "    }\n",
       "\n",
       "    .dataframe thead th {\n",
       "        text-align: right;\n",
       "    }\n",
       "</style>\n",
       "<table border=\"1\" class=\"dataframe\">\n",
       "  <thead>\n",
       "    <tr style=\"text-align: right;\">\n",
       "      <th></th>\n",
       "      <th>phi</th>\n",
       "      <th>psi</th>\n",
       "      <th>chain</th>\n",
       "      <th>pos_in_chain</th>\n",
       "      <th>protein_id</th>\n",
       "    </tr>\n",
       "    <tr>\n",
       "      <th>seq</th>\n",
       "      <th></th>\n",
       "      <th></th>\n",
       "      <th></th>\n",
       "      <th></th>\n",
       "      <th></th>\n",
       "    </tr>\n",
       "  </thead>\n",
       "  <tbody>\n",
       "    <tr>\n",
       "      <th>ALA, GLN, TRP</th>\n",
       "      <td>1</td>\n",
       "      <td>1</td>\n",
       "      <td>1</td>\n",
       "      <td>1</td>\n",
       "      <td>1</td>\n",
       "    </tr>\n",
       "    <tr>\n",
       "      <th>ALA, TYR, ALA</th>\n",
       "      <td>1</td>\n",
       "      <td>1</td>\n",
       "      <td>1</td>\n",
       "      <td>1</td>\n",
       "      <td>1</td>\n",
       "    </tr>\n",
       "    <tr>\n",
       "      <th>ARG, PRO, PRO</th>\n",
       "      <td>1</td>\n",
       "      <td>1</td>\n",
       "      <td>1</td>\n",
       "      <td>1</td>\n",
       "      <td>1</td>\n",
       "    </tr>\n",
       "    <tr>\n",
       "      <th>ASP, ALA, TYR</th>\n",
       "      <td>1</td>\n",
       "      <td>1</td>\n",
       "      <td>1</td>\n",
       "      <td>1</td>\n",
       "      <td>1</td>\n",
       "    </tr>\n",
       "    <tr>\n",
       "      <th>GLN, TRP, LEU</th>\n",
       "      <td>1</td>\n",
       "      <td>1</td>\n",
       "      <td>1</td>\n",
       "      <td>1</td>\n",
       "      <td>1</td>\n",
       "    </tr>\n",
       "  </tbody>\n",
       "</table>\n",
       "</div>"
      ],
      "text/plain": [
       "               phi  psi  chain  pos_in_chain  protein_id\n",
       "seq                                                     \n",
       "ALA, GLN, TRP    1    1      1             1           1\n",
       "ALA, TYR, ALA    1    1      1             1           1\n",
       "ARG, PRO, PRO    1    1      1             1           1\n",
       "ASP, ALA, TYR    1    1      1             1           1\n",
       "GLN, TRP, LEU    1    1      1             1           1"
      ]
     },
     "execution_count": 61,
     "metadata": {},
     "output_type": "execute_result"
    }
   ],
   "source": [
    "phi_psi.groupby('seq').count().sort_values('phi', ascending=False).head()"
   ]
  },
  {
   "cell_type": "markdown",
   "metadata": {},
   "source": [
    "# PDB Mine API"
   ]
  },
  {
   "cell_type": "code",
   "execution_count": 1,
   "metadata": {},
   "outputs": [
    {
     "name": "stdout",
     "output_type": "stream",
     "text": [
      "Record id 2M7D:A, chain A\n",
      "['PDB:2M7D', 'PDB:2M7D']\n"
     ]
    },
    {
     "data": {
      "text/plain": [
       "(20, Seq('DAYAQWLADXGWASXRPPPS'))"
      ]
     },
     "execution_count": 1,
     "metadata": {},
     "output_type": "execute_result"
    }
   ],
   "source": [
    "from Bio import SeqIO\n",
    "for record in SeqIO.parse(\"pdb/2m7d.pdb\", \"pdb-seqres\"):\n",
    "    print(\"Record id %s, chain %s\" % (record.id, record.annotations[\"chain\"]))\n",
    "    print(record.dbxrefs)\n",
    "len(record.seq), record.seq"
   ]
  },
  {
   "cell_type": "code",
   "execution_count": null,
   "metadata": {},
   "outputs": [],
   "source": [
    "from dotenv import load_dotenv\n",
    "import os\n",
    "import requests\n",
    "import time\n",
    "load_dotenv()\n",
    "PDBMINE_URL = os.getenv(\"PDBMINE_URL\")\n",
    "\n",
    "# response = requests.get(PDBMINE_URL + f'/v1/api/protein/7B3Y', verify=False)\n",
    "# assert(response.ok)\n",
    "# protein_data = response.json()\n",
    "\n",
    "# - residue_chain is some string of amino acids - any length\n",
    "# - window_size is length sliding window that will create windows of amino\n",
    "#   acids to search for. Eg. AKYVCKICGYIYDEDAGDPDNGVSPG with window size 7 \n",
    "#   will create and search for the following windows:\n",
    "#    - AKYVCKI, KYVCKIC, YVCKICG, VCKICGY, ...\n",
    "# - code_length is the length of the amino acid codes used in the residue_chain (1 or 3)\n",
    "residue_chain = str(record.seq)\n",
    "window_size = 7\n",
    "code_length = 1\n",
    "response = requests.post(\n",
    "    PDBMINE_URL + '/v1/api/query',\n",
    "    json={\n",
    "        \"residueChain\": residue_chain,\n",
    "        \"codeLength\": code_length,\n",
    "        \"windowSize\": window_size\n",
    "    }\n",
    ")\n",
    "assert(response.ok)\n",
    "query_id = response.json().get('queryID')\n",
    "assert(query_id)"
   ]
  },
  {
   "cell_type": "code",
   "execution_count": 3,
   "metadata": {},
   "outputs": [],
   "source": [
    "# wait for the query to finish\n",
    "while True:\n",
    "    response = requests.get(PDBMINE_URL + f'/v1/api/query/{query_id}')\n",
    "    if response.ok:\n",
    "        break\n",
    "    time.sleep(1)\n",
    "\n",
    "matches = response.json()['frames']"
   ]
  },
  {
   "cell_type": "markdown",
   "metadata": {},
   "source": [
    "- matches contains keys for each window, eg. 000_AKYVCKI, 001_KYVCKIC, 002_YVCKICG, ...\n",
    "- each window entry contains keys of the protein and chain of matches for that\n",
    "  window, eg. 2JOF_A, 2LL5_A, 3UC7_A, 3UC7_B\n",
    "- each match entry contains a list of matches for that protein and chain,\n",
    "  where each match is a list of the residues in the window and the phi,psi of each residu\n",
    "\n",
    "For example:\n",
    "```python\n",
    "{\n",
    "  '000_DAYAQWL': {\n",
    "    '2JOF_A': [\n",
    "      [\n",
    "          {'residueName': 'D', 'phi': 360, 'psi': 129.2},\n",
    "          {'residueName': 'A', 'phi': -65.3, 'psi': -40.7},\n",
    "          (Y,A,Q,W,L)... \n",
    "      ],\n",
    "      [\n",
    "          {'residueName': 'D', 'phi': 360, 'psi': 132.8},\n",
    "          {'residueName': 'A', 'phi': -65.3, 'psi': -40.7},\n",
    "          (Y,A,Q,W,L)...\n",
    "      ],\n",
    "      ...\n",
    "    ],\n",
    "    '2LL5_A': [\n",
    "      ...\n",
    "    ]\n",
    "  },\n",
    "  '001_AYAQWLA': {\n",
    "    ...\n",
    "  },\n",
    "  (rest of windows) ...\n",
    "}\n",
    "```"
   ]
  },
  {
   "cell_type": "code",
   "execution_count": 107,
   "metadata": {},
   "outputs": [],
   "source": [
    "# Want to plot the phi, psi angles distrubution for the first residue in each window\n",
    "# and compare to phi psi of the first residue in the same window in the protein from PDB\n",
    "phi_psi_mined = pd.DataFrame(columns=['seq','phi', 'psi', 'chain', 'protein_id'])\n",
    "for k,v in matches.items():\n",
    "    seq = k[4:]\n",
    "    for protein,seq_matches in matches[k].items():\n",
    "        # get phi and psi of first resiude of window for each match\n",
    "        protein_id, chain = protein.split('_')\n",
    "        for seq_match in seq_matches:\n",
    "            phi, psi = seq_match[0]['phi'], seq_match[0]['psi']\n",
    "            phi_psi_mined.loc[len(phi_psi_mined)] = [seq, phi, psi, chain, protein_id]"
   ]
  },
  {
   "cell_type": "code",
   "execution_count": null,
   "metadata": {},
   "outputs": [],
   "source": [
    "phi_psi_mined.to_csv('2m7d_phi_psi_mined.csv', index=False)\n",
    "phi_psi.to_csv('2m7d_phi_psi.csv', index=False)"
   ]
  },
  {
   "cell_type": "code",
   "execution_count": 127,
   "metadata": {},
   "outputs": [
    {
     "data": {
      "image/png": "[encoded data removed]",
      "text/plain": [
       "<Figure size 640x480 with 1 Axes>"
      ]
     },
     "metadata": {},
     "output_type": "display_data"
    }
   ],
   "source": [
    "for key in phi_psi.seq.unique()[:10]:\n",
    "    phi_psi_alpha = phi_psi[phi_psi.seq == key][['phi', 'psi']]\n",
    "    phi_psi_dist = phi_psi_mined[phi_psi_mined.seq == key][['phi', 'psi']]\n",
    "    plt.scatter(phi_psi_dist['phi'], phi_psi_dist['psi'], label='PDB')\n",
    "    plt.scatter(phi_psi_alpha['phi'], phi_psi_alpha['psi'], label='PDB')\n",
    "    break\n",
    "\n",
    "    # print(len(phi_psi_mined[phi_psi_mined.seq == key]))"
   ]
  },
  {
   "cell_type": "code",
   "execution_count": null,
   "metadata": {},
   "outputs": [],
   "source": [
    "import seaborn as sns\n",
    "\n",
    "    \n",
    "key = 'SER, ALA, LEU'\n",
    "x = phi_psi[phi_psi.seq == key].phi\n",
    "y = phi_psi[phi_psi.seq == key].psi\n",
    "df = phi_psi.loc[phi_psi.seq==key,['phi','psi']]\n",
    "\n",
    "# plt.scatter(x, y, marker='.')\n",
    "fig, axes = plt.subplots(2,1, sharex=True)\n",
    "sns.kdeplot(\n",
    "    data=df, \n",
    "    x='phi', \n",
    "    y='psi', \n",
    "    # cmap=\"Blues\", \n",
    "    # fill=True, \n",
    "    # thresh=0.05,\n",
    "    ax=axes[0]\n",
    ")\n",
    "axes[0].set_ylabel('psi')\n",
    "\n",
    "axes[1].scatter(x, y, marker='.')\n",
    "axes[1].set_xlabel('phi')\n",
    "axes[1].set_ylabel('psi')\n",
    "\n",
    "plt.show()"
   ]
  }
 ],
 "metadata": {
  "kernelspec": {
   "display_name": "Python 3",
   "language": "python",
   "name": "python3"
  },
  "language_info": {
   "codemirror_mode": {
    "name": "ipython",
    "version": 3
   },
   "file_extension": ".py",
   "mimetype": "text/x-python",
   "name": "python",
   "nbconvert_exporter": "python",
   "pygments_lexer": "ipython3",
   "version": "3.10.12"
  }
 },
 "nbformat": 4,
 "nbformat_minor": 2
}
