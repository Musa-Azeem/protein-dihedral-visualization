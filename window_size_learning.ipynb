{
 "cells": [
  {
   "cell_type": "code",
   "execution_count": 1,
   "metadata": {},
   "outputs": [],
   "source": [
    "%load_ext autoreload\n",
    "%autoreload 2"
   ]
  },
  {
   "cell_type": "code",
   "execution_count": 10,
   "metadata": {},
   "outputs": [],
   "source": [
    "from lib import DihedralAdherence\n",
    "from lib import PDBMineQuery\n",
    "import os\n",
    "import numpy as np\n",
    "import pandas as pd\n",
    "import matplotlib.pyplot as plt\n",
    "import seaborn as sns\n",
    "from pathlib import Path\n",
    "from tqdm import tqdm\n",
    "from tabulate import tabulate\n",
    "from collections import defaultdict"
   ]
  },
  {
   "cell_type": "code",
   "execution_count": 13,
   "metadata": {},
   "outputs": [
    {
     "name": "stdout",
     "output_type": "stream",
     "text": [
      "Results already exist\n",
      "Casp ID: T1030 \tPDB: 6poo\n",
      "Structure exists: 'pdb/pdb6poo.ent' \n"
     ]
    }
   ],
   "source": [
    "PDBMINE_URL = os.getenv(\"PDBMINE_URL\")\n",
    "PROJECT_DIR = 'tests'\n",
    "casp_protein_ids = ['T1030']   # 6ya2\n",
    "winsizes = [4,5,6,7]\n",
    "lengths = [15000, 5000, 500, 400]\n",
    "lengths_dict = {w:l for w,l in zip(winsizes, lengths)}\n",
    "\n",
    "das = {}\n",
    "seqs = []\n",
    "for id in casp_protein_ids:\n",
    "    da = DihedralAdherence(id, winsizes, PDBMINE_URL, PROJECT_DIR, kdews=[1,32,64,128])\n",
    "    da.load_results_da()\n",
    "    seqs.append(pd.DataFrame(da.xray_phi_psi.seq_ctxt.unique(), columns=['seq']))\n",
    "    seqs[-1]['id'] = id\n",
    "    das[id] = da\n",
    "\n",
    "seq_matches = []\n",
    "seqs = pd.concat(seqs)\n",
    "n_matches = defaultdict(list)\n",
    "for i,row in seqs.iterrows():\n",
    "    phis = []\n",
    "    psis = []\n",
    "    for q in das[row.id].queries:\n",
    "        inner_seq = q.get_subseq(row.seq)\n",
    "        matches = q.results[q.results.seq == inner_seq][['seq', 'phi', 'psi']]\n",
    "        n_matches[q.winsize].append(matches.shape[0])\n",
    "        if matches.shape[0] == 0:\n",
    "            phis.append(np.zeros(lengths_dict[q.winsize]))\n",
    "            psis.append(np.zeros(lengths_dict[q.winsize]))\n",
    "            continue\n",
    "        phi = matches.phi.values\n",
    "        psi = matches.psi.values\n",
    "        if matches.shape[0] >= lengths_dict[q.winsize]:\n",
    "            phi = phi[:lengths_dict[q.winsize]]\n",
    "            psi = psi[:lengths_dict[q.winsize]]\n",
    "        else:\n",
    "            phi = np.pad(phi, (0, lengths_dict[q.winsize] - matches.shape[0]))\n",
    "            psi = np.pad(psi, (0, lengths_dict[q.winsize] - matches.shape[0]))\n",
    "        phis.append(phi)\n",
    "        psis.append(psi)\n",
    "    if len(phis) == 0:\n",
    "        continue\n",
    "    phis = np.concatenate(phis)\n",
    "    psis = np.concatenate(psis)\n",
    "\n",
    "for k,v in n_matches.items():\n",
    "    seqs[k] = v"
   ]
  },
  {
   "cell_type": "code",
   "execution_count": 4,
   "metadata": {},
   "outputs": [
    {
     "name": "stdout",
     "output_type": "stream",
     "text": [
      "Results already exist\n",
      "Casp ID: T1024 \tPDB: 6t1z\n",
      "Structure exists: 'pdb/pdb6t1z.ent' \n",
      "Results already exist\n",
      "Casp ID: T1096 \tPDB: 7um1\n",
      "Structure exists: 'pdb/pdb7um1.ent' \n",
      "Results already exist\n",
      "Casp ID: T1027 \tPDB: 7d2o\n",
      "Structure exists: 'pdb/pdb7d2o.ent' \n",
      "Results already exist\n",
      "Casp ID: T1082 \tPDB: 7cn6\n",
      "Structure exists: 'pdb/pdb7cn6.ent' \n",
      "Results already exist\n",
      "Casp ID: T1091 \tPDB: 7w6b\n",
      "Structure exists: 'pdb/pdb7w6b.ent' \n",
      "Results already exist\n",
      "Casp ID: T1058 \tPDB: 7abw\n",
      "Structure exists: 'pdb/pdb7abw.ent' \n",
      "Results already exist\n",
      "Casp ID: T1049 \tPDB: 6y4f\n",
      "Structure exists: 'pdb/pdb6y4f.ent' \n",
      "Results already exist\n",
      "Casp ID: T1030 \tPDB: 6poo\n",
      "Structure exists: 'pdb/pdb6poo.ent' \n",
      "Results already exist\n",
      "Casp ID: T1056 \tPDB: 6yj1\n",
      "Structure exists: 'pdb/pdb6yj1.ent' \n",
      "Results already exist\n",
      "Casp ID: T1038 \tPDB: 6ya2\n",
      "Structure exists: 'pdb/pdb6ya2.ent' \n",
      "Results already exist\n",
      "Casp ID: T1025 \tPDB: 6uv6\n",
      "Structure exists: 'pdb/pdb6uv6.ent' \n",
      "Results already exist\n",
      "Casp ID: T1028 \tPDB: 6vqp\n",
      "Structure exists: 'pdb/pdb6vqp.ent' \n"
     ]
    }
   ],
   "source": [
    "PDBMINE_URL = os.getenv(\"PDBMINE_URL\")\n",
    "PROJECT_DIR = 'tests'\n",
    "casp_protein_id = 'T1030'   # 6ya2\n",
    "winsizes = [4,5,6,7]\n",
    "casp_protein_ids = ['T1024', 'T1096', 'T1027', 'T1082', 'T1091', 'T1058', 'T1049', 'T1030', 'T1056', 'T1038', 'T1025', 'T1028']\n",
    "# ['T1024', 'T1096', 'T1027', 'T1082', 'T1091', 'T1058', 'T1049', 'T1030', 'T1056', 'T1038', 'T1025', 'T1028']:\n",
    "\n",
    "das = []\n",
    "xray_phi_psi = []\n",
    "for casp_protein_id in casp_protein_ids:\n",
    "    da = DihedralAdherence(casp_protein_id, winsizes, PDBMINE_URL, PROJECT_DIR, kdews=[1,32,64,128])\n",
    "    da.load_results_da()\n",
    "    das.append(da)\n",
    "    xray_phi_psi.append(da.xray_phi_psi)\n",
    "xray_phi_psi = pd.concat(xray_phi_psi)"
   ]
  },
  {
   "cell_type": "code",
   "execution_count": 9,
   "metadata": {},
   "outputs": [
    {
     "name": "stdout",
     "output_type": "stream",
     "text": [
      "┌───────┬─────────────┬─────────────┬─────────────┬─────────────┬──────────┬──────────┬──────────┬──────────┐\n",
      "│       │   4-matches │   5-matches │   6-matches │   7-matches │   4-seqs │   5-seqs │   6-seqs │   7-seqs │\n",
      "├───────┼─────────────┼─────────────┼─────────────┼─────────────┼──────────┼──────────┼──────────┼──────────┤\n",
      "│ T1024 │       15656 │        1136 │         335 │         200 │      403 │      387 │      176 │       21 │\n",
      "├───────┼─────────────┼─────────────┼─────────────┼─────────────┼──────────┼──────────┼──────────┼──────────┤\n",
      "│ T1096 │        8982 │        5336 │         350 │         155 │      403 │      387 │      176 │       21 │\n",
      "├───────┼─────────────┼─────────────┼─────────────┼─────────────┼──────────┼──────────┼──────────┼──────────┤\n",
      "│ T1027 │        9926 │        1109 │         237 │         192 │      403 │      387 │      176 │       21 │\n",
      "├───────┼─────────────┼─────────────┼─────────────┼─────────────┼──────────┼──────────┼──────────┼──────────┤\n",
      "│ T1082 │        7257 │        4065 │         586 │          26 │      403 │      387 │      176 │       21 │\n",
      "├───────┼─────────────┼─────────────┼─────────────┼─────────────┼──────────┼──────────┼──────────┼──────────┤\n",
      "│ T1091 │       10186 │        2835 │         403 │         120 │      403 │      387 │      176 │       21 │\n",
      "├───────┼─────────────┼─────────────┼─────────────┼─────────────┼──────────┼──────────┼──────────┼──────────┤\n",
      "│ T1058 │       14035 │        2334 │         228 │         188 │      403 │      387 │      176 │       21 │\n",
      "├───────┼─────────────┼─────────────┼─────────────┼─────────────┼──────────┼──────────┼──────────┼──────────┤\n",
      "│ T1049 │       46585 │       30085 │       14821 │          75 │      403 │      387 │      176 │       21 │\n",
      "├───────┼─────────────┼─────────────┼─────────────┼─────────────┼──────────┼──────────┼──────────┼──────────┤\n",
      "│ T1030 │       15757 │        3989 │        1723 │          55 │      403 │      387 │      176 │       21 │\n",
      "├───────┼─────────────┼─────────────┼─────────────┼─────────────┼──────────┼──────────┼──────────┼──────────┤\n",
      "│ T1056 │       46585 │       30085 │       14821 │         430 │      403 │      387 │      176 │       21 │\n",
      "├───────┼─────────────┼─────────────┼─────────────┼─────────────┼──────────┼──────────┼──────────┼──────────┤\n",
      "│ T1038 │       11688 │         678 │         133 │          77 │      403 │      387 │      176 │       21 │\n",
      "├───────┼─────────────┼─────────────┼─────────────┼─────────────┼──────────┼──────────┼──────────┼──────────┤\n",
      "│ T1025 │       12303 │        2263 │         414 │         319 │      403 │      387 │      176 │       21 │\n",
      "├───────┼─────────────┼─────────────┼─────────────┼─────────────┼──────────┼──────────┼──────────┼──────────┤\n",
      "│ T1028 │       46585 │       30085 │       14821 │        2339 │      403 │      387 │      176 │       21 │\n",
      "└───────┴─────────────┴─────────────┴─────────────┴─────────────┴──────────┴──────────┴──────────┴──────────┘\n",
      "4 (3632, 30000)\n",
      "5 (3544, 10000)\n",
      "6 (2524, 1000)\n",
      "7 (1856, 800)\n"
     ]
    }
   ],
   "source": [
    "lengths = [15000, 5000, 500, 400]\n",
    "datas = {}\n",
    "n_matches = []\n",
    "n_seqs = []\n",
    "for da in das:\n",
    "    n_matches.append([da.casp_protein_id])\n",
    "    for q,l in zip(da.queries, lengths):\n",
    "        df = q.results\n",
    "        df = df.reset_index()\n",
    "        df['count'] = df.groupby('seq').cumcount()\n",
    "        phi = df.pivot(index='seq', columns='count', values='phi')\n",
    "        psi = df.pivot(index='seq', columns='count', values='psi')\n",
    "        n_matchesi = phi.shape[1]\n",
    "        n_seqs.append(phi.shape[0])\n",
    "        n_matches[-1].append(n_matchesi)\n",
    "        if n_matchesi < l:\n",
    "            phi = pd.concat([\n",
    "                phi,\n",
    "                pd.DataFrame(np.zeros((phi.shape[0], l-phi.shape[1])), columns=range(phi.shape[1], l), index=phi.index)\n",
    "            ], axis=1)\n",
    "            psi = pd.concat([\n",
    "                psi,\n",
    "                pd.DataFrame(np.zeros((psi.shape[0], l-psi.shape[1])), columns=range(psi.shape[1], l), index=psi.index)\n",
    "            ], axis=1)\n",
    "        else:\n",
    "            phi = phi.iloc[:, :l]\n",
    "            psi = psi.iloc[:, :l]\n",
    "        df = pd.merge(phi, psi, left_index=True, right_index=True, suffixes=('_phi', '_psi'))\n",
    "        if not q.winsize in datas:\n",
    "            datas[q.winsize] = [df]\n",
    "        else:\n",
    "            datas[q.winsize].append(df)\n",
    "    n_matches[-1] = n_matches[-1] + n_seqs\n",
    "print(tabulate(n_matches, headers=[f'{w}-matches' for w in winsizes]+[f'{w}-seqs' for w in winsizes], tablefmt='simple_grid'))\n",
    "for k,v in datas.items():\n",
    "    datas[k] = pd.concat(v).fillna(0)\n",
    "    print(k, datas[k].shape)"
   ]
  },
  {
   "cell_type": "code",
   "execution_count": 10,
   "metadata": {},
   "outputs": [
    {
     "name": "stdout",
     "output_type": "stream",
     "text": [
      "(3304, 41800) (3304, 2)\n"
     ]
    }
   ],
   "source": [
    "all_X = []\n",
    "all_y = []\n",
    "seqs = xray_phi_psi['seq_ctxt'].unique()\n",
    "for seq in seqs:\n",
    "    yi = xray_phi_psi[xray_phi_psi['seq_ctxt']==seq][['phi', 'psi']].values[0]\n",
    "    if np.isnan(yi).any():\n",
    "        continue\n",
    "    Xi = []\n",
    "    for q,l in zip(da.queries, lengths):\n",
    "        s = q.get_subseq(seq)\n",
    "        if s in datas[q.winsize].index:\n",
    "            Xi.append(datas[q.winsize].loc[s].values)\n",
    "            if Xi[-1].ndim > 1:\n",
    "                Xi[-1] = Xi[-1][0]\n",
    "        else:\n",
    "            Xi.append(np.zeros((l*2)))\n",
    "    Xi = np.concatenate(Xi)\n",
    "    if max(Xi) == 0: # no matches\n",
    "        continue\n",
    "    all_X.append(Xi)\n",
    "    all_y.append(yi)\n",
    "all_X = np.stack(all_X)\n",
    "all_y = np.stack(all_y)\n",
    "print(all_X.shape, all_y.shape)"
   ]
  },
  {
   "cell_type": "code",
   "execution_count": 12,
   "metadata": {},
   "outputs": [
    {
     "name": "stdout",
     "output_type": "stream",
     "text": [
      "torch.Size([2643, 41800]) torch.Size([2643, 2]) torch.Size([661, 41800]) torch.Size([661, 2])\n"
     ]
    }
   ],
   "source": [
    "import torch\n",
    "from torch import nn\n",
    "import torch.nn.functional as F\n",
    "from sklearn.model_selection import train_test_split\n",
    "from torch.utils.data import TensorDataset, DataLoader\n",
    "\n",
    "X_train, X_test, y_train, y_test = train_test_split(all_X, all_y, test_size=0.2, random_state=42)\n",
    "\n",
    "X_train = torch.Tensor(X_train)\n",
    "y_train = torch.Tensor(y_train)\n",
    "X_test = torch.Tensor(X_test)\n",
    "y_test = torch.Tensor(y_test)\n",
    "\n",
    "print(X_train.shape, y_train.shape, X_test.shape, y_test.shape)\n",
    "\n",
    "train_dataset = TensorDataset(X_train, y_train)\n",
    "test_dataset = TensorDataset(X_test, y_test)\n",
    "\n",
    "trainloader = DataLoader(train_dataset, batch_size=32, shuffle=True)\n",
    "testloader = DataLoader(test_dataset, batch_size=32, shuffle=False)"
   ]
  },
  {
   "cell_type": "code",
   "execution_count": 49,
   "metadata": {},
   "outputs": [],
   "source": [
    "length = sum([l*2 for l in lengths])\n",
    "class Net(torch.nn.Module):\n",
    "    def __init__(self):\n",
    "        super(Net, self).__init__()\n",
    "        self.fc1 = nn.Linear(length, 100)\n",
    "        self.fc2 = nn.Linear(100, 2)\n",
    "\n",
    "    def forward(self, x):\n",
    "        x = F.relu(self.fc1(x))\n",
    "        x = self.fc2(x)\n",
    "        return x\n",
    "model = Net().to('cuda')\n",
    "criterion = nn.MSELoss()\n",
    "optimizer = torch.optim.Adam(model.parameters(), lr=3e-4)"
   ]
  },
  {
   "cell_type": "code",
   "execution_count": null,
   "metadata": {},
   "outputs": [],
   "source": [
    "X,y = next(iter(trainloader))"
   ]
  },
  {
   "cell_type": "code",
   "execution_count": 81,
   "metadata": {},
   "outputs": [
    {
     "data": {
      "text/plain": [
       "[15000, 5000, 500, 400]"
      ]
     },
     "execution_count": 81,
     "metadata": {},
     "output_type": "execute_result"
    }
   ],
   "source": [
    "def plot(Xp, y, i, logits=None):\n",
    "    ls = lengths\n",
    "    Xp = Xp.cpu().clone().detach()\n",
    "    y = y.cpu().clone().detach()\n",
    "    Xp[Xp==0] = np.nan\n",
    "    s = [sum(lengths[:i]*2) for i,l in enumerate(ls)]\n",
    "    plt.plot(Xp[i,s[0]:s[0]+ls[0]].detach(),Xp[i,s[0]+ls[0]:s[0]+ls[0]*2].detach(), 'o', label='4')\n",
    "    plt.plot(Xp[i,s[1]:s[1]+ls[1]].detach(),Xp[i,s[1]+ls[1]:s[1]+ls[1]*2].detach(), 'o', label='5')\n",
    "    plt.plot(Xp[i,s[2]:s[2]+ls[2]].detach(),Xp[i,s[2]+ls[2]:s[2]+ls[2]*2].detach(), 'o', label='6')\n",
    "    plt.plot(Xp[i,s[3]:s[3]+ls[3]].detach(),Xp[i,s[3]+ls[3]:s[3]+ls[3]*2].detach(), 'o', label='7')\n",
    "    plt.plot(y[i,0].detach(),y[i,1].detach(), 'o', label='true')\n",
    "    if logits is not None:\n",
    "        logits = logits.cpu().clone().detach()\n",
    "        plt.plot(logits[i,0].detach(),logits[i,1].detach(), 'o', label='pred')\n",
    "    plt.legend()\n",
    "plot(X,y,22)"
   ]
  },
  {
   "cell_type": "code",
   "execution_count": 84,
   "metadata": {},
   "outputs": [
    {
     "data": {
      "text/plain": [
       "[15000, 5000, 500, 400]"
      ]
     },
     "execution_count": 84,
     "metadata": {},
     "output_type": "execute_result"
    }
   ],
   "source": [
    "lengths"
   ]
  },
  {
   "cell_type": "code",
   "execution_count": 88,
   "metadata": {},
   "outputs": [
    {
     "data": {
      "text/plain": [
       "[0, 15000, 30000, 35000, 40000, 40500, 41000, 41400]"
      ]
     },
     "execution_count": 88,
     "metadata": {},
     "output_type": "execute_result"
    }
   ],
   "source": [
    "s"
   ]
  },
  {
   "cell_type": "code",
   "execution_count": 124,
   "metadata": {},
   "outputs": [],
   "source": [
    "length = sum([l*2 for l in lengths])\n",
    "lengths_dup = [l for l in lengths for _ in range(2)]\n",
    "s = [sum(lengths_dup[:i]) for i,l in enumerate(lengths_dup)]\n",
    "class SparseNet(torch.nn.Module):\n",
    "    def __init__(self):\n",
    "        super(SparseNet, self).__init__()\n",
    "        self.dropout = nn.Dropout(0.25)\n",
    "\n",
    "        self.phi1 = nn.Linear(lengths[0], 1)\n",
    "        self.psi1 = nn.Linear(lengths[0], 1)\n",
    "        self.phi2 = nn.Linear(lengths[1], 1)\n",
    "        self.psi2 = nn.Linear(lengths[1], 1)\n",
    "        self.phi3 = nn.Linear(lengths[2], 1)\n",
    "        self.psi3 = nn.Linear(lengths[2], 1)\n",
    "        self.phi4 = nn.Linear(lengths[3], 1)\n",
    "        self.psi4 = nn.Linear(lengths[3], 1)\n",
    "\n",
    "        self.fc1 = nn.Linear(8, 16)\n",
    "        self.fc2 = nn.Linear(16, 2)\n",
    "\n",
    "    def forward(self, x):\n",
    "        x1 = F.relu(self.dropout(self.phi1(x[:,s[0]:s[1]])))\n",
    "        x2 = F.relu(self.dropout(self.psi1(x[:,s[1]:s[2]])))\n",
    "        x3 = F.relu(self.dropout(self.phi2(x[:,s[2]:s[3]])))\n",
    "        x4 = F.relu(self.dropout(self.psi2(x[:,s[3]:s[4]])))\n",
    "        x5 = F.relu(self.dropout(self.phi3(x[:,s[4]:s[5]])))\n",
    "        x6 = F.relu(self.dropout(self.psi3(x[:,s[5]:s[6]])))\n",
    "        x7 = F.relu(self.dropout(self.phi4(x[:,s[6]:s[7]])))\n",
    "        x8 = F.relu(self.dropout(self.psi4(x[:,s[7]:])))\n",
    "\n",
    "        x = torch.cat([x1,x2,x3,x4,x5,x6,x7,x8], dim=1)\n",
    "        x = F.relu(self.dropout(self.fc1(x)))\n",
    "        x = self.fc2(x)\n",
    "        return x\n",
    "model = SparseNet().to('cuda')\n",
    "criterion = nn.MSELoss()\n",
    "optimizer = torch.optim.Adam(model.parameters(), lr=3e-4)"
   ]
  },
  {
   "cell_type": "code",
   "execution_count": 125,
   "metadata": {},
   "outputs": [
    {
     "name": "stderr",
     "output_type": "stream",
     "text": [
      "  0%|          | 0/500 [00:00<?, ?it/s]"
     ]
    },
    {
     "name": "stderr",
     "output_type": "stream",
     "text": [
      "100%|██████████| 500/500 [01:29<00:00,  5.60it/s, train_loss=2.73e+3, test_loss=6.28e+3]\n"
     ]
    }
   ],
   "source": [
    "train_losses = []\n",
    "test_losses = []\n",
    "for epoch in (pbar := tqdm(range(500))):\n",
    "    losses = []\n",
    "    model.train()\n",
    "    for X,y in trainloader:\n",
    "        X,y = X.to('cuda'), y.to('cuda')\n",
    "        optimizer.zero_grad()\n",
    "        logits = model(X)\n",
    "        loss = criterion(logits, y)\n",
    "        loss.backward()\n",
    "        optimizer.step()\n",
    "        losses.append(loss.item())\n",
    "    train_losses.append(sum(losses) / len(losses))\n",
    "\n",
    "    losses = []\n",
    "    model.eval()\n",
    "    for X,y in testloader:\n",
    "        with torch.no_grad():\n",
    "            X,y = X.to('cuda'), y.to('cuda')\n",
    "            logits = model(X)\n",
    "            loss = criterion(logits, y)\n",
    "            losses.append(loss.item())\n",
    "    test_losses.append(sum(losses) / len(losses))\n",
    "\n",
    "    pbar.set_postfix({'train_loss': train_losses[-1], 'test_loss': test_losses[-1]})"
   ]
  },
  {
   "cell_type": "code",
   "execution_count": 126,
   "metadata": {},
   "outputs": [
    {
     "data": {
      "text/plain": [
       "<matplotlib.legend.Legend at 0x792c75dd7260>"
      ]
     },
     "execution_count": 126,
     "metadata": {},
     "output_type": "execute_result"
    },
    {
     "data": {
      "image/png": "[encoded data removed]",
      "text/plain": [
       "<Figure size 640x480 with 1 Axes>"
      ]
     },
     "metadata": {},
     "output_type": "display_data"
    }
   ],
   "source": [
    "plt.plot(train_losses, label='train')\n",
    "plt.plot(test_losses, label='test')\n",
    "plt.legend()"
   ]
  },
  {
   "cell_type": "code",
   "execution_count": 59,
   "metadata": {},
   "outputs": [
    {
     "data": {
      "image/png": "[encoded data removed]",
      "text/plain": [
       "<Figure size 640x480 with 1 Axes>"
      ]
     },
     "metadata": {},
     "output_type": "display_data"
    }
   ],
   "source": [
    "for X,y in testloader:\n",
    "    with torch.no_grad():\n",
    "        X,y = X.to('cuda'), y.to('cuda')\n",
    "        logits = model(X)\n",
    "    break\n",
    "plot(X, y, 7, logits)"
   ]
  }
 ],
 "metadata": {
  "kernelspec": {
   "display_name": "Python 3",
   "language": "python",
   "name": "python3"
  },
  "language_info": {
   "codemirror_mode": {
    "name": "ipython",
    "version": 3
   },
   "file_extension": ".py",
   "mimetype": "text/x-python",
   "name": "python",
   "nbconvert_exporter": "python",
   "pygments_lexer": "ipython3",
   "version": "3.12.3"
  }
 },
 "nbformat": 4,
 "nbformat_minor": 2
}
