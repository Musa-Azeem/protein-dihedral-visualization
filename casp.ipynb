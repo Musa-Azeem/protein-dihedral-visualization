{
 "cells": [
  {
   "cell_type": "code",
   "execution_count": 3,
   "metadata": {},
   "outputs": [
    {
     "data": {
      "text/plain": [
       "True"
      ]
     },
     "execution_count": 3,
     "metadata": {},
     "output_type": "execute_result"
    }
   ],
   "source": [
    "from pathlib import Path\n",
    "from Bio.PDB import PDBList, PDBParser\n",
    "import os\n",
    "from tqdm import tqdm\n",
    "import warnings\n",
    "import pandas as pd\n",
    "from Bio import SeqIO\n",
    "from dotenv import load_dotenv\n",
    "import os\n",
    "import requests\n",
    "import time\n",
    "import json\n",
    "from Bio.PDB.ic_rebuild import structure_rebuild_test\n",
    "import numpy as np\n",
    "import sys\n",
    "import seaborn as sns\n",
    "\n",
    "load_dotenv()"
   ]
  },
  {
   "cell_type": "code",
   "execution_count": 4,
   "metadata": {},
   "outputs": [],
   "source": [
    "WINDOW_SIZE = 5\n",
    "PDBMINE_URL = os.getenv(\"PDBMINE_URL\")\n",
    "casp_protein_id = 'T1024'\n",
    "pdb_code = '6t1z'"
   ]
  },
  {
   "cell_type": "code",
   "execution_count": 5,
   "metadata": {},
   "outputs": [],
   "source": [
    "amino_acid_codes = {\n",
    "    \"ALA\": \"A\",\n",
    "    \"ARG\": \"R\",\n",
    "    \"ASN\": \"N\",\n",
    "    \"ASP\": \"D\",\n",
    "    \"CYS\": \"C\",\n",
    "    \"GLN\": \"Q\",\n",
    "    \"GLU\": \"E\",\n",
    "    \"GLY\": \"G\",\n",
    "    \"HIS\": \"H\",\n",
    "    \"ILE\": \"I\",\n",
    "    \"LEU\": \"L\",\n",
    "    \"LYS\": \"K\",\n",
    "    \"MET\": \"M\",\n",
    "    \"PHE\": \"F\",\n",
    "    \"PRO\": \"P\",\n",
    "    \"SER\": \"S\",\n",
    "    \"THR\": \"T\",\n",
    "    \"TRP\": \"W\",\n",
    "    \"TYR\": \"Y\",\n",
    "    \"VAL\": \"V\"\n",
    "}"
   ]
  },
  {
   "cell_type": "code",
   "execution_count": 7,
   "metadata": {},
   "outputs": [
    {
     "name": "stdout",
     "output_type": "stream",
     "text": [
      "Structure exists: 'pdb/pdb6t1z.ent' \n"
     ]
    }
   ],
   "source": [
    "# Get X-ray pdb\n",
    "pdbl = PDBList()\n",
    "parser = PDBParser()\n",
    "xray_fn = pdbl.retrieve_pdb_file(pdb_code, pdir='pdb', file_format='pdb', obsolete=False)\n",
    "\n",
    "# Get CASP predictions\n",
    "predictions_url = f'https://predictioncenter.org/download_area/CASP14/predictions/regular/{casp_protein_id}.tar.gz'\n",
    "predictions_dir = Path(f'./casp-predictions/')\n",
    "predictions_dir.mkdir(exist_ok=True)\n",
    "# os.system(f'wget -O {predictions_dir}/{casp_protein_id}.tar.gz {predictions_url}')\n",
    "# os.system(f'tar -xvf {predictions_dir}/{casp_protein_id}.tar.gz -C {predictions_dir}')\n",
    "\n",
    "# Get CASP results\n",
    "results_url = 'https://predictioncenter.org/download_area/CASP14/results/tables/casp14.res_tables.T.tar.gz'\n",
    "results_dir = Path('casp-results')\n",
    "results_dir.mkdir(exist_ok=True)\n",
    "# os.system(f'wget -O {results_dir / \"casp14.res_tables.T.tar.gz\"} {results_url}')\n",
    "# os.system(f'tar -xvf {results_dir / \"casp14.res_tables.T.tar.gz\"} -C {results_dir}')\n",
    "results_file = results_dir / f'{casp_protein_id}.txt'"
   ]
  },
  {
   "cell_type": "code",
   "execution_count": 8,
   "metadata": {},
   "outputs": [
    {
     "name": "stderr",
     "output_type": "stream",
     "text": [
      "512it [00:18, 27.07it/s]\n"
     ]
    }
   ],
   "source": [
    "# Get structures\n",
    "xray = parser.get_structure(pdb_code, xray_fn)\n",
    "\n",
    "predicted_structures = []\n",
    "for prediction_pdb in tqdm((predictions_dir / casp_protein_id).iterdir()):\n",
    "    with warnings.catch_warnings():\n",
    "        warnings.simplefilter(\"ignore\")\n",
    "        predicted_structures.append(parser.get_structure(prediction_pdb.name, prediction_pdb))"
   ]
  },
  {
   "cell_type": "code",
   "execution_count": 9,
   "metadata": {},
   "outputs": [],
   "source": [
    "results = pd.read_csv(results_file, delim_whitespace=True)\n",
    "results = results[results.columns[1:]]"
   ]
  },
  {
   "cell_type": "code",
   "execution_count": 8,
   "metadata": {},
   "outputs": [
    {
     "name": "stdout",
     "output_type": "stream",
     "text": [
      "Record id 6T1Z:A, chain A\n",
      "ID: 6T1Z:A\n",
      "Name: 6T1Z:A\n",
      "Description: UNP:Q48658 Q48658_9LACT\n",
      "Database cross-references: UNP:Q48658, UNP:Q48658_9LACT\n",
      "Number of features: 0\n",
      "/chain=A\n",
      "/molecule_type=protein\n",
      "Seq('GKEFWNLDKNLQLRLGIVFLGAFSYGTVFSSMTIYYNQYLGSAITGILLALSAV...FQG')\n"
     ]
    },
    {
     "name": "stderr",
     "output_type": "stream",
     "text": [
      "  0%|          | 0/5 [00:00<?, ?it/s]"
     ]
    },
    {
     "name": "stdout",
     "output_type": "stream",
     "text": [
      "{'status': 'Running', 'queryID': '3c4aa22e-f2ae-11ee-8b85-0242ac110002'}\n",
      "Waiting\n",
      "Waiting\n",
      "Waiting\n"
     ]
    },
    {
     "name": "stderr",
     "output_type": "stream",
     "text": [
      " 20%|██        | 1/5 [01:00<04:01, 60.27s/it]"
     ]
    },
    {
     "name": "stdout",
     "output_type": "stream",
     "text": [
      "Received matches\n",
      "{'status': 'Running', 'queryID': '603654f6-f2ae-11ee-8b85-0242ac110002'}\n",
      "Waiting\n",
      "Waiting\n",
      "Waiting\n"
     ]
    },
    {
     "name": "stderr",
     "output_type": "stream",
     "text": [
      " 40%|████      | 2/5 [02:00<03:00, 60.27s/it]"
     ]
    },
    {
     "name": "stdout",
     "output_type": "stream",
     "text": [
      "Received matches\n",
      "{'status': 'Running', 'queryID': '84226ce8-f2ae-11ee-8b85-0242ac110002'}\n",
      "Waiting\n",
      "Waiting\n"
     ]
    },
    {
     "name": "stderr",
     "output_type": "stream",
     "text": [
      " 60%|██████    | 3/5 [02:45<01:46, 53.36s/it]"
     ]
    },
    {
     "name": "stdout",
     "output_type": "stream",
     "text": [
      "Received matches\n",
      "{'status': 'Running', 'queryID': '9f0be705-f2ae-11ee-8b85-0242ac110002'}\n",
      "Waiting\n",
      "Waiting\n",
      "Waiting\n"
     ]
    },
    {
     "name": "stderr",
     "output_type": "stream",
     "text": [
      " 80%|████████  | 4/5 [03:45<00:56, 56.10s/it]"
     ]
    },
    {
     "name": "stdout",
     "output_type": "stream",
     "text": [
      "Received matches\n",
      "{'status': 'Running', 'queryID': 'c2fc3594-f2ae-11ee-8b85-0242ac110002'}\n"
     ]
    },
    {
     "name": "stderr",
     "output_type": "stream",
     "text": [
      "100%|██████████| 5/5 [04:01<00:00, 48.22s/it]"
     ]
    },
    {
     "name": "stdout",
     "output_type": "stream",
     "text": [
      "Received matches\n"
     ]
    },
    {
     "name": "stderr",
     "output_type": "stream",
     "text": [
      "\n"
     ]
    }
   ],
   "source": [
    "# Get Phi-Psi distribution from PDBMine\n",
    "for record in SeqIO.parse(xray_fn, \"pdb-seqres\"):\n",
    "    print(\"Record id %s, chain %s\" % (record.id, record.annotations[\"chain\"]))\n",
    "    print(record)\n",
    "residue_chain = str(record.seq)\n",
    "code_length = 1\n",
    "broken_chains = []\n",
    "# break into sections of length 100\n",
    "for i in range(0, len(residue_chain), 100-WINDOW_SIZE+1):\n",
    "    broken_chains.append(residue_chain[i:i+100])\n",
    "\n",
    "matches = {}\n",
    "for chain in tqdm(broken_chains):\n",
    "    if len(chain) < WINDOW_SIZE:\n",
    "        continue\n",
    "    response = requests.post(\n",
    "        PDBMINE_URL + '/v1/api/query',\n",
    "        json={\n",
    "            \"residueChain\": chain,\n",
    "            \"codeLength\": code_length,\n",
    "            \"windowSize\": WINDOW_SIZE\n",
    "        }\n",
    "    )\n",
    "    assert(response.ok)\n",
    "    print(response.json())\n",
    "    query_id = response.json().get('queryID')\n",
    "    assert(query_id)\n",
    "\n",
    "    time.sleep(15)\n",
    "    while(True):\n",
    "        response = requests.get(PDBMINE_URL + f'/v1/api/query/{query_id}')\n",
    "        if response.ok:\n",
    "            matchesi = response.json()['frames']\n",
    "            break\n",
    "        else:\n",
    "            print('Waiting')\n",
    "            time.sleep(15)\n",
    "    print('Received matches')\n",
    "    matches.update(matchesi)\n",
    "json.dump(matches, open('matches.json', 'w'))"
   ]
  },
  {
   "cell_type": "markdown",
   "metadata": {},
   "source": [
    "## Collect by Residue"
   ]
  },
  {
   "cell_type": "code",
   "execution_count": 38,
   "metadata": {},
   "outputs": [
    {
     "name": "stderr",
     "output_type": "stream",
     "text": [
      "100%|██████████| 407/407 [00:00<00:00, 3214.24it/s]\n"
     ]
    }
   ],
   "source": [
    "# Get phi-psi by residue\n",
    "phi_psi_mined_ = []\n",
    "for seq_win,v in tqdm(matches.items()):\n",
    "    seq = seq_win[4:]\n",
    "    for protein,seq_matches in v.items():\n",
    "        # get phi and psi of each residue in window for each match\n",
    "        protein_id, chain = protein.split('_')\n",
    "        if protein_id == pdb_code:\n",
    "            continue\n",
    "        for seq_match in seq_matches:\n",
    "            for i,match in enumerate(seq_match):\n",
    "                res, phi, psi = match['residueName'], match['phi'], match['psi']\n",
    "                # phi_psi_mined.loc[len(phi_psi_mined)] = [res, phi, psi, seq, i, chain, protein_id]\n",
    "                phi_psi_mined_.append([res, phi, psi, seq, i, chain, protein_id])\n",
    "phi_psi_mined = pd.DataFrame(phi_psi_mined_, columns=['res','phi', 'psi', 'seq', 'idx_in_seq', 'chain', 'protein_id'])\n",
    "phi_psi_mined.to_csv('phi_psi_mined.csv', index=False)"
   ]
  },
  {
   "cell_type": "code",
   "execution_count": null,
   "metadata": {},
   "outputs": [],
   "source": [
    "# Get phi_psi's of each prediction\n",
    "\n",
    "def get_phi_psi(protein_id, protein, window_size):\n",
    "    phi_psi = pd.DataFrame(columns=['res','phi', 'psi', 'seq', 'idx_in_seq', 'chain', 'pos_in_chain', 'protein_id'])\n",
    "    chain = list(prediction[0].get_chains())[0]\n",
    "    chain.atom_to_internal_coordinates(verbose=True)\n",
    "    resultDict = structure_rebuild_test(chain)\n",
    "    if not resultDict['pass']:\n",
    "        print(f\"Failed {protein_id} {chain.id}\")\n",
    "        raise Exception('Failed to rebuild')\n",
    "    residues = list(chain.get_residues())\n",
    "    j = 0\n",
    "    seq = ''\n",
    "    for i in range(len(residues)):\n",
    "        # Convert 3 char codes to 1 char codes\n",
    "        if j == 0 and i+window_size < len(residues):\n",
    "            seq = ''.join([amino_acid_codes.get(r.resname, 'X') for r in residues[i:i+window_size]])\n",
    "        key = amino_acid_codes.get(residues[i].resname, 'X')\n",
    "        if not residues[i].internal_coord:\n",
    "            psi,phi = np.nan, np.nan\n",
    "        else:\n",
    "            psi = residues[i].internal_coord.get_angle(\"psi\")\n",
    "            phi = residues[i].internal_coord.get_angle(\"phi\")\n",
    "        psi = psi if psi else np.nan\n",
    "        phi = phi if phi else np.nan\n",
    "        phi_psi.loc[len(phi_psi)] = [key, phi, psi, seq, j, chain.id, residues[i].get_full_id()[3][1], protein.id]\n",
    "        j = (j+1) % window_size\n",
    "    return phi_psi \n",
    "\n",
    "phi_psi_predictions = pd.DataFrame(columns=['res','phi', 'psi', 'seq', 'idx_in_seq', 'chain', 'pos_in_chain', 'protein_id'])\n",
    "for prediction in tqdm(predicted_structures):\n",
    "    with warnings.catch_warnings():\n",
    "        warnings.simplefilter(\"ignore\")\n",
    "        try:\n",
    "            phi_psi_predictions = pd.concat([phi_psi_predictions, get_phi_psi(prediction.id, prediction, WINDOW_SIZE)], ignore_index=True)\n",
    "        except Exception as e:\n",
    "            print(e)\n",
    "phi_psi_predictions.to_csv('phi_psi_predictions.csv', index=False)"
   ]
  },
  {
   "cell_type": "markdown",
   "metadata": {},
   "source": [
    "## Collect by Window"
   ]
  },
  {
   "cell_type": "code",
   "execution_count": 7,
   "metadata": {},
   "outputs": [],
   "source": [
    "# Get phi-psi by window\n",
    "phi_psi_mined_by_window_ = []\n",
    "for seq_win,v in matches.items():\n",
    "    seq = seq_win[4:]\n",
    "    for protein,seq_matches in v.items():\n",
    "        protein_id, chain = protein.split('_')\n",
    "        if protein_id.lower() == pdb_code.lower(): # skip the protein we're looking at\n",
    "            continue\n",
    "        for seq_match in seq_matches:\n",
    "            center_res = seq_match[WINDOW_SIZE//2]\n",
    "            res, phi, psi = center_res.values()\n",
    "            phi_psi_mined_by_window_.append([seq, res, phi, psi, chain, protein_id])\n",
    "phi_psi_mined_by_window = pd.DataFrame(phi_psi_mined_by_window_, columns=['seq', 'res', 'phi', 'psi', 'chain', 'protein_id'])\n",
    "phi_psi_mined_by_window.to_csv('phi_psi_mined_by_window.csv', index=False)"
   ]
  },
  {
   "cell_type": "code",
   "execution_count": 7,
   "metadata": {},
   "outputs": [],
   "source": [
    "phi_psi_mined_by_window = pd.read_csv('phi_psi_mined_by_window.csv')"
   ]
  },
  {
   "cell_type": "code",
   "execution_count": 8,
   "metadata": {},
   "outputs": [
    {
     "name": "stderr",
     "output_type": "stream",
     "text": [
      "  1%|          | 3/512 [00:02<06:39,  1.28it/s]"
     ]
    },
    {
     "name": "stdout",
     "output_type": "stream",
     "text": [
      "Failed T1024TS238_3  \n",
      "Failed to rebuild\n"
     ]
    },
    {
     "name": "stderr",
     "output_type": "stream",
     "text": [
      "  2%|▏         | 10/512 [00:09<07:06,  1.18it/s]"
     ]
    },
    {
     "name": "stdout",
     "output_type": "stream",
     "text": [
      "Failed T1024TS071_2  \n",
      "Failed to rebuild\n"
     ]
    },
    {
     "name": "stderr",
     "output_type": "stream",
     "text": [
      "  5%|▌         | 28/512 [00:29<08:23,  1.04s/it]"
     ]
    },
    {
     "name": "stdout",
     "output_type": "stream",
     "text": [
      "Failed T1024TS458_2  \n",
      "Failed to rebuild\n"
     ]
    },
    {
     "name": "stderr",
     "output_type": "stream",
     "text": [
      " 15%|█▌        | 77/512 [01:15<05:44,  1.26it/s]"
     ]
    },
    {
     "name": "stdout",
     "output_type": "stream",
     "text": [
      "Failed T1024TS364_2  \n",
      "Failed to rebuild\n"
     ]
    },
    {
     "name": "stderr",
     "output_type": "stream",
     "text": [
      " 19%|█▉        | 99/512 [01:38<05:52,  1.17it/s]"
     ]
    },
    {
     "name": "stdout",
     "output_type": "stream",
     "text": [
      "Failed T1024TS458_3  \n",
      "Failed to rebuild\n"
     ]
    },
    {
     "name": "stderr",
     "output_type": "stream",
     "text": [
      " 27%|██▋       | 137/512 [02:14<04:38,  1.35it/s]"
     ]
    },
    {
     "name": "stdout",
     "output_type": "stream",
     "text": [
      "Failed T1024TS368_4  \n",
      "Failed to rebuild\n"
     ]
    },
    {
     "name": "stderr",
     "output_type": "stream",
     "text": [
      " 28%|██▊       | 141/512 [02:17<04:38,  1.33it/s]"
     ]
    },
    {
     "name": "stdout",
     "output_type": "stream",
     "text": [
      "Failed T1024TS024_4  \n",
      "Failed to rebuild\n"
     ]
    },
    {
     "name": "stderr",
     "output_type": "stream",
     "text": [
      " 37%|███▋      | 191/512 [03:10<08:10,  1.53s/it]"
     ]
    },
    {
     "name": "stdout",
     "output_type": "stream",
     "text": [
      "Failed T1024TS238_1  \n",
      "Failed to rebuild\n"
     ]
    },
    {
     "name": "stderr",
     "output_type": "stream",
     "text": [
      " 50%|████▉     | 255/512 [04:11<02:55,  1.46it/s]"
     ]
    },
    {
     "name": "stdout",
     "output_type": "stream",
     "text": [
      "Failed T1024TS458_5  \n",
      "Failed to rebuild\n"
     ]
    },
    {
     "name": "stderr",
     "output_type": "stream",
     "text": [
      " 52%|█████▏    | 264/512 [04:17<02:43,  1.51it/s]"
     ]
    },
    {
     "name": "stdout",
     "output_type": "stream",
     "text": [
      "Failed T1024TS349_3  \n",
      "Failed to rebuild\n"
     ]
    },
    {
     "name": "stderr",
     "output_type": "stream",
     "text": [
      " 62%|██████▏   | 318/512 [05:11<02:35,  1.25it/s]"
     ]
    },
    {
     "name": "stdout",
     "output_type": "stream",
     "text": [
      "Failed T1024TS351_1  \n",
      "Failed to rebuild\n"
     ]
    },
    {
     "name": "stderr",
     "output_type": "stream",
     "text": [
      " 67%|██████▋   | 344/512 [05:38<07:05,  2.53s/it]"
     ]
    },
    {
     "name": "stdout",
     "output_type": "stream",
     "text": [
      "Failed T1024TS364_4  \n",
      "Failed to rebuild\n"
     ]
    },
    {
     "name": "stderr",
     "output_type": "stream",
     "text": [
      " 68%|██████▊   | 348/512 [05:41<03:12,  1.17s/it]"
     ]
    },
    {
     "name": "stdout",
     "output_type": "stream",
     "text": [
      "Failed T1024TS364_1  \n",
      "Failed to rebuild\n"
     ]
    },
    {
     "name": "stderr",
     "output_type": "stream",
     "text": [
      " 69%|██████▉   | 352/512 [05:44<02:16,  1.18it/s]"
     ]
    },
    {
     "name": "stdout",
     "output_type": "stream",
     "text": [
      "Failed T1024TS364_3  \n",
      "Failed to rebuild\n"
     ]
    },
    {
     "name": "stderr",
     "output_type": "stream",
     "text": [
      " 72%|███████▏  | 368/512 [05:56<01:37,  1.47it/s]"
     ]
    },
    {
     "name": "stdout",
     "output_type": "stream",
     "text": [
      "Failed T1024TS349_1  \n",
      "Failed to rebuild\n"
     ]
    },
    {
     "name": "stderr",
     "output_type": "stream",
     "text": [
      " 73%|███████▎  | 373/512 [05:59<01:37,  1.42it/s]"
     ]
    },
    {
     "name": "stdout",
     "output_type": "stream",
     "text": [
      "Failed T1024TS024_5  \n",
      "Failed to rebuild\n"
     ]
    },
    {
     "name": "stderr",
     "output_type": "stream",
     "text": [
      " 74%|███████▎  | 377/512 [06:02<01:38,  1.37it/s]"
     ]
    },
    {
     "name": "stdout",
     "output_type": "stream",
     "text": [
      "Failed T1024TS349_4  \n",
      "Failed to rebuild\n"
     ]
    },
    {
     "name": "stderr",
     "output_type": "stream",
     "text": [
      " 76%|███████▌  | 387/512 [06:19<02:57,  1.42s/it]"
     ]
    },
    {
     "name": "stdout",
     "output_type": "stream",
     "text": [
      "Failed T1024TS107_1  \n",
      "Failed to rebuild\n"
     ]
    },
    {
     "name": "stderr",
     "output_type": "stream",
     "text": [
      " 78%|███████▊  | 397/512 [06:27<01:29,  1.29it/s]"
     ]
    },
    {
     "name": "stdout",
     "output_type": "stream",
     "text": [
      "Failed T1024TS039_5  \n",
      "Failed to rebuild\n"
     ]
    },
    {
     "name": "stderr",
     "output_type": "stream",
     "text": [
      " 82%|████████▏ | 418/512 [06:42<01:07,  1.40it/s]"
     ]
    },
    {
     "name": "stdout",
     "output_type": "stream",
     "text": [
      "Failed T1024TS170_5  \n",
      "Failed to rebuild\n"
     ]
    },
    {
     "name": "stderr",
     "output_type": "stream",
     "text": [
      " 85%|████████▌ | 436/512 [07:05<01:03,  1.20it/s]"
     ]
    },
    {
     "name": "stdout",
     "output_type": "stream",
     "text": [
      "Failed T1024TS349_2  \n",
      "Failed to rebuild\n"
     ]
    },
    {
     "name": "stderr",
     "output_type": "stream",
     "text": [
      " 87%|████████▋ | 446/512 [07:13<00:48,  1.36it/s]"
     ]
    },
    {
     "name": "stdout",
     "output_type": "stream",
     "text": [
      "Failed T1024TS039_2  \n",
      "Failed to rebuild\n"
     ]
    },
    {
     "name": "stderr",
     "output_type": "stream",
     "text": [
      " 88%|████████▊ | 451/512 [07:17<00:42,  1.42it/s]"
     ]
    },
    {
     "name": "stdout",
     "output_type": "stream",
     "text": [
      "Failed T1024TS458_1  \n",
      "Failed to rebuild\n"
     ]
    },
    {
     "name": "stderr",
     "output_type": "stream",
     "text": [
      " 88%|████████▊ | 452/512 [07:17<00:41,  1.45it/s]"
     ]
    },
    {
     "name": "stdout",
     "output_type": "stream",
     "text": [
      "Failed T1024TS349_5  \n",
      "Failed to rebuild\n"
     ]
    },
    {
     "name": "stderr",
     "output_type": "stream",
     "text": [
      " 90%|████████▉ | 459/512 [07:22<00:38,  1.37it/s]"
     ]
    },
    {
     "name": "stdout",
     "output_type": "stream",
     "text": [
      "Failed T1024TS364_5  \n",
      "Failed to rebuild\n"
     ]
    },
    {
     "name": "stderr",
     "output_type": "stream",
     "text": [
      " 91%|█████████ | 464/512 [07:26<00:36,  1.31it/s]"
     ]
    },
    {
     "name": "stdout",
     "output_type": "stream",
     "text": [
      "Failed T1024TS024_3  \n",
      "Failed to rebuild\n"
     ]
    },
    {
     "name": "stderr",
     "output_type": "stream",
     "text": [
      " 91%|█████████ | 465/512 [07:27<00:33,  1.41it/s]"
     ]
    },
    {
     "name": "stdout",
     "output_type": "stream",
     "text": [
      "Failed T1024TS458_4  \n",
      "Failed to rebuild\n"
     ]
    },
    {
     "name": "stderr",
     "output_type": "stream",
     "text": [
      " 95%|█████████▍| 486/512 [07:53<00:20,  1.25it/s]"
     ]
    },
    {
     "name": "stdout",
     "output_type": "stream",
     "text": [
      "Failed T1024TS061_1  \n",
      "Failed to rebuild\n"
     ]
    },
    {
     "name": "stderr",
     "output_type": "stream",
     "text": [
      "100%|██████████| 512/512 [08:12<00:00,  1.04it/s]\n"
     ]
    }
   ],
   "source": [
    "# Get phi_psi's of each prediction\n",
    "\n",
    "def get_phi_psi_by_window(protein_id, protein):\n",
    "    phi_psi_ = []\n",
    "    chain = list(prediction[0].get_chains())[0]\n",
    "    chain.atom_to_internal_coordinates(verbose=False)\n",
    "    resultDict = structure_rebuild_test(chain)\n",
    "    if not resultDict['pass']:\n",
    "        print(f\"Failed {protein_id} {chain.id}\")\n",
    "        raise Exception('Failed to rebuild')\n",
    "    residues = list(chain.get_residues())\n",
    "    for i in range(WINDOW_SIZE//2, len(residues) - WINDOW_SIZE // 2):\n",
    "        # Convert 3 char codes to 1 char codes\n",
    "        seq = ''.join([amino_acid_codes.get(r.resname, 'X') for r in residues[i-WINDOW_SIZE//2:i+WINDOW_SIZE//2+1]])\n",
    "        res = seq[WINDOW_SIZE//2]\n",
    "        if not residues[i].internal_coord:\n",
    "            psi,phi = np.nan, np.nan\n",
    "        else:\n",
    "            psi = residues[i].internal_coord.get_angle(\"psi\")\n",
    "            phi = residues[i].internal_coord.get_angle(\"phi\")\n",
    "            psi = psi if psi else np.nan # if psi is None, set it to np.nan\n",
    "            phi = phi if phi else np.nan # if phi is None, set it to np.nan\n",
    "        phi_psi_.append([seq, res, phi, psi, chain.id, protein.id])\n",
    "    return phi_psi_\n",
    "\n",
    "phi_psi_predictions_ = []\n",
    "for prediction in tqdm(predicted_structures):\n",
    "    with warnings.catch_warnings():\n",
    "        warnings.simplefilter(\"ignore\")\n",
    "        try:\n",
    "            phi_psi_predictions_ += get_phi_psi_by_window(prediction.id, prediction)\n",
    "        except Exception as e:\n",
    "            print(e)\n",
    "phi_psi_predictions_by_window = pd.DataFrame(phi_psi_predictions_, columns=['seq', 'res', 'phi', 'psi', 'chain', 'protein_id'])\n",
    "phi_psi_predictions_by_window.to_csv('phi_psi_predictions_by_window.csv', index=False)"
   ]
  },
  {
   "cell_type": "markdown",
   "metadata": {},
   "source": [
    "# Results - by res"
   ]
  },
  {
   "cell_type": "code",
   "execution_count": 5,
   "metadata": {},
   "outputs": [],
   "source": [
    "phi_psi_mined = pd.read_csv('phi_psi_mined.csv')\n",
    "phi_psi_predictions = pd.read_csv('phi_psi_predictions.csv')"
   ]
  },
  {
   "cell_type": "code",
   "execution_count": 6,
   "metadata": {},
   "outputs": [],
   "source": [
    "phi_psi_mined_filtered = phi_psi_mined.copy()\n",
    "phi_psi_mined_filtered = phi_psi_mined_filtered[phi_psi_mined_filtered.protein_id != pdb_code.upper()]\n",
    "phi_psi_mined_filtered['source'] = 'Query (PDBMine)'\n",
    "phi_psi_predictions['source'] = 'Prediction'"
   ]
  },
  {
   "cell_type": "code",
   "execution_count": 7,
   "metadata": {},
   "outputs": [
    {
     "data": {
      "image/png": "[encoded data removed]",
      "text/plain": [
       "<Figure size 1200x700 with 4 Axes>"
      ]
     },
     "metadata": {},
     "output_type": "display_data"
    }
   ],
   "source": [
    "import seaborn as sns\n",
    "import matplotlib.pyplot as plt\n",
    "import matplotlib.patches as mpatches\n",
    "\n",
    "# Plot PDB\n",
    "\n",
    "fig, axes = plt.subplots(2,2,figsize=(12,7))\n",
    "\n",
    "m=0\n",
    "for i,key in enumerate(phi_psi_mined.res.unique()[m:m+4]):\n",
    "    ax = axes.flatten()[i]\n",
    "    # alphafold: T1024TS427_1\t\n",
    "    phi_psi_alpha = phi_psi_predictions[(phi_psi_predictions.res == key) & (phi_psi_predictions.protein_id == 'T1024TS427_1')]\n",
    "    phi_psi_dist = phi_psi_mined_filtered[phi_psi_mined_filtered.res == key]\n",
    "    sns.kdeplot(data=phi_psi_dist, x='phi', y='psi', ax=ax, fill=True, color='#7490c0', legend=True)\n",
    "    sns.kdeplot(data=phi_psi_alpha, x='phi', y='psi', ax=ax, fill=False, zorder=10, color='#dd8452', legend=True)\n",
    "\n",
    "    ax.set_title(f'Residue {key}')\n",
    "    ax.set_xticks(ax.get_xticks()[::2])\n",
    "    ax.set_yticks(ax.get_yticks()[::2])\n",
    "    ax.set_xlabel('phi' if i > 1 else '')\n",
    "    ax.set_ylabel('psi' if i % 2 == 0 else '')\n",
    "\n",
    "\n",
    "# legend on bottom middle\n",
    "patch1 = mpatches.Patch(color='#7490c0', label='Query (PDBMine)')\n",
    "patch2 = mpatches.Patch(color='#dd8452', label='X-ray (PDB)')\n",
    "fig.legend(handles=[patch1, patch2], loc='lower center', ncol=2)\n",
    "# fig.suptitle(f'Distribution of phi, psi angles for the residues in {protein_id_pdb}')\n",
    "plt.tight_layout()"
   ]
  },
  {
   "cell_type": "code",
   "execution_count": null,
   "metadata": {},
   "outputs": [],
   "source": []
  },
  {
   "cell_type": "code",
   "execution_count": 17,
   "metadata": {},
   "outputs": [
    {
     "name": "stdout",
     "output_type": "stream",
     "text": [
      "0\n",
      "100000\n"
     ]
    }
   ],
   "source": [
    "def get_mahalanobis_dist(x, dist):\n",
    "    # x should be 1 x n_features\n",
    "    # dist should be n_obs x n_features\n",
    "    icov = np.linalg.inv(np.cov(dist.T))\n",
    "    md = (x - dist.mean(axis=0)) @ icov @ (x - dist.mean(axis=0))\n",
    "    if md < 0:\n",
    "        print(x, dist.mean(axis=0), icov)\n",
    "    return np.sqrt(md)\n",
    "\n",
    "def get_maha_for_row(dist_df, row):\n",
    "    res = row['res']\n",
    "    if row.name % 100000 == 0:\n",
    "        print(row.name)\n",
    "    if res == 'X':\n",
    "        return np.nan\n",
    "    phi_psi = dist_df.loc[dist_df.res == res, ['phi','psi']].dropna().values\n",
    "    return get_mahalanobis_dist(row[['phi','psi']].values, phi_psi)\n",
    "\n",
    "with warnings.catch_warnings():\n",
    "    warnings.simplefilter(\"ignore\")\n",
    "    phi_psi_predictions['mahalanobis_dist'] = phi_psi_predictions.apply(lambda x: get_maha_for_row(phi_psi_mined_filtered, x), axis=1)"
   ]
  },
  {
   "cell_type": "code",
   "execution_count": 8,
   "metadata": {},
   "outputs": [],
   "source": [
    "# phi_psi_predictions.to_csv('phi_psi_predictions_mahalanobis.csv', index=False)\n",
    "phi_psi_predictions = pd.read_csv('phi_psi_predictions_maha.csv')"
   ]
  },
  {
   "cell_type": "code",
   "execution_count": 17,
   "metadata": {},
   "outputs": [
    {
     "data": {
      "text/plain": [
       "['RMS_CA', 'RMS_ALL', 'RMSD[L]', 'RMSD[D]']"
      ]
     },
     "execution_count": 17,
     "metadata": {},
     "output_type": "execute_result"
    }
   ],
   "source": [
    "list(filter(lambda x: 'RMS' in x, list(results.columns)))"
   ]
  },
  {
   "cell_type": "code",
   "execution_count": 30,
   "metadata": {},
   "outputs": [
    {
     "data": {
      "text/html": [
       "<div>\n",
       "<style scoped>\n",
       "    .dataframe tbody tr th:only-of-type {\n",
       "        vertical-align: middle;\n",
       "    }\n",
       "\n",
       "    .dataframe tbody tr th {\n",
       "        vertical-align: top;\n",
       "    }\n",
       "\n",
       "    .dataframe thead th {\n",
       "        text-align: right;\n",
       "    }\n",
       "</style>\n",
       "<table border=\"1\" class=\"dataframe\">\n",
       "  <thead>\n",
       "    <tr style=\"text-align: right;\">\n",
       "      <th></th>\n",
       "      <th>protein_id</th>\n",
       "      <th>res</th>\n",
       "      <th>phi</th>\n",
       "      <th>psi</th>\n",
       "      <th>idx_in_seq</th>\n",
       "      <th>pos_in_chain</th>\n",
       "      <th>mahalanobis_dist</th>\n",
       "    </tr>\n",
       "  </thead>\n",
       "  <tbody>\n",
       "    <tr>\n",
       "      <th>0</th>\n",
       "      <td>T1024TS004_1</td>\n",
       "      <td>A</td>\n",
       "      <td>-70.930605</td>\n",
       "      <td>-16.731000</td>\n",
       "      <td>2.102564</td>\n",
       "      <td>189.641026</td>\n",
       "      <td>0.821628</td>\n",
       "    </tr>\n",
       "    <tr>\n",
       "      <th>1</th>\n",
       "      <td>T1024TS004_1</td>\n",
       "      <td>C</td>\n",
       "      <td>-62.098950</td>\n",
       "      <td>-48.468993</td>\n",
       "      <td>4.000000</td>\n",
       "      <td>270.000000</td>\n",
       "      <td>1.085924</td>\n",
       "    </tr>\n",
       "    <tr>\n",
       "      <th>2</th>\n",
       "      <td>T1024TS004_1</td>\n",
       "      <td>D</td>\n",
       "      <td>-79.231050</td>\n",
       "      <td>2.415932</td>\n",
       "      <td>2.222222</td>\n",
       "      <td>179.888889</td>\n",
       "      <td>0.863797</td>\n",
       "    </tr>\n",
       "    <tr>\n",
       "      <th>3</th>\n",
       "      <td>T1024TS004_1</td>\n",
       "      <td>E</td>\n",
       "      <td>-72.937816</td>\n",
       "      <td>20.973139</td>\n",
       "      <td>2.200000</td>\n",
       "      <td>220.700000</td>\n",
       "      <td>1.059299</td>\n",
       "    </tr>\n",
       "    <tr>\n",
       "      <th>4</th>\n",
       "      <td>T1024TS004_1</td>\n",
       "      <td>F</td>\n",
       "      <td>-68.806628</td>\n",
       "      <td>-15.142412</td>\n",
       "      <td>2.121212</td>\n",
       "      <td>172.666667</td>\n",
       "      <td>0.938775</td>\n",
       "    </tr>\n",
       "    <tr>\n",
       "      <th>...</th>\n",
       "      <td>...</td>\n",
       "      <td>...</td>\n",
       "      <td>...</td>\n",
       "      <td>...</td>\n",
       "      <td>...</td>\n",
       "      <td>...</td>\n",
       "      <td>...</td>\n",
       "    </tr>\n",
       "    <tr>\n",
       "      <th>9675</th>\n",
       "      <td>T1024TS498_5</td>\n",
       "      <td>S</td>\n",
       "      <td>-64.370276</td>\n",
       "      <td>-23.840503</td>\n",
       "      <td>2.045455</td>\n",
       "      <td>204.181818</td>\n",
       "      <td>0.978931</td>\n",
       "    </tr>\n",
       "    <tr>\n",
       "      <th>9676</th>\n",
       "      <td>T1024TS498_5</td>\n",
       "      <td>T</td>\n",
       "      <td>-70.766463</td>\n",
       "      <td>-22.178436</td>\n",
       "      <td>2.343750</td>\n",
       "      <td>221.625000</td>\n",
       "      <td>1.231955</td>\n",
       "    </tr>\n",
       "    <tr>\n",
       "      <th>9677</th>\n",
       "      <td>T1024TS498_5</td>\n",
       "      <td>V</td>\n",
       "      <td>-59.314268</td>\n",
       "      <td>-36.669519</td>\n",
       "      <td>2.272727</td>\n",
       "      <td>223.424242</td>\n",
       "      <td>1.372180</td>\n",
       "    </tr>\n",
       "    <tr>\n",
       "      <th>9678</th>\n",
       "      <td>T1024TS498_5</td>\n",
       "      <td>W</td>\n",
       "      <td>-46.879966</td>\n",
       "      <td>-4.390560</td>\n",
       "      <td>2.428571</td>\n",
       "      <td>177.714286</td>\n",
       "      <td>1.206592</td>\n",
       "    </tr>\n",
       "    <tr>\n",
       "      <th>9679</th>\n",
       "      <td>T1024TS498_5</td>\n",
       "      <td>Y</td>\n",
       "      <td>-66.850396</td>\n",
       "      <td>-30.555214</td>\n",
       "      <td>2.692308</td>\n",
       "      <td>180.230769</td>\n",
       "      <td>1.114483</td>\n",
       "    </tr>\n",
       "  </tbody>\n",
       "</table>\n",
       "<p>9680 rows × 7 columns</p>\n",
       "</div>"
      ],
      "text/plain": [
       "        protein_id res        phi        psi  idx_in_seq  pos_in_chain  \\\n",
       "0     T1024TS004_1   A -70.930605 -16.731000    2.102564    189.641026   \n",
       "1     T1024TS004_1   C -62.098950 -48.468993    4.000000    270.000000   \n",
       "2     T1024TS004_1   D -79.231050   2.415932    2.222222    179.888889   \n",
       "3     T1024TS004_1   E -72.937816  20.973139    2.200000    220.700000   \n",
       "4     T1024TS004_1   F -68.806628 -15.142412    2.121212    172.666667   \n",
       "...            ...  ..        ...        ...         ...           ...   \n",
       "9675  T1024TS498_5   S -64.370276 -23.840503    2.045455    204.181818   \n",
       "9676  T1024TS498_5   T -70.766463 -22.178436    2.343750    221.625000   \n",
       "9677  T1024TS498_5   V -59.314268 -36.669519    2.272727    223.424242   \n",
       "9678  T1024TS498_5   W -46.879966  -4.390560    2.428571    177.714286   \n",
       "9679  T1024TS498_5   Y -66.850396 -30.555214    2.692308    180.230769   \n",
       "\n",
       "      mahalanobis_dist  \n",
       "0             0.821628  \n",
       "1             1.085924  \n",
       "2             0.863797  \n",
       "3             1.059299  \n",
       "4             0.938775  \n",
       "...                ...  \n",
       "9675          0.978931  \n",
       "9676          1.231955  \n",
       "9677          1.372180  \n",
       "9678          1.206592  \n",
       "9679          1.114483  \n",
       "\n",
       "[9680 rows x 7 columns]"
      ]
     },
     "execution_count": 30,
     "metadata": {},
     "output_type": "execute_result"
    }
   ],
   "source": [
    "phi_psi_predictions.groupby(['protein_id', 'res'], as_index=False).mean(numeric_only=True)"
   ]
  },
  {
   "cell_type": "code",
   "execution_count": 38,
   "metadata": {},
   "outputs": [
    {
     "data": {
      "text/html": [
       "<div>\n",
       "<style scoped>\n",
       "    .dataframe tbody tr th:only-of-type {\n",
       "        vertical-align: middle;\n",
       "    }\n",
       "\n",
       "    .dataframe tbody tr th {\n",
       "        vertical-align: top;\n",
       "    }\n",
       "\n",
       "    .dataframe thead th {\n",
       "        text-align: right;\n",
       "    }\n",
       "</style>\n",
       "<table border=\"1\" class=\"dataframe\">\n",
       "  <thead>\n",
       "    <tr style=\"text-align: right;\">\n",
       "      <th></th>\n",
       "      <th>res</th>\n",
       "      <th>phi</th>\n",
       "      <th>psi</th>\n",
       "      <th>idx_in_seq</th>\n",
       "      <th>pos_in_chain</th>\n",
       "      <th>mahalanobis_dist</th>\n",
       "    </tr>\n",
       "    <tr>\n",
       "      <th>protein_id</th>\n",
       "      <th></th>\n",
       "      <th></th>\n",
       "      <th></th>\n",
       "      <th></th>\n",
       "      <th></th>\n",
       "      <th></th>\n",
       "    </tr>\n",
       "  </thead>\n",
       "  <tbody>\n",
       "    <tr>\n",
       "      <th>T1024TS140_2</th>\n",
       "      <td>C</td>\n",
       "      <td>-82.603340</td>\n",
       "      <td>-7.580812</td>\n",
       "      <td>4.0</td>\n",
       "      <td>270.0</td>\n",
       "      <td>0.395766</td>\n",
       "    </tr>\n",
       "    <tr>\n",
       "      <th>T1024TS081_4</th>\n",
       "      <td>C</td>\n",
       "      <td>-82.914400</td>\n",
       "      <td>-16.933089</td>\n",
       "      <td>4.0</td>\n",
       "      <td>270.0</td>\n",
       "      <td>0.452270</td>\n",
       "    </tr>\n",
       "    <tr>\n",
       "      <th>T1024TS129_1</th>\n",
       "      <td>C</td>\n",
       "      <td>-81.077691</td>\n",
       "      <td>-19.333285</td>\n",
       "      <td>4.0</td>\n",
       "      <td>270.0</td>\n",
       "      <td>0.490198</td>\n",
       "    </tr>\n",
       "    <tr>\n",
       "      <th>T1024TS131_2</th>\n",
       "      <td>C</td>\n",
       "      <td>-80.288649</td>\n",
       "      <td>-18.435257</td>\n",
       "      <td>4.0</td>\n",
       "      <td>270.0</td>\n",
       "      <td>0.492694</td>\n",
       "    </tr>\n",
       "    <tr>\n",
       "      <th>T1024TS226_1</th>\n",
       "      <td>C</td>\n",
       "      <td>-81.122951</td>\n",
       "      <td>-19.842425</td>\n",
       "      <td>4.0</td>\n",
       "      <td>270.0</td>\n",
       "      <td>0.495388</td>\n",
       "    </tr>\n",
       "    <tr>\n",
       "      <th>...</th>\n",
       "      <td>...</td>\n",
       "      <td>...</td>\n",
       "      <td>...</td>\n",
       "      <td>...</td>\n",
       "      <td>...</td>\n",
       "      <td>...</td>\n",
       "    </tr>\n",
       "    <tr>\n",
       "      <th>T1024TS376_2</th>\n",
       "      <td>C</td>\n",
       "      <td>NaN</td>\n",
       "      <td>-22.947072</td>\n",
       "      <td>4.0</td>\n",
       "      <td>270.0</td>\n",
       "      <td>NaN</td>\n",
       "    </tr>\n",
       "    <tr>\n",
       "      <th>T1024TS376_5</th>\n",
       "      <td>C</td>\n",
       "      <td>-78.624137</td>\n",
       "      <td>NaN</td>\n",
       "      <td>4.0</td>\n",
       "      <td>270.0</td>\n",
       "      <td>NaN</td>\n",
       "    </tr>\n",
       "    <tr>\n",
       "      <th>T1024TS448_1</th>\n",
       "      <td>C</td>\n",
       "      <td>NaN</td>\n",
       "      <td>-34.386912</td>\n",
       "      <td>4.0</td>\n",
       "      <td>270.0</td>\n",
       "      <td>NaN</td>\n",
       "    </tr>\n",
       "    <tr>\n",
       "      <th>T1024TS460_2</th>\n",
       "      <td>C</td>\n",
       "      <td>-55.124389</td>\n",
       "      <td>NaN</td>\n",
       "      <td>4.0</td>\n",
       "      <td>270.0</td>\n",
       "      <td>NaN</td>\n",
       "    </tr>\n",
       "    <tr>\n",
       "      <th>T1024TS460_3</th>\n",
       "      <td>C</td>\n",
       "      <td>-64.924427</td>\n",
       "      <td>NaN</td>\n",
       "      <td>4.0</td>\n",
       "      <td>270.0</td>\n",
       "      <td>NaN</td>\n",
       "    </tr>\n",
       "  </tbody>\n",
       "</table>\n",
       "<p>9680 rows × 6 columns</p>\n",
       "</div>"
      ],
      "text/plain": [
       "             res        phi        psi  idx_in_seq  pos_in_chain  \\\n",
       "protein_id                                                         \n",
       "T1024TS140_2   C -82.603340  -7.580812         4.0         270.0   \n",
       "T1024TS081_4   C -82.914400 -16.933089         4.0         270.0   \n",
       "T1024TS129_1   C -81.077691 -19.333285         4.0         270.0   \n",
       "T1024TS131_2   C -80.288649 -18.435257         4.0         270.0   \n",
       "T1024TS226_1   C -81.122951 -19.842425         4.0         270.0   \n",
       "...           ..        ...        ...         ...           ...   \n",
       "T1024TS376_2   C        NaN -22.947072         4.0         270.0   \n",
       "T1024TS376_5   C -78.624137        NaN         4.0         270.0   \n",
       "T1024TS448_1   C        NaN -34.386912         4.0         270.0   \n",
       "T1024TS460_2   C -55.124389        NaN         4.0         270.0   \n",
       "T1024TS460_3   C -64.924427        NaN         4.0         270.0   \n",
       "\n",
       "              mahalanobis_dist  \n",
       "protein_id                      \n",
       "T1024TS140_2          0.395766  \n",
       "T1024TS081_4          0.452270  \n",
       "T1024TS129_1          0.490198  \n",
       "T1024TS131_2          0.492694  \n",
       "T1024TS226_1          0.495388  \n",
       "...                        ...  \n",
       "T1024TS376_2               NaN  \n",
       "T1024TS376_5               NaN  \n",
       "T1024TS448_1               NaN  \n",
       "T1024TS460_2               NaN  \n",
       "T1024TS460_3               NaN  \n",
       "\n",
       "[9680 rows x 6 columns]"
      ]
     },
     "execution_count": 38,
     "metadata": {},
     "output_type": "execute_result"
    }
   ],
   "source": [
    "phi_psi_predictions.groupby(['res', 'protein_id'], as_index=False).mean(numeric_only=True).sort_values('mahalanobis_dist').set_index('protein_id')"
   ]
  },
  {
   "cell_type": "code",
   "execution_count": 46,
   "metadata": {},
   "outputs": [
    {
     "data": {
      "text/plain": [
       "(0.0, 6.0)"
      ]
     },
     "execution_count": 46,
     "metadata": {},
     "output_type": "execute_result"
    },
    {
     "data": {
      "image/png": "[encoded data removed]",
      "text/plain": [
       "<Figure size 640x480 with 1 Axes>"
      ]
     },
     "metadata": {},
     "output_type": "display_data"
    }
   ],
   "source": [
    "# mean_maha\n",
    "import matplotlib.pyplot as plt\n",
    "group_maha = phi_psi_predictions.groupby(['res', 'protein_id'], as_index=False).mean(numeric_only=True).sort_values('mahalanobis_dist').set_index('protein_id')\n",
    "group_maha = group_maha.join(results.set_index('Model')[['RMS_ALL']], how='right')\n",
    "group_maha = group_maha.groupby('protein_id').max()\n",
    "fig, ax = plt.subplots()\n",
    "sns.scatterplot(data=group_maha, x='RMS_ALL', y='mahalanobis_dist', ax=ax, marker='.', hue='protein_id', legend=False)\n",
    "# ax.set_xlim((0.8,1.4))\n",
    "ax.set_ylim((0,6))"
   ]
  },
  {
   "cell_type": "markdown",
   "metadata": {},
   "source": [
    "# Results - By Window"
   ]
  },
  {
   "cell_type": "code",
   "execution_count": 112,
   "metadata": {},
   "outputs": [],
   "source": [
    "phi_psi_mined_by_window = pd.read_csv('phi_psi_mined_by_window.csv')\n",
    "phi_psi_predictions_by_window = pd.read_csv('phi_psi_predictions_by_window.csv')\n",
    "phi_psi_mined_by_window['source'] = 'Query (PDBMine)'\n",
    "phi_psi_predictions_by_window['source'] = 'Prediction'"
   ]
  },
  {
   "cell_type": "code",
   "execution_count": 47,
   "metadata": {},
   "outputs": [
    {
     "name": "stdout",
     "output_type": "stream",
     "text": [
      "Record id 6T1Z:A, chain A\n",
      "ID: 6T1Z:A\n",
      "Name: 6T1Z:A\n",
      "Description: UNP:Q48658 Q48658_9LACT\n",
      "Database cross-references: UNP:Q48658, UNP:Q48658_9LACT\n",
      "Number of features: 0\n",
      "/chain=A\n",
      "/molecule_type=protein\n",
      "Seq('GKEFWNLDKNLQLRLGIVFLGAFSYGTVFSSMTIYYNQYLGSAITGILLALSAV...FQG')\n"
     ]
    }
   ],
   "source": [
    "for record in SeqIO.parse(xray_fn, \"pdb-seqres\"):\n",
    "    print(\"Record id %s, chain %s\" % (record.id, record.annotations[\"chain\"]))\n",
    "    print(record)\n",
    "residue_chain = str(record.seq)"
   ]
  },
  {
   "cell_type": "code",
   "execution_count": 77,
   "metadata": {},
   "outputs": [
    {
     "data": {
      "image/png": "[encoded data removed]",
      "text/plain": [
       "<Figure size 1200x700 with 1 Axes>"
      ]
     },
     "metadata": {},
     "output_type": "display_data"
    }
   ],
   "source": [
    "import seaborn as sns\n",
    "import matplotlib.pyplot as plt\n",
    "import matplotlib.patches as mpatches\n",
    "\n",
    "fig, axes = plt.subplots(figsize=(12,7))\n",
    "\n",
    "#     ax = axes.flatten()[i]\n",
    "#     # alphafold: T1024TS427_1\t\n",
    "#     phi_psi_alpha = phi_psi_predictions[(phi_psi_predictions.res == key) & (phi_psi_predictions.protein_id == 'T1024TS427_1')]\n",
    "#     phi_psi_dist = phi_psi_mined_filtered[phi_psi_mined_filtered.res == key]\n",
    "#     sns.kdeplot(data=phi_psi_dist, x='phi', y='psi', ax=ax, fill=True, color='#7490c0', legend=True)\n",
    "#     sns.kdeplot(data=phi_psi_alpha, x='phi', y='psi', ax=ax, fill=False, zorder=10, color='#dd8452', legend=True)\n",
    "\n",
    "#     ax.set_title(f'Residue {key}')\n",
    "#     ax.set_xticks(ax.get_xticks()[::2])\n",
    "#     ax.set_yticks(ax.get_yticks()[::2])\n",
    "#     ax.set_xlabel('phi' if i > 1 else '')\n",
    "#     ax.set_ylabel('psi' if i % 2 == 0 else '')\n",
    "\n",
    "seq = phi_psi_mined_by_window.seq.unique()[1]\n",
    "phi_psi_dist = phi_psi_mined_by_window[phi_psi_mined_by_window.seq == seq]\n",
    "phi_psi_alpha = phi_psi_predictions_by_window[(phi_psi_predictions_by_window.protein_id == 'T1024TS427_1') & (phi_psi_predictions_by_window.seq == seq)]\n",
    "sns.kdeplot(data=phi_psi_dist, x='phi', y='psi', ax=axes, fill=True, color='#7490c0', legend=True)\n",
    "plt.plot(phi_psi_alpha.phi, phi_psi_alpha.psi, 'o', color='#dd8452', label='Prediction')\n",
    "\n",
    "# # legend on bottom middle\n",
    "# patch1 = mpatches.Patch(color='#7490c0', label='Query (PDBMine)')\n",
    "# patch2 = mpatches.Patch(color='#dd8452', label='X-ray (PDB)')\n",
    "# fig.legend(handles=[patch1, patch2], loc='lower center', ncol=2)\n",
    "# fig.suptitle(f'Distribution of phi, psi angles for the residues in {protein_id_pdb}')\n",
    "plt.tight_layout()"
   ]
  },
  {
   "cell_type": "code",
   "execution_count": 297,
   "metadata": {},
   "outputs": [],
   "source": [
    "phi_psi_predictions_by_window['mahalanobis_dist'] = np.nan\n",
    "for seq in phi_psi_mined_by_window.seq.unique():\n",
    "    phi_psi = phi_psi_mined_by_window[phi_psi_mined_by_window.seq == seq][['phi','psi']].dropna().values\n",
    "    if phi_psi.shape[0] < 2:\n",
    "        continue\n",
    "    cov = np.cov(phi_psi.T)\n",
    "    if np.linalg.det(cov) == 0:\n",
    "        continue\n",
    "    icov = np.linalg.inv(cov)\n",
    "    preds = phi_psi_predictions_by_window.loc[phi_psi_predictions_by_window.seq == seq][['phi','psi']].values\n",
    "    icov = np.repeat(np.expand_dims(icov, 0), preds.shape[0], axis=0) # expand for batch matrix multiplication\n",
    "    md = (np.expand_dims((preds - phi_psi.mean(axis=0)), 1) @ icov @ np.expand_dims((preds - phi_psi.mean(axis=0)), 2)).squeeze()\n",
    "    if np.any(md < 0):\n",
    "        continue\n",
    "    md = np.sqrt(md)\n",
    "    phi_psi_predictions_by_window.loc[phi_psi_predictions_by_window.seq == seq, 'mahalanobis_dist'] = md"
   ]
  },
  {
   "cell_type": "code",
   "execution_count": 313,
   "metadata": {},
   "outputs": [],
   "source": [
    "phi_psi_predictions_by_window.to_csv('phi_psi_predictions_by_window_maha.csv', index=False)"
   ]
  },
  {
   "cell_type": "code",
   "execution_count": 345,
   "metadata": {},
   "outputs": [
    {
     "data": {
      "text/html": [
       "<div>\n",
       "<style scoped>\n",
       "    .dataframe tbody tr th:only-of-type {\n",
       "        vertical-align: middle;\n",
       "    }\n",
       "\n",
       "    .dataframe tbody tr th {\n",
       "        vertical-align: top;\n",
       "    }\n",
       "\n",
       "    .dataframe thead th {\n",
       "        text-align: right;\n",
       "    }\n",
       "</style>\n",
       "<table border=\"1\" class=\"dataframe\">\n",
       "  <thead>\n",
       "    <tr style=\"text-align: right;\">\n",
       "      <th></th>\n",
       "      <th>protein_id</th>\n",
       "      <th>phi</th>\n",
       "      <th>psi</th>\n",
       "      <th>mahalanobis_dist</th>\n",
       "      <th>Model</th>\n",
       "      <th>RMS_ALL</th>\n",
       "    </tr>\n",
       "  </thead>\n",
       "  <tbody>\n",
       "    <tr>\n",
       "      <th>0</th>\n",
       "      <td>T1024TS004_1</td>\n",
       "      <td>-28190.444943</td>\n",
       "      <td>-3252.197094</td>\n",
       "      <td>8.484913e+09</td>\n",
       "      <td>T1024TS004_1</td>\n",
       "      <td>25.296</td>\n",
       "    </tr>\n",
       "    <tr>\n",
       "      <th>1</th>\n",
       "      <td>T1024TS004_2</td>\n",
       "      <td>-28146.523142</td>\n",
       "      <td>-3234.629680</td>\n",
       "      <td>8.488801e+09</td>\n",
       "      <td>T1024TS004_2</td>\n",
       "      <td>22.468</td>\n",
       "    </tr>\n",
       "    <tr>\n",
       "      <th>2</th>\n",
       "      <td>T1024TS004_3</td>\n",
       "      <td>-28152.504328</td>\n",
       "      <td>-3301.725501</td>\n",
       "      <td>8.493832e+09</td>\n",
       "      <td>T1024TS004_3</td>\n",
       "      <td>25.095</td>\n",
       "    </tr>\n",
       "    <tr>\n",
       "      <th>3</th>\n",
       "      <td>T1024TS004_4</td>\n",
       "      <td>-28150.105770</td>\n",
       "      <td>-3455.868714</td>\n",
       "      <td>8.487125e+09</td>\n",
       "      <td>T1024TS004_4</td>\n",
       "      <td>42.649</td>\n",
       "    </tr>\n",
       "    <tr>\n",
       "      <th>4</th>\n",
       "      <td>T1024TS004_5</td>\n",
       "      <td>-28107.101504</td>\n",
       "      <td>-3439.023820</td>\n",
       "      <td>8.484714e+09</td>\n",
       "      <td>T1024TS004_5</td>\n",
       "      <td>40.184</td>\n",
       "    </tr>\n",
       "    <tr>\n",
       "      <th>...</th>\n",
       "      <td>...</td>\n",
       "      <td>...</td>\n",
       "      <td>...</td>\n",
       "      <td>...</td>\n",
       "      <td>...</td>\n",
       "      <td>...</td>\n",
       "    </tr>\n",
       "    <tr>\n",
       "      <th>479</th>\n",
       "      <td>T1024TS498_1</td>\n",
       "      <td>-27303.409984</td>\n",
       "      <td>-10426.315166</td>\n",
       "      <td>1.483601e+10</td>\n",
       "      <td>T1024TS498_1</td>\n",
       "      <td>4.560</td>\n",
       "    </tr>\n",
       "    <tr>\n",
       "      <th>480</th>\n",
       "      <td>T1024TS498_2</td>\n",
       "      <td>-26693.264252</td>\n",
       "      <td>-9990.391627</td>\n",
       "      <td>1.423974e+10</td>\n",
       "      <td>T1024TS498_2</td>\n",
       "      <td>4.074</td>\n",
       "    </tr>\n",
       "    <tr>\n",
       "      <th>481</th>\n",
       "      <td>T1024TS498_3</td>\n",
       "      <td>-26061.115368</td>\n",
       "      <td>-9936.279381</td>\n",
       "      <td>1.397413e+10</td>\n",
       "      <td>T1024TS498_3</td>\n",
       "      <td>4.083</td>\n",
       "    </tr>\n",
       "    <tr>\n",
       "      <th>482</th>\n",
       "      <td>T1024TS498_4</td>\n",
       "      <td>-25750.823561</td>\n",
       "      <td>-10621.087916</td>\n",
       "      <td>1.401125e+10</td>\n",
       "      <td>T1024TS498_4</td>\n",
       "      <td>4.094</td>\n",
       "    </tr>\n",
       "    <tr>\n",
       "      <th>483</th>\n",
       "      <td>T1024TS498_5</td>\n",
       "      <td>-25390.903592</td>\n",
       "      <td>-10409.982139</td>\n",
       "      <td>1.410440e+10</td>\n",
       "      <td>T1024TS498_5</td>\n",
       "      <td>4.112</td>\n",
       "    </tr>\n",
       "  </tbody>\n",
       "</table>\n",
       "<p>484 rows × 6 columns</p>\n",
       "</div>"
      ],
      "text/plain": [
       "       protein_id           phi           psi  mahalanobis_dist         Model  \\\n",
       "0    T1024TS004_1 -28190.444943  -3252.197094      8.484913e+09  T1024TS004_1   \n",
       "1    T1024TS004_2 -28146.523142  -3234.629680      8.488801e+09  T1024TS004_2   \n",
       "2    T1024TS004_3 -28152.504328  -3301.725501      8.493832e+09  T1024TS004_3   \n",
       "3    T1024TS004_4 -28150.105770  -3455.868714      8.487125e+09  T1024TS004_4   \n",
       "4    T1024TS004_5 -28107.101504  -3439.023820      8.484714e+09  T1024TS004_5   \n",
       "..            ...           ...           ...               ...           ...   \n",
       "479  T1024TS498_1 -27303.409984 -10426.315166      1.483601e+10  T1024TS498_1   \n",
       "480  T1024TS498_2 -26693.264252  -9990.391627      1.423974e+10  T1024TS498_2   \n",
       "481  T1024TS498_3 -26061.115368  -9936.279381      1.397413e+10  T1024TS498_3   \n",
       "482  T1024TS498_4 -25750.823561 -10621.087916      1.401125e+10  T1024TS498_4   \n",
       "483  T1024TS498_5 -25390.903592 -10409.982139      1.410440e+10  T1024TS498_5   \n",
       "\n",
       "     RMS_ALL  \n",
       "0     25.296  \n",
       "1     22.468  \n",
       "2     25.095  \n",
       "3     42.649  \n",
       "4     40.184  \n",
       "..       ...  \n",
       "479    4.560  \n",
       "480    4.074  \n",
       "481    4.083  \n",
       "482    4.094  \n",
       "483    4.112  \n",
       "\n",
       "[484 rows x 6 columns]"
      ]
     },
     "execution_count": 345,
     "metadata": {},
     "output_type": "execute_result"
    }
   ],
   "source": [
    "group_maha"
   ]
  },
  {
   "cell_type": "code",
   "execution_count": 348,
   "metadata": {},
   "outputs": [
    {
     "data": {
      "text/plain": [
       "[<matplotlib.lines.Line2D at 0x73bb0a8894e0>]"
      ]
     },
     "execution_count": 348,
     "metadata": {},
     "output_type": "execute_result"
    },
    {
     "data": {
      "image/png": "[encoded data removed]",
      "text/plain": [
       "<Figure size 640x480 with 1 Axes>"
      ]
     },
     "metadata": {},
     "output_type": "display_data"
    }
   ],
   "source": [
    "# Compare rmsd and mahalanobis distance\n",
    "import matplotlib.pyplot as plt\n",
    "group_maha = phi_psi_predictions_by_window.groupby(['protein_id'], as_index=False).mean(numeric_only=True)#.sort_values('mahalanobis_dist').set_index('protein_id').dropna()\n",
    "group_maha = group_maha.merge(results[['Model', 'RMS_ALL']], left_on='protein_id', right_on='Model', how='inner')\n",
    "group_maha\n",
    "fig, ax = plt.subplots()\n",
    "sns.scatterplot(data=group_maha, x='RMS_ALL', y='mahalanobis_dist', ax=ax, marker='.', hue='protein_id', legend=False)\n",
    "sns.regplot(data=group_maha, x='RMS_ALL', y='mahalanobis_dist', ax=ax, scatter=False)\n",
    "plt.plot(group_maha[group_maha.protein_id == 'T1024TS427_1']['RMS_ALL'], group_maha[group_maha.protein_id == 'T1024TS427_1']['mahalanobis_dist'], 'o', color='red', label='Alphafold')\n",
    "# # ax.set_xlim((0.8,1.4))\n",
    "# ax.set_ylim((0,6))"
   ]
  },
  {
   "cell_type": "code",
   "execution_count": 362,
   "metadata": {},
   "outputs": [
    {
     "name": "stdout",
     "output_type": "stream",
     "text": [
      "(2, 7)\n",
      "(8, 7)\n",
      "(5, 7)\n",
      "(8, 7)\n"
     ]
    },
    {
     "data": {
      "image/png": "[encoded data removed]",
      "text/plain": [
       "<Figure size 1200x700 with 4 Axes>"
      ]
     },
     "metadata": {},
     "output_type": "display_data"
    }
   ],
   "source": [
    "# plot dists with highest mahalanobis distance for alphafold\n",
    "phi_psi_alpha = phi_psi_predictions_by_window[phi_psi_predictions_by_window.protein_id == 'T1024TS427_1']\n",
    "seqs_with_highest_maha = phi_psi_alpha.sort_values('mahalanobis_dist', ascending=False).head(16).seq.values\n",
    "\n",
    "m = 0\n",
    "fig, axes = plt.subplots(2,2,figsize=(12,7))\n",
    "for i,seq in enumerate(seqs_with_highest_maha[m:m+4]):\n",
    "    phi_psi_dist = phi_psi_mined_by_window[phi_psi_mined_by_window.seq == seq]\n",
    "    print(phi_psi_dist.shape)\n",
    "    phi_psi_alpha_seq = phi_psi_alpha[phi_psi_alpha.seq == seq]\n",
    "    ax = axes.flatten()[i]\n",
    "    sns.kdeplot(data=phi_psi_dist, x='phi', y='psi', ax=ax, fill=True, color='#7490c0', legend=True)\n",
    "    ax.plot(phi_psi_alpha_seq.phi, phi_psi_alpha_seq.psi, 'o', color='#dd8452', label='Prediction')\n"
   ]
  }
 ],
 "metadata": {
  "kernelspec": {
   "display_name": ".venv",
   "language": "python",
   "name": "python3"
  },
  "language_info": {
   "codemirror_mode": {
    "name": "ipython",
    "version": 3
   },
   "file_extension": ".py",
   "mimetype": "text/x-python",
   "name": "python",
   "nbconvert_exporter": "python",
   "pygments_lexer": "ipython3",
   "version": "3.10.12"
  }
 },
 "nbformat": 4,
 "nbformat_minor": 2
}
