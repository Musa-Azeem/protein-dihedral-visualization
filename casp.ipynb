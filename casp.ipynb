{
 "cells": [
  {
   "cell_type": "code",
   "execution_count": 1,
   "metadata": {},
   "outputs": [
    {
     "data": {
      "text/plain": [
       "True"
      ]
     },
     "execution_count": 1,
     "metadata": {},
     "output_type": "execute_result"
    }
   ],
   "source": [
    "from pathlib import Path\n",
    "from Bio.PDB import PDBList, PDBParser\n",
    "import os\n",
    "from tqdm import tqdm\n",
    "import warnings\n",
    "import pandas as pd\n",
    "from Bio import SeqIO\n",
    "from dotenv import load_dotenv\n",
    "import os\n",
    "import requests\n",
    "import time\n",
    "import json\n",
    "from Bio.PDB.ic_rebuild import structure_rebuild_test\n",
    "import numpy as np\n",
    "import sys\n",
    "import seaborn as sns\n",
    "\n",
    "load_dotenv()"
   ]
  },
  {
   "cell_type": "code",
   "execution_count": 2,
   "metadata": {},
   "outputs": [],
   "source": [
    "WINDOW_SIZE = 3\n",
    "PDBMINE_URL = os.getenv(\"PDBMINE_URL\")\n",
    "casp_protein_id = 'T1024'\n",
    "pdb_code = '6t1z'"
   ]
  },
  {
   "cell_type": "code",
   "execution_count": 3,
   "metadata": {},
   "outputs": [],
   "source": [
    "amino_acid_codes = {\n",
    "    \"ALA\": \"A\",\n",
    "    \"ARG\": \"R\",\n",
    "    \"ASN\": \"N\",\n",
    "    \"ASP\": \"D\",\n",
    "    \"CYS\": \"C\",\n",
    "    \"GLN\": \"Q\",\n",
    "    \"GLU\": \"E\",\n",
    "    \"GLY\": \"G\",\n",
    "    \"HIS\": \"H\",\n",
    "    \"ILE\": \"I\",\n",
    "    \"LEU\": \"L\",\n",
    "    \"LYS\": \"K\",\n",
    "    \"MET\": \"M\",\n",
    "    \"PHE\": \"F\",\n",
    "    \"PRO\": \"P\",\n",
    "    \"SER\": \"S\",\n",
    "    \"THR\": \"T\",\n",
    "    \"TRP\": \"W\",\n",
    "    \"TYR\": \"Y\",\n",
    "    \"VAL\": \"V\"\n",
    "}"
   ]
  },
  {
   "cell_type": "code",
   "execution_count": 4,
   "metadata": {},
   "outputs": [
    {
     "name": "stdout",
     "output_type": "stream",
     "text": [
      "Structure exists: 'pdb/pdb6t1z.ent' \n"
     ]
    }
   ],
   "source": [
    "# Get X-ray pdb\n",
    "pdbl = PDBList()\n",
    "parser = PDBParser()\n",
    "xray_fn = pdbl.retrieve_pdb_file(pdb_code, pdir='pdb', file_format='pdb', obsolete=False)\n",
    "\n",
    "# Get CASP predictions\n",
    "predictions_url = f'https://predictioncenter.org/download_area/CASP14/predictions/regular/{casp_protein_id}.tar.gz'\n",
    "predictions_dir = Path(f'./casp-predictions/')\n",
    "predictions_dir.mkdir(exist_ok=True)\n",
    "# os.system(f'wget -O {predictions_dir}/{casp_protein_id}.tar.gz {predictions_url}')\n",
    "# os.system(f'tar -xvf {predictions_dir}/{casp_protein_id}.tar.gz -C {predictions_dir}')\n",
    "\n",
    "# Get CASP results\n",
    "results_url = 'https://predictioncenter.org/download_area/CASP14/results/tables/casp14.res_tables.T.tar.gz'\n",
    "results_dir = Path('casp-results')\n",
    "results_dir.mkdir(exist_ok=True)\n",
    "# os.system(f'wget -O {results_dir / \"casp14.res_tables.T.tar.gz\"} {results_url}')\n",
    "# os.system(f'tar -xvf {results_dir / \"casp14.res_tables.T.tar.gz\"} -C {results_dir}')\n",
    "results_file = results_dir / f'{casp_protein_id}.txt'"
   ]
  },
  {
   "cell_type": "code",
   "execution_count": 5,
   "metadata": {},
   "outputs": [
    {
     "name": "stderr",
     "output_type": "stream",
     "text": [
      "0it [00:00, ?it/s]"
     ]
    },
    {
     "name": "stderr",
     "output_type": "stream",
     "text": [
      "512it [00:19, 26.37it/s]\n"
     ]
    }
   ],
   "source": [
    "# Get structures\n",
    "xray = parser.get_structure(pdb_code, xray_fn)\n",
    "\n",
    "predicted_structures = []\n",
    "for prediction_pdb in tqdm((predictions_dir / casp_protein_id).iterdir()):\n",
    "    with warnings.catch_warnings():\n",
    "        warnings.simplefilter(\"ignore\")\n",
    "        predicted_structures.append(parser.get_structure(prediction_pdb.name, prediction_pdb))"
   ]
  },
  {
   "cell_type": "code",
   "execution_count": 6,
   "metadata": {},
   "outputs": [],
   "source": [
    "results = pd.read_csv(results_file, delim_whitespace=True)\n",
    "results = results[results.columns[1:]]"
   ]
  },
  {
   "cell_type": "markdown",
   "metadata": {},
   "source": [
    "# PDBMine"
   ]
  },
  {
   "cell_type": "code",
   "execution_count": 51,
   "metadata": {},
   "outputs": [
    {
     "name": "stdout",
     "output_type": "stream",
     "text": [
      "Record id 6T1Z:A, chain A\n",
      "ID: 6T1Z:A\n",
      "Name: 6T1Z:A\n",
      "Description: UNP:Q48658 Q48658_9LACT\n",
      "Database cross-references: UNP:Q48658, UNP:Q48658_9LACT\n",
      "Number of features: 0\n",
      "/chain=A\n",
      "/molecule_type=protein\n",
      "Seq('GKEFWNLDKNLQLRLGIVFLGAFSYGTVFSSMTIYYNQYLGSAITGILLALSAV...FQG')\n"
     ]
    },
    {
     "name": "stderr",
     "output_type": "stream",
     "text": [
      "  0%|          | 0/5 [00:00<?, ?it/s]"
     ]
    },
    {
     "name": "stdout",
     "output_type": "stream",
     "text": [
      "{'status': 'Running', 'queryID': 'e2d24f29-f817-11ee-9841-0242ac110002'}\n",
      "Waiting\n",
      "Waiting\n",
      "Waiting\n"
     ]
    },
    {
     "name": "stderr",
     "output_type": "stream",
     "text": [
      " 20%|██        | 1/5 [01:42<06:51, 102.82s/it]"
     ]
    },
    {
     "name": "stdout",
     "output_type": "stream",
     "text": [
      "Received matches\n",
      "{'status': 'Running', 'queryID': '201be30f-f818-11ee-9841-0242ac110002'}\n",
      "Waiting\n",
      "Waiting\n",
      "Waiting\n"
     ]
    },
    {
     "name": "stderr",
     "output_type": "stream",
     "text": [
      " 40%|████      | 2/5 [03:17<04:54, 98.26s/it] "
     ]
    },
    {
     "name": "stdout",
     "output_type": "stream",
     "text": [
      "Received matches\n",
      "{'status': 'Running', 'queryID': '58c5d5d5-f818-11ee-9841-0242ac110002'}\n",
      "Waiting\n",
      "Waiting\n",
      "Waiting\n"
     ]
    },
    {
     "name": "stderr",
     "output_type": "stream",
     "text": [
      " 60%|██████    | 3/5 [04:45<03:07, 93.57s/it]"
     ]
    },
    {
     "name": "stdout",
     "output_type": "stream",
     "text": [
      "Received matches\n",
      "{'status': 'Running', 'queryID': '8d36c06b-f818-11ee-9841-0242ac110002'}\n",
      "Waiting\n",
      "Waiting\n",
      "Waiting\n"
     ]
    },
    {
     "name": "stderr",
     "output_type": "stream",
     "text": [
      " 80%|████████  | 4/5 [06:28<01:37, 97.11s/it]"
     ]
    },
    {
     "name": "stdout",
     "output_type": "stream",
     "text": [
      "Received matches\n",
      "{'status': 'Running', 'queryID': 'ca54789b-f818-11ee-9841-0242ac110002'}\n"
     ]
    },
    {
     "name": "stderr",
     "output_type": "stream",
     "text": [
      "100%|██████████| 5/5 [06:48<00:00, 81.68s/it]"
     ]
    },
    {
     "name": "stdout",
     "output_type": "stream",
     "text": [
      "Received matches\n"
     ]
    },
    {
     "name": "stderr",
     "output_type": "stream",
     "text": [
      "\n"
     ]
    }
   ],
   "source": [
    "# Get Phi-Psi distribution from PDBMine\n",
    "for record in SeqIO.parse(xray_fn, \"pdb-seqres\"):\n",
    "    print(\"Record id %s, chain %s\" % (record.id, record.annotations[\"chain\"]))\n",
    "    print(record)\n",
    "residue_chain = str(record.seq)\n",
    "code_length = 1\n",
    "broken_chains = []\n",
    "# break into sections of length 100\n",
    "for i in range(0, len(residue_chain), 100-WINDOW_SIZE+1):\n",
    "    broken_chains.append(residue_chain[i:i+100])\n",
    "\n",
    "matches = {}\n",
    "for chain in tqdm(broken_chains):\n",
    "    if len(chain) < WINDOW_SIZE:\n",
    "        continue\n",
    "    response = requests.post(\n",
    "        PDBMINE_URL + '/v1/api/query',\n",
    "        json={\n",
    "            \"residueChain\": chain,\n",
    "            \"codeLength\": code_length,\n",
    "            \"windowSize\": WINDOW_SIZE\n",
    "        }\n",
    "    )\n",
    "    assert(response.ok)\n",
    "    print(response.json())\n",
    "    query_id = response.json().get('queryID')\n",
    "    assert(query_id)\n",
    "\n",
    "    time.sleep(15)\n",
    "    while(True):\n",
    "        response = requests.get(PDBMINE_URL + f'/v1/api/query/{query_id}')\n",
    "        if response.ok:\n",
    "            matchesi = response.json()['frames']\n",
    "            break\n",
    "        else:\n",
    "            print('Waiting')\n",
    "            time.sleep(15)\n",
    "    print('Received matches')\n",
    "    matches.update(matchesi)\n",
    "json.dump(matches, open('matches.json', 'w'), indent=4)"
   ]
  },
  {
   "cell_type": "code",
   "execution_count": 17,
   "metadata": {},
   "outputs": [],
   "source": [
    "matches = json.load(open('matches.json'))"
   ]
  },
  {
   "cell_type": "code",
   "execution_count": 7,
   "metadata": {},
   "outputs": [
    {
     "ename": "NameError",
     "evalue": "name 'matches' is not defined",
     "output_type": "error",
     "traceback": [
      "\u001b[0;31m---------------------------------------------------------------------------\u001b[0m",
      "\u001b[0;31mNameError\u001b[0m                                 Traceback (most recent call last)",
      "Cell \u001b[0;32mIn[7], line 3\u001b[0m\n\u001b[1;32m      1\u001b[0m \u001b[38;5;66;03m# Get phi-psi by window\u001b[39;00m\n\u001b[1;32m      2\u001b[0m phi_psi_mined_by_window_ \u001b[38;5;241m=\u001b[39m []\n\u001b[0;32m----> 3\u001b[0m \u001b[38;5;28;01mfor\u001b[39;00m seq_win,v \u001b[38;5;129;01min\u001b[39;00m \u001b[43mmatches\u001b[49m\u001b[38;5;241m.\u001b[39mitems():\n\u001b[1;32m      4\u001b[0m     seq \u001b[38;5;241m=\u001b[39m seq_win\u001b[38;5;66;03m#[4:]\u001b[39;00m\n\u001b[1;32m      5\u001b[0m     \u001b[38;5;28;01mfor\u001b[39;00m protein,seq_matches \u001b[38;5;129;01min\u001b[39;00m v\u001b[38;5;241m.\u001b[39mitems():\n",
      "\u001b[0;31mNameError\u001b[0m: name 'matches' is not defined"
     ]
    }
   ],
   "source": [
    "# Get phi-psi by window\n",
    "phi_psi_mined_by_window_ = []\n",
    "for seq_win,v in matches.items():\n",
    "    seq = seq_win#[4:]\n",
    "    for protein,seq_matches in v.items():\n",
    "        protein_id, chain = protein.split('_')\n",
    "        if protein_id.lower() == pdb_code.lower(): # skip the protein we're looking at\n",
    "            continue\n",
    "        for seq_match in seq_matches:\n",
    "            center_res = seq_match[WINDOW_SIZE//2]\n",
    "            res, phi, psi = center_res.values()\n",
    "            phi_psi_mined_by_window_.append([seq, res, phi, psi, chain, protein_id])\n",
    "\n",
    "phi_psi_mined_by_window = pd.DataFrame(phi_psi_mined_by_window_, columns=['seq', 'res', 'phi', 'psi', 'chain', 'protein_id'])\n",
    "seq_map = {seq.split('_')[1]:seq for seq in phi_psi_mined_by_window['seq'].unique()}\n",
    "phi_psi_mined_by_window.to_csv('phi_psi_mined_by_window.csv', index=False)"
   ]
  },
  {
   "cell_type": "code",
   "execution_count": 8,
   "metadata": {},
   "outputs": [],
   "source": [
    "phi_psi_mined_by_window = pd.read_csv('phi_psi_mined_by_window.csv')\n",
    "seq_map = {seq.split('_')[1]:seq for seq in phi_psi_mined_by_window['seq'].unique()}"
   ]
  },
  {
   "cell_type": "markdown",
   "metadata": {},
   "source": [
    "# Collect by Window - Xray and predictions"
   ]
  },
  {
   "cell_type": "code",
   "execution_count": 17,
   "metadata": {},
   "outputs": [],
   "source": [
    "xray_structure = parser.get_structure(pdb_code, xray_fn)\n",
    "xray_chain = list(xray_structure[0].get_chains())[0]\n",
    "xray_chain.atom_to_internal_coordinates(verbose=False)\n",
    "resultDict = structure_rebuild_test(xray_chain)\n",
    "if not resultDict['pass']:\n",
    "    raise Exception('Failed to rebuild')\n",
    "xray_residues = list(xray_chain.get_residues())\n",
    "xray_phi_psi = []\n",
    "for i in range(WINDOW_SIZE//2, len(xray_residues) - WINDOW_SIZE // 2):\n",
    "    # Convert 3 char codes to 1 char codes\n",
    "    seq = ''.join([amino_acid_codes.get(r.resname, 'X') for r in xray_residues[i-WINDOW_SIZE//2:i+WINDOW_SIZE//2+1]])\n",
    "    seq = seq_map.get(seq, f'{i-WINDOW_SIZE//2:03}_{seq}')\n",
    "    res = seq[-WINDOW_SIZE//2]\n",
    "    if not xray_residues[i].internal_coord:\n",
    "        psi,phi = np.nan, np.nan\n",
    "    else:\n",
    "        psi = xray_residues[i].internal_coord.get_angle(\"psi\")\n",
    "        phi = xray_residues[i].internal_coord.get_angle(\"phi\")\n",
    "        psi = psi if psi else np.nan # if psi is None, set it to np.nan\n",
    "        phi = phi if phi else np.nan # if phi is None, set it to np.nan\n",
    "    xray_phi_psi.append([seq, res, phi, psi, xray_chain.id, xray_structure.id])\n",
    "xray_phi_psi = pd.DataFrame(xray_phi_psi, columns=['seq', 'res', 'phi', 'psi', 'chain', 'protein_id'])\n",
    "xray_phi_psi.to_csv('xray_phi_psi.csv', index=False)"
   ]
  },
  {
   "cell_type": "code",
   "execution_count": 10,
   "metadata": {},
   "outputs": [
    {
     "name": "stderr",
     "output_type": "stream",
     "text": [
      "  8%|▊         | 18/212 [00:19<03:31,  1.09s/it]"
     ]
    },
    {
     "name": "stdout",
     "output_type": "stream",
     "text": [
      "Failed to rebuild T1024TS351_1  \n"
     ]
    },
    {
     "name": "stderr",
     "output_type": "stream",
     "text": [
      " 21%|██        | 44/212 [00:45<03:07,  1.11s/it]"
     ]
    },
    {
     "name": "stdout",
     "output_type": "stream",
     "text": [
      "Failed to rebuild T1024TS364_4  \n"
     ]
    },
    {
     "name": "stderr",
     "output_type": "stream",
     "text": [
      " 23%|██▎       | 48/212 [00:48<02:15,  1.21it/s]"
     ]
    },
    {
     "name": "stdout",
     "output_type": "stream",
     "text": [
      "Failed to rebuild T1024TS364_1  \n"
     ]
    },
    {
     "name": "stderr",
     "output_type": "stream",
     "text": [
      " 25%|██▍       | 52/212 [00:51<02:03,  1.30it/s]"
     ]
    },
    {
     "name": "stdout",
     "output_type": "stream",
     "text": [
      "Failed to rebuild T1024TS364_3  \n"
     ]
    },
    {
     "name": "stderr",
     "output_type": "stream",
     "text": [
      " 32%|███▏      | 68/212 [01:08<02:07,  1.13it/s]"
     ]
    },
    {
     "name": "stdout",
     "output_type": "stream",
     "text": [
      "Failed to rebuild T1024TS349_1  \n"
     ]
    },
    {
     "name": "stderr",
     "output_type": "stream",
     "text": [
      " 34%|███▍      | 73/212 [01:12<01:42,  1.35it/s]"
     ]
    },
    {
     "name": "stdout",
     "output_type": "stream",
     "text": [
      "Failed to rebuild T1024TS024_5  \n"
     ]
    },
    {
     "name": "stderr",
     "output_type": "stream",
     "text": [
      " 36%|███▋      | 77/212 [01:18<03:51,  1.71s/it]"
     ]
    },
    {
     "name": "stdout",
     "output_type": "stream",
     "text": [
      "Failed to rebuild T1024TS349_4  \n"
     ]
    },
    {
     "name": "stderr",
     "output_type": "stream",
     "text": [
      " 41%|████      | 87/212 [01:25<01:39,  1.26it/s]"
     ]
    },
    {
     "name": "stdout",
     "output_type": "stream",
     "text": [
      "Failed to rebuild T1024TS107_1  \n"
     ]
    },
    {
     "name": "stderr",
     "output_type": "stream",
     "text": [
      " 46%|████▌     | 97/212 [01:36<01:38,  1.17it/s]"
     ]
    },
    {
     "name": "stdout",
     "output_type": "stream",
     "text": [
      "Failed to rebuild T1024TS039_5  \n"
     ]
    },
    {
     "name": "stderr",
     "output_type": "stream",
     "text": [
      " 56%|█████▌    | 118/212 [01:56<01:07,  1.38it/s]"
     ]
    },
    {
     "name": "stdout",
     "output_type": "stream",
     "text": [
      "Failed to rebuild T1024TS170_5  \n"
     ]
    },
    {
     "name": "stderr",
     "output_type": "stream",
     "text": [
      " 64%|██████▍   | 136/212 [02:13<00:54,  1.38it/s]"
     ]
    },
    {
     "name": "stdout",
     "output_type": "stream",
     "text": [
      "Failed to rebuild T1024TS349_2  \n"
     ]
    },
    {
     "name": "stderr",
     "output_type": "stream",
     "text": [
      " 69%|██████▉   | 146/212 [02:25<01:10,  1.06s/it]"
     ]
    },
    {
     "name": "stdout",
     "output_type": "stream",
     "text": [
      "Failed to rebuild T1024TS039_2  \n"
     ]
    },
    {
     "name": "stderr",
     "output_type": "stream",
     "text": [
      " 71%|███████   | 151/212 [02:28<00:47,  1.28it/s]"
     ]
    },
    {
     "name": "stdout",
     "output_type": "stream",
     "text": [
      "Failed to rebuild T1024TS458_1  \n"
     ]
    },
    {
     "name": "stderr",
     "output_type": "stream",
     "text": [
      " 72%|███████▏  | 152/212 [02:29<00:43,  1.38it/s]"
     ]
    },
    {
     "name": "stdout",
     "output_type": "stream",
     "text": [
      "Failed to rebuild T1024TS349_5  \n"
     ]
    },
    {
     "name": "stderr",
     "output_type": "stream",
     "text": [
      " 75%|███████▌  | 159/212 [02:34<00:41,  1.28it/s]"
     ]
    },
    {
     "name": "stdout",
     "output_type": "stream",
     "text": [
      "Failed to rebuild T1024TS364_5  \n"
     ]
    },
    {
     "name": "stderr",
     "output_type": "stream",
     "text": [
      " 77%|███████▋  | 164/212 [02:44<01:28,  1.85s/it]"
     ]
    },
    {
     "name": "stdout",
     "output_type": "stream",
     "text": [
      "Failed to rebuild T1024TS024_3  \n"
     ]
    },
    {
     "name": "stderr",
     "output_type": "stream",
     "text": [
      " 78%|███████▊  | 165/212 [02:44<01:09,  1.47s/it]"
     ]
    },
    {
     "name": "stdout",
     "output_type": "stream",
     "text": [
      "Failed to rebuild T1024TS458_4  \n"
     ]
    },
    {
     "name": "stderr",
     "output_type": "stream",
     "text": [
      " 88%|████████▊ | 186/212 [03:04<00:59,  2.27s/it]"
     ]
    },
    {
     "name": "stdout",
     "output_type": "stream",
     "text": [
      "Failed to rebuild T1024TS061_1  \n"
     ]
    },
    {
     "name": "stderr",
     "output_type": "stream",
     "text": [
      "100%|██████████| 212/212 [03:29<00:00,  1.01it/s]\n"
     ]
    }
   ],
   "source": [
    "# Get phi_psi's of each prediction\n",
    "\n",
    "def get_phi_psi_by_window(protein_id, protein):\n",
    "    phi_psi_ = []\n",
    "    chain = list(prediction[0].get_chains())[0]\n",
    "    chain.atom_to_internal_coordinates(verbose=False)\n",
    "    resultDict = structure_rebuild_test(chain)\n",
    "    if not resultDict['pass']:\n",
    "        raise Exception(f'Failed to rebuild {protein_id} {chain.id}')\n",
    "    residues = list(chain.get_residues())\n",
    "    for i in range(WINDOW_SIZE//2, len(residues) - WINDOW_SIZE // 2):\n",
    "        # Convert 3 char codes to 1 char codes\n",
    "        seq = ''.join([amino_acid_codes.get(r.resname, 'X') for r in residues[i-WINDOW_SIZE//2:i+WINDOW_SIZE//2+1]])\n",
    "        seq = seq_map.get(seq, f'{i-WINDOW_SIZE//2:03}_{seq}')\n",
    "        res = seq[-WINDOW_SIZE//2]\n",
    "        if not residues[i].internal_coord:\n",
    "            psi,phi = np.nan, np.nan\n",
    "        else:\n",
    "            psi = residues[i].internal_coord.get_angle(\"psi\")\n",
    "            phi = residues[i].internal_coord.get_angle(\"phi\")\n",
    "            psi = psi if psi else np.nan # if psi is None, set it to np.nan\n",
    "            phi = phi if phi else np.nan # if phi is None, set it to np.nan\n",
    "        phi_psi_.append([seq, res, phi, psi, chain.id, protein.id])\n",
    "    return phi_psi_\n",
    "phi_psi_predictions_ = []\n",
    "for prediction in tqdm(predicted_structures):\n",
    "    with warnings.catch_warnings():\n",
    "        warnings.simplefilter(\"ignore\")\n",
    "        try:\n",
    "            phi_psi_predictions_ += get_phi_psi_by_window(prediction.id, prediction)\n",
    "        except Exception as e:\n",
    "            print(e)\n",
    "phi_psi_predictions_by_window = pd.DataFrame(phi_psi_predictions_, columns=['seq', 'res', 'phi', 'psi', 'chain', 'protein_id'])\n",
    "phi_psi_predictions_by_window.to_csv(f'phi_psi_predictions_by_window.csv', index=False)"
   ]
  },
  {
   "cell_type": "markdown",
   "metadata": {},
   "source": [
    "# Results - By Window"
   ]
  },
  {
   "cell_type": "code",
   "execution_count": 1,
   "metadata": {},
   "outputs": [],
   "source": [
    "import pandas as pd\n",
    "phi_psi_mined_by_window = pd.read_csv('phi_psi_mined_by_window.csv')\n",
    "phi_psi_predictions_by_window = pd.read_csv('phi_psi_predictions_by_window.csv')\n",
    "phi_psi_mined_by_window['source'] = 'Query (PDBMine)'\n",
    "phi_psi_predictions_by_window['source'] = 'Prediction'"
   ]
  },
  {
   "cell_type": "code",
   "execution_count": 26,
   "metadata": {},
   "outputs": [
    {
     "data": {
      "image/png": "[encoded data removed]",
      "text/plain": [
       "<Figure size 1200x700 with 1 Axes>"
      ]
     },
     "metadata": {},
     "output_type": "display_data"
    }
   ],
   "source": [
    "import seaborn as sns\n",
    "import matplotlib.pyplot as plt\n",
    "import matplotlib.patches as mpatches\n",
    "\n",
    "fig, axes = plt.subplots(figsize=(12,7))\n",
    "\n",
    "seq = phi_psi_mined_by_window.seq.unique()[1]\n",
    "phi_psi_dist = phi_psi_mined_by_window[phi_psi_mined_by_window.seq == seq]\n",
    "phi_psi_alpha = phi_psi_predictions_by_window[(phi_psi_predictions_by_window.protein_id == 'T1024TS427_1') & (phi_psi_predictions_by_window.seq == seq)]\n",
    "xray_phi_psi_seq = xray_phi_psi[xray_phi_psi.seq == seq]\n",
    "sns.kdeplot(data=phi_psi_dist, x='phi', y='psi', ax=axes, fill=True, color='#7490c0', legend=True)\n",
    "plt.plot(phi_psi_alpha.phi, phi_psi_alpha.psi, 'o', color='#dd8452', label='Prediction')\n",
    "plt.plot(xray_phi_psi_seq.phi, xray_phi_psi_seq.psi, 'o', color='tab:green', label='X-ray')\n",
    "# # legend on bottom middle\n",
    "patch1 = mpatches.Patch(color='#7490c0', label='Query (PDBMine)')\n",
    "patch2 = mpatches.Patch(color='#dd8452', label='AlphaFold Prediction')\n",
    "patch3 = mpatches.Patch(color='tab:green', label='X-ray')\n",
    "fig.legend(handles=[patch1, patch2, patch3], loc='lower center', ncol=2)\n",
    "# fig.suptitle(f'Distribution of phi, psi angles for the residues in {protein_id_pdb}')\n",
    "plt.tight_layout()"
   ]
  },
  {
   "cell_type": "markdown",
   "metadata": {},
   "source": [
    "# Mahalanobis"
   ]
  },
  {
   "cell_type": "code",
   "execution_count": 9,
   "metadata": {},
   "outputs": [
    {
     "name": "stdout",
     "output_type": "stream",
     "text": [
      "(118391, 2)\n"
     ]
    }
   ],
   "source": [
    "# For one window\n",
    "from sklearn.cluster import DBSCAN\n",
    "import matplotlib.pyplot as plt\n",
    "from scipy.stats import gaussian_kde\n",
    "seq = '047_LLA'\n",
    "phi_psi_dist = phi_psi_mined_by_window.loc[phi_psi_mined_by_window.seq == seq][['phi','psi']]\n",
    "print(phi_psi_dist.shape)\n",
    "clustering = DBSCAN(eps=10, min_samples=3).fit(phi_psi_dist.values[:100000])\n",
    "# phi_psi_dist['cluster'] = clustering.labels_\n",
    "clustering.labels_"
   ]
  },
  {
   "cell_type": "code",
   "execution_count": 38,
   "metadata": {},
   "outputs": [
    {
     "name": "stderr",
     "output_type": "stream",
     "text": [
      "/tmp/ipykernel_16041/2818867065.py:36: UserWarning: KDE cannot be estimated (0 variance or perfect covariance). Pass `warn_singular=False` to disable this warning.\n",
      "  sns.kdeplot(data=phi_psi_dist, x='phi', y='psi', hue='cluster', palette='viridis', ax=ax, fill=True, legend=False)\n",
      "/tmp/ipykernel_16041/2818867065.py:36: UserWarning: KDE cannot be estimated (0 variance or perfect covariance). Pass `warn_singular=False` to disable this warning.\n",
      "  sns.kdeplot(data=phi_psi_dist, x='phi', y='psi', hue='cluster', palette='viridis', ax=ax, fill=True, legend=False)\n",
      "/tmp/ipykernel_16041/2818867065.py:36: UserWarning: KDE cannot be estimated (0 variance or perfect covariance). Pass `warn_singular=False` to disable this warning.\n",
      "  sns.kdeplot(data=phi_psi_dist, x='phi', y='psi', hue='cluster', palette='viridis', ax=ax, fill=True, legend=False)\n"
     ]
    },
    {
     "name": "stdout",
     "output_type": "stream",
     "text": [
      "xray: 0.5281916438683841\n",
      "alpha: 0.6781488193999479\n",
      "preds:                 0\n",
      "count  503.000000\n",
      "mean     8.441068\n",
      "std     22.181022\n",
      "min      0.049677\n",
      "25%      0.378607\n",
      "50%      0.513524\n",
      "75%      4.342993\n",
      "max    180.131781\n"
     ]
    },
    {
     "data": {
      "image/png": "[encoded data removed]",
      "text/plain": [
       "<Figure size 1200x700 with 1 Axes>"
      ]
     },
     "metadata": {},
     "output_type": "display_data"
    }
   ],
   "source": [
    "# For one window\n",
    "from sklearn.cluster import DBSCAN\n",
    "import matplotlib.pyplot as plt\n",
    "from scipy.stats import gaussian_kde\n",
    "\n",
    "\n",
    "seq = '001_KEF'\n",
    "phi_psi_dist = phi_psi_mined_by_window.loc[phi_psi_mined_by_window.seq == seq][['phi','psi']]\n",
    "\n",
    "# Find clusters\n",
    "clustering = DBSCAN(eps=10, min_samples=3).fit(phi_psi_dist.values)\n",
    "phi_psi_dist['cluster'] = clustering.labels_\n",
    "\n",
    "# Find most probable data point and the cluster it belongs to\n",
    "kernel = gaussian_kde(phi_psi_dist[['phi','psi']].T)\n",
    "phi_psi_most_likely_idx = kernel(phi_psi_dist[['phi','psi']].T).argmax()\n",
    "phi_psi_c = phi_psi_dist.loc[phi_psi_dist.cluster == phi_psi_dist.iloc[phi_psi_most_likely_idx].cluster, ['phi','psi']].values\n",
    "\n",
    "# Mahalanobis distance to most common cluster\n",
    "cov = np.cov(phi_psi_c.T)\n",
    "icov = np.linalg.inv(cov)\n",
    "\n",
    "# xray\n",
    "xray = xray_phi_psi[xray_phi_psi.seq == seq][['phi','psi']].values\n",
    "md_xray = (xray - phi_psi_c.mean(axis=0)) @ icov @ (xray - phi_psi_c.mean(axis=0)).T\n",
    "\n",
    "# alphafold to most common cluster\n",
    "alpha = phi_psi_predictions_by_window[(phi_psi_predictions_by_window.protein_id == 'T1024TS427_1') & (phi_psi_predictions_by_window.seq == seq)][['phi','psi']].values\n",
    "md_alpha = (alpha - phi_psi_c.mean(axis=0)) @ icov @ (alpha - phi_psi_c.mean(axis=0)).T\n",
    "\n",
    "# Other predictions\n",
    "preds = phi_psi_predictions_by_window[phi_psi_predictions_by_window.seq == seq][['phi','psi']].values\n",
    "icov = np.repeat(np.expand_dims(icov, 0), preds.shape[0], axis=0) # expand for batch matrix multiplication\n",
    "md_preds = md = (np.expand_dims((preds - phi_psi_c.mean(axis=0)), 1) @ icov @ np.expand_dims((preds - phi_psi_c.mean(axis=0)), 2)).squeeze()\n",
    "\n",
    "fig, ax = plt.subplots(figsize=(12,7))\n",
    "sns.kdeplot(data=phi_psi_dist, x='phi', y='psi', hue='cluster', palette='viridis', ax=ax, fill=True, legend=False)\n",
    "ax.scatter(preds[:,0], preds[:,1], color='black', marker='.')\n",
    "ax.scatter(xray[0,0], xray[0,1], color='green', marker='x')\n",
    "ax.scatter(alpha[0,0], alpha[0,1], color='blue', marker='x')\n",
    "ax.scatter(phi_psi_dist.iloc[phi_psi_most_likely_idx].phi, phi_psi_dist.iloc[phi_psi_most_likely_idx].psi, color='red', marker='x')\n",
    "\n",
    "print('xray:', md_xray[0,0])\n",
    "print('alpha:', md_alpha[0,0])\n",
    "print('preds:', pd.DataFrame(md_preds).describe())"
   ]
  },
  {
   "cell_type": "code",
   "execution_count": null,
   "metadata": {},
   "outputs": [],
   "source": []
  },
  {
   "cell_type": "code",
   "execution_count": 21,
   "metadata": {},
   "outputs": [
    {
     "name": "stderr",
     "output_type": "stream",
     "text": [
      "0it [00:00, ?it/s]"
     ]
    },
    {
     "ename": "",
     "evalue": "",
     "output_type": "error",
     "traceback": [
      "\u001b[1;31mThe Kernel crashed while executing code in the current cell or a previous cell. \n",
      "\u001b[1;31mPlease review the code in the cell(s) to identify a possible cause of the failure. \n",
      "\u001b[1;31mClick <a href='https://aka.ms/vscodeJupyterKernelCrash'>here</a> for more info. \n",
      "\u001b[1;31mView Jupyter <a href='command:jupyter.viewOutput'>log</a> for further details."
     ]
    }
   ],
   "source": [
    "from sklearn.cluster import DBSCAN\n",
    "import matplotlib.pyplot as plt\n",
    "from scipy.stats import gaussian_kde\n",
    "\n",
    "mds = []\n",
    "phi_psi_predictions_by_window['md'] = np.nan\n",
    "xray_phi_psi['md'] = np.nan\n",
    "for i,seq in tqdm(enumerate(phi_psi_mined_by_window.seq.unique())):\n",
    "    if i != 47:\n",
    "        continue\n",
    "    phi_psi_dist = phi_psi_mined_by_window.loc[phi_psi_mined_by_window.seq == seq][['phi','psi']]\n",
    "    xray = xray_phi_psi[xray_phi_psi.seq == seq][['phi','psi']].values\n",
    "    preds = phi_psi_predictions_by_window.loc[phi_psi_predictions_by_window.seq == seq][['phi','psi']].values\n",
    "\n",
    "    if phi_psi_dist.shape[0] < 2 or xray.shape[0] < 1 or preds.shape[0] < 1:\n",
    "        print(f'Skipping {seq} - not enough data points')\n",
    "        xray_phi_psi.loc[xray_phi_psi.seq == seq, 'md'] = np.nan\n",
    "        phi_psi_predictions_by_window.loc[phi_psi_predictions_by_window.seq == seq, 'md'] = np.nan        \n",
    "        continue\n",
    "    # Find clusters\n",
    "    clustering = DBSCAN(eps=10, min_samples=3).fit(phi_psi_dist.values)\n",
    "    phi_psi_dist['cluster'] = clustering.labels_\n",
    "\n",
    "    # Find most probable data point and the cluster it belongs to\n",
    "    kernel = gaussian_kde(phi_psi_dist[['phi','psi']].T)\n",
    "    phi_psi_most_likely_idx = kernel(phi_psi_dist[['phi','psi']].T).argmax()\n",
    "    phi_psi_c = phi_psi_dist.loc[phi_psi_dist.cluster == phi_psi_dist.iloc[phi_psi_most_likely_idx].cluster, ['phi','psi']].values\n",
    "\n",
    "    # Mahalanobis distance to most common cluster\n",
    "    cov = np.cov(phi_psi_c.T)\n",
    "    if np.linalg.det(cov) == 0:\n",
    "        print(f'Skipping {seq} - singular matrix')\n",
    "        xray_phi_psi.loc[xray_phi_psi.seq == seq, 'md'] = np.nan\n",
    "        phi_psi_predictions_by_window.loc[phi_psi_predictions_by_window.seq == seq, 'md'] = np.nan\n",
    "        continue\n",
    "    icov = np.linalg.inv(cov)\n",
    "\n",
    "    # xray\n",
    "    md_xray = (xray - phi_psi_c.mean(axis=0)) @ icov @ (xray - phi_psi_c.mean(axis=0)).T\n",
    "    if np.any(md_xray < 0):\n",
    "        md_xray = np.nan\n",
    "    else:\n",
    "        md_xray = np.sqrt(md_xray)[0,0]\n",
    "    xray_phi_psi.loc[xray_phi_psi.seq == seq, 'md'] = md_xray\n",
    "\n",
    "    # All predictions\n",
    "    mean = phi_psi_dist[['phi','psi']].mean(axis=0).values\n",
    "    md = (np.expand_dims((preds - mean), 1) @ icov @ np.expand_dims((preds - mean), 2)).squeeze()\n",
    "    if np.any(md < 0):\n",
    "        md = np.nan\n",
    "    else:\n",
    "        md = np.sqrt(md)\n",
    "    phi_psi_predictions_by_window.loc[phi_psi_predictions_by_window.seq == seq, 'md'] = md\n",
    "\n",
    "phi_psi_predictions_by_window.to_csv('phi_psi_predictions_by_window_md.csv', index=False)\n",
    "xray_phi_psi.to_csv('xray_phi_psi_md.csv', index=False)"
   ]
  },
  {
   "cell_type": "code",
   "execution_count": 313,
   "metadata": {},
   "outputs": [],
   "source": [
    "phi_psi_predictions_by_window.to_csv('phi_psi_predictions_by_window_maha.csv', index=False)"
   ]
  },
  {
   "cell_type": "code",
   "execution_count": null,
   "metadata": {},
   "outputs": [],
   "source": [
    "# Plot xray vs prediction md for each residue of one prediction\n"
   ]
  },
  {
   "cell_type": "code",
   "execution_count": 348,
   "metadata": {},
   "outputs": [
    {
     "data": {
      "text/plain": [
       "[<matplotlib.lines.Line2D at 0x73bb0a8894e0>]"
      ]
     },
     "execution_count": 348,
     "metadata": {},
     "output_type": "execute_result"
    },
    {
     "data": {
      "image/png": "[encoded data removed]",
      "text/plain": [
       "<Figure size 640x480 with 1 Axes>"
      ]
     },
     "metadata": {},
     "output_type": "display_data"
    }
   ],
   "source": [
    "# Compare rmsd and mahalanobis distance\n",
    "import matplotlib.pyplot as plt\n",
    "group_maha = phi_psi_predictions_by_window.groupby(['protein_id'], as_index=False).mean(numeric_only=True)#.sort_values('mahalanobis_dist').set_index('protein_id').dropna()\n",
    "group_maha = group_maha.merge(results[['Model', 'RMS_ALL']], left_on='protein_id', right_on='Model', how='inner')\n",
    "group_maha\n",
    "fig, ax = plt.subplots()\n",
    "sns.scatterplot(data=group_maha, x='RMS_ALL', y='mahalanobis_dist', ax=ax, marker='.', hue='protein_id', legend=False)\n",
    "sns.regplot(data=group_maha, x='RMS_ALL', y='mahalanobis_dist', ax=ax, scatter=False)\n",
    "plt.plot(group_maha[group_maha.protein_id == 'T1024TS427_1']['RMS_ALL'], group_maha[group_maha.protein_id == 'T1024TS427_1']['mahalanobis_dist'], 'o', color='red', label='Alphafold')\n",
    "# # ax.set_xlim((0.8,1.4))\n",
    "# ax.set_ylim((0,6))"
   ]
  },
  {
   "cell_type": "code",
   "execution_count": 362,
   "metadata": {},
   "outputs": [
    {
     "name": "stdout",
     "output_type": "stream",
     "text": [
      "(2, 7)\n",
      "(8, 7)\n",
      "(5, 7)\n",
      "(8, 7)\n"
     ]
    },
    {
     "data": {
      "image/png": "[encoded data removed]",
      "text/plain": [
       "<Figure size 1200x700 with 4 Axes>"
      ]
     },
     "metadata": {},
     "output_type": "display_data"
    }
   ],
   "source": [
    "# plot dists with highest mahalanobis distance for alphafold\n",
    "phi_psi_alpha = phi_psi_predictions_by_window[phi_psi_predictions_by_window.protein_id == 'T1024TS427_1']\n",
    "seqs_with_highest_maha = phi_psi_alpha.sort_values('mahalanobis_dist', ascending=False).head(16).seq.values\n",
    "\n",
    "m = 0\n",
    "fig, axes = plt.subplots(2,2,figsize=(12,7))\n",
    "for i,seq in enumerate(seqs_with_highest_maha[m:m+4]):\n",
    "    phi_psi_dist = phi_psi_mined_by_window[phi_psi_mined_by_window.seq == seq]\n",
    "    print(phi_psi_dist.shape)\n",
    "    phi_psi_alpha_seq = phi_psi_alpha[phi_psi_alpha.seq == seq]\n",
    "    ax = axes.flatten()[i]\n",
    "    sns.kdeplot(data=phi_psi_dist, x='phi', y='psi', ax=ax, fill=True, color='#7490c0', legend=True)\n",
    "    ax.plot(phi_psi_alpha_seq.phi, phi_psi_alpha_seq.psi, 'o', color='#dd8452', label='Prediction')\n"
   ]
  }
 ],
 "metadata": {
  "kernelspec": {
   "display_name": ".venv",
   "language": "python",
   "name": "python3"
  },
  "language_info": {
   "codemirror_mode": {
    "name": "ipython",
    "version": 3
   },
   "file_extension": ".py",
   "mimetype": "text/x-python",
   "name": "python",
   "nbconvert_exporter": "python",
   "pygments_lexer": "ipython3",
   "version": "3.10.12"
  }
 },
 "nbformat": 4,
 "nbformat_minor": 2
}
