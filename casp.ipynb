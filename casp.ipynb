{
 "cells": [
  {
   "cell_type": "code",
   "execution_count": 2,
   "metadata": {},
   "outputs": [
    {
     "data": {
      "text/plain": [
       "True"
      ]
     },
     "execution_count": 2,
     "metadata": {},
     "output_type": "execute_result"
    }
   ],
   "source": [
    "from pathlib import Path\n",
    "from Bio.PDB import PDBList, PDBParser\n",
    "import os\n",
    "from tqdm import tqdm\n",
    "import warnings\n",
    "import pandas as pd\n",
    "from Bio import SeqIO\n",
    "from dotenv import load_dotenv\n",
    "import os\n",
    "import requests\n",
    "import time\n",
    "import json\n",
    "from Bio.PDB.ic_rebuild import structure_rebuild_test\n",
    "import numpy as np\n",
    "import sys\n",
    "import seaborn as sns\n",
    "\n",
    "load_dotenv()"
   ]
  },
  {
   "cell_type": "code",
   "execution_count": 3,
   "metadata": {},
   "outputs": [],
   "source": [
    "WINDOW_SIZE = 3\n",
    "PDBMINE_URL = os.getenv(\"PDBMINE_URL\")\n",
    "casp_protein_id = 'T1032'\n",
    "casp_protein_id2 = 'T1032-D1'\n",
    "pdb_code = '6n64'\n",
    "residue_range = (1,95) # 1-based, inclusive"
   ]
  },
  {
   "cell_type": "code",
   "execution_count": 4,
   "metadata": {},
   "outputs": [],
   "source": [
    "amino_acid_codes = {\n",
    "    \"ALA\": \"A\",\n",
    "    \"ARG\": \"R\",\n",
    "    \"ASN\": \"N\",\n",
    "    \"ASP\": \"D\",\n",
    "    \"CYS\": \"C\",\n",
    "    \"GLN\": \"Q\",\n",
    "    \"GLU\": \"E\",\n",
    "    \"GLY\": \"G\",\n",
    "    \"HIS\": \"H\",\n",
    "    \"ILE\": \"I\",\n",
    "    \"LEU\": \"L\",\n",
    "    \"LYS\": \"K\",\n",
    "    \"MET\": \"M\",\n",
    "    \"PHE\": \"F\",\n",
    "    \"PRO\": \"P\",\n",
    "    \"SER\": \"S\",\n",
    "    \"THR\": \"T\",\n",
    "    \"TRP\": \"W\",\n",
    "    \"TYR\": \"Y\",\n",
    "    \"VAL\": \"V\"\n",
    "}"
   ]
  },
  {
   "cell_type": "code",
   "execution_count": 5,
   "metadata": {},
   "outputs": [
    {
     "name": "stdout",
     "output_type": "stream",
     "text": [
      "Structure exists: 'pdb/pdb6n64.ent' \n"
     ]
    }
   ],
   "source": [
    "# Get X-ray pdb\n",
    "pdbl = PDBList()\n",
    "parser = PDBParser()\n",
    "xray_fn = pdbl.retrieve_pdb_file(pdb_code, pdir='pdb', file_format='pdb', obsolete=False)\n",
    "# Get X-ray structure\n",
    "# xray_url = 'https://predictioncenter.org/download_area/CASP14/targets/casp14.targets.T.public_11.29.2020.tar.gz'\n",
    "# xray_dir = Path('./casp-xray')\n",
    "# xray_dir.mkdir(exist_ok=True)\n",
    "# os.system(f'wget -O {xray_dir}/casp14.targets.T.public_11.29.2020.tar.gz {xray_url}')\n",
    "# os.system(f'tar -xvf {xray_dir}/casp14.targets.T.public_11.29.2020.tar.gz -C {xray_dir}')\n",
    "# xray_fn = xray_dir / f'{casp_protein_id}.pdb'\n",
    "# xray_url = \"https://predictioncenter.org/casp14/target.cgi?target=T1024&view=template\"\n",
    "# xray_fn = Path(f'./casp-xray/{casp_protein_id}.pdb')\n",
    "\n",
    "# Get CASP predictions\n",
    "predictions_url = f'https://predictioncenter.org/download_area/CASP14/predictions/regular/{casp_protein_id}.tar.gz'\n",
    "predictions_dir = Path(f'./casp-predictions/')\n",
    "predictions_dir.mkdir(exist_ok=True)\n",
    "# os.system(f'wget -O {predictions_dir}/{casp_protein_id}.tar.gz {predictions_url}')\n",
    "# os.system(f'tar -xvf {predictions_dir}/{casp_protein_id}.tar.gz -C {predictions_dir}')\n",
    "\n",
    "# Get CASP results\n",
    "results_url = 'https://predictioncenter.org/download_area/CASP14/results/tables/casp14.res_tables.T.tar.gz'\n",
    "results_dir = Path('casp-results')\n",
    "results_dir.mkdir(exist_ok=True)\n",
    "# os.system(f'wget -O {results_dir / \"casp14.res_tables.T.tar.gz\"} {results_url}')\n",
    "# os.system(f'tar -xvf {results_dir / \"casp14.res_tables.T.tar.gz\"} -C {results_dir}')\n",
    "results_file = results_dir / f'{casp_protein_id2}.txt'"
   ]
  },
  {
   "cell_type": "code",
   "execution_count": 6,
   "metadata": {},
   "outputs": [
    {
     "name": "stdout",
     "output_type": "stream",
     "text": [
      "Record id 6N64:A, chain A\n",
      "GAMGSTQQTTHIEALLEKKITEQNELKKRPRRLCTLPNYTKRSGDILGKIAHLAQIEDDRAAMVISWHLASDMDCVVTLTTDAARAIYDETQGRQQVLPLDSIYRKTLPDWKRPLPHFRNGKLHFKPFGNPVFARDLLTFPDNIEHCETVFGMLLGDTIILDNLDAANHYRKEVVKITHCPTLLTRDGDRIRSNGKFGGLQNKAPPMDKLRGMVFGAPVPKQ\n",
      "222\n",
      "GAMGSTQQTTHIEALLEKKITEQNELKKRPRRLCTLPNYTKRSGDILGKIAHLAQIEDDRAAMVISWHLASDMDCVVTLTTDAARAIYDETQGRQQVLPLDSIYRKTLPDWKRPLPHFRNGKLHFKPFGNPVFARDLLTFPDNIEHCETVFGMLLGDTIILDNLDAANHYRKEVVKITHCPTLLTRDGDRIRSNGKFGGLQNKAPPMDKLRGMVFGAPVPKQ\n"
     ]
    }
   ],
   "source": [
    "record = next(iter(SeqIO.parse(xray_fn, \"pdb-seqres\")))\n",
    "print(\"Record id %s, chain %s\" % (record.id, record.annotations[\"chain\"]))\n",
    "print(record.seq)\n",
    "print(len(record.seq))\n",
    "residue_chain = str(record.seq)#[residue_range[0]-1:residue_range[1]]\n",
    "print(residue_chain)"
   ]
  },
  {
   "cell_type": "code",
   "execution_count": 7,
   "metadata": {},
   "outputs": [
    {
     "name": "stdout",
     "output_type": "stream",
     "text": [
      "T1032TS013_3\n",
      "NDVKKQQQMAALTKEKDELSKSITMYRSLFDANKQLVDEMKCQAEEAKLKETQLRNELKAYNIDIPATQQTTHIEALLEKKITEQNELKKRPRRLCTLPNYTKRSGDILGKIAHLAQIEDDRAAMVISWHLASDMDCVVTLTTDAARAIYDETQGRQQVLPLDSIYRKTLPDWKRPLPHFRNGKLHFKPFGNPVFARDLLTFPDNIEHCETVFGMLLGDTIILDNLDAANHYRKEVVKITHCPTLLTRDGDRIRSNGKFGGLQNKAPPMDKLRGMVFGAPVPKQ\n",
      "target            0 G---------A--------------MG--S-----------------------TQ-----\n",
      "                  0 ----------|--------------|---|-----------------------||-----\n",
      "query             0 -NDVKKQQQMAALTKEKDELSKSITM-YRSLFDANKQLVDEMKCQAEEAKLKETQLRNEL\n",
      "\n",
      "target            7 ----------Q-TTHIEALLEKKITEQNELKKRPRRLCTLPNYTKRSGDILGKIAHLAQI\n",
      "                 60 ----------|-||||||||||||||||||||||||||||||||||||||||||||||||\n",
      "query            58 KAYNIDIPATQQTTHIEALLEKKITEQNELKKRPRRLCTLPNYTKRSGDILGKIAHLAQI\n",
      "\n",
      "target           56 EDDRAAMVISWHLASDMDCVVTLTTDAARAIYDETQGRQQVLPLDSIYRKTLPDWKRPLP\n",
      "                120 ||||||||||||||||||||||||||||||||||||||||||||||||||||||||||||\n",
      "query           118 EDDRAAMVISWHLASDMDCVVTLTTDAARAIYDETQGRQQVLPLDSIYRKTLPDWKRPLP\n",
      "\n",
      "target          116 HFRNGKLHFKPFGNPVFARDLLTFPDNIEHCETVFGMLLGDTIILDNLDAANHYRKEVVK\n",
      "                180 ||||||||||||||||||||||||||||||||||||||||||||||||||||||||||||\n",
      "query           178 HFRNGKLHFKPFGNPVFARDLLTFPDNIEHCETVFGMLLGDTIILDNLDAANHYRKEVVK\n",
      "\n",
      "target          176 ITHCPTLLTRDGDRIRSNGKFGGLQNKAPPMDKLRGMVFGAPVPKQ 222\n",
      "                240 |||||||||||||||||||||||||||||||||||||||||||||| 286\n",
      "query           238 ITHCPTLLTRDGDRIRSNGKFGGLQNKAPPMDKLRGMVFGAPVPKQ 284\n",
      "\n"
     ]
    },
    {
     "name": "stderr",
     "output_type": "stream",
     "text": [
      "/home/mmazeem/.local/lib/python3.10/site-packages/Bio/PDB/PDBParser.py:409: PDBConstructionWarning: PDBConstructionException: Invalid or missing model serial number at line 3.\n",
      "Exception ignored.\n",
      "Some atoms or residues may be missing in the data structure.\n",
      "  warnings.warn(\n",
      "/home/mmazeem/.local/lib/python3.10/site-packages/Bio/PDB/PDBParser.py:388: PDBConstructionWarning: Ignoring unrecognized record 'PARENT' at line 4\n",
      "  warnings.warn(\n",
      "/home/mmazeem/.local/lib/python3.10/site-packages/Bio/PDB/Atom.py:232: PDBConstructionWarning: Used element 'N' for Atom (name=N) with given element ''\n",
      "  warnings.warn(msg, PDBConstructionWarning)\n",
      "/home/mmazeem/.local/lib/python3.10/site-packages/Bio/PDB/Atom.py:232: PDBConstructionWarning: Used element 'C' for Atom (name=CA) with given element ''\n",
      "  warnings.warn(msg, PDBConstructionWarning)\n",
      "/home/mmazeem/.local/lib/python3.10/site-packages/Bio/PDB/Atom.py:232: PDBConstructionWarning: Used element 'C' for Atom (name=CB) with given element ''\n",
      "  warnings.warn(msg, PDBConstructionWarning)\n",
      "/home/mmazeem/.local/lib/python3.10/site-packages/Bio/PDB/Atom.py:232: PDBConstructionWarning: Used element 'C' for Atom (name=CG) with given element ''\n",
      "  warnings.warn(msg, PDBConstructionWarning)\n",
      "/home/mmazeem/.local/lib/python3.10/site-packages/Bio/PDB/Atom.py:232: PDBConstructionWarning: Used element 'O' for Atom (name=OD1) with given element ''\n",
      "  warnings.warn(msg, PDBConstructionWarning)\n",
      "/home/mmazeem/.local/lib/python3.10/site-packages/Bio/PDB/Atom.py:232: PDBConstructionWarning: Used element 'N' for Atom (name=ND2) with given element ''\n",
      "  warnings.warn(msg, PDBConstructionWarning)\n",
      "/home/mmazeem/.local/lib/python3.10/site-packages/Bio/PDB/Atom.py:232: PDBConstructionWarning: Used element 'C' for Atom (name=C) with given element ''\n",
      "  warnings.warn(msg, PDBConstructionWarning)\n",
      "/home/mmazeem/.local/lib/python3.10/site-packages/Bio/PDB/Atom.py:232: PDBConstructionWarning: Used element 'O' for Atom (name=O) with given element ''\n",
      "  warnings.warn(msg, PDBConstructionWarning)\n",
      "/home/mmazeem/.local/lib/python3.10/site-packages/Bio/PDB/Atom.py:232: PDBConstructionWarning: Used element 'O' for Atom (name=OD2) with given element ''\n",
      "  warnings.warn(msg, PDBConstructionWarning)\n",
      "/home/mmazeem/.local/lib/python3.10/site-packages/Bio/PDB/Atom.py:232: PDBConstructionWarning: Used element 'C' for Atom (name=CG1) with given element ''\n",
      "  warnings.warn(msg, PDBConstructionWarning)\n",
      "/home/mmazeem/.local/lib/python3.10/site-packages/Bio/PDB/Atom.py:232: PDBConstructionWarning: Used element 'C' for Atom (name=CG2) with given element ''\n",
      "  warnings.warn(msg, PDBConstructionWarning)\n",
      "/home/mmazeem/.local/lib/python3.10/site-packages/Bio/PDB/Atom.py:232: PDBConstructionWarning: Used element 'C' for Atom (name=CD) with given element ''\n",
      "  warnings.warn(msg, PDBConstructionWarning)\n",
      "/home/mmazeem/.local/lib/python3.10/site-packages/Bio/PDB/Atom.py:232: PDBConstructionWarning: Used element 'C' for Atom (name=CE) with given element ''\n",
      "  warnings.warn(msg, PDBConstructionWarning)\n",
      "/home/mmazeem/.local/lib/python3.10/site-packages/Bio/PDB/Atom.py:232: PDBConstructionWarning: Used element 'N' for Atom (name=NZ) with given element ''\n",
      "  warnings.warn(msg, PDBConstructionWarning)\n",
      "/home/mmazeem/.local/lib/python3.10/site-packages/Bio/PDB/Atom.py:232: PDBConstructionWarning: Used element 'O' for Atom (name=OE1) with given element ''\n",
      "  warnings.warn(msg, PDBConstructionWarning)\n",
      "/home/mmazeem/.local/lib/python3.10/site-packages/Bio/PDB/Atom.py:232: PDBConstructionWarning: Used element 'N' for Atom (name=NE2) with given element ''\n",
      "  warnings.warn(msg, PDBConstructionWarning)\n",
      "/home/mmazeem/.local/lib/python3.10/site-packages/Bio/PDB/Atom.py:232: PDBConstructionWarning: Used element 'S' for Atom (name=SD) with given element ''\n",
      "  warnings.warn(msg, PDBConstructionWarning)\n",
      "/home/mmazeem/.local/lib/python3.10/site-packages/Bio/PDB/Atom.py:232: PDBConstructionWarning: Used element 'C' for Atom (name=CD1) with given element ''\n",
      "  warnings.warn(msg, PDBConstructionWarning)\n",
      "/home/mmazeem/.local/lib/python3.10/site-packages/Bio/PDB/Atom.py:232: PDBConstructionWarning: Used element 'C' for Atom (name=CD2) with given element ''\n",
      "  warnings.warn(msg, PDBConstructionWarning)\n",
      "/home/mmazeem/.local/lib/python3.10/site-packages/Bio/PDB/Atom.py:232: PDBConstructionWarning: Used element 'O' for Atom (name=OG1) with given element ''\n",
      "  warnings.warn(msg, PDBConstructionWarning)\n",
      "/home/mmazeem/.local/lib/python3.10/site-packages/Bio/PDB/Atom.py:232: PDBConstructionWarning: Used element 'O' for Atom (name=OE2) with given element ''\n",
      "  warnings.warn(msg, PDBConstructionWarning)\n",
      "/home/mmazeem/.local/lib/python3.10/site-packages/Bio/PDB/Atom.py:232: PDBConstructionWarning: Used element 'O' for Atom (name=OG) with given element ''\n",
      "  warnings.warn(msg, PDBConstructionWarning)\n",
      "/home/mmazeem/.local/lib/python3.10/site-packages/Bio/PDB/Atom.py:232: PDBConstructionWarning: Used element 'C' for Atom (name=CE1) with given element ''\n",
      "  warnings.warn(msg, PDBConstructionWarning)\n",
      "/home/mmazeem/.local/lib/python3.10/site-packages/Bio/PDB/Atom.py:232: PDBConstructionWarning: Used element 'C' for Atom (name=CZ) with given element ''\n",
      "  warnings.warn(msg, PDBConstructionWarning)\n",
      "/home/mmazeem/.local/lib/python3.10/site-packages/Bio/PDB/Atom.py:232: PDBConstructionWarning: Used element 'O' for Atom (name=OH) with given element ''\n",
      "  warnings.warn(msg, PDBConstructionWarning)\n",
      "/home/mmazeem/.local/lib/python3.10/site-packages/Bio/PDB/Atom.py:232: PDBConstructionWarning: Used element 'C' for Atom (name=CE2) with given element ''\n",
      "  warnings.warn(msg, PDBConstructionWarning)\n",
      "/home/mmazeem/.local/lib/python3.10/site-packages/Bio/PDB/Atom.py:232: PDBConstructionWarning: Used element 'N' for Atom (name=NE) with given element ''\n",
      "  warnings.warn(msg, PDBConstructionWarning)\n",
      "/home/mmazeem/.local/lib/python3.10/site-packages/Bio/PDB/Atom.py:232: PDBConstructionWarning: Used element 'N' for Atom (name=NH1) with given element ''\n",
      "  warnings.warn(msg, PDBConstructionWarning)\n",
      "/home/mmazeem/.local/lib/python3.10/site-packages/Bio/PDB/Atom.py:232: PDBConstructionWarning: Used element 'N' for Atom (name=NH2) with given element ''\n",
      "  warnings.warn(msg, PDBConstructionWarning)\n",
      "/home/mmazeem/.local/lib/python3.10/site-packages/Bio/PDB/Atom.py:232: PDBConstructionWarning: Used element 'S' for Atom (name=SG) with given element ''\n",
      "  warnings.warn(msg, PDBConstructionWarning)\n",
      "/home/mmazeem/.local/lib/python3.10/site-packages/Bio/PDB/Atom.py:232: PDBConstructionWarning: Used element 'N' for Atom (name=ND1) with given element ''\n",
      "  warnings.warn(msg, PDBConstructionWarning)\n",
      "/home/mmazeem/.local/lib/python3.10/site-packages/Bio/PDB/Atom.py:232: PDBConstructionWarning: Used element 'N' for Atom (name=NE1) with given element ''\n",
      "  warnings.warn(msg, PDBConstructionWarning)\n",
      "/home/mmazeem/.local/lib/python3.10/site-packages/Bio/PDB/Atom.py:232: PDBConstructionWarning: Used element 'C' for Atom (name=CE3) with given element ''\n",
      "  warnings.warn(msg, PDBConstructionWarning)\n",
      "/home/mmazeem/.local/lib/python3.10/site-packages/Bio/PDB/Atom.py:232: PDBConstructionWarning: Used element 'C' for Atom (name=CZ3) with given element ''\n",
      "  warnings.warn(msg, PDBConstructionWarning)\n",
      "/home/mmazeem/.local/lib/python3.10/site-packages/Bio/PDB/Atom.py:232: PDBConstructionWarning: Used element 'C' for Atom (name=CZ2) with given element ''\n",
      "  warnings.warn(msg, PDBConstructionWarning)\n",
      "/home/mmazeem/.local/lib/python3.10/site-packages/Bio/PDB/Atom.py:232: PDBConstructionWarning: Used element 'C' for Atom (name=CH2) with given element ''\n",
      "  warnings.warn(msg, PDBConstructionWarning)\n",
      "/home/mmazeem/.local/lib/python3.10/site-packages/Bio/PDB/Atom.py:232: PDBConstructionWarning: Used element 'O' for Atom (name=OXT) with given element ''\n",
      "  warnings.warn(msg, PDBConstructionWarning)\n",
      "/home/mmazeem/.local/lib/python3.10/site-packages/Bio/PDB/PDBParser.py:388: PDBConstructionWarning: Ignoring unrecognized record 'TER' at line 2280\n",
      "  warnings.warn(\n",
      "/home/mmazeem/.local/lib/python3.10/site-packages/Bio/PDB/PDBParser.py:388: PDBConstructionWarning: Ignoring unrecognized record 'END' at line 2281\n",
      "  warnings.warn(\n",
      "/home/mmazeem/.local/lib/python3.10/site-packages/Bio/SeqIO/PdbIO.py:322: BiopythonParserWarning: 'HEADER' line not found; can't determine PDB ID.\n",
      "  warnings.warn(\n"
     ]
    }
   ],
   "source": [
    "pred_files = list((predictions_dir / casp_protein_id).iterdir())\n",
    "i=0\n",
    "print(pred_files[i].name)\n",
    "pred_seq = str(next(iter(SeqIO.parse(pred_files[i], \"pdb-atom\"))).seq)\n",
    "print(pred_seq)\n",
    "\n",
    "from Bio.Align import PairwiseAligner\n",
    "aligner = PairwiseAligner()\n",
    "aligner.mode = 'global'\n",
    "alignments =  aligner.align(residue_chain, pred_seq)\n",
    "print(alignments[0])"
   ]
  },
  {
   "cell_type": "code",
   "execution_count": 8,
   "metadata": {},
   "outputs": [
    {
     "name": "stderr",
     "output_type": "stream",
     "text": [
      "581it [00:15, 37.02it/s]\n"
     ]
    }
   ],
   "source": [
    "# Get structures\n",
    "xray = parser.get_structure(pdb_code, xray_fn)\n",
    "\n",
    "predicted_structures = []\n",
    "for prediction_pdb in tqdm((predictions_dir / casp_protein_id).iterdir()):\n",
    "    with warnings.catch_warnings():\n",
    "        warnings.simplefilter(\"ignore\")\n",
    "        predicted_structures.append(parser.get_structure(prediction_pdb.name, prediction_pdb))"
   ]
  },
  {
   "cell_type": "code",
   "execution_count": 9,
   "metadata": {},
   "outputs": [],
   "source": [
    "results = pd.read_csv(results_file, delim_whitespace=True)\n",
    "results = results[results.columns[1:]]"
   ]
  },
  {
   "cell_type": "markdown",
   "metadata": {},
   "source": [
    "# PDBMine"
   ]
  },
  {
   "cell_type": "code",
   "execution_count": 10,
   "metadata": {},
   "outputs": [],
   "source": [
    "response = requests.get(PDBMINE_URL + f'/v1/api/protein/{pdb_code}', verify=False)\n",
    "assert(response.ok)\n",
    "protein_data = response.json()"
   ]
  },
  {
   "cell_type": "code",
   "execution_count": 14,
   "metadata": {},
   "outputs": [],
   "source": [
    "json.dump(matches, open('matches.json', 'w'), indent=4)"
   ]
  },
  {
   "cell_type": "code",
   "execution_count": 12,
   "metadata": {},
   "outputs": [
    {
     "name": "stderr",
     "output_type": "stream",
     "text": [
      "  0%|          | 0/3 [00:00<?, ?it/s]"
     ]
    },
    {
     "name": "stdout",
     "output_type": "stream",
     "text": [
      "{'status': 'Running', 'queryID': '67b64141-0347-11ef-8eb8-0242ac110002'}\n",
      "Waiting\n",
      "Waiting\n"
     ]
    },
    {
     "name": "stderr",
     "output_type": "stream",
     "text": [
      " 33%|███▎      | 1/3 [02:56<05:53, 176.91s/it]"
     ]
    },
    {
     "name": "stdout",
     "output_type": "stream",
     "text": [
      "Received matches\n",
      "{'status': 'Running', 'queryID': 'd128bd69-0347-11ef-8eb8-0242ac110002'}\n"
     ]
    },
    {
     "name": "stderr",
     "output_type": "stream",
     "text": [
      " 33%|███▎      | 1/3 [03:23<06:47, 203.93s/it]\n"
     ]
    },
    {
     "ename": "KeyboardInterrupt",
     "evalue": "",
     "output_type": "error",
     "traceback": [
      "\u001b[0;31m---------------------------------------------------------------------------\u001b[0m",
      "\u001b[0;31mKeyboardInterrupt\u001b[0m                         Traceback (most recent call last)",
      "Cell \u001b[0;32mIn[12], line 27\u001b[0m\n\u001b[1;32m     24\u001b[0m query_id \u001b[38;5;241m=\u001b[39m response\u001b[38;5;241m.\u001b[39mjson()\u001b[38;5;241m.\u001b[39mget(\u001b[38;5;124m'\u001b[39m\u001b[38;5;124mqueryID\u001b[39m\u001b[38;5;124m'\u001b[39m)\n\u001b[1;32m     25\u001b[0m \u001b[38;5;28;01massert\u001b[39;00m(query_id)\n\u001b[0;32m---> 27\u001b[0m \u001b[43mtime\u001b[49m\u001b[38;5;241;43m.\u001b[39;49m\u001b[43msleep\u001b[49m\u001b[43m(\u001b[49m\u001b[38;5;241;43m30\u001b[39;49m\u001b[43m)\u001b[49m\n\u001b[1;32m     28\u001b[0m \u001b[38;5;28;01mwhile\u001b[39;00m(\u001b[38;5;28;01mTrue\u001b[39;00m):\n\u001b[1;32m     29\u001b[0m     response \u001b[38;5;241m=\u001b[39m requests\u001b[38;5;241m.\u001b[39mget(PDBMINE_URL \u001b[38;5;241m+\u001b[39m \u001b[38;5;124mf\u001b[39m\u001b[38;5;124m'\u001b[39m\u001b[38;5;124m/v1/api/query/\u001b[39m\u001b[38;5;132;01m{\u001b[39;00mquery_id\u001b[38;5;132;01m}\u001b[39;00m\u001b[38;5;124m'\u001b[39m)\n",
      "\u001b[0;31mKeyboardInterrupt\u001b[0m: "
     ]
    }
   ],
   "source": [
    "# Get Phi-Psi distribution from PDBMine\n",
    "record = next(iter(SeqIO.parse(xray_fn, \"pdb-seqres\")))\n",
    "residue_chain = str(record.seq)\n",
    "code_length = 1\n",
    "broken_chains = []\n",
    "# break into sections of length 100\n",
    "for i in range(0, len(residue_chain), 100-WINDOW_SIZE+1):\n",
    "    broken_chains.append(residue_chain[i:i+100])\n",
    "\n",
    "matches = {}\n",
    "for chain in tqdm(broken_chains):\n",
    "    if len(chain) < WINDOW_SIZE:\n",
    "        continue\n",
    "    response = requests.post(\n",
    "        PDBMINE_URL + '/v1/api/query',\n",
    "        json={\n",
    "            \"residueChain\": chain,\n",
    "            \"codeLength\": code_length,\n",
    "            \"windowSize\": WINDOW_SIZE\n",
    "        }\n",
    "    )\n",
    "    assert(response.ok)\n",
    "    print(response.json())\n",
    "    query_id = response.json().get('queryID')\n",
    "    assert(query_id)\n",
    "\n",
    "    time.sleep(30)\n",
    "    while(True):\n",
    "        response = requests.get(PDBMINE_URL + f'/v1/api/query/{query_id}')\n",
    "        if response.ok:\n",
    "            matchesi = response.json()['frames']\n",
    "            break\n",
    "        else:\n",
    "            print('Waiting')\n",
    "            time.sleep(15)\n",
    "    print('Received matches')\n",
    "    matches.update(matchesi)\n",
    "json.dump(matches, open('matches.json', 'w'), indent=4)"
   ]
  },
  {
   "cell_type": "code",
   "execution_count": null,
   "metadata": {},
   "outputs": [],
   "source": [
    "matches = json.load(open('matches.json'))"
   ]
  },
  {
   "cell_type": "code",
   "execution_count": null,
   "metadata": {},
   "outputs": [],
   "source": [
    "# Get phi-psi by window\n",
    "phi_psi_mined_by_window_ = []\n",
    "for seq_win,v in matches.items():\n",
    "    seq = seq_win#[4:]\n",
    "    for protein,seq_matches in v.items():\n",
    "        protein_id, chain = protein.split('_')\n",
    "        if protein_id.lower() == pdb_code.lower(): # skip the protein we're looking at\n",
    "            continue\n",
    "        for seq_match in seq_matches:\n",
    "            center_res = seq_match[WINDOW_SIZE//2]\n",
    "            res, phi, psi = center_res.values()\n",
    "            phi_psi_mined_by_window_.append([seq, res, phi, psi, chain, protein_id])\n",
    "\n",
    "phi_psi_mined_by_window = pd.DataFrame(phi_psi_mined_by_window_, columns=['seq', 'res', 'phi', 'psi', 'chain', 'protein_id'])\n",
    "seq_map = {seq.split('_')[1]:seq for seq in phi_psi_mined_by_window['seq'].unique()}\n",
    "phi_psi_mined_by_window.to_csv('phi_psi_mined_by_window.csv', index=False)"
   ]
  },
  {
   "cell_type": "code",
   "execution_count": null,
   "metadata": {},
   "outputs": [],
   "source": [
    "phi_psi_mined = pd.read_csv('phi_psi_mined_by_window.csv')\n",
    "seq_map = {seq.split('_')[1]:seq for seq in phi_psi_mined_by_window['seq'].unique()}"
   ]
  },
  {
   "cell_type": "markdown",
   "metadata": {},
   "source": [
    "# Collect Dihedrals - Xray and predictions"
   ]
  },
  {
   "cell_type": "code",
   "execution_count": null,
   "metadata": {},
   "outputs": [],
   "source": [
    "xray_structure = parser.get_structure(pdb_code, xray_fn)\n",
    "xray_chain = list(xray_structure[0].get_chains())[0]\n",
    "xray_chain.atom_to_internal_coordinates(verbose=False)\n",
    "resultDict = structure_rebuild_test(xray_chain)\n",
    "if not resultDict['pass']:\n",
    "    raise Exception('Failed to rebuild')\n",
    "xray_residues = list(xray_chain.get_residues())\n",
    "xray_phi_psi = []\n",
    "for i in range(WINDOW_SIZE//2, len(xray_residues) - WINDOW_SIZE // 2):\n",
    "    # Convert 3 char codes to 1 char codes\n",
    "    seq = ''.join([amino_acid_codes.get(r.resname, 'X') for r in xray_residues[i-WINDOW_SIZE//2:i+WINDOW_SIZE//2+1]])\n",
    "    seq = seq_map.get(seq, f'{i-WINDOW_SIZE//2:03}_{seq}')\n",
    "    res = seq[-WINDOW_SIZE//2]\n",
    "    if not xray_residues[i].internal_coord:\n",
    "        psi,phi = np.nan, np.nan\n",
    "    else:\n",
    "        psi = xray_residues[i].internal_coord.get_angle(\"psi\")\n",
    "        phi = xray_residues[i].internal_coord.get_angle(\"phi\")\n",
    "        psi = psi if psi else np.nan # if psi is None, set it to np.nan\n",
    "        phi = phi if phi else np.nan # if phi is None, set it to np.nan\n",
    "    xray_phi_psi.append([seq, res, phi, psi, xray_chain.id, xray_structure.id])\n",
    "xray_phi_psi = pd.DataFrame(xray_phi_psi, columns=['seq', 'res', 'phi', 'psi', 'chain', 'protein_id'])\n",
    "xray_phi_psi.to_csv('xray_phi_psi.csv', index=False)"
   ]
  },
  {
   "cell_type": "code",
   "execution_count": 40,
   "metadata": {},
   "outputs": [],
   "source": [
    "# Get phi_psi's of each prediction\n",
    "\n",
    "def get_phi_psi_by_window(protein_id, protein):\n",
    "    phi_psi_ = []\n",
    "    chain = list(prediction[0].get_chains())[0]\n",
    "    chain.atom_to_internal_coordinates(verbose=False)\n",
    "    resultDict = structure_rebuild_test(chain)\n",
    "    if not resultDict['pass']:\n",
    "        raise Exception(f'Failed to rebuild {protein_id} {chain.id}')\n",
    "    residues = list(chain.get_residues())\n",
    "    for i in range(WINDOW_SIZE//2, len(residues) - WINDOW_SIZE // 2):\n",
    "        # Convert 3 char codes to 1 char codes\n",
    "        seq = ''.join([amino_acid_codes.get(r.resname, 'X') for r in residues[i-WINDOW_SIZE//2:i+WINDOW_SIZE//2+1]])\n",
    "        # seq = seq_map.get(seq, f'{i-WINDOW_SIZE//2:03}_{seq}')\n",
    "        res = seq[-WINDOW_SIZE//2]\n",
    "        if not residues[i].internal_coord:\n",
    "            psi,phi = np.nan, np.nan\n",
    "        else:\n",
    "            psi = residues[i].internal_coord.get_angle(\"psi\")\n",
    "            phi = residues[i].internal_coord.get_angle(\"phi\")\n",
    "            psi = psi if psi else np.nan # if psi is None, set it to np.nan\n",
    "            phi = phi if phi else np.nan # if phi is None, set it to np.nan\n",
    "        phi_psi_.append([seq, res, phi, psi, chain.id, protein.id])\n",
    "    return phi_psi_\n",
    "phi_psi_predictions_ = []\n",
    "for prediction in tqdm(predicted_structures):\n",
    "    with warnings.catch_warnings():\n",
    "        warnings.simplefilter(\"ignore\")\n",
    "        try:\n",
    "            phi_psi_predictions_ += get_phi_psi_by_window(prediction.id, prediction)\n",
    "        except Exception as e:\n",
    "            print(e)\n",
    "phi_psi_predictions_by_window = pd.DataFrame(phi_psi_predictions_, columns=['seq', 'res', 'phi', 'psi', 'chain', 'protein_id'])\n",
    "phi_psi_predictions_by_window.to_csv(f'phi_psi_predictions_by_window.csv', index=False)"
   ]
  },
  {
   "cell_type": "markdown",
   "metadata": {},
   "source": [
    "# Compute RMSD of predictions"
   ]
  },
  {
   "cell_type": "code",
   "execution_count": 33,
   "metadata": {},
   "outputs": [
    {
     "name": "stdout",
     "output_type": "stream",
     "text": [
      "2178\n",
      "404\n"
     ]
    }
   ],
   "source": [
    "print(len([r.resname for r in list(list(xray.get_chains())[0].get_residues())]))\n",
    "print(len([r.resname for r in list(list(predicted_structures[0].get_chains())[0].get_residues())]))"
   ]
  },
  {
   "cell_type": "code",
   "execution_count": null,
   "metadata": {},
   "outputs": [],
   "source": [
    "xray_seq = next(iter(SeqIO.parse(xray_fn, \"pdb-atom\"))).seq"
   ]
  },
  {
   "cell_type": "code",
   "execution_count": 18,
   "metadata": {},
   "outputs": [
    {
     "name": "stderr",
     "output_type": "stream",
     "text": [
      "  0%|          | 0/500 [00:00<?, ?it/s]\n"
     ]
    },
    {
     "ename": "ValueError",
     "evalue": "Residues are not aligned",
     "output_type": "error",
     "traceback": [
      "\u001b[0;31m---------------------------------------------------------------------------\u001b[0m",
      "\u001b[0;31mValueError\u001b[0m                                Traceback (most recent call last)",
      "Cell \u001b[0;32mIn[18], line 28\u001b[0m\n\u001b[1;32m     26\u001b[0m rmsds_ \u001b[38;5;241m=\u001b[39m []\n\u001b[1;32m     27\u001b[0m \u001b[38;5;28;01mfor\u001b[39;00m prediction \u001b[38;5;129;01min\u001b[39;00m tqdm(predicted_structures):\n\u001b[0;32m---> 28\u001b[0m     rmsds_\u001b[38;5;241m.\u001b[39mappend([prediction\u001b[38;5;241m.\u001b[39mid, \u001b[43mget_rmsd\u001b[49m\u001b[43m(\u001b[49m\u001b[43mxray\u001b[49m\u001b[43m,\u001b[49m\u001b[43m \u001b[49m\u001b[43mprediction\u001b[49m\u001b[43m)\u001b[49m])\n\u001b[1;32m     30\u001b[0m rmsds \u001b[38;5;241m=\u001b[39m pd\u001b[38;5;241m.\u001b[39mDataFrame(rmsds_, columns\u001b[38;5;241m=\u001b[39m[\u001b[38;5;124m'\u001b[39m\u001b[38;5;124mprotein_id\u001b[39m\u001b[38;5;124m'\u001b[39m, \u001b[38;5;124m'\u001b[39m\u001b[38;5;124mrmsd\u001b[39m\u001b[38;5;124m'\u001b[39m])\n",
      "Cell \u001b[0;32mIn[18], line 9\u001b[0m, in \u001b[0;36mget_rmsd\u001b[0;34m(model1, model2)\u001b[0m\n\u001b[1;32m      7\u001b[0m \u001b[38;5;28;01mfor\u001b[39;00m residue1, residue2 \u001b[38;5;129;01min\u001b[39;00m \u001b[38;5;28mzip\u001b[39m(chain1, chain2):\n\u001b[1;32m      8\u001b[0m     \u001b[38;5;28;01mif\u001b[39;00m residue1\u001b[38;5;241m.\u001b[39mresname \u001b[38;5;241m!=\u001b[39m residue2\u001b[38;5;241m.\u001b[39mresname:\n\u001b[0;32m----> 9\u001b[0m         \u001b[38;5;28;01mraise\u001b[39;00m \u001b[38;5;167;01mValueError\u001b[39;00m(\u001b[38;5;124m'\u001b[39m\u001b[38;5;124mResidues are not aligned\u001b[39m\u001b[38;5;124m'\u001b[39m)\n\u001b[1;32m     10\u001b[0m     \u001b[38;5;28;01mfor\u001b[39;00m atom1 \u001b[38;5;129;01min\u001b[39;00m residue1:\n\u001b[1;32m     11\u001b[0m         \u001b[38;5;28;01mif\u001b[39;00m atom1\u001b[38;5;241m.\u001b[39mget_id() \u001b[38;5;129;01min\u001b[39;00m [\u001b[38;5;124m'\u001b[39m\u001b[38;5;124mCA\u001b[39m\u001b[38;5;124m'\u001b[39m]:\n\u001b[1;32m     12\u001b[0m         \u001b[38;5;66;03m# if atom1.get_id() in ['N', 'CA', 'C']:\u001b[39;00m\n",
      "\u001b[0;31mValueError\u001b[0m: Residues are not aligned"
     ]
    }
   ],
   "source": [
    "from Bio.PDB import Superimposer\n",
    "\n",
    "def get_rmsd(model1, model2):\n",
    "    atoms1 = []\n",
    "    atoms2 = []\n",
    "    for chain1, chain2 in zip(model1.get_chains(), model2.get_chains()):\n",
    "        for residue1, residue2 in zip(chain1, chain2):\n",
    "            if residue1.resname != residue2.resname:\n",
    "                raise ValueError('Residues are not aligned')\n",
    "            for atom1 in residue1:\n",
    "                if atom1.get_id() in ['CA']:\n",
    "                # if atom1.get_id() in ['N', 'CA', 'C']:\n",
    "                    atom2 = residue2[atom1.get_id()]\n",
    "                    if atom2 is None:\n",
    "                        raise ValueError('Atoms are not aligned')\n",
    "                    atoms1.append(atom1)\n",
    "                    atoms2.append(atom2)\n",
    "    atoms1, atoms2 = np.array(atoms1), np.array(atoms2)\n",
    "\n",
    "    sup = Superimposer()\n",
    "    sup.set_atoms(atoms1, atoms2)\n",
    "    sup.apply(atoms2) # align with SVD (PDB.SVDSuperimposer)\n",
    "\n",
    "    return sup.rms\n",
    "\n",
    "rmsds_ = []\n",
    "for prediction in tqdm(predicted_structures):\n",
    "    rmsds_.append([prediction.id, get_rmsd(xray, prediction)])\n",
    "\n",
    "rmsds = pd.DataFrame(rmsds_, columns=['protein_id', 'rmsd'])"
   ]
  },
  {
   "cell_type": "code",
   "execution_count": 14,
   "metadata": {},
   "outputs": [
    {
     "data": {
      "text/html": [
       "<div>\n",
       "<style scoped>\n",
       "    .dataframe tbody tr th:only-of-type {\n",
       "        vertical-align: middle;\n",
       "    }\n",
       "\n",
       "    .dataframe tbody tr th {\n",
       "        vertical-align: top;\n",
       "    }\n",
       "\n",
       "    .dataframe thead th {\n",
       "        text-align: right;\n",
       "    }\n",
       "</style>\n",
       "<table border=\"1\" class=\"dataframe\">\n",
       "  <thead>\n",
       "    <tr style=\"text-align: right;\">\n",
       "      <th></th>\n",
       "      <th>protein_id</th>\n",
       "      <th>rmsd</th>\n",
       "    </tr>\n",
       "  </thead>\n",
       "  <tbody>\n",
       "    <tr>\n",
       "      <th>0</th>\n",
       "      <td>T1037TS420_4</td>\n",
       "      <td>29.923519</td>\n",
       "    </tr>\n",
       "    <tr>\n",
       "      <th>1</th>\n",
       "      <td>T1037TS009_3</td>\n",
       "      <td>30.246291</td>\n",
       "    </tr>\n",
       "    <tr>\n",
       "      <th>2</th>\n",
       "      <td>T1037TS343_2</td>\n",
       "      <td>30.061098</td>\n",
       "    </tr>\n",
       "    <tr>\n",
       "      <th>3</th>\n",
       "      <td>T1037TS326_2</td>\n",
       "      <td>29.355674</td>\n",
       "    </tr>\n",
       "    <tr>\n",
       "      <th>4</th>\n",
       "      <td>T1037TS193_1</td>\n",
       "      <td>30.866013</td>\n",
       "    </tr>\n",
       "    <tr>\n",
       "      <th>...</th>\n",
       "      <td>...</td>\n",
       "      <td>...</td>\n",
       "    </tr>\n",
       "    <tr>\n",
       "      <th>495</th>\n",
       "      <td>T1037TS460_2</td>\n",
       "      <td>27.716804</td>\n",
       "    </tr>\n",
       "    <tr>\n",
       "      <th>496</th>\n",
       "      <td>T1037TS101_3</td>\n",
       "      <td>29.997405</td>\n",
       "    </tr>\n",
       "    <tr>\n",
       "      <th>497</th>\n",
       "      <td>T1037TS362_3</td>\n",
       "      <td>30.108452</td>\n",
       "    </tr>\n",
       "    <tr>\n",
       "      <th>498</th>\n",
       "      <td>T1037TS075_5</td>\n",
       "      <td>29.322885</td>\n",
       "    </tr>\n",
       "    <tr>\n",
       "      <th>499</th>\n",
       "      <td>T1037TS376_2</td>\n",
       "      <td>30.404798</td>\n",
       "    </tr>\n",
       "  </tbody>\n",
       "</table>\n",
       "<p>500 rows × 2 columns</p>\n",
       "</div>"
      ],
      "text/plain": [
       "       protein_id       rmsd\n",
       "0    T1037TS420_4  29.923519\n",
       "1    T1037TS009_3  30.246291\n",
       "2    T1037TS343_2  30.061098\n",
       "3    T1037TS326_2  29.355674\n",
       "4    T1037TS193_1  30.866013\n",
       "..            ...        ...\n",
       "495  T1037TS460_2  27.716804\n",
       "496  T1037TS101_3  29.997405\n",
       "497  T1037TS362_3  30.108452\n",
       "498  T1037TS075_5  29.322885\n",
       "499  T1037TS376_2  30.404798\n",
       "\n",
       "[500 rows x 2 columns]"
      ]
     },
     "execution_count": 14,
     "metadata": {},
     "output_type": "execute_result"
    }
   ],
   "source": [
    "rmsds"
   ]
  },
  {
   "cell_type": "markdown",
   "metadata": {},
   "source": [
    "# Results - By Window"
   ]
  },
  {
   "cell_type": "code",
   "execution_count": null,
   "metadata": {},
   "outputs": [],
   "source": [
    "import pandas as pd\n",
    "phi_psi_mined = pd.read_csv('phi_psi_mined.csv')\n",
    "phi_psi_predictions_by_window = pd.read_csv('phi_psi_predictions_by_window.csv')\n",
    "xray_phi_psi = pd.read_csv('xray_phi_psi.csv')\n",
    "phi_psi_mined_by_window['source'] = 'Query (PDBMine)'\n",
    "phi_psi_predictions_by_window['source'] = 'Prediction'\n",
    "xray_phi_psi['source'] = 'X-ray'"
   ]
  },
  {
   "cell_type": "code",
   "execution_count": null,
   "metadata": {},
   "outputs": [],
   "source": [
    "import seaborn as sns\n",
    "import matplotlib.pyplot as plt\n",
    "import matplotlib.patches as mpatches\n",
    "\n",
    "fig, ax = plt.subplots(figsize=(7,5))\n",
    "\n",
    "seq = phi_psi_mined_by_window.seq.unique()[1]\n",
    "print(seq)\n",
    "phi_psi_dist = phi_psi_mined_by_window[phi_psi_mined_by_window.seq == seq]\n",
    "phi_psi_alpha = phi_psi_predictions_by_window[(phi_psi_predictions_by_window.protein_id == 'T1024TS427_1') & (phi_psi_predictions_by_window.seq == seq)]\n",
    "xray_phi_psi_seq = xray_phi_psi[xray_phi_psi.seq == seq]\n",
    "\n",
    "sns.kdeplot(data=phi_psi_dist, x='phi', y='psi', ax=ax, fill=True)\n",
    "ax.plot(phi_psi_alpha.phi, phi_psi_alpha.psi, 'o', color='#dd8452', label='Prediction')\n",
    "ax.plot(xray_phi_psi_seq.phi, xray_phi_psi_seq.psi, 'o', color='tab:green', label='X-ray')\n",
    "ax.legend()\n",
    "ax.set_title(f'PDBMine Distribution of Dihedral Angles for Resiude E of Window KEF')\n",
    "ax.set_xlabel('Phi')\n",
    "ax.set_ylabel('Psi')\n",
    "ax.set_xlim(-180, -10)\n",
    "ax.set_ylim(-100, 200)\n",
    "\n",
    "plt.tight_layout()"
   ]
  },
  {
   "cell_type": "markdown",
   "metadata": {},
   "source": [
    "# Mahalanobis"
   ]
  },
  {
   "cell_type": "code",
   "execution_count": null,
   "metadata": {},
   "outputs": [],
   "source": [
    "seq = '031_MTI'\n",
    "from scipy.stats import gaussian_kde\n",
    "phi_psi_dist = phi_psi_mined_by_window[phi_psi_mined_by_window.seq == seq]\n",
    "kernel = gaussian_kde(phi_psi_dist[['phi', 'psi']].T)"
   ]
  },
  {
   "cell_type": "code",
   "execution_count": null,
   "metadata": {},
   "outputs": [],
   "source": [
    "# For one window\n",
    "from sklearn.cluster import DBSCAN\n",
    "import matplotlib.pyplot as plt\n",
    "from scipy.stats import gaussian_kde\n",
    "\n",
    "\n",
    "seq = '031_MTI'\n",
    "phi_psi_dist = phi_psi_mined_by_window.loc[phi_psi_mined_by_window.seq == seq][['phi','psi']]\n",
    "\n",
    "# Find clusters\n",
    "clustering = DBSCAN(eps=7, min_samples=3).fit(phi_psi_dist.values)\n",
    "phi_psi_dist['cluster'] = clustering.labels_\n",
    "\n",
    "# Find most probable data point and the cluster it belongs to\n",
    "kernel = gaussian_kde(phi_psi_dist[['phi','psi']].T)\n",
    "phi_psi_most_likely_idx = kernel(phi_psi_dist[['phi','psi']].T).argmax()\n",
    "phi_psi_c = phi_psi_dist.loc[phi_psi_dist.cluster == phi_psi_dist.iloc[phi_psi_most_likely_idx].cluster, ['phi','psi']].values\n",
    "\n",
    "# Mahalanobis distance to most common cluster\n",
    "cov = np.cov(phi_psi_c.T)\n",
    "icov = np.linalg.inv(cov)\n",
    "\n",
    "# xray\n",
    "xray = xray_phi_psi[xray_phi_psi.seq == seq][['phi','psi']].values\n",
    "md_xray = (xray - phi_psi_c.mean(axis=0)) @ icov @ (xray - phi_psi_c.mean(axis=0)).T\n",
    "\n",
    "# alphafold to most common cluster\n",
    "alpha = phi_psi_predictions_by_window[(phi_psi_predictions_by_window.protein_id == 'T1024TS427_1') & (phi_psi_predictions_by_window.seq == seq)][['phi','psi']].values\n",
    "md_alpha = (alpha - phi_psi_c.mean(axis=0)) @ icov @ (alpha - phi_psi_c.mean(axis=0)).T\n",
    "\n",
    "# Other predictions\n",
    "preds = phi_psi_predictions_by_window[phi_psi_predictions_by_window.seq == seq][['phi','psi']].values\n",
    "icov = np.repeat(np.expand_dims(icov, 0), preds.shape[0], axis=0) # expand for batch matrix multiplication\n",
    "md_preds = md = (np.expand_dims((preds - phi_psi_c.mean(axis=0)), 1) @ icov @ np.expand_dims((preds - phi_psi_c.mean(axis=0)), 2)).squeeze()\n",
    "\n",
    "fig, ax = plt.subplots(figsize=(9,7))\n",
    "sns.kdeplot(data=phi_psi_dist, x='phi', y='psi', hue='cluster', palette='viridis', ax=ax, fill=True, legend=False)\n",
    "ax.scatter(preds[:,0], preds[:,1], color='black', marker='.', alpha=0.2, label='All CASP-14 Predictions')\n",
    "ax.scatter(xray[0,0], xray[0,1], color='green', marker='x', label='X-ray')\n",
    "ax.scatter(alpha[0,0], alpha[0,1], color='blue', marker='x', label='AlphaFold')\n",
    "ax.scatter(phi_psi_dist.iloc[phi_psi_most_likely_idx].phi, phi_psi_dist.iloc[phi_psi_most_likely_idx].psi, color='red', marker='x', label='KDE Peak')\n",
    "ax.set_xlim(-200, 110)\n",
    "ax.set_ylim(-200, 230)\n",
    "ax.set_xlabel('Phi')\n",
    "ax.set_ylabel('Psi')\n",
    "ax.set_title(f'PDBMine Dihedral Distribution for Residue T of Window MTI (Position 31)')\n",
    "ax.legend()\n",
    "plt.tight_layout()\n",
    "\n",
    "# Zoomed in\n",
    "# fig, ax = plt.subplots(figsize=(7,5))\n",
    "# sns.kdeplot(data=phi_psi_dist, x='phi', y='psi', hue='cluster', palette='viridis', ax=ax, fill=True, legend=False)\n",
    "# ax.scatter(preds[:,0], preds[:,1], color='black', marker='.', alpha=0.2, label='All CASP-14 Predictions')\n",
    "# ax.scatter(xray[0,0], xray[0,1], color='green', marker='x', s=100, label='X-ray')\n",
    "# ax.scatter(alpha[0,0], alpha[0,1], color='blue', marker='x', s=100, label='AlphaFold')\n",
    "# ax.scatter(phi_psi_dist.iloc[phi_psi_most_likely_idx].phi, phi_psi_dist.iloc[phi_psi_most_likely_idx].psi, color='red', marker='x', s=100, label='KDE Peak')\n",
    "# ax.set_xlim(-90, -40)\n",
    "# ax.set_ylim(-80, 0)\n",
    "# ax.axis('off')\n",
    "# plt.tight_layout()\n",
    "\n",
    "print('xray:', md_xray[0,0])\n",
    "print('alpha:', md_alpha[0,0])\n",
    "print('preds:', pd.DataFrame(md_preds).describe())"
   ]
  },
  {
   "cell_type": "code",
   "execution_count": null,
   "metadata": {},
   "outputs": [],
   "source": [
    "from sklearn.cluster import DBSCAN\n",
    "import matplotlib.pyplot as plt\n",
    "from scipy.stats import gaussian_kde\n",
    "\n",
    "mds = []\n",
    "phi_psi_predictions_by_window['md'] = np.nan\n",
    "xray_phi_psi['md'] = np.nan\n",
    "for i,seq in tqdm(enumerate(phi_psi_mined_by_window.seq.unique())):\n",
    "    phi_psi_dist = phi_psi_mined_by_window.loc[phi_psi_mined_by_window.seq == seq][['phi','psi']]\n",
    "    xray = xray_phi_psi[xray_phi_psi.seq == seq][['phi','psi']].values\n",
    "    preds = phi_psi_predictions_by_window.loc[phi_psi_predictions_by_window.seq == seq][['phi','psi']].values\n",
    "\n",
    "    if phi_psi_dist.shape[0] < 2 or xray.shape[0] < 1 or preds.shape[0] < 1:\n",
    "        print(f'Skipping {seq} - not enough data points')\n",
    "        xray_phi_psi.loc[xray_phi_psi.seq == seq, 'md'] = np.nan\n",
    "        phi_psi_predictions_by_window.loc[phi_psi_predictions_by_window.seq == seq, 'md'] = np.nan        \n",
    "        continue\n",
    "    # Find clusters\n",
    "    clustering = DBSCAN(eps=10, min_samples=3).fit(phi_psi_dist.values)\n",
    "    phi_psi_dist['cluster'] = clustering.labels_\n",
    "\n",
    "    # Find most probable data point and the cluster it belongs to\n",
    "    kernel = gaussian_kde(phi_psi_dist[['phi','psi']].T)\n",
    "    phi_psi_most_likely_idx = kernel(phi_psi_dist[['phi','psi']].T).argmax()\n",
    "    phi_psi_c = phi_psi_dist.loc[phi_psi_dist.cluster == phi_psi_dist.iloc[phi_psi_most_likely_idx].cluster, ['phi','psi']].values\n",
    "\n",
    "    # Mahalanobis distance to most common cluster\n",
    "    cov = np.cov(phi_psi_c.T)\n",
    "    if np.linalg.det(cov) == 0:\n",
    "        print(f'Skipping {seq} - singular matrix')\n",
    "        xray_phi_psi.loc[xray_phi_psi.seq == seq, 'md'] = np.nan\n",
    "        phi_psi_predictions_by_window.loc[phi_psi_predictions_by_window.seq == seq, 'md'] = np.nan\n",
    "        continue\n",
    "    icov = np.linalg.inv(cov)\n",
    "\n",
    "    # xray\n",
    "    md_xray = (xray - phi_psi_c.mean(axis=0)) @ icov @ (xray - phi_psi_c.mean(axis=0)).T\n",
    "    if np.any(md_xray < 0):\n",
    "        md_xray = np.nan\n",
    "    else:\n",
    "        md_xray = np.sqrt(md_xray)[0,0]\n",
    "    print(md_xray)\n",
    "    xray_phi_psi.loc[xray_phi_psi.seq == seq, 'md'] = md_xray\n",
    "\n",
    "    # All predictions\n",
    "    mean = phi_psi_dist[['phi','psi']].mean(axis=0).values\n",
    "    md = (np.expand_dims((preds - mean), 1) @ icov @ np.expand_dims((preds - mean), 2)).squeeze()\n",
    "    if np.any(md < 0):\n",
    "        md = np.nan\n",
    "    else:\n",
    "        md = np.sqrt(md)\n",
    "    phi_psi_predictions_by_window.loc[phi_psi_predictions_by_window.seq == seq, 'md'] = md\n",
    "\n",
    "phi_psi_predictions_by_window.to_csv('phi_psi_predictions_by_window_md.csv', index=False)\n",
    "xray_phi_psi.to_csv('xray_phi_psi_md.csv', index=False)"
   ]
  },
  {
   "cell_type": "code",
   "execution_count": null,
   "metadata": {},
   "outputs": [],
   "source": [
    "phi_psi_predictions_by_window = pd.read_csv('phi_psi_predictions_by_window_md.csv')\n",
    "xray_phi_psi = pd.read_csv('xray_phi_psi_md.csv')"
   ]
  },
  {
   "cell_type": "code",
   "execution_count": null,
   "metadata": {},
   "outputs": [],
   "source": [
    "# Plot xray vs prediction md for each residue of one prediction\n",
    "phi_psi_predictions_by_window['Source'] = 'CASP Prediction'\n",
    "phi_psi_predictions_by_window.loc[phi_psi_predictions_by_window.protein_id == 'T1024TS427_1', 'Source'] = 'AlphaFold'\n",
    "alpha = phi_psi_predictions_by_window.loc[phi_psi_predictions_by_window.protein_id == 'T1024TS427_1']\n",
    "xray_phi_psi['Source'] = 'X-Ray'\n",
    "both = pd.merge(alpha, xray_phi_psi, how='inner', on=['seq','seq'], suffixes=('_alpha','_xray'))\n",
    "both['md_diff'] = both['md_alpha'] - both['md_xray']\n",
    "fig, axes = plt.subplots(2, figsize=(15,10), sharex=True)\n",
    "sns.lineplot(data=both.reset_index(), x='index', y='md_alpha', ax=axes[0], label='AlphaFold')\n",
    "sns.lineplot(data=both.reset_index(), x='index', y='md_xray', ax=axes[0], label='X-Ray')\n",
    "axes[0].set_ylabel('Mahalanobis Distance')\n",
    "axes[1].hlines(both['md_diff'].mean(), xmin=0, xmax=len(both), color='tan', label='Average')\n",
    "axes[1].fill_between(x=both.index, y1=both['md_diff'].mean() + both['md_diff'].std(), y2=both['md_diff'].mean() - both['md_diff'].std(), color='tan', alpha=0.2)\n",
    "sns.lineplot(data=both.reset_index(), x='index', y='md_diff', ax=axes[1], label='AlphaFold minus X-Ray')\n",
    "axes[1].set_ylabel('Mahalanobis Distance')\n",
    "axes[1].set_xlabel('Reisdue Position in Chain')\n",
    "fig.suptitle('Mahalanobis Distance from phi-psi of each residue to the distribution for its window')\n",
    "plt.tight_layout()\n",
    "\n",
    "# NOTE: for presentation, highlight area around res-300 to show this is where alphafold did bad"
   ]
  },
  {
   "cell_type": "code",
   "execution_count": null,
   "metadata": {},
   "outputs": [],
   "source": [
    "# Compare rmsd and mahalanobis distance\n",
    "import matplotlib.pyplot as plt\n",
    "from scipy.stats import linregress\n",
    "group_maha = phi_psi_predictions_by_window.groupby(['protein_id'], as_index=False).mean(numeric_only=True)#.sort_values('mahalanobis_dist').set_index('protein_id').dropna()\n",
    "group_maha = group_maha.merge(results[['Model', 'RMS_ALL']], left_on='protein_id', right_on='Model', how='inner')\n",
    "group_maha = group_maha[group_maha.RMS_ALL < 8]\n",
    "fig, ax = plt.subplots()\n",
    "sns.scatterplot(data=group_maha, x='md', y='RMS_ALL', ax=ax, marker='.', hue='protein_id', legend=False)\n",
    "sns.regplot(data=group_maha, x='md', y='RMS_ALL', ax=ax, scatter=False, robust=True)\n",
    "ax.set_xlabel('Average Mahalanobis Distance')\n",
    "ax.set_ylabel('Prediction RMSD')\n",
    "ax.set_title('Average Mahalanobis Distance vs RMSD for each prediction')\n",
    "\n",
    "regr = linregress(group_maha.md, group_maha.RMS_ALL)\n",
    "print(f\"R-squared: {regr.rvalue**2:.6f}\")\n",
    "# # ax.set_xlim((0.8,1.4))\n",
    "# ax.set_ylim((0,6))"
   ]
  },
  {
   "cell_type": "code",
   "execution_count": null,
   "metadata": {},
   "outputs": [],
   "source": [
    "# plot dists with highest mahalanobis distance for alphafold\n",
    "phi_psi_alpha = phi_psi_predictions_by_window[phi_psi_predictions_by_window.protein_id == 'T1024TS427_1']\n",
    "seqs_with_highest_maha = phi_psi_alpha.sort_values('md', ascending=False).head(16).seq.values\n",
    "\n",
    "m = 0\n",
    "fig, axes = plt.subplots(2,2,figsize=(12,7))\n",
    "for i,seq in enumerate(seqs_with_highest_maha[m:m+4]):\n",
    "    phi_psi_dist = phi_psi_mined_by_window[phi_psi_mined_by_window.seq == seq]\n",
    "    print(phi_psi_dist.shape)\n",
    "    phi_psi_alpha_seq = phi_psi_alpha[phi_psi_alpha.seq == seq]\n",
    "    ax = axes.flatten()[i]\n",
    "    sns.kdeplot(data=phi_psi_dist, x='phi', y='psi', ax=ax, fill=True, color='#7490c0', legend=True)\n",
    "    ax.plot(phi_psi_alpha_seq.phi, phi_psi_alpha_seq.psi, 'o', color='#dd8452', label='Prediction')\n"
   ]
  },
  {
   "cell_type": "code",
   "execution_count": null,
   "metadata": {},
   "outputs": [],
   "source": [
    "pred_phi_psi = pd.read_csv('csvs/6t1z_win3/phi_psi_predictions_by_window_md.csv')"
   ]
  },
  {
   "cell_type": "code",
   "execution_count": null,
   "metadata": {},
   "outputs": [],
   "source": [
    "results = pd.read_csv('casp-results/T1024.txt', delim_whitespace=True)\n",
    "results.sort_values('RMS_ALL', ascending=True)[['RMS_ALL', 'Model']].head(10)"
   ]
  }
 ],
 "metadata": {
  "kernelspec": {
   "display_name": ".venv",
   "language": "python",
   "name": "python3"
  },
  "language_info": {
   "codemirror_mode": {
    "name": "ipython",
    "version": 3
   },
   "file_extension": ".py",
   "mimetype": "text/x-python",
   "name": "python",
   "nbconvert_exporter": "python",
   "pygments_lexer": "ipython3",
   "version": "3.10.12"
  }
 },
 "nbformat": 4,
 "nbformat_minor": 2
}
