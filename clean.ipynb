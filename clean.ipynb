{
 "cells": [
  {
   "cell_type": "code",
   "execution_count": 3,
   "metadata": {},
   "outputs": [],
   "source": [
    "%load_ext autoreload\n",
    "%autoreload 2"
   ]
  },
  {
   "cell_type": "code",
   "execution_count": 4,
   "metadata": {},
   "outputs": [],
   "source": [
    "from lib import DihedralAdherence\n",
    "import os"
   ]
  },
  {
   "cell_type": "code",
   "execution_count": 30,
   "metadata": {},
   "outputs": [
    {
     "name": "stdout",
     "output_type": "stream",
     "text": [
      "Results already exist\n",
      "PDB: 6ya2\n",
      "Structure exists: 'pdb/pdb6ya2.ent' \n"
     ]
    }
   ],
   "source": [
    "WINDOW_SIZE = 5\n",
    "WINDOW_SIZE_CONTEXT = 6\n",
    "PDBMINE_URL = os.getenv(\"PDBMINE_URL\")\n",
    "casp_protein_id = 'T1038'   # 6ya2\n",
    "da = DihedralAdherence(casp_protein_id, WINDOW_SIZE, WINDOW_SIZE_CONTEXT, PDBMINE_URL)\n",
    "# da.check_alignment(pred_id='T1038TS024_5')\n",
    "# da.compute_structures()\n",
    "# da.query_pdbmine()\n",
    "# da.compute_mds()\n",
    "da.load_results_md()"
   ]
  },
  {
   "cell_type": "code",
   "execution_count": 7,
   "metadata": {},
   "outputs": [
    {
     "name": "stdout",
     "output_type": "stream",
     "text": [
      "Results already exist\n",
      "PDB: 6poo\n",
      "Structure exists: 'pdb/pdb6poo.ent' \n",
      "       protein_id        md     md_std     md_na         Model  RMS_CA\n",
      "0    T1030TS005_1  8.518580  22.022165  0.131086  T1030TS005_1   9.454\n",
      "1    T1030TS005_2  8.506571  21.251410  0.127341  T1030TS005_2   8.655\n",
      "2    T1030TS005_3  8.625927  20.827122  0.146067  T1030TS005_3  16.776\n",
      "3    T1030TS005_4  9.519318  25.445550  0.146067  T1030TS005_4   8.785\n",
      "4    T1030TS005_5  8.823896  21.494187  0.097378  T1030TS005_5   8.093\n",
      "..            ...       ...        ...       ...           ...     ...\n",
      "457  T1030TS498_1  8.978023  23.685231  0.097378  T1030TS498_1  17.927\n",
      "458  T1030TS498_2  8.716048  21.157280  0.097378  T1030TS498_2  30.066\n",
      "459  T1030TS498_3  8.395594  21.781713  0.097378  T1030TS498_3   6.003\n",
      "460  T1030TS498_4  8.381150  21.570930  0.097378  T1030TS498_4   5.205\n",
      "461  T1030TS498_5  8.475615  22.242880  0.097378  T1030TS498_5   6.625\n",
      "\n",
      "[462 rows x 6 columns]\n",
      "Results already exist\n",
      "PDB: 6ya2\n",
      "Structure exists: 'pdb/pdb6ya2.ent' \n"
     ]
    },
    {
     "name": "stderr",
     "output_type": "stream",
     "text": [
      "/home/musa/dev/protein-dihedral-visualization/.venv/lib/python3.10/site-packages/Bio/PDB/StructureBuilder.py:89: PDBConstructionWarning: WARNING: Chain A is discontinuous at line 9107.\n",
      "  warnings.warn(\n",
      "/home/musa/dev/protein-dihedral-visualization/.venv/lib/python3.10/site-packages/Bio/PDB/StructureBuilder.py:89: PDBConstructionWarning: WARNING: Chain B is discontinuous at line 9135.\n",
      "  warnings.warn(\n",
      "/home/musa/dev/protein-dihedral-visualization/.venv/lib/python3.10/site-packages/Bio/PDB/StructureBuilder.py:89: PDBConstructionWarning: WARNING: Chain C is discontinuous at line 9163.\n",
      "  warnings.warn(\n",
      "/home/musa/dev/protein-dihedral-visualization/.venv/lib/python3.10/site-packages/Bio/PDB/StructureBuilder.py:89: PDBConstructionWarning: WARNING: Chain A is discontinuous at line 9219.\n",
      "  warnings.warn(\n",
      "/home/musa/dev/protein-dihedral-visualization/.venv/lib/python3.10/site-packages/Bio/PDB/StructureBuilder.py:89: PDBConstructionWarning: WARNING: Chain B is discontinuous at line 9261.\n",
      "  warnings.warn(\n",
      "/home/musa/dev/protein-dihedral-visualization/.venv/lib/python3.10/site-packages/Bio/PDB/StructureBuilder.py:89: PDBConstructionWarning: WARNING: Chain C is discontinuous at line 9355.\n",
      "  warnings.warn(\n"
     ]
    },
    {
     "name": "stdout",
     "output_type": "stream",
     "text": [
      "       protein_id         md     md_std     md_na         Model  RMS_CA\n",
      "0    T1038TS005_1  11.272693  20.522009  0.165803  T1038TS005_1  14.113\n",
      "1    T1038TS005_4   9.459801  17.791287  0.165803  T1038TS005_4  15.214\n",
      "2    T1038TS009_1  10.393437  19.108588  0.113990  T1038TS009_1  16.054\n",
      "3    T1038TS009_2   9.616842  17.121097  0.113990  T1038TS009_2  15.805\n",
      "4    T1038TS009_3   9.944591  17.599631  0.113990  T1038TS009_3  16.526\n",
      "..            ...        ...        ...       ...           ...     ...\n",
      "462  T1038TS498_1   9.923323  17.667933  0.113990  T1038TS498_1  17.198\n",
      "463  T1038TS498_2  11.066082  21.072531  0.113990  T1038TS498_2  17.165\n",
      "464  T1038TS498_3  10.305737  18.455067  0.113990  T1038TS498_3  15.773\n",
      "465  T1038TS498_4   9.588528  18.248973  0.113990  T1038TS498_4  16.777\n",
      "466  T1038TS498_5   9.371467  19.619443  0.212435  T1038TS498_5  13.706\n",
      "\n",
      "[467 rows x 6 columns]\n"
     ]
    }
   ],
   "source": [
    "from lib import fit_model_on_multiple\n",
    "WINDOW_SIZE = 5\n",
    "WINDOW_SIZE_CONTEXT = 6\n",
    "PDBMINE_URL = os.getenv(\"PDBMINE_URL\")\n",
    "\n",
    "fit_model_on_multiple(['T1030', 'T1038'], WINDOW_SIZE, WINDOW_SIZE_CONTEXT, PDBMINE_URL,)"
   ]
  }
 ],
 "metadata": {
  "kernelspec": {
   "display_name": ".venv",
   "language": "python",
   "name": "python3"
  },
  "language_info": {
   "codemirror_mode": {
    "name": "ipython",
    "version": 3
   },
   "file_extension": ".py",
   "mimetype": "text/x-python",
   "name": "python",
   "nbconvert_exporter": "python",
   "pygments_lexer": "ipython3",
   "version": "3.10.12"
  }
 },
 "nbformat": 4,
 "nbformat_minor": 2
}
