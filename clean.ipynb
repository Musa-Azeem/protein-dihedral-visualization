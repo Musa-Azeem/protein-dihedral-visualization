{
 "cells": [
  {
   "cell_type": "code",
   "execution_count": null,
   "metadata": {},
   "outputs": [],
   "source": [
    "%load_ext autoreload\n",
    "%autoreload 2"
   ]
  },
  {
   "cell_type": "code",
   "execution_count": null,
   "metadata": {},
   "outputs": [],
   "source": [
    "from lib import DihedralAdherence\n",
    "from lib import PDBMineQuery\n",
    "import os\n",
    "import numpy as np\n",
    "import pandas as pd\n",
    "import matplotlib.pyplot as plt\n",
    "import seaborn as sns\n",
    "from pathlib import Path\n",
    "PDBMINE_URL = os.getenv(\"PDBMINE_URL\")\n",
    "PROJECT_DIR = 'tests'"
   ]
  },
  {
   "cell_type": "code",
   "execution_count": null,
   "metadata": {},
   "outputs": [],
   "source": [
    "da.grouped_preds.sort_values('da', ascending=False).head(10)\n",
    "# da.grouped_preds.sort_values('RMS_CA', ascending=True).head(10)"
   ]
  },
  {
   "cell_type": "code",
   "execution_count": null,
   "metadata": {},
   "outputs": [],
   "source": [
    "PDBMINE_URL = os.getenv(\"PDBMINE_URL\")\n",
    "PROJECT_DIR = 'tests'\n",
    "casp_protein_id = 'T1027'   # 6ya2\n",
    "proteins = ['T1024', 'T1096', 'T1027', 'T1082', 'T1091', 'T1058', 'T1049', 'T1030', 'T1056', 'T1038', 'T1025', 'T1028']\n",
    "\n",
    "da = DihedralAdherence('T1030', [4,5,6,7], PDBMINE_URL, PROJECT_DIR, kdews=[1,32,64,128])\n",
    "# da.test_pdbmine_conn()\n",
    "# da.compute_structures(replace=False)\n",
    "# da.query_pdbmine()\n",
    "\n",
    "# da.load_results()\n",
    "# da.compute_das(replace=True)\n",
    "da.load_results_da()\n",
    "# da.check_alignment()\n",
    "# da.plot_da_for_seq('QPANLVP')\n",
    "da.plot_da_for_seq('VKSISSS', pred_id='T1030TS476_2')\n",
    "# da.plot_one_dist_3d('VNQANGK', fn='3d_dist1.pdf')\n",
    "# da.plot_one_dist_3d('YNTAIDN', fn='3d_dist2.pdf')\n",
    "# da.plot_heatmap()\n",
    "# both = da.plot_res_vs_da_1plot(legend_loc='upper right', text_loc='right', highlight_res=[(205,210),(309,313),(335,347)], fn='res_vs_da.pdf')\n",
    "both = da.plot_res_vs_da('T1030TS476_2')\n",
    "# da.plot_da_vs_rmsd()\n",
    "# da.plot_da_vs_rmsd_simple(fn='da_vs_rmsd_single.pdf')\n",
    "# da.plot_da_vs_rmsd()\n",
    "# da.split_and_compute_rmsd(print_alignment=False)\n",
    "# da.split_and_compute_rmsd(pred_id=da.get_id('304_1'), split=[(402,441)])\n",
    "# da.split_and_compute_rmsd(split=[(100,104),(180,174)])"
   ]
  },
  {
   "cell_type": "code",
   "execution_count": null,
   "metadata": {},
   "outputs": [],
   "source": [
    "PDBMINE_URL = os.getenv(\"PDBMINE_URL\")\n",
    "PROJECT_DIR = 'tests'\n",
    "proteins = ['T1024', 'T1096', 'T1027', 'T1082', 'T1091', 'T1058', 'T1049', 'T1030', 'T1056', 'T1038', 'T1025', 'T1028']\n",
    "\n",
    "# da = DihedralAdherence(proteins[0], [4,5,6,7], PDBMINE_URL, PROJECT_DIR, kdews=[1,32,64,128])\n",
    "# da.load_results_da()\n",
    "# both = da.plot_res_vs_da_1plot(legend_loc='upper right', text_loc='right', highlight_res=[(205,210),(309,313),(335,347)], fn='res_vs_da.pdf')\n",
    "# ax.set_xlim(202, 390)\n",
    "# ax.set_ylim(-60, 150)\n",
    "\n",
    "# da = DihedralAdherence(proteins[3], [4,5,6,7], PDBMINE_URL, PROJECT_DIR, kdews=[1,32,64,128])\n",
    "# da.load_results_da()\n",
    "# da.plot_da_vs_rmsd_simple(fn='da_vs_rmsd_single.pdf')\n",
    "\n",
    "# da = DihedralAdherence(proteins[5], [4,5,6,7], PDBMINE_URL, PROJECT_DIR, kdews=[1,32,64,128])\n",
    "# da.load_results_da()\n",
    "# da.plot_heatmap(fillna=True, fn='heatmap.pdf')\n",
    "\n",
    "# da = DihedralAdherence('T1030', [4,5,6,7], PDBMINE_URL, PROJECT_DIR, kdews=[1,32,64,128])\n",
    "# da.load_results_da()\n",
    "# from lib.utils import get_phi_psi_dist\n",
    "# from scipy.stats import gaussian_kde\n",
    "# from matplotlib.ticker import FuncFormatter\n",
    "# def plot_one_dist_3d(ins, seq, fn):\n",
    "#     bw_method = None\n",
    "#     phi_psi_dist,_ = get_phi_psi_dist(ins.queries, seq)\n",
    "\n",
    "#     x = phi_psi_dist[['phi','psi']].values.T\n",
    "#     weights = phi_psi_dist['weight'].values\n",
    "#     kde = gaussian_kde(x, weights=weights, bw_method=bw_method)\n",
    "\n",
    "#     x_grid, y_grid = np.meshgrid(np.linspace(-180, 180, 360), np.linspace(-180, 180, 360))\n",
    "#     grid = np.vstack([x_grid.ravel(), y_grid.ravel()])\n",
    "#     z = kde(grid).reshape(x_grid.shape)\n",
    "#     print(f'Max: P({grid[0,z.argmax()]:02f}, {grid[1,z.argmax()]:02f})={z.max():02f}')\n",
    "\n",
    "#     cm = plt.get_cmap('turbo')\n",
    "#     fig = plt.figure(figsize=(10,5))\n",
    "#     ax = fig.add_subplot(111, projection='3d')\n",
    "#     surf = ax.plot_surface(x_grid, y_grid, z, cmap=cm)\n",
    "#     ax.zaxis.set_major_formatter(FuncFormatter(lambda x,pos:f'{x * 1e4:.1f}'))\n",
    "#     ax.set_xticklabels([])\n",
    "#     ax.set_yticklabels([])\n",
    "#     ax.set_zticks(np.linspace(0, z.max(), 5))\n",
    "#     # ax.set_box_aspect(aspect=None, zoom=0.9)\n",
    "#     ax.zaxis.set_tick_params(labelsize=7)\n",
    "#     # ax.dist = 5\n",
    "#     # ax.view_init(elev=30, azim=-100)\n",
    "#     # plt.subplots_adjust(left=0, right=1, top=1, bottom=0)\n",
    "#     # plt.tight_layout()\n",
    "\n",
    "#     if fn:\n",
    "#         plt.savefig(fn, bbox_inches='tight', dpi=300)\n",
    "#     plt.show()\n",
    "# plot_one_dist_3d(da, 'VNQANGK', fn='3d_dist1.pdf')\n",
    "# plot_one_dist_3d(da, 'YNTAIDN', fn='3d_dist2.pdf')\n",
    "\n",
    "da = DihedralAdherence('T1030', [4,5,6,7], PDBMINE_URL, PROJECT_DIR, kdews=[1,32,64,128])\n",
    "da.load_results_da()\n",
    "da.plot_da_for_seq('VKSISSS', pred_id='T1030TS476_2', axlims=((-170,-25),(-100,190)), fn='da_for_seq.pdf')\n"
   ]
  },
  {
   "cell_type": "code",
   "execution_count": null,
   "metadata": {},
   "outputs": [],
   "source": [
    "for casp_id in ['T1024', 'T1096', 'T1027', 'T1082', 'T1091', 'T1058', 'T1049', 'T1030', 'T1056', 'T1038', 'T1025', 'T1028']:\n",
    "    try:\n",
    "        da = DihedralAdherence(casp_id, [4,5,6,7], PDBMINE_URL, PROJECT_DIR, kdews=[1,32,64,128])\n",
    "        da.query_pdbmine()\n",
    "        da.compute_structures(replace=False)\n",
    "        da.compute_das(replace=True)\n",
    "    except Exception as e:\n",
    "        print(f\"{casp_id} - Error: {e}\")"
   ]
  },
  {
   "cell_type": "code",
   "execution_count": null,
   "metadata": {},
   "outputs": [],
   "source": [
    "from lib.fit_model_on_multiple import fit_lr, plot_md_vs_rmsd\n",
    "import os\n",
    "PDBMINE_URL = os.getenv(\"PDBMINE_URL\")\n",
    "PROJECT_DIR = 'tests'\n",
    "\n",
    "# model, grouped_preds = fit_model_on_multiple(['T1056', 'T1038', 'T1025', 'T1028'], WINDOW_SIZE, WINDOW_SIZE_CONTEXT, PDBMINE_URL, n_comp=2000)\n",
    "model, grouped_preds = fit_lr(\n",
    "    ['T1024', 'T1096', 'T1027', 'T1082', 'T1091', 'T1049', 'T1030', 'T1056', 'T1038', 'T1025'],\n",
    "    # ['T1024', 'T1096', 'T1027', 'T1082', 'T1091', 'T1058', 'T1049', 'T1030', 'T1056', 'T1038', 'T1025', 'T1028'],\n",
    "    [4,5,6,7], [1,32,64,128],\n",
    "    PDBMINE_URL, PROJECT_DIR,\n",
    "    n_comp=2000,\n",
    ")\n",
    "plot_md_vs_rmsd(grouped_preds, axlims=((0,60), (0,80)))"
   ]
  },
  {
   "cell_type": "code",
   "execution_count": null,
   "metadata": {},
   "outputs": [],
   "source": [
    "PDBMINE_URL = os.getenv(\"PDBMINE_URL\")\n",
    "PROJECT_DIR = 'tests'\n",
    "casp_protein_ids = ['T1024', 'T1096', 'T1027', 'T1082', 'T1091', 'T1058', 'T1049', 'T1030', 'T1056', 'T1038', 'T1025', 'T1028', 'T1053']\n",
    "\n",
    "xray_phi_psi = []\n",
    "af_phi_psi = []\n",
    "all_phi_psi = []\n",
    "for id in casp_protein_ids:\n",
    "    da = DihedralAdherence(id, [4,5,6,7], PDBMINE_URL, PROJECT_DIR, kdews=[1,32,64,128])\n",
    "    da.load_results_da()\n",
    "    xray_phi_psi.append(da.xray_phi_psi.dropna())\n",
    "    print(xray_phi_psi[-1].shape)\n",
    "    af_phi_psi.append(da.phi_psi_predictions[da.phi_psi_predictions.protein_id == da.alphafold_id].dropna())\n",
    "    print(af_phi_psi[-1].shape)\n",
    "    all_phi_psi.append(da.phi_psi_predictions.dropna())\n",
    "    print(all_phi_psi[-1].shape)\n",
    "\n",
    "xray_phi_psi = pd.concat(xray_phi_psi).reset_index(drop=True)\n",
    "af_phi_psi = pd.concat(af_phi_psi).reset_index(drop=True)\n",
    "all_phi_psi = pd.concat(all_phi_psi).reset_index(drop=True)"
   ]
  },
  {
   "cell_type": "code",
   "execution_count": null,
   "metadata": {},
   "outputs": [],
   "source": [
    "fig, ax = plt.subplots(figsize=(12, 6))\n",
    "sns.set_palette(\"pastel\")\n",
    "sns.kdeplot(data=xray_phi_psi, x='da', fill=True, hue='protein_id', ax=ax, multiple=\"stack\")\n",
    "ax.set_title('Distribution of Distance from X-ray Dihedral Angles to PDBMine Prediction')\n",
    "ax.set_xlabel('Distance')\n",
    "plt.show()"
   ]
  },
  {
   "cell_type": "code",
   "execution_count": null,
   "metadata": {},
   "outputs": [],
   "source": [
    "fig, ax = plt.subplots(figsize=(12, 6))\n",
    "sns.kdeplot(data=af_phi_psi, x='da', fill=True, hue='protein_id', ax=ax, multiple=\"stack\")\n",
    "ax.set_title('Distribution of Distance from AlphaFold Dihedral Angles to PDBMine Prediction')\n",
    "ax.set_xlabel('Distance')\n",
    "plt.show()"
   ]
  },
  {
   "cell_type": "code",
   "execution_count": null,
   "metadata": {},
   "outputs": [],
   "source": [
    "all_phi_psi['target'] = all_phi_psi.protein_id.apply(lambda x: x[:5])\n",
    "fig, ax = plt.subplots(figsize=(12, 6))\n",
    "sns.kdeplot(data=all_phi_psi, x='da', fill=True, hue='target', ax=ax, multiple=\"stack\")\n",
    "ax.set_title('Distribution of Distance from All Predicted Dihedral Angles to PDBMine Prediction')\n",
    "ax.set_xlabel('Distance')\n",
    "plt.show()"
   ]
  },
  {
   "cell_type": "code",
   "execution_count": null,
   "metadata": {},
   "outputs": [],
   "source": [
    "sns.set_palette('tab10')\n",
    "xray_phi_psi['Source'] = 'X-ray'\n",
    "af_phi_psi['Source'] = 'AlphaFold'\n",
    "all_phi_psi['Source'] = 'All Other Predictions'\n",
    "df = pd.concat([\n",
    "    xray_phi_psi.sample(3100), \n",
    "    af_phi_psi.drop('da_na', axis=1).sample(3100),\n",
    "    all_phi_psi.sample(3100)\n",
    "]).reset_index(drop=True)\n",
    "fig, ax = plt.subplots(figsize=(12, 6))\n",
    "sns.kdeplot(data=df, x='da', fill=True, hue='Source', ax=ax, common_norm=True)\n",
    "ax.set_title('Distribution of Distance from Dihedral Angles to PDBMine Prediction')\n",
    "ax.set_xlabel('Distance')\n",
    "plt.show()"
   ]
  },
  {
   "cell_type": "code",
   "execution_count": null,
   "metadata": {},
   "outputs": [],
   "source": [
    "# Plot for one protein\n",
    "casp_protein_id = 'T1058'\n",
    "da = DihedralAdherence(casp_protein_id, [4,5,6,7], PDBMINE_URL, PROJECT_DIR, kdews=[1,32,64,128])\n",
    "da.load_results_da()\n",
    "xray_phi_psi = da.xray_phi_psi.dropna().copy()\n",
    "good_id = da.grouped_preds.sort_values('RMS_CA').iloc[0].protein_id\n",
    "bad_id = da.grouped_preds.sort_values('RMS_CA').iloc[-1].protein_id\n",
    "good_phi_psi = da.phi_psi_predictions[da.phi_psi_predictions.protein_id == good_id].dropna().copy()\n",
    "bad_phi_psi = da.phi_psi_predictions[da.phi_psi_predictions.protein_id == bad_id].dropna().copy()\n",
    "sns.set_palette('tab10')\n",
    "rmsd_da = da.grouped_preds.set_index('protein_id').loc[[good_id, bad_id], ['da', 'RMS_CA']]\n",
    "xray_phi_psi['Source'] = 'X-ray: ' + r'$\\overline{DA}$=' + f'{xray_phi_psi.da.mean():.2f}, RMSD=0'\n",
    "af_phi_psi['Source'] = 'AlphaFold: ' + r'$\\overline{DA}$=' + f'{rmsd_da.loc[good_id].da:.2f}, RMSD={rmsd_da.loc[good_id].RMS_CA:.2f}'\n",
    "bad_phi_psi['Source'] = 'Group 063: ' + r'$\\overline{DA}$=' + f'{rmsd_da.loc[bad_id].da:.2f}, RMSD={rmsd_da.loc[bad_id].RMS_CA:.2f}'\n",
    "df = pd.concat([\n",
    "    xray_phi_psi, \n",
    "    af_phi_psi.drop('da_na', axis=1),\n",
    "    bad_phi_psi.drop('da_na', axis=1)\n",
    "]).reset_index(drop=True)\n",
    "fig, ax = plt.subplots(figsize=(12, 6))\n",
    "sns.kdeplot(data=df, x='da', fill=True, hue='Source', ax=ax, common_norm=False)\n",
    "ax.set_title(f'Distribution of Distance from Dihedral Angles to PDBMine Prediction for {casp_protein_id}')\n",
    "ax.set_xlabel('Distance')\n",
    "plt.show()"
   ]
  }
 ],
 "metadata": {
  "kernelspec": {
   "display_name": ".venv",
   "language": "python",
   "name": "python3"
  },
  "language_info": {
   "codemirror_mode": {
    "name": "ipython",
    "version": 3
   },
   "file_extension": ".py",
   "mimetype": "text/x-python",
   "name": "python",
   "nbconvert_exporter": "python",
   "pygments_lexer": "ipython3",
   "version": "3.10.12"
  }
 },
 "nbformat": 4,
 "nbformat_minor": 2
}
