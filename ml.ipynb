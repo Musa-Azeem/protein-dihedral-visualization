{
 "cells": [
  {
   "cell_type": "code",
   "execution_count": 1,
   "metadata": {},
   "outputs": [],
   "source": [
    "%load_ext autoreload\n",
    "%autoreload 2"
   ]
  },
  {
   "cell_type": "code",
   "execution_count": 2,
   "metadata": {},
   "outputs": [],
   "source": [
    "from lib import DihedralAdherence\n",
    "from lib import PDBMineQuery, MultiWindowQuery\n",
    "import os\n",
    "import numpy as np\n",
    "import pandas as pd\n",
    "import matplotlib.pyplot as plt\n",
    "import seaborn as sns\n",
    "from pathlib import Path\n",
    "from tqdm import tqdm\n",
    "from tabulate import tabulate\n",
    "from collections import defaultdict\n",
    "from dotenv import load_dotenv\n",
    "import torch\n",
    "from torch import nn\n",
    "import torch.nn.functional as F\n",
    "from scipy.stats import gaussian_kde\n",
    "from sklearn.model_selection import train_test_split\n",
    "from torch.utils.data import TensorDataset, DataLoader, Dataset, ConcatDataset\n",
    "from torch.utils.tensorboard import SummaryWriter\n",
    "from lib.constants import AMINO_ACID_MAP, AMINO_ACID_MAP_INV\n",
    "PDBMINE_URL = os.getenv(\"PDBMINE_URL\")\n",
    "PROJECT_DIR = 'ml_data'"
   ]
  },
  {
   "cell_type": "code",
   "execution_count": null,
   "metadata": {},
   "outputs": [],
   "source": [
    "PDBMINE_URL = os.getenv(\"PDBMINE_URL\")\n",
    "PROJECT_DIR = 'ml_data'\n",
    "# casp_protein_ids = ['T1024', 'T1096', 'T1027', 'T1082', 'T1091', 'T1058', 'T1049', 'T1030', 'T1056', 'T1038', 'T1025', 'T1028']\n",
    "# pdb_codes = ['6T1Z', '7UM1', '7D2O', '7CN6', '7W6B', '7ABW', '6Y4F', '6POO', '6YJ1', '6YA2', '6UV6', '6VQP']\n",
    "pdb_codes = [f.name.split('_')[0] for f in Path(PROJECT_DIR).iterdir() if f.is_dir()]\n",
    "winsizes = [4,5,6,7]\n",
    "outdir = Path('ml_samples/kde')\n",
    "outdir.mkdir(exist_ok=True, parents=True)\n",
    "n_matches = defaultdict(list)\n",
    "# pdb_codes = [pdb_codes[0]]\n",
    "for id in pdb_codes:\n",
    "    if (outdir / f'{id}.pt').exists():\n",
    "        continue\n",
    "    try:\n",
    "        da = MultiWindowQuery(id, winsizes, PDBMINE_URL, PROJECT_DIR)\n",
    "        # da.compute_structure()\n",
    "        da.load_results()\n",
    "    except FileNotFoundError as e:\n",
    "        print(e)\n",
    "        continue\n",
    "    if da.af_phi_psi is None:\n",
    "        continue\n",
    "    seqs = pd.merge(\n",
    "        da.xray_phi_psi[['seq_ctxt', 'res', 'phi', 'psi']], \n",
    "        da.af_phi_psi[['seq_ctxt', 'phi', 'psi']], \n",
    "        on='seq_ctxt', suffixes=('', '_af')\n",
    "    ).rename(columns={'seq_ctxt': 'seq'})\n",
    "    if seqs.shape[0] == 0:\n",
    "        print('No sequences for', id)\n",
    "        continue\n",
    "\n",
    "    print(seqs.shape, seqs.seq.nunique())\n",
    "    X = []\n",
    "    y = []\n",
    "    x_res = []\n",
    "    af_phi_psi = []\n",
    "    for i,row in tqdm(seqs.iterrows()):\n",
    "        kdepeaks = []\n",
    "        if np.isnan(row.phi) or np.isnan(row.psi) or np.isnan(row.phi_af) or np.isnan(row.psi_af):\n",
    "            print('NaNs for', row.seq)\n",
    "            continue\n",
    "        for q in da.queries:\n",
    "            inner_seq = q.get_subseq(row.seq)\n",
    "            # matches = q.results[q.results.seq == inner_seq][['seq', 'phi', 'psi']]\n",
    "            matches = q.results[q.results.seq == inner_seq]\n",
    "            if matches.shape[0] < 2:\n",
    "                kdepeaks.append(torch.zeros(2))\n",
    "                continue\n",
    "            phi = matches.phi.values\n",
    "            psi = matches.psi.values\n",
    "            x = np.stack([phi, psi])\n",
    "            try:\n",
    "                kde = gaussian_kde(x, bw_method=0.5)\n",
    "                phi_grid, psi_grid = np.meshgrid(np.linspace(-180, 180, 180), np.linspace(-180, 180, 180))\n",
    "                grid = np.vstack([phi_grid.ravel(), psi_grid.ravel()])\n",
    "                probs = kde(grid).reshape(phi_grid.shape)\n",
    "                kdepeak = grid[:,probs.argmax()]\n",
    "                kdepeaks.append(torch.tensor(kdepeak))\n",
    "            except np.linalg.LinAlgError as e:\n",
    "                kdepeaks.append(torch.zeros(2))\n",
    "        kdepeaks = torch.stack(kdepeaks)\n",
    "        if torch.sum(kdepeaks) == 0:\n",
    "            print('No matches for', row.seq)\n",
    "            continue\n",
    "        X.append(kdepeaks)\n",
    "        y.append(torch.tensor([row.phi, row.psi]))\n",
    "        x_res.append(AMINO_ACID_MAP[row.res])\n",
    "        af_phi_psi.append(torch.tensor([row.phi_af, row.psi_af]))\n",
    "    if len(X) == 0:\n",
    "        print('No matches for', id)\n",
    "        continue\n",
    "    X = torch.stack(X)\n",
    "    y = torch.stack(y)\n",
    "    x_res = F.one_hot(torch.tensor(x_res).to(torch.int64), num_classes=20)\n",
    "    af_phi_psi = torch.stack(af_phi_psi)\n",
    "    torch.save((X, x_res, af_phi_psi, y), outdir / f'{id}.pt')"
   ]
  },
  {
   "cell_type": "code",
   "execution_count": 3,
   "metadata": {},
   "outputs": [],
   "source": [
    "class ProteinDatasetKDE(Dataset):\n",
    "    def __init__(self, id, path):\n",
    "        self.id = id\n",
    "        self.path = path\n",
    "\n",
    "        self.X, self.xres, self.af, self.y = torch.load(self.path / f'{id}.pt')\n",
    "        self.X, self.xres, self.af, self.y = self.X.float(), self.xres.float(), self.af.float(), self.y.float()\n",
    "    def __len__(self):\n",
    "        return self.X.shape[0]\n",
    "\n",
    "    def __getitem__(self, i):\n",
    "        return self.X[i], self.xres[i], self.af[i], self.y[i]\n",
    "\n",
    "class MultiProtein(Dataset):\n",
    "    def __init__(self, protein_ids, path):\n",
    "        self.protein_ids = protein_ids\n",
    "        self.path = path\n",
    "    def __len__(self):\n",
    "        return len(self.protein_ids)\n",
    "    def __getitem__(self, i):\n",
    "        X, xres, af, y = torch.load(self.path / f'{self.protein_ids[i]}.pt')\n",
    "        X, xres, af, y = X.float(), xres.float(), af.float(), y.float()\n",
    "        return X, xres, af, y"
   ]
  },
  {
   "cell_type": "code",
   "execution_count": 4,
   "metadata": {},
   "outputs": [
    {
     "data": {
      "text/plain": [
       "(47558, 25173, 72731)"
      ]
     },
     "execution_count": 4,
     "metadata": {},
     "output_type": "execute_result"
    }
   ],
   "source": [
    "path = Path('ml_samples/kde')\n",
    "samples = [f.stem for f in path.iterdir()]\n",
    "\n",
    "from lib.retrieve_data import retrieve_target_list\n",
    "ids = ['T1024', 'T1096', 'T1027', 'T1082', 'T1091', 'T1058', 'T1049', 'T1030', 'T1056', 'T1038', 'T1025', 'T1028']\n",
    "targetlist = retrieve_target_list()\n",
    "skip = [targetlist.loc[id, 'pdb_code'].upper() for id in ids]\n",
    "samples = sorted(list(set(samples) - set(skip)))\n",
    "\n",
    "train, test = train_test_split(samples, test_size=0.35, random_state=42)\n",
    "torch.save((train, test), 'ml_data/split.pt')\n",
    "# train, test = to ch.load('ml_data/split.pt')\n",
    "train_dataset = ConcatDataset([ProteinDatasetKDE(s, path) for s in train])\n",
    "test_dataset = ConcatDataset([ProteinDatasetKDE(s, path) for s in test])\n",
    "multi_trainset = MultiProtein(train, path)\n",
    "multi_testset = MultiProtein(test, path)\n",
    "trainloader = DataLoader(train_dataset, batch_size=512, shuffle=True)\n",
    "testloader = DataLoader(test_dataset, batch_size=512, shuffle=False)\n",
    "len(train_dataset), len(test_dataset), len(train_dataset) + len(test_dataset)"
   ]
  },
  {
   "cell_type": "code",
   "execution_count": 5,
   "metadata": {},
   "outputs": [],
   "source": [
    "X, xres, af, y = next(iter(trainloader))"
   ]
  },
  {
   "cell_type": "code",
   "execution_count": 6,
   "metadata": {},
   "outputs": [
    {
     "data": {
      "image/png": "[encoded data removed]",
      "text/plain": [
       "<Figure size 640x480 with 1 Axes>"
      ]
     },
     "metadata": {},
     "output_type": "display_data"
    }
   ],
   "source": [
    "def plot(Xp, y, i, logits=None, logits2=None, res=None, af=None):\n",
    "    Xp = Xp.cpu().clone().detach()\n",
    "    y = y.cpu().clone().detach()\n",
    "    plt.plot(Xp[i, 0, 0], Xp[i, 0, 1], 'o', label='4')\n",
    "    plt.plot(Xp[i, 1, 0], Xp[i, 1, 1], 'o', label='5')\n",
    "    plt.plot(Xp[i, 2, 0], Xp[i, 2, 1], 'o', label='6')\n",
    "    plt.plot(Xp[i, 3, 0], Xp[i, 3, 1], 'o', label='7')\n",
    "    \n",
    "    plt.plot(y[i,0],y[i,1], 'X', label='true', color='purple',  markersize=10, alpha=0.5)\n",
    "    if res is not None:\n",
    "        res = res.cpu().clone().detach()\n",
    "        plt.title(AMINO_ACID_MAP_INV[res[i].argmax().item()])\n",
    "    if af is not None:\n",
    "        af = af.cpu().clone().detach()\n",
    "        plt.plot(af[i,0],af[i,1], 'X', label='af', color='red', markersize=10, alpha=0.5)\n",
    "    if logits is not None:\n",
    "        logits = logits.cpu().clone().detach()\n",
    "        plt.plot(logits[i,0].detach(),logits[i,1].detach(), 'X', label='pred', color='black', markersize=10)\n",
    "    if logits2 is not None:\n",
    "        logits2 = logits2.cpu().clone().detach()\n",
    "        plt.plot(logits2[i,0].detach(),logits2[i,1].detach(), 'X', label='pred2', color='orange', markersize=10)\n",
    "    plt.legend()\n",
    "    plt.xlim(-180,180)\n",
    "    plt.ylim(-180,180)\n",
    "plot(X,y, 14, res=xres, af=af)"
   ]
  },
  {
   "cell_type": "code",
   "execution_count": 5,
   "metadata": {},
   "outputs": [],
   "source": [
    "def save_model(model, path):\n",
    "    if type(model) == nn.DataParallel:\n",
    "        model = model.module\n",
    "    torch.save(model.state_dict(), path)\n",
    "def load_model(model, path):\n",
    "    if type(model) == nn.DataParallel:\n",
    "        model = model.module\n",
    "    model.load_state_dict(torch.load(path))\n",
    "    return model"
   ]
  },
  {
   "cell_type": "code",
   "execution_count": 9,
   "metadata": {},
   "outputs": [
    {
     "data": {
      "text/plain": [
       "6274"
      ]
     },
     "execution_count": 9,
     "metadata": {},
     "output_type": "execute_result"
    }
   ],
   "source": [
    "class KDENet(nn.Module):\n",
    "    def __init__(self):\n",
    "        super().__init__()\n",
    "        self.l1 = nn.Linear(30, 64)\n",
    "        self.l2 = nn.Linear(64, 64)\n",
    "        self.out = nn.Linear(64, 2)\n",
    "    \n",
    "    def forward(self, X, xres, af):\n",
    "        x = torch.hstack([X.flatten(1), af, xres])\n",
    "        x = F.relu(self.l1(x))\n",
    "        x = F.relu(self.l2(x))\n",
    "        x = self.out(x)\n",
    "        return x\n",
    "\n",
    "class AngleMSELoss(nn.Module):\n",
    "    def __init__(self):\n",
    "        super().__init__()\n",
    "    def forward(self, x, y):\n",
    "        def diff(x1, x2):\n",
    "            d = torch.abs(x1 - x2)\n",
    "            d = torch.minimum(d, 360-d)\n",
    "            return d\n",
    "        phi_diff = diff(x[:,0], y[:,0]).unsqueeze(1)\n",
    "        psi_diff = diff(x[:,1], y[:,1]).unsqueeze(1)\n",
    "        return torch.mean(torch.hstack([phi_diff, psi_diff])**2)\n",
    "    \n",
    "device = 'cuda:0'\n",
    "model = nn.DataParallel(KDENet()).to(device)\n",
    "criterion = AngleMSELoss()\n",
    "optimizer = torch.optim.Adam(model.parameters(), lr=3e-4)\n",
    "sum([p.numel() for p in model.parameters()])"
   ]
  },
  {
   "cell_type": "code",
   "execution_count": 10,
   "metadata": {},
   "outputs": [
    {
     "name": "stdout",
     "output_type": "stream",
     "text": [
      "torch.Size([512, 4, 2]) torch.Size([512, 20]) torch.Size([512, 2]) torch.Size([512, 2])\n"
     ]
    },
    {
     "data": {
      "text/plain": [
       "torch.Size([512, 2])"
      ]
     },
     "execution_count": 10,
     "metadata": {},
     "output_type": "execute_result"
    }
   ],
   "source": [
    "X,xres,af,y = next(iter(trainloader))\n",
    "print(X.shape, xres.shape, af.shape, y.shape)\n",
    "model(X.to(device),xres.to(device),af.to(device)).shape"
   ]
  },
  {
   "cell_type": "code",
   "execution_count": 11,
   "metadata": {},
   "outputs": [
    {
     "name": "stderr",
     "output_type": "stream",
     "text": [
      "  0%|          | 0/1500 [00:00<?, ?it/s]"
     ]
    },
    {
     "name": "stderr",
     "output_type": "stream",
     "text": [
      " 25%|██▍       | 372/1500 [03:39<11:05,  1.70it/s, train_loss=284, test_loss=392]      \n"
     ]
    },
    {
     "ename": "KeyboardInterrupt",
     "evalue": "",
     "output_type": "error",
     "traceback": [
      "\u001b[0;31m---------------------------------------------------------------------------\u001b[0m",
      "\u001b[0;31mKeyboardInterrupt\u001b[0m                         Traceback (most recent call last)",
      "Cell \u001b[0;32mIn[11], line 15\u001b[0m\n\u001b[1;32m     13\u001b[0m     \u001b[38;5;28;01mraise\u001b[39;00m \u001b[38;5;167;01mValueError\u001b[39;00m(\u001b[38;5;124m'\u001b[39m\u001b[38;5;124mnan\u001b[39m\u001b[38;5;124m'\u001b[39m)\n\u001b[1;32m     14\u001b[0m loss \u001b[38;5;241m=\u001b[39m criterion(logits, y)\n\u001b[0;32m---> 15\u001b[0m \u001b[43mloss\u001b[49m\u001b[38;5;241;43m.\u001b[39;49m\u001b[43mbackward\u001b[49m\u001b[43m(\u001b[49m\u001b[43m)\u001b[49m\n\u001b[1;32m     16\u001b[0m optimizer\u001b[38;5;241m.\u001b[39mstep()\n\u001b[1;32m     17\u001b[0m losses\u001b[38;5;241m.\u001b[39mappend(loss\u001b[38;5;241m.\u001b[39mitem())\n",
      "File \u001b[0;32m~/protein-dihedral-visualization/env/lib/python3.12/site-packages/torch/_tensor.py:525\u001b[0m, in \u001b[0;36mTensor.backward\u001b[0;34m(self, gradient, retain_graph, create_graph, inputs)\u001b[0m\n\u001b[1;32m    515\u001b[0m \u001b[38;5;28;01mif\u001b[39;00m has_torch_function_unary(\u001b[38;5;28mself\u001b[39m):\n\u001b[1;32m    516\u001b[0m     \u001b[38;5;28;01mreturn\u001b[39;00m handle_torch_function(\n\u001b[1;32m    517\u001b[0m         Tensor\u001b[38;5;241m.\u001b[39mbackward,\n\u001b[1;32m    518\u001b[0m         (\u001b[38;5;28mself\u001b[39m,),\n\u001b[0;32m   (...)\u001b[0m\n\u001b[1;32m    523\u001b[0m         inputs\u001b[38;5;241m=\u001b[39minputs,\n\u001b[1;32m    524\u001b[0m     )\n\u001b[0;32m--> 525\u001b[0m \u001b[43mtorch\u001b[49m\u001b[38;5;241;43m.\u001b[39;49m\u001b[43mautograd\u001b[49m\u001b[38;5;241;43m.\u001b[39;49m\u001b[43mbackward\u001b[49m\u001b[43m(\u001b[49m\n\u001b[1;32m    526\u001b[0m \u001b[43m    \u001b[49m\u001b[38;5;28;43mself\u001b[39;49m\u001b[43m,\u001b[49m\u001b[43m \u001b[49m\u001b[43mgradient\u001b[49m\u001b[43m,\u001b[49m\u001b[43m \u001b[49m\u001b[43mretain_graph\u001b[49m\u001b[43m,\u001b[49m\u001b[43m \u001b[49m\u001b[43mcreate_graph\u001b[49m\u001b[43m,\u001b[49m\u001b[43m \u001b[49m\u001b[43minputs\u001b[49m\u001b[38;5;241;43m=\u001b[39;49m\u001b[43minputs\u001b[49m\n\u001b[1;32m    527\u001b[0m \u001b[43m\u001b[49m\u001b[43m)\u001b[49m\n",
      "File \u001b[0;32m~/protein-dihedral-visualization/env/lib/python3.12/site-packages/torch/autograd/__init__.py:267\u001b[0m, in \u001b[0;36mbackward\u001b[0;34m(tensors, grad_tensors, retain_graph, create_graph, grad_variables, inputs)\u001b[0m\n\u001b[1;32m    262\u001b[0m     retain_graph \u001b[38;5;241m=\u001b[39m create_graph\n\u001b[1;32m    264\u001b[0m \u001b[38;5;66;03m# The reason we repeat the same comment below is that\u001b[39;00m\n\u001b[1;32m    265\u001b[0m \u001b[38;5;66;03m# some Python versions print out the first line of a multi-line function\u001b[39;00m\n\u001b[1;32m    266\u001b[0m \u001b[38;5;66;03m# calls in the traceback and some print out the last line\u001b[39;00m\n\u001b[0;32m--> 267\u001b[0m \u001b[43m_engine_run_backward\u001b[49m\u001b[43m(\u001b[49m\n\u001b[1;32m    268\u001b[0m \u001b[43m    \u001b[49m\u001b[43mtensors\u001b[49m\u001b[43m,\u001b[49m\n\u001b[1;32m    269\u001b[0m \u001b[43m    \u001b[49m\u001b[43mgrad_tensors_\u001b[49m\u001b[43m,\u001b[49m\n\u001b[1;32m    270\u001b[0m \u001b[43m    \u001b[49m\u001b[43mretain_graph\u001b[49m\u001b[43m,\u001b[49m\n\u001b[1;32m    271\u001b[0m \u001b[43m    \u001b[49m\u001b[43mcreate_graph\u001b[49m\u001b[43m,\u001b[49m\n\u001b[1;32m    272\u001b[0m \u001b[43m    \u001b[49m\u001b[43minputs\u001b[49m\u001b[43m,\u001b[49m\n\u001b[1;32m    273\u001b[0m \u001b[43m    \u001b[49m\u001b[43mallow_unreachable\u001b[49m\u001b[38;5;241;43m=\u001b[39;49m\u001b[38;5;28;43;01mTrue\u001b[39;49;00m\u001b[43m,\u001b[49m\n\u001b[1;32m    274\u001b[0m \u001b[43m    \u001b[49m\u001b[43maccumulate_grad\u001b[49m\u001b[38;5;241;43m=\u001b[39;49m\u001b[38;5;28;43;01mTrue\u001b[39;49;00m\u001b[43m,\u001b[49m\n\u001b[1;32m    275\u001b[0m \u001b[43m\u001b[49m\u001b[43m)\u001b[49m\n",
      "File \u001b[0;32m~/protein-dihedral-visualization/env/lib/python3.12/site-packages/torch/autograd/graph.py:744\u001b[0m, in \u001b[0;36m_engine_run_backward\u001b[0;34m(t_outputs, *args, **kwargs)\u001b[0m\n\u001b[1;32m    742\u001b[0m     unregister_hooks \u001b[38;5;241m=\u001b[39m _register_logging_hooks_on_whole_graph(t_outputs)\n\u001b[1;32m    743\u001b[0m \u001b[38;5;28;01mtry\u001b[39;00m:\n\u001b[0;32m--> 744\u001b[0m     \u001b[38;5;28;01mreturn\u001b[39;00m \u001b[43mVariable\u001b[49m\u001b[38;5;241;43m.\u001b[39;49m\u001b[43m_execution_engine\u001b[49m\u001b[38;5;241;43m.\u001b[39;49m\u001b[43mrun_backward\u001b[49m\u001b[43m(\u001b[49m\u001b[43m  \u001b[49m\u001b[38;5;66;43;03m# Calls into the C++ engine to run the backward pass\u001b[39;49;00m\n\u001b[1;32m    745\u001b[0m \u001b[43m        \u001b[49m\u001b[43mt_outputs\u001b[49m\u001b[43m,\u001b[49m\u001b[43m \u001b[49m\u001b[38;5;241;43m*\u001b[39;49m\u001b[43margs\u001b[49m\u001b[43m,\u001b[49m\u001b[43m \u001b[49m\u001b[38;5;241;43m*\u001b[39;49m\u001b[38;5;241;43m*\u001b[39;49m\u001b[43mkwargs\u001b[49m\n\u001b[1;32m    746\u001b[0m \u001b[43m    \u001b[49m\u001b[43m)\u001b[49m  \u001b[38;5;66;03m# Calls into the C++ engine to run the backward pass\u001b[39;00m\n\u001b[1;32m    747\u001b[0m \u001b[38;5;28;01mfinally\u001b[39;00m:\n\u001b[1;32m    748\u001b[0m     \u001b[38;5;28;01mif\u001b[39;00m attach_logging_hooks:\n",
      "\u001b[0;31mKeyboardInterrupt\u001b[0m: "
     ]
    }
   ],
   "source": [
    "train_losses = []\n",
    "test_losses = []\n",
    "lowest_test_loss = float('inf')\n",
    "writer = SummaryWriter('tensorboard')\n",
    "for epoch in (pbar := tqdm(range(1500))):\n",
    "    losses = []\n",
    "    model.train()\n",
    "    for X,xres,af,y in trainloader:\n",
    "        X,xres,af,y = X.to(device), xres.to(device), af.to(device), y.to(device)\n",
    "        optimizer.zero_grad()\n",
    "        logits = model(X, xres, af)\n",
    "        if logits.isnan().sum() > 0:\n",
    "            raise ValueError('nan')\n",
    "        loss = criterion(logits, y)\n",
    "        loss.backward()\n",
    "        optimizer.step()\n",
    "        losses.append(loss.item())\n",
    "    train_losses.append(sum(losses) / len(losses))\n",
    "\n",
    "    losses = []\n",
    "    model.eval()\n",
    "    for X,xres,af,y in testloader:\n",
    "        with torch.no_grad():\n",
    "            X,xres,af,y = X.to(device), xres.to(device), af.to(device), y.to(device)\n",
    "            logits = model(X, xres, af)\n",
    "            loss = criterion(logits, y)\n",
    "            losses.append(loss.item())\n",
    "    test_losses.append(sum(losses) / len(losses))\n",
    "    if test_losses[-1] < lowest_test_loss:\n",
    "        lowest_test_loss = test_losses[-1]\n",
    "        save_model(model, 'ml_data/best_model.pt')\n",
    "    writer.add_scalars('Loss', {\n",
    "        'train': train_losses[-1],\n",
    "        'test': test_losses[-1]\n",
    "    }, epoch)\n",
    "    writer.flush()\n",
    "\n",
    "    pbar.set_postfix({'train_loss': train_losses[-1], 'test_loss': test_losses[-1]})\n",
    "writer.close()"
   ]
  },
  {
   "cell_type": "code",
   "execution_count": 139,
   "metadata": {},
   "outputs": [
    {
     "data": {
      "text/plain": [
       "65922"
      ]
     },
     "execution_count": 139,
     "metadata": {},
     "output_type": "execute_result"
    }
   ],
   "source": [
    "class KDELSTMNet(nn.Module):\n",
    "    def __init__(self):\n",
    "        super().__init__()\n",
    "        self.lstm = nn.LSTM(30, 64, batch_first=True, bidirectional=True, num_layers=1)\n",
    "        self.l1 = nn.Linear(64*2, 128)\n",
    "        self.out = nn.Linear(128, 2)\n",
    "        self.relu = nn.ReLU()\n",
    "    \n",
    "    def forward(self, X, xres, af):\n",
    "        x = torch.hstack([X.flatten(1), af, xres])\n",
    "        x, (h,c) = self.lstm(x)\n",
    "        if x.shape[0] > 512:\n",
    "            xs = []\n",
    "            for i in range(0, x.shape[0], 512):\n",
    "                xs.append(self.out(self.relu(self.l1(x[i:i+512]))))\n",
    "            x = torch.cat(xs)\n",
    "        else:\n",
    "            x = self.out(self.relu(self.l1(x)))\n",
    "        return x\n",
    "model = nn.DataParallel(KDELSTMNet()).to(device)\n",
    "criterion = AngleMSELoss()\n",
    "optimizer = torch.optim.Adam(model.parameters(), lr=3e-4)\n",
    "sum([p.numel() for p in model.parameters()])"
   ]
  },
  {
   "cell_type": "code",
   "execution_count": 140,
   "metadata": {},
   "outputs": [
    {
     "name": "stdout",
     "output_type": "stream",
     "text": [
      "torch.Size([1265, 4, 2])\n"
     ]
    },
    {
     "data": {
      "text/plain": [
       "torch.Size([1265, 2])"
      ]
     },
     "execution_count": 140,
     "metadata": {},
     "output_type": "execute_result"
    }
   ],
   "source": [
    "X,xres,af,y = multi_trainset[84]\n",
    "print(X.shape)\n",
    "model(X.to(device),xres.to(device),af.to(device)).shape"
   ]
  },
  {
   "cell_type": "code",
   "execution_count": 141,
   "metadata": {},
   "outputs": [
    {
     "name": "stderr",
     "output_type": "stream",
     "text": [
      "  0%|          | 0/1500 [00:00<?, ?it/s]"
     ]
    },
    {
     "name": "stderr",
     "output_type": "stream",
     "text": [
      "  9%|▊         | 129/1500 [05:37<59:44,  2.61s/it, train_loss=277, test_loss=525]        \n"
     ]
    },
    {
     "ename": "KeyboardInterrupt",
     "evalue": "",
     "output_type": "error",
     "traceback": [
      "\u001b[0;31m---------------------------------------------------------------------------\u001b[0m",
      "\u001b[0;31mKeyboardInterrupt\u001b[0m                         Traceback (most recent call last)",
      "Cell \u001b[0;32mIn[141], line 11\u001b[0m\n\u001b[1;32m      9\u001b[0m X,xres,af,y \u001b[38;5;241m=\u001b[39m X\u001b[38;5;241m.\u001b[39mto(device), xres\u001b[38;5;241m.\u001b[39mto(device), af\u001b[38;5;241m.\u001b[39mto(device), y\u001b[38;5;241m.\u001b[39mto(device)\n\u001b[1;32m     10\u001b[0m optimizer\u001b[38;5;241m.\u001b[39mzero_grad()\n\u001b[0;32m---> 11\u001b[0m logits \u001b[38;5;241m=\u001b[39m \u001b[43mmodel\u001b[49m\u001b[43m(\u001b[49m\u001b[43mX\u001b[49m\u001b[43m,\u001b[49m\u001b[43m \u001b[49m\u001b[43mxres\u001b[49m\u001b[43m,\u001b[49m\u001b[43m \u001b[49m\u001b[43maf\u001b[49m\u001b[43m)\u001b[49m\n\u001b[1;32m     12\u001b[0m \u001b[38;5;28;01mif\u001b[39;00m logits\u001b[38;5;241m.\u001b[39misnan()\u001b[38;5;241m.\u001b[39msum() \u001b[38;5;241m>\u001b[39m \u001b[38;5;241m0\u001b[39m:\n\u001b[1;32m     13\u001b[0m     \u001b[38;5;28;01mraise\u001b[39;00m \u001b[38;5;167;01mValueError\u001b[39;00m(\u001b[38;5;124m'\u001b[39m\u001b[38;5;124mnan\u001b[39m\u001b[38;5;124m'\u001b[39m)\n",
      "File \u001b[0;32m~/protein-dihedral-visualization/env/lib/python3.12/site-packages/torch/nn/modules/module.py:1532\u001b[0m, in \u001b[0;36mModule._wrapped_call_impl\u001b[0;34m(self, *args, **kwargs)\u001b[0m\n\u001b[1;32m   1530\u001b[0m     \u001b[38;5;28;01mreturn\u001b[39;00m \u001b[38;5;28mself\u001b[39m\u001b[38;5;241m.\u001b[39m_compiled_call_impl(\u001b[38;5;241m*\u001b[39margs, \u001b[38;5;241m*\u001b[39m\u001b[38;5;241m*\u001b[39mkwargs)  \u001b[38;5;66;03m# type: ignore[misc]\u001b[39;00m\n\u001b[1;32m   1531\u001b[0m \u001b[38;5;28;01melse\u001b[39;00m:\n\u001b[0;32m-> 1532\u001b[0m     \u001b[38;5;28;01mreturn\u001b[39;00m \u001b[38;5;28;43mself\u001b[39;49m\u001b[38;5;241;43m.\u001b[39;49m\u001b[43m_call_impl\u001b[49m\u001b[43m(\u001b[49m\u001b[38;5;241;43m*\u001b[39;49m\u001b[43margs\u001b[49m\u001b[43m,\u001b[49m\u001b[43m \u001b[49m\u001b[38;5;241;43m*\u001b[39;49m\u001b[38;5;241;43m*\u001b[39;49m\u001b[43mkwargs\u001b[49m\u001b[43m)\u001b[49m\n",
      "File \u001b[0;32m~/protein-dihedral-visualization/env/lib/python3.12/site-packages/torch/nn/modules/module.py:1541\u001b[0m, in \u001b[0;36mModule._call_impl\u001b[0;34m(self, *args, **kwargs)\u001b[0m\n\u001b[1;32m   1536\u001b[0m \u001b[38;5;66;03m# If we don't have any hooks, we want to skip the rest of the logic in\u001b[39;00m\n\u001b[1;32m   1537\u001b[0m \u001b[38;5;66;03m# this function, and just call forward.\u001b[39;00m\n\u001b[1;32m   1538\u001b[0m \u001b[38;5;28;01mif\u001b[39;00m \u001b[38;5;129;01mnot\u001b[39;00m (\u001b[38;5;28mself\u001b[39m\u001b[38;5;241m.\u001b[39m_backward_hooks \u001b[38;5;129;01mor\u001b[39;00m \u001b[38;5;28mself\u001b[39m\u001b[38;5;241m.\u001b[39m_backward_pre_hooks \u001b[38;5;129;01mor\u001b[39;00m \u001b[38;5;28mself\u001b[39m\u001b[38;5;241m.\u001b[39m_forward_hooks \u001b[38;5;129;01mor\u001b[39;00m \u001b[38;5;28mself\u001b[39m\u001b[38;5;241m.\u001b[39m_forward_pre_hooks\n\u001b[1;32m   1539\u001b[0m         \u001b[38;5;129;01mor\u001b[39;00m _global_backward_pre_hooks \u001b[38;5;129;01mor\u001b[39;00m _global_backward_hooks\n\u001b[1;32m   1540\u001b[0m         \u001b[38;5;129;01mor\u001b[39;00m _global_forward_hooks \u001b[38;5;129;01mor\u001b[39;00m _global_forward_pre_hooks):\n\u001b[0;32m-> 1541\u001b[0m     \u001b[38;5;28;01mreturn\u001b[39;00m \u001b[43mforward_call\u001b[49m\u001b[43m(\u001b[49m\u001b[38;5;241;43m*\u001b[39;49m\u001b[43margs\u001b[49m\u001b[43m,\u001b[49m\u001b[43m \u001b[49m\u001b[38;5;241;43m*\u001b[39;49m\u001b[38;5;241;43m*\u001b[39;49m\u001b[43mkwargs\u001b[49m\u001b[43m)\u001b[49m\n\u001b[1;32m   1543\u001b[0m \u001b[38;5;28;01mtry\u001b[39;00m:\n\u001b[1;32m   1544\u001b[0m     result \u001b[38;5;241m=\u001b[39m \u001b[38;5;28;01mNone\u001b[39;00m\n",
      "File \u001b[0;32m~/protein-dihedral-visualization/env/lib/python3.12/site-packages/torch/nn/parallel/data_parallel.py:184\u001b[0m, in \u001b[0;36mDataParallel.forward\u001b[0;34m(self, *inputs, **kwargs)\u001b[0m\n\u001b[1;32m    182\u001b[0m \u001b[38;5;28;01mif\u001b[39;00m \u001b[38;5;28mlen\u001b[39m(\u001b[38;5;28mself\u001b[39m\u001b[38;5;241m.\u001b[39mdevice_ids) \u001b[38;5;241m==\u001b[39m \u001b[38;5;241m1\u001b[39m:\n\u001b[1;32m    183\u001b[0m     \u001b[38;5;28;01mreturn\u001b[39;00m \u001b[38;5;28mself\u001b[39m\u001b[38;5;241m.\u001b[39mmodule(\u001b[38;5;241m*\u001b[39minputs[\u001b[38;5;241m0\u001b[39m], \u001b[38;5;241m*\u001b[39m\u001b[38;5;241m*\u001b[39mmodule_kwargs[\u001b[38;5;241m0\u001b[39m])\n\u001b[0;32m--> 184\u001b[0m replicas \u001b[38;5;241m=\u001b[39m \u001b[38;5;28;43mself\u001b[39;49m\u001b[38;5;241;43m.\u001b[39;49m\u001b[43mreplicate\u001b[49m\u001b[43m(\u001b[49m\u001b[38;5;28;43mself\u001b[39;49m\u001b[38;5;241;43m.\u001b[39;49m\u001b[43mmodule\u001b[49m\u001b[43m,\u001b[49m\u001b[43m \u001b[49m\u001b[38;5;28;43mself\u001b[39;49m\u001b[38;5;241;43m.\u001b[39;49m\u001b[43mdevice_ids\u001b[49m\u001b[43m[\u001b[49m\u001b[43m:\u001b[49m\u001b[38;5;28;43mlen\u001b[39;49m\u001b[43m(\u001b[49m\u001b[43minputs\u001b[49m\u001b[43m)\u001b[49m\u001b[43m]\u001b[49m\u001b[43m)\u001b[49m\n\u001b[1;32m    185\u001b[0m outputs \u001b[38;5;241m=\u001b[39m \u001b[38;5;28mself\u001b[39m\u001b[38;5;241m.\u001b[39mparallel_apply(replicas, inputs, module_kwargs)\n\u001b[1;32m    186\u001b[0m \u001b[38;5;28;01mreturn\u001b[39;00m \u001b[38;5;28mself\u001b[39m\u001b[38;5;241m.\u001b[39mgather(outputs, \u001b[38;5;28mself\u001b[39m\u001b[38;5;241m.\u001b[39moutput_device)\n",
      "File \u001b[0;32m~/protein-dihedral-visualization/env/lib/python3.12/site-packages/torch/nn/parallel/data_parallel.py:189\u001b[0m, in \u001b[0;36mDataParallel.replicate\u001b[0;34m(self, module, device_ids)\u001b[0m\n\u001b[1;32m    188\u001b[0m \u001b[38;5;28;01mdef\u001b[39;00m \u001b[38;5;21mreplicate\u001b[39m(\u001b[38;5;28mself\u001b[39m, module: T, device_ids: Sequence[Union[\u001b[38;5;28mint\u001b[39m, torch\u001b[38;5;241m.\u001b[39mdevice]]) \u001b[38;5;241m-\u001b[39m\u001b[38;5;241m>\u001b[39m List[T]:\n\u001b[0;32m--> 189\u001b[0m     \u001b[38;5;28;01mreturn\u001b[39;00m \u001b[43mreplicate\u001b[49m\u001b[43m(\u001b[49m\u001b[43mmodule\u001b[49m\u001b[43m,\u001b[49m\u001b[43m \u001b[49m\u001b[43mdevice_ids\u001b[49m\u001b[43m,\u001b[49m\u001b[43m \u001b[49m\u001b[38;5;129;43;01mnot\u001b[39;49;00m\u001b[43m \u001b[49m\u001b[43mtorch\u001b[49m\u001b[38;5;241;43m.\u001b[39;49m\u001b[43mis_grad_enabled\u001b[49m\u001b[43m(\u001b[49m\u001b[43m)\u001b[49m\u001b[43m)\u001b[49m\n",
      "File \u001b[0;32m~/protein-dihedral-visualization/env/lib/python3.12/site-packages/torch/nn/parallel/replicate.py:110\u001b[0m, in \u001b[0;36mreplicate\u001b[0;34m(network, devices, detach)\u001b[0m\n\u001b[1;32m    108\u001b[0m params \u001b[38;5;241m=\u001b[39m \u001b[38;5;28mlist\u001b[39m(network\u001b[38;5;241m.\u001b[39mparameters())\n\u001b[1;32m    109\u001b[0m param_indices \u001b[38;5;241m=\u001b[39m {param: idx \u001b[38;5;28;01mfor\u001b[39;00m idx, param \u001b[38;5;129;01min\u001b[39;00m \u001b[38;5;28menumerate\u001b[39m(params)}\n\u001b[0;32m--> 110\u001b[0m param_copies \u001b[38;5;241m=\u001b[39m \u001b[43m_broadcast_coalesced_reshape\u001b[49m\u001b[43m(\u001b[49m\u001b[43mparams\u001b[49m\u001b[43m,\u001b[49m\u001b[43m \u001b[49m\u001b[43mdevices\u001b[49m\u001b[43m,\u001b[49m\u001b[43m \u001b[49m\u001b[43mdetach\u001b[49m\u001b[43m)\u001b[49m\n\u001b[1;32m    112\u001b[0m buffers \u001b[38;5;241m=\u001b[39m \u001b[38;5;28mlist\u001b[39m(network\u001b[38;5;241m.\u001b[39mbuffers())\n\u001b[1;32m    113\u001b[0m buffers_rg: List[torch\u001b[38;5;241m.\u001b[39mTensor] \u001b[38;5;241m=\u001b[39m []\n",
      "File \u001b[0;32m~/protein-dihedral-visualization/env/lib/python3.12/site-packages/torch/nn/parallel/replicate.py:83\u001b[0m, in \u001b[0;36m_broadcast_coalesced_reshape\u001b[0;34m(tensors, devices, detach)\u001b[0m\n\u001b[1;32m     80\u001b[0m \u001b[38;5;28;01melse\u001b[39;00m:\n\u001b[1;32m     81\u001b[0m     \u001b[38;5;66;03m# Use the autograd function to broadcast if not detach\u001b[39;00m\n\u001b[1;32m     82\u001b[0m     \u001b[38;5;28;01mif\u001b[39;00m \u001b[38;5;28mlen\u001b[39m(tensors) \u001b[38;5;241m>\u001b[39m \u001b[38;5;241m0\u001b[39m:\n\u001b[0;32m---> 83\u001b[0m         tensor_copies \u001b[38;5;241m=\u001b[39m \u001b[43mBroadcast\u001b[49m\u001b[38;5;241;43m.\u001b[39;49m\u001b[43mapply\u001b[49m\u001b[43m(\u001b[49m\u001b[43mdevices\u001b[49m\u001b[43m,\u001b[49m\u001b[43m \u001b[49m\u001b[38;5;241;43m*\u001b[39;49m\u001b[43mtensors\u001b[49m\u001b[43m)\u001b[49m\n\u001b[1;32m     84\u001b[0m         \u001b[38;5;28;01mreturn\u001b[39;00m [tensor_copies[i:i \u001b[38;5;241m+\u001b[39m \u001b[38;5;28mlen\u001b[39m(tensors)]\n\u001b[1;32m     85\u001b[0m                 \u001b[38;5;28;01mfor\u001b[39;00m i \u001b[38;5;129;01min\u001b[39;00m \u001b[38;5;28mrange\u001b[39m(\u001b[38;5;241m0\u001b[39m, \u001b[38;5;28mlen\u001b[39m(tensor_copies), \u001b[38;5;28mlen\u001b[39m(tensors))]\n\u001b[1;32m     86\u001b[0m     \u001b[38;5;28;01melse\u001b[39;00m:\n",
      "File \u001b[0;32m~/protein-dihedral-visualization/env/lib/python3.12/site-packages/torch/autograd/function.py:598\u001b[0m, in \u001b[0;36mFunction.apply\u001b[0;34m(cls, *args, **kwargs)\u001b[0m\n\u001b[1;32m    595\u001b[0m \u001b[38;5;28;01mif\u001b[39;00m \u001b[38;5;129;01mnot\u001b[39;00m torch\u001b[38;5;241m.\u001b[39m_C\u001b[38;5;241m.\u001b[39m_are_functorch_transforms_active():\n\u001b[1;32m    596\u001b[0m     \u001b[38;5;66;03m# See NOTE: [functorch vjp and autograd interaction]\u001b[39;00m\n\u001b[1;32m    597\u001b[0m     args \u001b[38;5;241m=\u001b[39m _functorch\u001b[38;5;241m.\u001b[39mutils\u001b[38;5;241m.\u001b[39munwrap_dead_wrappers(args)\n\u001b[0;32m--> 598\u001b[0m     \u001b[38;5;28;01mreturn\u001b[39;00m \u001b[38;5;28;43msuper\u001b[39;49m\u001b[43m(\u001b[49m\u001b[43m)\u001b[49m\u001b[38;5;241;43m.\u001b[39;49m\u001b[43mapply\u001b[49m\u001b[43m(\u001b[49m\u001b[38;5;241;43m*\u001b[39;49m\u001b[43margs\u001b[49m\u001b[43m,\u001b[49m\u001b[43m \u001b[49m\u001b[38;5;241;43m*\u001b[39;49m\u001b[38;5;241;43m*\u001b[39;49m\u001b[43mkwargs\u001b[49m\u001b[43m)\u001b[49m  \u001b[38;5;66;03m# type: ignore[misc]\u001b[39;00m\n\u001b[1;32m    600\u001b[0m \u001b[38;5;28;01mif\u001b[39;00m \u001b[38;5;129;01mnot\u001b[39;00m is_setup_ctx_defined:\n\u001b[1;32m    601\u001b[0m     \u001b[38;5;28;01mraise\u001b[39;00m \u001b[38;5;167;01mRuntimeError\u001b[39;00m(\n\u001b[1;32m    602\u001b[0m         \u001b[38;5;124m\"\u001b[39m\u001b[38;5;124mIn order to use an autograd.Function with functorch transforms \u001b[39m\u001b[38;5;124m\"\u001b[39m\n\u001b[1;32m    603\u001b[0m         \u001b[38;5;124m\"\u001b[39m\u001b[38;5;124m(vmap, grad, jvp, jacrev, ...), it must override the setup_context \u001b[39m\u001b[38;5;124m\"\u001b[39m\n\u001b[1;32m    604\u001b[0m         \u001b[38;5;124m\"\u001b[39m\u001b[38;5;124mstaticmethod. For more details, please see \u001b[39m\u001b[38;5;124m\"\u001b[39m\n\u001b[1;32m    605\u001b[0m         \u001b[38;5;124m\"\u001b[39m\u001b[38;5;124mhttps://pytorch.org/docs/master/notes/extending.func.html\u001b[39m\u001b[38;5;124m\"\u001b[39m\n\u001b[1;32m    606\u001b[0m     )\n",
      "File \u001b[0;32m~/protein-dihedral-visualization/env/lib/python3.12/site-packages/torch/nn/parallel/_functions.py:14\u001b[0m, in \u001b[0;36mBroadcast.forward\u001b[0;34m(ctx, target_gpus, *inputs)\u001b[0m\n\u001b[1;32m     12\u001b[0m \u001b[38;5;129m@staticmethod\u001b[39m\n\u001b[1;32m     13\u001b[0m \u001b[38;5;28;01mdef\u001b[39;00m \u001b[38;5;21mforward\u001b[39m(ctx, target_gpus, \u001b[38;5;241m*\u001b[39minputs):\n\u001b[0;32m---> 14\u001b[0m     \u001b[38;5;28;01massert\u001b[39;00m \u001b[38;5;28;43mall\u001b[39;49m\u001b[43m(\u001b[49m\u001b[43mi\u001b[49m\u001b[38;5;241;43m.\u001b[39;49m\u001b[43mdevice\u001b[49m\u001b[38;5;241;43m.\u001b[39;49m\u001b[43mtype\u001b[49m\u001b[43m \u001b[49m\u001b[38;5;241;43m!=\u001b[39;49m\u001b[43m \u001b[49m\u001b[38;5;124;43m'\u001b[39;49m\u001b[38;5;124;43mcpu\u001b[39;49m\u001b[38;5;124;43m'\u001b[39;49m\u001b[43m \u001b[49m\u001b[38;5;28;43;01mfor\u001b[39;49;00m\u001b[43m \u001b[49m\u001b[43mi\u001b[49m\u001b[43m \u001b[49m\u001b[38;5;129;43;01min\u001b[39;49;00m\u001b[43m \u001b[49m\u001b[43minputs\u001b[49m\u001b[43m)\u001b[49m, (\n\u001b[1;32m     15\u001b[0m         \u001b[38;5;124m'\u001b[39m\u001b[38;5;124mBroadcast function not implemented for CPU tensors\u001b[39m\u001b[38;5;124m'\u001b[39m\n\u001b[1;32m     16\u001b[0m     )\n\u001b[1;32m     17\u001b[0m     target_gpus \u001b[38;5;241m=\u001b[39m [_get_device_index(x, \u001b[38;5;28;01mTrue\u001b[39;00m) \u001b[38;5;28;01mfor\u001b[39;00m x \u001b[38;5;129;01min\u001b[39;00m target_gpus]\n\u001b[1;32m     18\u001b[0m     ctx\u001b[38;5;241m.\u001b[39mtarget_gpus \u001b[38;5;241m=\u001b[39m target_gpus\n",
      "File \u001b[0;32m~/protein-dihedral-visualization/env/lib/python3.12/site-packages/torch/nn/parallel/_functions.py:14\u001b[0m, in \u001b[0;36m<genexpr>\u001b[0;34m(.0)\u001b[0m\n\u001b[1;32m     12\u001b[0m \u001b[38;5;129m@staticmethod\u001b[39m\n\u001b[1;32m     13\u001b[0m \u001b[38;5;28;01mdef\u001b[39;00m \u001b[38;5;21mforward\u001b[39m(ctx, target_gpus, \u001b[38;5;241m*\u001b[39minputs):\n\u001b[0;32m---> 14\u001b[0m     \u001b[38;5;28;01massert\u001b[39;00m \u001b[38;5;28mall\u001b[39m(i\u001b[38;5;241m.\u001b[39mdevice\u001b[38;5;241m.\u001b[39mtype \u001b[38;5;241m!=\u001b[39m \u001b[38;5;124m'\u001b[39m\u001b[38;5;124mcpu\u001b[39m\u001b[38;5;124m'\u001b[39m \u001b[38;5;28;01mfor\u001b[39;00m i \u001b[38;5;129;01min\u001b[39;00m inputs), (\n\u001b[1;32m     15\u001b[0m         \u001b[38;5;124m'\u001b[39m\u001b[38;5;124mBroadcast function not implemented for CPU tensors\u001b[39m\u001b[38;5;124m'\u001b[39m\n\u001b[1;32m     16\u001b[0m     )\n\u001b[1;32m     17\u001b[0m     target_gpus \u001b[38;5;241m=\u001b[39m [_get_device_index(x, \u001b[38;5;28;01mTrue\u001b[39;00m) \u001b[38;5;28;01mfor\u001b[39;00m x \u001b[38;5;129;01min\u001b[39;00m target_gpus]\n\u001b[1;32m     18\u001b[0m     ctx\u001b[38;5;241m.\u001b[39mtarget_gpus \u001b[38;5;241m=\u001b[39m target_gpus\n",
      "\u001b[0;31mKeyboardInterrupt\u001b[0m: "
     ]
    }
   ],
   "source": [
    "train_losses = []\n",
    "test_losses = []\n",
    "lowest_test_loss = float('inf')\n",
    "writer = SummaryWriter('tensorboard2')\n",
    "for epoch in (pbar := tqdm(range(1500))):\n",
    "    losses = []\n",
    "    model.train()\n",
    "    for X,xres,af,y in multi_trainset:\n",
    "        X,xres,af,y = X.to(device), xres.to(device), af.to(device), y.to(device)\n",
    "        optimizer.zero_grad()\n",
    "        logits = model(X, xres, af)\n",
    "        if logits.isnan().sum() > 0:\n",
    "            raise ValueError('nan')\n",
    "        loss = criterion(logits, y)\n",
    "        loss.backward()\n",
    "        optimizer.step()\n",
    "        losses.append(loss.item())\n",
    "    train_losses.append(sum(losses) / len(losses))\n",
    "\n",
    "    losses = []\n",
    "    model.eval()\n",
    "    for X,xres,af,y in multi_testset:\n",
    "        with torch.no_grad():\n",
    "            X,xres,af,y = X.to(device), xres.to(device), af.to(device), y.to(device)\n",
    "            logits = model(X, xres, af)\n",
    "            loss = criterion(logits, y)\n",
    "            losses.append(loss.item())\n",
    "    test_losses.append(sum(losses) / len(losses))\n",
    "    if test_losses[-1] < lowest_test_loss:\n",
    "        lowest_test_loss = test_losses[-1]\n",
    "        save_model(model, 'ml_data/best_model.pt')\n",
    "    writer.add_scalars('Loss', {\n",
    "        'train': train_losses[-1],\n",
    "        'test': test_losses[-1]\n",
    "    }, epoch)\n",
    "    writer.flush()\n",
    "\n",
    "    pbar.set_postfix({'train_loss': train_losses[-1], 'test_loss': test_losses[-1]})\n",
    "writer.close()"
   ]
  },
  {
   "cell_type": "code",
   "execution_count": 9,
   "metadata": {},
   "outputs": [
    {
     "data": {
      "text/plain": [
       "KDENet(\n",
       "  (l1): Linear(in_features=30, out_features=128, bias=True)\n",
       "  (l2): Linear(in_features=128, out_features=128, bias=True)\n",
       "  (out): Linear(in_features=128, out_features=2, bias=True)\n",
       ")"
      ]
     },
     "execution_count": 9,
     "metadata": {},
     "output_type": "execute_result"
    }
   ],
   "source": [
    "load_model(model, 'ml_data/best_model.pt')"
   ]
  },
  {
   "cell_type": "code",
   "execution_count": 64,
   "metadata": {},
   "outputs": [
    {
     "data": {
      "image/png": "[encoded data removed]",
      "text/plain": [
       "<Figure size 640x480 with 1 Axes>"
      ]
     },
     "metadata": {},
     "output_type": "display_data"
    }
   ],
   "source": [
    "for X,xres,af,y in testloader:\n",
    "    with torch.no_grad():\n",
    "        X,xres,af,y = X.to(device), xres.to(device), af.to(device), y.to(device)\n",
    "        logits = model(X, xres, af)\n",
    "    break\n",
    "plot(X, y, 34, logits, af=af)"
   ]
  },
  {
   "cell_type": "code",
   "execution_count": 65,
   "metadata": {},
   "outputs": [],
   "source": [
    "def diff(x1, x2):\n",
    "    d = np.abs(x1 - x2)\n",
    "    return np.minimum(d, 360-d)"
   ]
  },
  {
   "cell_type": "code",
   "execution_count": 12,
   "metadata": {},
   "outputs": [
    {
     "name": "stderr",
     "output_type": "stream",
     "text": [
      "  0%|          | 0/50 [00:00<?, ?it/s]"
     ]
    },
    {
     "name": "stderr",
     "output_type": "stream",
     "text": [
      "100%|██████████| 50/50 [00:00<00:00, 380.59it/s]\n"
     ]
    },
    {
     "data": {
      "text/plain": [
       "389.5884966278076"
      ]
     },
     "execution_count": 12,
     "metadata": {},
     "output_type": "execute_result"
    }
   ],
   "source": [
    "model = nn.DataParallel(KDENet().to(device))\n",
    "load_model(model, 'ml_data/best_model.pt')\n",
    "model.eval()\n",
    "preds = []\n",
    "true = []\n",
    "loss = []\n",
    "\n",
    "model.eval()\n",
    "for X,xres,af,y in tqdm(testloader):\n",
    "    with torch.no_grad():\n",
    "        X,xres,af,y = X.to(device), xres.to(device), af.to(device), y.to(device)\n",
    "        logits = model(X, xres, af)\n",
    "        lossi = criterion(logits, y)\n",
    "        loss.append(lossi.item())\n",
    "        preds.append(logits.cpu().numpy())\n",
    "        true.append(y.cpu().numpy())\n",
    "preds = np.concatenate(preds)\n",
    "true = np.concatenate(true)\n",
    "loss = np.mean(loss)\n",
    "loss"
   ]
  },
  {
   "cell_type": "code",
   "execution_count": null,
   "metadata": {},
   "outputs": [],
   "source": [
    "af_preds = []\n",
    "af_loss = []\n",
    "for X,xres,af,y in tqdm(testloader):\n",
    "    af_lossi = criterion(af, y)\n",
    "    af_loss.append(af_lossi.item())\n",
    "    af_preds.append(af.numpy())\n",
    "af_preds = np.concatenate(af_preds)\n",
    "af_loss = np.mean(af_loss)\n",
    "af_loss"
   ]
  },
  {
   "cell_type": "code",
   "execution_count": null,
   "metadata": {},
   "outputs": [],
   "source": [
    "kdes = torch.load('ml_data/kdes.pt')"
   ]
  },
  {
   "cell_type": "code",
   "execution_count": null,
   "metadata": {},
   "outputs": [],
   "source": [
    "preds_dist = np.sqrt(diff(preds[:,0], true[:,0])**2 + diff(preds[:,1], true[:,1])**2)\n",
    "kdes_dist = np.sqrt(diff(kdes[:,0], true[:,0])**2 + diff(kdes[:,1], true[:,1])**2)\n",
    "kdes_dist = kdes_dist[~np.isnan(kdes_dist)]\n",
    "af_dist = np.sqrt(diff(af_preds[:,0], true[:,0])**2 + diff(af_preds[:,1], true[:,1])**2)\n",
    "print('preds', preds_dist.mean(), preds_dist.std(), preds_dist.sum())\n",
    "print('kdes', kdes_dist.mean(), kdes_dist.std(), kdes_dist.sum())\n",
    "print('af', af_dist.mean(), af_dist.std(), af_dist.sum())"
   ]
  }
 ],
 "metadata": {
  "kernelspec": {
   "display_name": "env",
   "language": "python",
   "name": "python3"
  },
  "language_info": {
   "codemirror_mode": {
    "name": "ipython",
    "version": 3
   },
   "file_extension": ".py",
   "mimetype": "text/x-python",
   "name": "python",
   "nbconvert_exporter": "python",
   "pygments_lexer": "ipython3",
   "version": "3.12.3"
  }
 },
 "nbformat": 4,
 "nbformat_minor": 2
}
