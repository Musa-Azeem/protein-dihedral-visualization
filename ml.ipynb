{
 "cells": [
  {
   "cell_type": "code",
   "execution_count": 1,
   "metadata": {},
   "outputs": [],
   "source": [
    "%load_ext autoreload\n",
    "%autoreload 2"
   ]
  },
  {
   "cell_type": "code",
   "execution_count": 2,
   "metadata": {},
   "outputs": [],
   "source": [
    "from lib import DihedralAdherence\n",
    "from lib import PDBMineQuery, MultiWindowQuery\n",
    "import os\n",
    "import numpy as np\n",
    "import pandas as pd\n",
    "import matplotlib.pyplot as plt\n",
    "import seaborn as sns\n",
    "from pathlib import Path\n",
    "from tqdm import tqdm\n",
    "from tabulate import tabulate\n",
    "from collections import defaultdict\n",
    "from dotenv import load_dotenv\n",
    "import torch\n",
    "from torch import nn\n",
    "import torch.nn.functional as F\n",
    "from scipy.stats import gaussian_kde\n",
    "from sklearn.model_selection import train_test_split\n",
    "from torch.utils.data import TensorDataset, DataLoader, Dataset, ConcatDataset\n",
    "from torch.utils.tensorboard import SummaryWriter\n",
    "from lib.constants import AMINO_ACID_MAP, AMINO_ACID_MAP_INV\n",
    "PDBMINE_URL = os.getenv(\"PDBMINE_URL\")\n",
    "PROJECT_DIR = 'ml_data'"
   ]
  },
  {
   "cell_type": "code",
   "execution_count": null,
   "metadata": {},
   "outputs": [],
   "source": [
    "PDBMINE_URL = os.getenv(\"PDBMINE_URL\")\n",
    "PROJECT_DIR = 'ml_data'\n",
    "# casp_protein_ids = ['T1024', 'T1096', 'T1027', 'T1082', 'T1091', 'T1058', 'T1049', 'T1030', 'T1056', 'T1038', 'T1025', 'T1028']\n",
    "# pdb_codes = ['6T1Z', '7UM1', '7D2O', '7CN6', '7W6B', '7ABW', '6Y4F', '6POO', '6YJ1', '6YA2', '6UV6', '6VQP']\n",
    "pdb_codes = [f.name.split('_')[0] for f in Path(PROJECT_DIR).iterdir() if f.is_dir()]\n",
    "winsizes = [4,5,6,7]\n",
    "outdir = Path('ml_samples/kde')\n",
    "outdir.mkdir(exist_ok=True, parents=True)\n",
    "n_matches = defaultdict(list)\n",
    "# pdb_codes = [pdb_codes[0]]\n",
    "for id in pdb_codes:\n",
    "    if (outdir / f'{id}.pt').exists():\n",
    "        continue\n",
    "    try:\n",
    "        da = MultiWindowQuery(id, winsizes, PDBMINE_URL, PROJECT_DIR)\n",
    "        # da.compute_structure()\n",
    "        da.load_results()\n",
    "    except FileNotFoundError as e:\n",
    "        print(e)\n",
    "        continue\n",
    "    if da.af_phi_psi is None:\n",
    "        continue\n",
    "    seqs = pd.merge(\n",
    "        da.xray_phi_psi[['seq_ctxt', 'res', 'phi', 'psi']], \n",
    "        da.af_phi_psi[['seq_ctxt', 'phi', 'psi']], \n",
    "        on='seq_ctxt', suffixes=('', '_af')\n",
    "    ).rename(columns={'seq_ctxt': 'seq'})\n",
    "    if seqs.shape[0] == 0:\n",
    "        print('No sequences for', id)\n",
    "        continue\n",
    "\n",
    "    print(seqs.shape, seqs.seq.nunique())\n",
    "    X = []\n",
    "    y = []\n",
    "    x_res = []\n",
    "    af_phi_psi = []\n",
    "    for i,row in tqdm(seqs.iterrows()):\n",
    "        kdepeaks = []\n",
    "        if np.isnan(row.phi) or np.isnan(row.psi) or np.isnan(row.phi_af) or np.isnan(row.psi_af):\n",
    "            print('NaNs for', row.seq)\n",
    "            continue\n",
    "        for q in da.queries:\n",
    "            inner_seq = q.get_subseq(row.seq)\n",
    "            # matches = q.results[q.results.seq == inner_seq][['seq', 'phi', 'psi']]\n",
    "            matches = q.results[q.results.seq == inner_seq]\n",
    "            if matches.shape[0] < 2:\n",
    "                kdepeaks.append(torch.zeros(2))\n",
    "                continue\n",
    "            phi = matches.phi.values\n",
    "            psi = matches.psi.values\n",
    "            x = np.stack([phi, psi])\n",
    "            try:\n",
    "                kde = gaussian_kde(x, bw_method=0.5)\n",
    "                phi_grid, psi_grid = np.meshgrid(np.linspace(-180, 180, 180), np.linspace(-180, 180, 180))\n",
    "                grid = np.vstack([phi_grid.ravel(), psi_grid.ravel()])\n",
    "                probs = kde(grid).reshape(phi_grid.shape)\n",
    "                kdepeak = grid[:,probs.argmax()]\n",
    "                kdepeaks.append(torch.tensor(kdepeak))\n",
    "            except np.linalg.LinAlgError as e:\n",
    "                kdepeaks.append(torch.zeros(2))\n",
    "        kdepeaks = torch.stack(kdepeaks)\n",
    "        if torch.sum(kdepeaks) == 0:\n",
    "            print('No matches for', row.seq)\n",
    "            continue\n",
    "        X.append(kdepeaks)\n",
    "        y.append(torch.tensor([row.phi, row.psi]))\n",
    "        x_res.append(AMINO_ACID_MAP[row.res])\n",
    "        af_phi_psi.append(torch.tensor([row.phi_af, row.psi_af]))\n",
    "    if len(X) == 0:\n",
    "        print('No matches for', id)\n",
    "        continue\n",
    "    X = torch.stack(X)\n",
    "    y = torch.stack(y)\n",
    "    x_res = F.one_hot(torch.tensor(x_res).to(torch.int64), num_classes=20)\n",
    "    af_phi_psi = torch.stack(af_phi_psi)\n",
    "    torch.save((X, x_res, af_phi_psi, y), outdir / f'{id}.pt')"
   ]
  },
  {
   "cell_type": "code",
   "execution_count": 3,
   "metadata": {},
   "outputs": [],
   "source": [
    "class ProteinDatasetKDE(Dataset):\n",
    "    def __init__(self, id, path):\n",
    "        self.id = id\n",
    "        self.path = path\n",
    "\n",
    "        self.X, self.xres, self.af, self.y = torch.load(self.path / f'{id}.pt')\n",
    "        self.X, self.xres, self.af, self.y = self.X.float(), self.xres.float(), self.af.float(), self.y.float()\n",
    "    def __len__(self):\n",
    "        return self.X.shape[0]\n",
    "\n",
    "    def __getitem__(self, i):\n",
    "        return self.X[i], self.xres[i], self.af[i], self.y[i]\n",
    "\n",
    "class MultiProtein(Dataset):\n",
    "    def __init__(self, protein_ids, path):\n",
    "        self.protein_ids = protein_ids\n",
    "        self.path = path\n",
    "    def __len__(self):\n",
    "        return len(self.protein_ids)\n",
    "    def __getitem__(self, i):\n",
    "        X, xres, af, y = torch.load(self.path / f'{self.protein_ids[i]}.pt')\n",
    "        X, xres, af, y = X.float(), xres.float(), af.float(), y.float()\n",
    "        return X, xres, af, y"
   ]
  },
  {
   "cell_type": "code",
   "execution_count": 4,
   "metadata": {},
   "outputs": [
    {
     "data": {
      "text/plain": [
       "(47558, 25173, 72731)"
      ]
     },
     "execution_count": 4,
     "metadata": {},
     "output_type": "execute_result"
    }
   ],
   "source": [
    "path = Path('ml_samples/kde')\n",
    "samples = [f.stem for f in path.iterdir()]\n",
    "\n",
    "from lib.retrieve_data import retrieve_target_list\n",
    "ids = ['T1024', 'T1096', 'T1027', 'T1082', 'T1091', 'T1058', 'T1049', 'T1030', 'T1056', 'T1038', 'T1025', 'T1028']\n",
    "targetlist = retrieve_target_list()\n",
    "skip = [targetlist.loc[id, 'pdb_code'].upper() for id in ids]\n",
    "samples = sorted(list(set(samples) - set(skip)))\n",
    "\n",
    "train, test = train_test_split(samples, test_size=0.35, random_state=42)\n",
    "torch.save((train, test), 'ml_data/split.pt')\n",
    "# train, test = to ch.load('ml_data/split.pt')\n",
    "train_dataset = ConcatDataset([ProteinDatasetKDE(s, path) for s in train])\n",
    "test_dataset = ConcatDataset([ProteinDatasetKDE(s, path) for s in test])\n",
    "multi_trainset = MultiProtein(train, path)\n",
    "multi_testset = MultiProtein(test, path)\n",
    "trainloader = DataLoader(train_dataset, batch_size=512, shuffle=True)\n",
    "testloader = DataLoader(test_dataset, batch_size=512, shuffle=False)\n",
    "len(train_dataset), len(test_dataset), len(train_dataset) + len(test_dataset)"
   ]
  },
  {
   "cell_type": "code",
   "execution_count": 5,
   "metadata": {},
   "outputs": [],
   "source": [
    "X, xres, af, y = next(iter(trainloader))"
   ]
  },
  {
   "cell_type": "code",
   "execution_count": 6,
   "metadata": {},
   "outputs": [
    {
     "data": {
      "image/png": "[encoded data removed]",
      "text/plain": [
       "<Figure size 640x480 with 1 Axes>"
      ]
     },
     "metadata": {},
     "output_type": "display_data"
    }
   ],
   "source": [
    "def plot(Xp, y, i, logits=None, logits2=None, res=None, af=None):\n",
    "    Xp = Xp.cpu().clone().detach()\n",
    "    y = y.cpu().clone().detach()\n",
    "    plt.plot(Xp[i, 0, 0], Xp[i, 0, 1], 'o', label='4')\n",
    "    plt.plot(Xp[i, 1, 0], Xp[i, 1, 1], 'o', label='5')\n",
    "    plt.plot(Xp[i, 2, 0], Xp[i, 2, 1], 'o', label='6')\n",
    "    plt.plot(Xp[i, 3, 0], Xp[i, 3, 1], 'o', label='7')\n",
    "    \n",
    "    plt.plot(y[i,0],y[i,1], 'X', label='true', color='purple',  markersize=10, alpha=0.5)\n",
    "    if res is not None:\n",
    "        res = res.cpu().clone().detach()\n",
    "        plt.title(AMINO_ACID_MAP_INV[res[i].argmax().item()])\n",
    "    if af is not None:\n",
    "        af = af.cpu().clone().detach()\n",
    "        plt.plot(af[i,0],af[i,1], 'X', label='af', color='red', markersize=10, alpha=0.5)\n",
    "    if logits is not None:\n",
    "        logits = logits.cpu().clone().detach()\n",
    "        plt.plot(logits[i,0].detach(),logits[i,1].detach(), 'X', label='pred', color='black', markersize=10)\n",
    "    if logits2 is not None:\n",
    "        logits2 = logits2.cpu().clone().detach()\n",
    "        plt.plot(logits2[i,0].detach(),logits2[i,1].detach(), 'X', label='pred2', color='orange', markersize=10)\n",
    "    plt.legend()\n",
    "    plt.xlim(-180,180)\n",
    "    plt.ylim(-180,180)\n",
    "plot(X,y, 14, res=xres, af=af)"
   ]
  },
  {
   "cell_type": "code",
   "execution_count": 7,
   "metadata": {},
   "outputs": [],
   "source": [
    "def save_model(model, path):\n",
    "    if type(model) == nn.DataParallel:\n",
    "        model = model.module\n",
    "    torch.save(model.state_dict(), path)\n",
    "def load_model(model, path):\n",
    "    if type(model) == nn.DataParallel:\n",
    "        model = model.module\n",
    "    model.load_state_dict(torch.load(path))\n",
    "    return model"
   ]
  },
  {
   "cell_type": "code",
   "execution_count": 8,
   "metadata": {},
   "outputs": [
    {
     "data": {
      "text/plain": [
       "6274"
      ]
     },
     "execution_count": 8,
     "metadata": {},
     "output_type": "execute_result"
    }
   ],
   "source": [
    "class KDENet(nn.Module):\n",
    "    def __init__(self):\n",
    "        super().__init__()\n",
    "        self.l1 = nn.Linear(30, 64)\n",
    "        self.l2 = nn.Linear(64, 64)\n",
    "        self.out = nn.Linear(64, 2)\n",
    "    \n",
    "    def forward(self, X, xres, af):\n",
    "        x = torch.hstack([X.flatten(1), af, xres])\n",
    "        x = F.relu(self.l1(x))\n",
    "        x = F.relu(self.l2(x))\n",
    "        x = self.out(x)\n",
    "        return x\n",
    "\n",
    "class AngleMSELoss(nn.Module):\n",
    "    def __init__(self):\n",
    "        super().__init__()\n",
    "    def forward(self, x, y):\n",
    "        def diff(x1, x2):\n",
    "            d = torch.abs(x1 - x2)\n",
    "            d = torch.minimum(d, 360-d)\n",
    "            return d\n",
    "        phi_diff = diff(x[:,0], y[:,0]).unsqueeze(1)\n",
    "        psi_diff = diff(x[:,1], y[:,1]).unsqueeze(1)\n",
    "        return torch.mean(torch.hstack([phi_diff, psi_diff])**2)\n",
    "    \n",
    "device = 'cuda:1'\n",
    "model = nn.DataParallel(KDENet()).to(device)\n",
    "criterion = AngleMSELoss()\n",
    "optimizer = torch.optim.Adam(model.parameters(), lr=3e-4)\n",
    "sum([p.numel() for p in model.parameters()])"
   ]
  },
  {
   "cell_type": "code",
   "execution_count": 10,
   "metadata": {},
   "outputs": [
    {
     "name": "stdout",
     "output_type": "stream",
     "text": [
      "torch.Size([512, 4, 2]) torch.Size([512, 20]) torch.Size([512, 2]) torch.Size([512, 2])\n"
     ]
    },
    {
     "data": {
      "text/plain": [
       "torch.Size([512, 2])"
      ]
     },
     "execution_count": 10,
     "metadata": {},
     "output_type": "execute_result"
    }
   ],
   "source": [
    "X,xres,af,y = next(iter(trainloader))\n",
    "print(X.shape, xres.shape, af.shape, y.shape)\n",
    "model(X.to(device),xres.to(device),af.to(device)).shape"
   ]
  },
  {
   "cell_type": "code",
   "execution_count": null,
   "metadata": {},
   "outputs": [],
   "source": [
    "train_losses = []\n",
    "test_losses = []\n",
    "lowest_test_loss = float('inf')\n",
    "writer = SummaryWriter('tensorboard')\n",
    "for epoch in (pbar := tqdm(range(1500))):\n",
    "    losses = []\n",
    "    model.train()\n",
    "    for X,xres,af,y in trainloader:\n",
    "        X,xres,af,y = X.to(device), xres.to(device), af.to(device), y.to(device)\n",
    "        optimizer.zero_grad()\n",
    "        logits = model(X, xres, af)\n",
    "        if logits.isnan().sum() > 0:\n",
    "            raise ValueError('nan')\n",
    "        loss = criterion(logits, y)\n",
    "        loss.backward()\n",
    "        optimizer.step()\n",
    "        losses.append(loss.item())\n",
    "    train_losses.append(sum(losses) / len(losses))\n",
    "\n",
    "    losses = []\n",
    "    model.eval()\n",
    "    for X,xres,af,y in testloader:\n",
    "        with torch.no_grad():\n",
    "            X,xres,af,y = X.to(device), xres.to(device), af.to(device), y.to(device)\n",
    "            logits = model(X, xres, af)\n",
    "            loss = criterion(logits, y)\n",
    "            losses.append(loss.item())\n",
    "    test_losses.append(sum(losses) / len(losses))\n",
    "    if test_losses[-1] < lowest_test_loss:\n",
    "        lowest_test_loss = test_losses[-1]\n",
    "        save_model(model, 'ml_data/best_model.pt')\n",
    "    writer.add_scalars('Loss', {\n",
    "        'train': train_losses[-1],\n",
    "        'test': test_losses[-1]\n",
    "    }, epoch)\n",
    "    writer.flush()\n",
    "\n",
    "    pbar.set_postfix({'train_loss': train_losses[-1], 'test_loss': test_losses[-1]})\n",
    "writer.close()"
   ]
  },
  {
   "cell_type": "code",
   "execution_count": 139,
   "metadata": {},
   "outputs": [
    {
     "data": {
      "text/plain": [
       "65922"
      ]
     },
     "execution_count": 139,
     "metadata": {},
     "output_type": "execute_result"
    }
   ],
   "source": [
    "class KDELSTMNet(nn.Module):\n",
    "    def __init__(self):\n",
    "        super().__init__()\n",
    "        self.lstm = nn.LSTM(30, 64, batch_first=True, bidirectional=True, num_layers=1)\n",
    "        self.l1 = nn.Linear(64*2, 128)\n",
    "        self.out = nn.Linear(128, 2)\n",
    "        self.relu = nn.ReLU()\n",
    "    \n",
    "    def forward(self, X, xres, af):\n",
    "        x = torch.hstack([X.flatten(1), af, xres])\n",
    "        x, (h,c) = self.lstm(x)\n",
    "        if x.shape[0] > 512:\n",
    "            xs = []\n",
    "            for i in range(0, x.shape[0], 512):\n",
    "                xs.append(self.out(self.relu(self.l1(x[i:i+512]))))\n",
    "            x = torch.cat(xs)\n",
    "        else:\n",
    "            x = self.out(self.relu(self.l1(x)))\n",
    "        return x\n",
    "model = nn.DataParallel(KDELSTMNet()).to(device)\n",
    "criterion = AngleMSELoss()\n",
    "optimizer = torch.optim.Adam(model.parameters(), lr=3e-4)\n",
    "sum([p.numel() for p in model.parameters()])"
   ]
  },
  {
   "cell_type": "code",
   "execution_count": 140,
   "metadata": {},
   "outputs": [
    {
     "name": "stdout",
     "output_type": "stream",
     "text": [
      "torch.Size([1265, 4, 2])\n"
     ]
    },
    {
     "data": {
      "text/plain": [
       "torch.Size([1265, 2])"
      ]
     },
     "execution_count": 140,
     "metadata": {},
     "output_type": "execute_result"
    }
   ],
   "source": [
    "X,xres,af,y = multi_trainset[84]\n",
    "print(X.shape)\n",
    "model(X.to(device),xres.to(device),af.to(device)).shape"
   ]
  },
  {
   "cell_type": "code",
   "execution_count": null,
   "metadata": {},
   "outputs": [],
   "source": [
    "train_losses = []\n",
    "test_losses = []\n",
    "lowest_test_loss = float('inf')\n",
    "writer = SummaryWriter('tensorboard2')\n",
    "for epoch in (pbar := tqdm(range(1500))):\n",
    "    losses = []\n",
    "    model.train()\n",
    "    for X,xres,af,y in multi_trainset:\n",
    "        X,xres,af,y = X.to(device), xres.to(device), af.to(device), y.to(device)\n",
    "        optimizer.zero_grad()\n",
    "        logits = model(X, xres, af)\n",
    "        if logits.isnan().sum() > 0:\n",
    "            raise ValueError('nan')\n",
    "        loss = criterion(logits, y)\n",
    "        loss.backward()\n",
    "        optimizer.step()\n",
    "        losses.append(loss.item())\n",
    "    train_losses.append(sum(losses) / len(losses))\n",
    "\n",
    "    losses = []\n",
    "    model.eval()\n",
    "    for X,xres,af,y in multi_testset:\n",
    "        with torch.no_grad():\n",
    "            X,xres,af,y = X.to(device), xres.to(device), af.to(device), y.to(device)\n",
    "            logits = model(X, xres, af)\n",
    "            loss = criterion(logits, y)\n",
    "            losses.append(loss.item())\n",
    "    test_losses.append(sum(losses) / len(losses))\n",
    "    if test_losses[-1] < lowest_test_loss:\n",
    "        lowest_test_loss = test_losses[-1]\n",
    "        save_model(model, 'ml_data/best_model.pt')\n",
    "    writer.add_scalars('Loss', {\n",
    "        'train': train_losses[-1],\n",
    "        'test': test_losses[-1]\n",
    "    }, epoch)\n",
    "    writer.flush()\n",
    "\n",
    "    pbar.set_postfix({'train_loss': train_losses[-1], 'test_loss': test_losses[-1]})\n",
    "writer.close()"
   ]
  },
  {
   "cell_type": "code",
   "execution_count": 16,
   "metadata": {},
   "outputs": [
    {
     "data": {
      "text/plain": [
       "<All keys matched successfully>"
      ]
     },
     "execution_count": 16,
     "metadata": {},
     "output_type": "execute_result"
    }
   ],
   "source": [
    "model = KDENet()\n",
    "model.load_state_dict(torch.load('ml_data/best_model_kde_64-64_390.pt', map_location='cpu'))\n",
    "# load_model(model, 'ml_data/best_model_kde_64-64_390.pt')"
   ]
  },
  {
   "cell_type": "code",
   "execution_count": 74,
   "metadata": {},
   "outputs": [
    {
     "data": {
      "text/plain": [
       "<matplotlib.image.AxesImage at 0x7601b49900b0>"
      ]
     },
     "execution_count": 74,
     "metadata": {},
     "output_type": "execute_result"
    },
    {
     "data": {
      "image/png": "[encoded data removed]",
      "text/plain": [
       "<Figure size 640x480 with 1 Axes>"
      ]
     },
     "metadata": {},
     "output_type": "display_data"
    }
   ],
   "source": [
    "plt.imshow(model.l1.weight.T[11].view(8,1).detach())\n",
    "# model.state_dict()['l1.bias'].shape\n",
    "# print('kdes bias\\n', model.state_dict()['l1.bias'][:8].view(4,2))\n",
    "# print('kdes weight\\n', model.state_dict()['l1.weight'][:8].shape)\n",
    "# print('af\\n', model.state_dict()['l1.bias'][8:10])\n",
    "# print('xres\\n', model.state_dict()['l1.bias'][10:30])"
   ]
  },
  {
   "cell_type": "code",
   "execution_count": 102,
   "metadata": {},
   "outputs": [
    {
     "data": {
      "text/plain": [
       "0.49489668"
      ]
     },
     "execution_count": 102,
     "metadata": {},
     "output_type": "execute_result"
    }
   ],
   "source": [
    "weights.T[6,2]"
   ]
  },
  {
   "cell_type": "code",
   "execution_count": 104,
   "metadata": {},
   "outputs": [
    {
     "data": {
      "image/png": "[encoded data removed]",
      "text/plain": [
       "<Figure size 1500x1000 with 2 Axes>"
      ]
     },
     "metadata": {},
     "output_type": "display_data"
    },
    {
     "data": {
      "text/plain": [
       "[]"
      ]
     },
     "execution_count": 104,
     "metadata": {},
     "output_type": "execute_result"
    },
    {
     "data": {
      "image/png": "[encoded data removed]",
      "text/plain": [
       "<Figure size 1500x1000 with 2 Axes>"
      ]
     },
     "metadata": {},
     "output_type": "display_data"
    }
   ],
   "source": [
    "weights = model.l1.weight.data.numpy()\n",
    "fig, ax = plt.subplots(figsize=(15, 10))\n",
    "sns.heatmap(weights.T[:10], ax=ax)\n",
    "yticklabels = ['4 phi', '4 psi', '5 phi', '5 psi', '6 phi', '6 psi', '7 phi', '7 psi', 'AF phi', 'AF psi']\n",
    "ax.set_yticklabels(yticklabels)\n",
    "ax.set_xticks([])\n",
    "# rotate yticks\n",
    "plt.yticks(rotation=0);\n",
    "plt.show()\n",
    "\n",
    "fig, ax = plt.subplots(figsize=(15, 10))\n",
    "sns.heatmap(weights.T[10:], ax=ax)\n",
    "ax.set_yticklabels([AMINO_ACID_MAP_INV[i] for i in range(20)])\n",
    "ax.set_xticks([])"
   ]
  },
  {
   "cell_type": "code",
   "execution_count": 64,
   "metadata": {},
   "outputs": [
    {
     "data": {
      "image/png": "[encoded data removed]",
      "text/plain": [
       "<Figure size 640x480 with 1 Axes>"
      ]
     },
     "metadata": {},
     "output_type": "display_data"
    }
   ],
   "source": [
    "for X,xres,af,y in testloader:\n",
    "    with torch.no_grad():\n",
    "        X,xres,af,y = X.to(device), xres.to(device), af.to(device), y.to(device)\n",
    "        logits = model(X, xres, af)\n",
    "    break\n",
    "plot(X, y, 34, logits, af=af)"
   ]
  },
  {
   "cell_type": "code",
   "execution_count": 65,
   "metadata": {},
   "outputs": [],
   "source": [
    "def diff(x1, x2):\n",
    "    d = np.abs(x1 - x2)\n",
    "    return np.minimum(d, 360-d)"
   ]
  },
  {
   "cell_type": "code",
   "execution_count": 12,
   "metadata": {},
   "outputs": [
    {
     "name": "stderr",
     "output_type": "stream",
     "text": [
      "  0%|          | 0/50 [00:00<?, ?it/s]"
     ]
    },
    {
     "name": "stderr",
     "output_type": "stream",
     "text": [
      "100%|██████████| 50/50 [00:00<00:00, 380.59it/s]\n"
     ]
    },
    {
     "data": {
      "text/plain": [
       "389.5884966278076"
      ]
     },
     "execution_count": 12,
     "metadata": {},
     "output_type": "execute_result"
    }
   ],
   "source": [
    "model = nn.DataParallel(KDENet().to(device))\n",
    "load_model(model, 'ml_data/best_model.pt')\n",
    "model.eval()\n",
    "preds = []\n",
    "true = []\n",
    "loss = []\n",
    "\n",
    "model.eval()\n",
    "for X,xres,af,y in tqdm(testloader):\n",
    "    with torch.no_grad():\n",
    "        X,xres,af,y = X.to(device), xres.to(device), af.to(device), y.to(device)\n",
    "        logits = model(X, xres, af)\n",
    "        lossi = criterion(logits, y)\n",
    "        loss.append(lossi.item())\n",
    "        preds.append(logits.cpu().numpy())\n",
    "        true.append(y.cpu().numpy())\n",
    "preds = np.concatenate(preds)\n",
    "true = np.concatenate(true)\n",
    "loss = np.mean(loss)\n",
    "loss"
   ]
  },
  {
   "cell_type": "code",
   "execution_count": null,
   "metadata": {},
   "outputs": [],
   "source": [
    "af_preds = []\n",
    "af_loss = []\n",
    "for X,xres,af,y in tqdm(testloader):\n",
    "    af_lossi = criterion(af, y)\n",
    "    af_loss.append(af_lossi.item())\n",
    "    af_preds.append(af.numpy())\n",
    "af_preds = np.concatenate(af_preds)\n",
    "af_loss = np.mean(af_loss)\n",
    "af_loss"
   ]
  },
  {
   "cell_type": "code",
   "execution_count": null,
   "metadata": {},
   "outputs": [],
   "source": [
    "kdes = torch.load('ml_data/kdes.pt')"
   ]
  },
  {
   "cell_type": "code",
   "execution_count": null,
   "metadata": {},
   "outputs": [],
   "source": [
    "preds_dist = np.sqrt(diff(preds[:,0], true[:,0])**2 + diff(preds[:,1], true[:,1])**2)\n",
    "kdes_dist = np.sqrt(diff(kdes[:,0], true[:,0])**2 + diff(kdes[:,1], true[:,1])**2)\n",
    "kdes_dist = kdes_dist[~np.isnan(kdes_dist)]\n",
    "af_dist = np.sqrt(diff(af_preds[:,0], true[:,0])**2 + diff(af_preds[:,1], true[:,1])**2)\n",
    "print('preds', preds_dist.mean(), preds_dist.std(), preds_dist.sum())\n",
    "print('kdes', kdes_dist.mean(), kdes_dist.std(), kdes_dist.sum())\n",
    "print('af', af_dist.mean(), af_dist.std(), af_dist.sum())"
   ]
  }
 ],
 "metadata": {
  "kernelspec": {
   "display_name": "env",
   "language": "python",
   "name": "python3"
  },
  "language_info": {
   "codemirror_mode": {
    "name": "ipython",
    "version": 3
   },
   "file_extension": ".py",
   "mimetype": "text/x-python",
   "name": "python",
   "nbconvert_exporter": "python",
   "pygments_lexer": "ipython3",
   "version": "3.12.3"
  }
 },
 "nbformat": 4,
 "nbformat_minor": 2
}
